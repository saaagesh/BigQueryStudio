{
  "nbformat": 4,
  "nbformat_minor": 0,
  "metadata": {
    "colab": {
      "provenance": []
    },
    "kernelspec": {
      "name": "python3",
      "display_name": "Python 3"
    },
    "language_info": {
      "name": "python"
    }
  },
  "cells": [
    {
      "cell_type": "markdown",
      "source": [
        "#Generate customer clusters and generate marketing messages BigQuery DataFrames and GenAI\n",
        "\n",
        "##Overview\n",
        "Within the **BigQuery Studio** workspace, you can use a Colab Enterprise notebook interface and a workspace to save and share your notebooks. The notebooks come with **BigQuery DataFrames**, which provide a Pythonic DataFrame and ML API powered by the BigQuery engine. The operations happen in BigQuery at scale rather than within the notebook runtime.\n",
        "\n",
        "*   [bigframes.pandas](https://cloud.google.com/python/docs/reference/bigframes/latest/bigframes.dataframe.DataFrame) provides a pandas-compatible API for analytics.\n",
        "*   [bigframes.ml](https://cloud.google.com/python/docs/reference/bigframes/latest/bigframes.ml.cluster) provides a scikit-learn-like API for ML.\n",
        "*   [bigframes.ml.llm](https://cloud.google.com/python/docs/reference/bigframes/latest/bigframes.ml.llm) provides LLM capabilities.\n",
        "\n",
        "BigQuery DataFrames is an open-source Python package. It is pre-installed on  BigQuery Studio Python notebooks.  Additionally, you can always run `pip install --upgrade bigframes` to install the latest version.\n",
        "\n",
        "\n",
        "\n",
        "## Objectives\n",
        "This example illustrates a common Data to AI journey from data exploration to constructing a k-means machine learning model with BigFrames to segment customers of similar behaviors and demographics. Subsequently, Generative AI is applied to leverage cluster information and customer messaging to activate marketing campaigns. In doing so, you can build a data-centric, personalized marketing campaign all from BigQuery!\n",
        "\n",
        "In this tutorial, you will:\n",
        "\n",
        "* Generate features using BigQuery DataFrames\n",
        "* Perform basic data exploration\n",
        "* Implement a k-means clustering model with BigFrames\n",
        "* Produce cluster descriptive statistics\n",
        "* Utilize Generative AI to articulate ML model outputs in natural language for business users\n",
        "* (Bonus) Use Generative AI to craft engaging emails tailored to customer segments.\n",
        "\n",
        "\n",
        "\n",
        "\n",
        "###Helpful Links\n",
        "\n",
        "* [BigFrames API Reference](https://cloud.google.com/python/docs/reference/bigframes/latest)\n",
        "\n",
        "\n",
        "* [BigFrames GitHub page with sample notebooks](https://github.com/googleapis/python-bigquery-dataframes)\n",
        "\n",
        "* [Troubleshooting notebook runtimes](https://cloud.google.com/colab/docs/troubleshooting)\n"
      ],
      "metadata": {
        "id": "Sxq-V_jV4gEk"
      }
    },
    {
      "cell_type": "markdown",
      "source": [
        "## Before you Begin : Setup Steps\n"
      ],
      "metadata": {
        "id": "05KJTULrIrbP"
      }
    },
    {
      "cell_type": "markdown",
      "source": [
        "## Instal the `bigframes` package."
      ],
      "metadata": {
        "id": "Fo3s2ujertLo"
      }
    },
    {
      "cell_type": "code",
      "source": [
        "!pip install --upgrade bigframes"
      ],
      "metadata": {
        "colab": {
          "base_uri": "https://localhost:8080/"
        },
        "id": "SNJdanrQM0IT",
        "outputId": "aad487af-976b-4165-cb79-cbde0d0add33",
        "executionInfo": {
          "status": "ok",
          "timestamp": 1702329085110,
          "user_tz": 360,
          "elapsed": 26247,
          "user": {
            "displayName": "",
            "userId": ""
          }
        }
      },
      "execution_count": 7,
      "outputs": [
        {
          "output_type": "stream",
          "name": "stdout",
          "text": [
            "Requirement already satisfied: bigframes in /usr/local/lib/python3.10/dist-packages (0.13.0)\n",
            "Collecting bigframes\n",
            "  Downloading bigframes-0.15.0-py2.py3-none-any.whl (392 kB)\n",
            "\u001b[2K     \u001b[90m━━━━━━━━━━━━━━━━━━━━━━━━━━━━━━━━━━━━━━━━\u001b[0m \u001b[32m392.1/392.1 kB\u001b[0m \u001b[31m6.9 MB/s\u001b[0m eta \u001b[36m0:00:00\u001b[0m\n",
            "\u001b[?25hRequirement already satisfied: cloudpickle>=2.0.0 in /usr/local/lib/python3.10/dist-packages (from bigframes) (2.2.1)\n",
            "Requirement already satisfied: fsspec>=2023.3.0 in /usr/local/lib/python3.10/dist-packages (from bigframes) (2023.6.0)\n",
            "Requirement already satisfied: gcsfs>=2023.3.0 in /usr/local/lib/python3.10/dist-packages (from bigframes) (2023.6.0)\n",
            "Requirement already satisfied: geopandas>=0.12.2 in /usr/local/lib/python3.10/dist-packages (from bigframes) (0.13.2)\n",
            "Requirement already satisfied: google-auth<3.0dev,>2.14.1 in /usr/local/lib/python3.10/dist-packages (from bigframes) (2.17.3)\n",
            "Requirement already satisfied: google-cloud-bigquery[bqstorage,pandas]>=3.10.0 in /usr/local/lib/python3.10/dist-packages (from bigframes) (3.12.0)\n",
            "Requirement already satisfied: google-cloud-functions>=1.10.1 in /usr/local/lib/python3.10/dist-packages (from bigframes) (1.13.3)\n",
            "Requirement already satisfied: google-cloud-bigquery-connection>=1.12.0 in /usr/local/lib/python3.10/dist-packages (from bigframes) (1.12.1)\n",
            "Requirement already satisfied: google-cloud-iam>=2.12.1 in /usr/local/lib/python3.10/dist-packages (from bigframes) (2.12.2)\n",
            "Requirement already satisfied: google-cloud-resource-manager>=1.10.3 in /usr/local/lib/python3.10/dist-packages (from bigframes) (1.10.4)\n",
            "Requirement already satisfied: google-cloud-storage>=2.0.0 in /usr/local/lib/python3.10/dist-packages (from bigframes) (2.8.0)\n",
            "Requirement already satisfied: ibis-framework[bigquery]<7.0.0dev,>=6.2.0 in /usr/local/lib/python3.10/dist-packages (from bigframes) (6.2.0)\n",
            "Requirement already satisfied: pandas>=1.5.0 in /usr/local/lib/python3.10/dist-packages (from bigframes) (1.5.3)\n",
            "Requirement already satisfied: pydata-google-auth>=1.8.2 in /usr/local/lib/python3.10/dist-packages (from bigframes) (1.8.2)\n",
            "Requirement already satisfied: requests>=2.27.1 in /usr/local/lib/python3.10/dist-packages (from bigframes) (2.31.0)\n",
            "Requirement already satisfied: scikit-learn>=1.2.2 in /usr/local/lib/python3.10/dist-packages (from bigframes) (1.2.2)\n",
            "Requirement already satisfied: sqlalchemy<3.0dev,>=1.4 in /usr/local/lib/python3.10/dist-packages (from bigframes) (2.0.23)\n",
            "Requirement already satisfied: tabulate>=0.9 in /usr/local/lib/python3.10/dist-packages (from bigframes) (0.9.0)\n",
            "Requirement already satisfied: ipywidgets>=7.7.1 in /usr/local/lib/python3.10/dist-packages (from bigframes) (7.7.1)\n",
            "Requirement already satisfied: humanize>=4.6.0 in /usr/local/lib/python3.10/dist-packages (from bigframes) (4.7.0)\n",
            "Requirement already satisfied: aiohttp!=4.0.0a0,!=4.0.0a1 in /usr/local/lib/python3.10/dist-packages (from gcsfs>=2023.3.0->bigframes) (3.8.6)\n",
            "Requirement already satisfied: decorator>4.1.2 in /usr/local/lib/python3.10/dist-packages (from gcsfs>=2023.3.0->bigframes) (4.4.2)\n",
            "Requirement already satisfied: google-auth-oauthlib in /usr/local/lib/python3.10/dist-packages (from gcsfs>=2023.3.0->bigframes) (1.0.0)\n",
            "Requirement already satisfied: fiona>=1.8.19 in /usr/local/lib/python3.10/dist-packages (from geopandas>=0.12.2->bigframes) (1.9.5)\n",
            "Requirement already satisfied: packaging in /usr/local/lib/python3.10/dist-packages (from geopandas>=0.12.2->bigframes) (23.2)\n",
            "Requirement already satisfied: pyproj>=3.0.1 in /usr/local/lib/python3.10/dist-packages (from geopandas>=0.12.2->bigframes) (3.6.1)\n",
            "Requirement already satisfied: shapely>=1.7.1 in /usr/local/lib/python3.10/dist-packages (from geopandas>=0.12.2->bigframes) (2.0.2)\n",
            "Requirement already satisfied: cachetools<6.0,>=2.0.0 in /usr/local/lib/python3.10/dist-packages (from google-auth<3.0dev,>2.14.1->bigframes) (5.3.2)\n",
            "Requirement already satisfied: pyasn1-modules>=0.2.1 in /usr/local/lib/python3.10/dist-packages (from google-auth<3.0dev,>2.14.1->bigframes) (0.3.0)\n",
            "Requirement already satisfied: six>=1.9.0 in /usr/local/lib/python3.10/dist-packages (from google-auth<3.0dev,>2.14.1->bigframes) (1.16.0)\n",
            "Requirement already satisfied: rsa<5,>=3.1.4 in /usr/local/lib/python3.10/dist-packages (from google-auth<3.0dev,>2.14.1->bigframes) (4.9)\n",
            "Requirement already satisfied: google-api-core[grpc]!=2.0.*,!=2.1.*,!=2.10.*,!=2.2.*,!=2.3.*,!=2.4.*,!=2.5.*,!=2.6.*,!=2.7.*,!=2.8.*,!=2.9.*,<3.0.0dev,>=1.34.0 in /usr/local/lib/python3.10/dist-packages (from google-cloud-bigquery-connection>=1.12.0->bigframes) (2.11.1)\n",
            "Requirement already satisfied: proto-plus<2.0.0dev,>=1.22.0 in /usr/local/lib/python3.10/dist-packages (from google-cloud-bigquery-connection>=1.12.0->bigframes) (1.22.3)\n",
            "Requirement already satisfied: protobuf!=3.20.0,!=3.20.1,!=4.21.0,!=4.21.1,!=4.21.2,!=4.21.3,!=4.21.4,!=4.21.5,<5.0.0dev,>=3.19.5 in /usr/local/lib/python3.10/dist-packages (from google-cloud-bigquery-connection>=1.12.0->bigframes) (3.20.3)\n",
            "Requirement already satisfied: grpc-google-iam-v1<1.0.0dev,>=0.12.4 in /usr/local/lib/python3.10/dist-packages (from google-cloud-bigquery-connection>=1.12.0->bigframes) (0.12.7)\n",
            "Requirement already satisfied: grpcio<2.0dev,>=1.47.0 in /usr/local/lib/python3.10/dist-packages (from google-cloud-bigquery[bqstorage,pandas]>=3.10.0->bigframes) (1.51.3)\n",
            "Requirement already satisfied: google-cloud-core<3.0.0dev,>=1.6.0 in /usr/local/lib/python3.10/dist-packages (from google-cloud-bigquery[bqstorage,pandas]>=3.10.0->bigframes) (2.3.3)\n",
            "Requirement already satisfied: google-resumable-media<3.0dev,>=0.6.0 in /usr/local/lib/python3.10/dist-packages (from google-cloud-bigquery[bqstorage,pandas]>=3.10.0->bigframes) (2.6.0)\n",
            "Requirement already satisfied: python-dateutil<3.0dev,>=2.7.2 in /usr/local/lib/python3.10/dist-packages (from google-cloud-bigquery[bqstorage,pandas]>=3.10.0->bigframes) (2.8.2)\n",
            "Requirement already satisfied: google-cloud-bigquery-storage<3.0.0dev,>=2.6.0 in /usr/local/lib/python3.10/dist-packages (from google-cloud-bigquery[bqstorage,pandas]>=3.10.0->bigframes) (2.22.0)\n",
            "Requirement already satisfied: pyarrow>=3.0.0 in /usr/local/lib/python3.10/dist-packages (from google-cloud-bigquery[bqstorage,pandas]>=3.10.0->bigframes) (9.0.0)\n",
            "Requirement already satisfied: db-dtypes<2.0.0dev,>=0.3.0 in /usr/local/lib/python3.10/dist-packages (from google-cloud-bigquery[bqstorage,pandas]>=3.10.0->bigframes) (1.1.1)\n",
            "Requirement already satisfied: atpublic<5,>=2.3 in /usr/local/lib/python3.10/dist-packages (from ibis-framework[bigquery]<7.0.0dev,>=6.2.0->bigframes) (4.0)\n",
            "Requirement already satisfied: bidict<1,>=0.22.1 in /usr/local/lib/python3.10/dist-packages (from ibis-framework[bigquery]<7.0.0dev,>=6.2.0->bigframes) (0.22.1)\n",
            "Requirement already satisfied: filelock<4,>=3.7.0 in /usr/local/lib/python3.10/dist-packages (from ibis-framework[bigquery]<7.0.0dev,>=6.2.0->bigframes) (3.13.1)\n",
            "Requirement already satisfied: multipledispatch<2,>=0.6 in /usr/local/lib/python3.10/dist-packages (from ibis-framework[bigquery]<7.0.0dev,>=6.2.0->bigframes) (1.0.0)\n",
            "Requirement already satisfied: numpy<2,>=1 in /usr/local/lib/python3.10/dist-packages (from ibis-framework[bigquery]<7.0.0dev,>=6.2.0->bigframes) (1.23.5)\n",
            "Requirement already satisfied: parsy<3,>=2 in /usr/local/lib/python3.10/dist-packages (from ibis-framework[bigquery]<7.0.0dev,>=6.2.0->bigframes) (2.1)\n",
            "Requirement already satisfied: pooch[progress,xxhash]<2,>=1.6.0 in /usr/local/lib/python3.10/dist-packages (from ibis-framework[bigquery]<7.0.0dev,>=6.2.0->bigframes) (1.8.0)\n",
            "Requirement already satisfied: pytz>=2022.7 in /usr/local/lib/python3.10/dist-packages (from ibis-framework[bigquery]<7.0.0dev,>=6.2.0->bigframes) (2023.3.post1)\n",
            "Requirement already satisfied: rich<14,>=12.4.4 in /usr/local/lib/python3.10/dist-packages (from ibis-framework[bigquery]<7.0.0dev,>=6.2.0->bigframes) (13.7.0)\n",
            "Requirement already satisfied: sqlglot<18,>=10.4.3 in /usr/local/lib/python3.10/dist-packages (from ibis-framework[bigquery]<7.0.0dev,>=6.2.0->bigframes) (17.16.2)\n",
            "Requirement already satisfied: toolz<1,>=0.11 in /usr/local/lib/python3.10/dist-packages (from ibis-framework[bigquery]<7.0.0dev,>=6.2.0->bigframes) (0.12.0)\n",
            "Requirement already satisfied: typing-extensions<5,>=4.3.0 in /usr/local/lib/python3.10/dist-packages (from ibis-framework[bigquery]<7.0.0dev,>=6.2.0->bigframes) (4.5.0)\n",
            "Requirement already satisfied: ipykernel>=4.5.1 in /usr/local/lib/python3.10/dist-packages (from ipywidgets>=7.7.1->bigframes) (5.5.6)\n",
            "Requirement already satisfied: ipython-genutils~=0.2.0 in /usr/local/lib/python3.10/dist-packages (from ipywidgets>=7.7.1->bigframes) (0.2.0)\n",
            "Requirement already satisfied: traitlets>=4.3.1 in /usr/local/lib/python3.10/dist-packages (from ipywidgets>=7.7.1->bigframes) (5.7.1)\n",
            "Requirement already satisfied: widgetsnbextension~=3.6.0 in /usr/local/lib/python3.10/dist-packages (from ipywidgets>=7.7.1->bigframes) (3.6.6)\n",
            "Requirement already satisfied: ipython>=4.0.0 in /usr/local/lib/python3.10/dist-packages (from ipywidgets>=7.7.1->bigframes) (7.34.0)\n",
            "Requirement already satisfied: jupyterlab-widgets>=1.0.0 in /usr/local/lib/python3.10/dist-packages (from ipywidgets>=7.7.1->bigframes) (3.0.9)\n",
            "Requirement already satisfied: setuptools in /usr/local/lib/python3.10/dist-packages (from pydata-google-auth>=1.8.2->bigframes) (67.7.2)\n",
            "Requirement already satisfied: charset-normalizer<4,>=2 in /usr/local/lib/python3.10/dist-packages (from requests>=2.27.1->bigframes) (3.3.2)\n",
            "Requirement already satisfied: idna<4,>=2.5 in /usr/local/lib/python3.10/dist-packages (from requests>=2.27.1->bigframes) (3.4)\n",
            "Requirement already satisfied: urllib3<3,>=1.21.1 in /usr/local/lib/python3.10/dist-packages (from requests>=2.27.1->bigframes) (2.0.7)\n",
            "Requirement already satisfied: certifi>=2017.4.17 in /usr/local/lib/python3.10/dist-packages (from requests>=2.27.1->bigframes) (2023.7.22)\n",
            "Requirement already satisfied: scipy>=1.3.2 in /usr/local/lib/python3.10/dist-packages (from scikit-learn>=1.2.2->bigframes) (1.11.3)\n",
            "Requirement already satisfied: joblib>=1.1.1 in /usr/local/lib/python3.10/dist-packages (from scikit-learn>=1.2.2->bigframes) (1.3.2)\n",
            "Requirement already satisfied: threadpoolctl>=2.0.0 in /usr/local/lib/python3.10/dist-packages (from scikit-learn>=1.2.2->bigframes) (3.2.0)\n",
            "Requirement already satisfied: greenlet!=0.4.17 in /usr/local/lib/python3.10/dist-packages (from sqlalchemy<3.0dev,>=1.4->bigframes) (3.0.1)\n",
            "Requirement already satisfied: attrs>=17.3.0 in /usr/local/lib/python3.10/dist-packages (from aiohttp!=4.0.0a0,!=4.0.0a1->gcsfs>=2023.3.0->bigframes) (23.1.0)\n",
            "Requirement already satisfied: multidict<7.0,>=4.5 in /usr/local/lib/python3.10/dist-packages (from aiohttp!=4.0.0a0,!=4.0.0a1->gcsfs>=2023.3.0->bigframes) (6.0.4)\n",
            "Requirement already satisfied: async-timeout<5.0,>=4.0.0a3 in /usr/local/lib/python3.10/dist-packages (from aiohttp!=4.0.0a0,!=4.0.0a1->gcsfs>=2023.3.0->bigframes) (4.0.3)\n",
            "Requirement already satisfied: yarl<2.0,>=1.0 in /usr/local/lib/python3.10/dist-packages (from aiohttp!=4.0.0a0,!=4.0.0a1->gcsfs>=2023.3.0->bigframes) (1.9.2)\n",
            "Requirement already satisfied: frozenlist>=1.1.1 in /usr/local/lib/python3.10/dist-packages (from aiohttp!=4.0.0a0,!=4.0.0a1->gcsfs>=2023.3.0->bigframes) (1.4.0)\n",
            "Requirement already satisfied: aiosignal>=1.1.2 in /usr/local/lib/python3.10/dist-packages (from aiohttp!=4.0.0a0,!=4.0.0a1->gcsfs>=2023.3.0->bigframes) (1.3.1)\n",
            "Requirement already satisfied: click~=8.0 in /usr/local/lib/python3.10/dist-packages (from fiona>=1.8.19->geopandas>=0.12.2->bigframes) (8.1.7)\n",
            "Requirement already satisfied: click-plugins>=1.0 in /usr/local/lib/python3.10/dist-packages (from fiona>=1.8.19->geopandas>=0.12.2->bigframes) (1.1.1)\n",
            "Requirement already satisfied: cligj>=0.5 in /usr/local/lib/python3.10/dist-packages (from fiona>=1.8.19->geopandas>=0.12.2->bigframes) (0.7.2)\n",
            "Requirement already satisfied: googleapis-common-protos<2.0.dev0,>=1.56.2 in /usr/local/lib/python3.10/dist-packages (from google-api-core[grpc]!=2.0.*,!=2.1.*,!=2.10.*,!=2.2.*,!=2.3.*,!=2.4.*,!=2.5.*,!=2.6.*,!=2.7.*,!=2.8.*,!=2.9.*,<3.0.0dev,>=1.34.0->google-cloud-bigquery-connection>=1.12.0->bigframes) (1.61.0)\n",
            "Requirement already satisfied: grpcio-status<2.0.dev0,>=1.33.2 in /usr/local/lib/python3.10/dist-packages (from google-api-core[grpc]!=2.0.*,!=2.1.*,!=2.10.*,!=2.2.*,!=2.3.*,!=2.4.*,!=2.5.*,!=2.6.*,!=2.7.*,!=2.8.*,!=2.9.*,<3.0.0dev,>=1.34.0->google-cloud-bigquery-connection>=1.12.0->bigframes) (1.48.2)\n",
            "Requirement already satisfied: requests-oauthlib>=0.7.0 in /usr/local/lib/python3.10/dist-packages (from google-auth-oauthlib->gcsfs>=2023.3.0->bigframes) (1.3.1)\n",
            "Requirement already satisfied: google-crc32c<2.0dev,>=1.0 in /usr/local/lib/python3.10/dist-packages (from google-resumable-media<3.0dev,>=0.6.0->google-cloud-bigquery[bqstorage,pandas]>=3.10.0->bigframes) (1.5.0)\n",
            "Requirement already satisfied: jupyter-client in /usr/local/lib/python3.10/dist-packages (from ipykernel>=4.5.1->ipywidgets>=7.7.1->bigframes) (6.1.12)\n",
            "Requirement already satisfied: tornado>=4.2 in /usr/local/lib/python3.10/dist-packages (from ipykernel>=4.5.1->ipywidgets>=7.7.1->bigframes) (6.3.2)\n",
            "Collecting jedi>=0.16 (from ipython>=4.0.0->ipywidgets>=7.7.1->bigframes)\n",
            "  Downloading jedi-0.19.1-py2.py3-none-any.whl (1.6 MB)\n",
            "\u001b[2K     \u001b[90m━━━━━━━━━━━━━━━━━━━━━━━━━━━━━━━━━━━━━━━━\u001b[0m \u001b[32m1.6/1.6 MB\u001b[0m \u001b[31m41.3 MB/s\u001b[0m eta \u001b[36m0:00:00\u001b[0m\n",
            "\u001b[?25hRequirement already satisfied: pickleshare in /usr/local/lib/python3.10/dist-packages (from ipython>=4.0.0->ipywidgets>=7.7.1->bigframes) (0.7.5)\n",
            "Requirement already satisfied: prompt-toolkit!=3.0.0,!=3.0.1,<3.1.0,>=2.0.0 in /usr/local/lib/python3.10/dist-packages (from ipython>=4.0.0->ipywidgets>=7.7.1->bigframes) (3.0.41)\n",
            "Requirement already satisfied: pygments in /usr/local/lib/python3.10/dist-packages (from ipython>=4.0.0->ipywidgets>=7.7.1->bigframes) (2.16.1)\n",
            "Requirement already satisfied: backcall in /usr/local/lib/python3.10/dist-packages (from ipython>=4.0.0->ipywidgets>=7.7.1->bigframes) (0.2.0)\n",
            "Requirement already satisfied: matplotlib-inline in /usr/local/lib/python3.10/dist-packages (from ipython>=4.0.0->ipywidgets>=7.7.1->bigframes) (0.1.6)\n",
            "Requirement already satisfied: pexpect>4.3 in /usr/local/lib/python3.10/dist-packages (from ipython>=4.0.0->ipywidgets>=7.7.1->bigframes) (4.8.0)\n",
            "Requirement already satisfied: platformdirs>=2.5.0 in /usr/local/lib/python3.10/dist-packages (from pooch[progress,xxhash]<2,>=1.6.0->ibis-framework[bigquery]<7.0.0dev,>=6.2.0->bigframes) (3.11.0)\n",
            "Requirement already satisfied: tqdm<5.0.0,>=4.41.0 in /usr/local/lib/python3.10/dist-packages (from pooch[progress,xxhash]<2,>=1.6.0->ibis-framework[bigquery]<7.0.0dev,>=6.2.0->bigframes) (4.66.1)\n",
            "Requirement already satisfied: xxhash>=1.4.3 in /usr/local/lib/python3.10/dist-packages (from pooch[progress,xxhash]<2,>=1.6.0->ibis-framework[bigquery]<7.0.0dev,>=6.2.0->bigframes) (3.4.1)\n",
            "Requirement already satisfied: pyasn1<0.6.0,>=0.4.6 in /usr/local/lib/python3.10/dist-packages (from pyasn1-modules>=0.2.1->google-auth<3.0dev,>2.14.1->bigframes) (0.5.0)\n",
            "Requirement already satisfied: markdown-it-py>=2.2.0 in /usr/local/lib/python3.10/dist-packages (from rich<14,>=12.4.4->ibis-framework[bigquery]<7.0.0dev,>=6.2.0->bigframes) (3.0.0)\n",
            "Requirement already satisfied: notebook>=4.4.1 in /usr/local/lib/python3.10/dist-packages (from widgetsnbextension~=3.6.0->ipywidgets>=7.7.1->bigframes) (6.5.5)\n",
            "Requirement already satisfied: parso<0.9.0,>=0.8.3 in /usr/local/lib/python3.10/dist-packages (from jedi>=0.16->ipython>=4.0.0->ipywidgets>=7.7.1->bigframes) (0.8.3)\n",
            "Requirement already satisfied: mdurl~=0.1 in /usr/local/lib/python3.10/dist-packages (from markdown-it-py>=2.2.0->rich<14,>=12.4.4->ibis-framework[bigquery]<7.0.0dev,>=6.2.0->bigframes) (0.1.2)\n",
            "Requirement already satisfied: jinja2 in /usr/local/lib/python3.10/dist-packages (from notebook>=4.4.1->widgetsnbextension~=3.6.0->ipywidgets>=7.7.1->bigframes) (3.1.2)\n",
            "Requirement already satisfied: pyzmq<25,>=17 in /usr/local/lib/python3.10/dist-packages (from notebook>=4.4.1->widgetsnbextension~=3.6.0->ipywidgets>=7.7.1->bigframes) (23.2.1)\n",
            "Requirement already satisfied: argon2-cffi in /usr/local/lib/python3.10/dist-packages (from notebook>=4.4.1->widgetsnbextension~=3.6.0->ipywidgets>=7.7.1->bigframes) (23.1.0)\n",
            "Requirement already satisfied: jupyter-core>=4.6.1 in /usr/local/lib/python3.10/dist-packages (from notebook>=4.4.1->widgetsnbextension~=3.6.0->ipywidgets>=7.7.1->bigframes) (5.5.0)\n",
            "Requirement already satisfied: nbformat in /usr/local/lib/python3.10/dist-packages (from notebook>=4.4.1->widgetsnbextension~=3.6.0->ipywidgets>=7.7.1->bigframes) (5.9.2)\n",
            "Requirement already satisfied: nbconvert>=5 in /usr/local/lib/python3.10/dist-packages (from notebook>=4.4.1->widgetsnbextension~=3.6.0->ipywidgets>=7.7.1->bigframes) (6.5.4)\n",
            "Requirement already satisfied: nest-asyncio>=1.5 in /usr/local/lib/python3.10/dist-packages (from notebook>=4.4.1->widgetsnbextension~=3.6.0->ipywidgets>=7.7.1->bigframes) (1.5.8)\n",
            "Requirement already satisfied: Send2Trash>=1.8.0 in /usr/local/lib/python3.10/dist-packages (from notebook>=4.4.1->widgetsnbextension~=3.6.0->ipywidgets>=7.7.1->bigframes) (1.8.2)\n",
            "Requirement already satisfied: terminado>=0.8.3 in /usr/local/lib/python3.10/dist-packages (from notebook>=4.4.1->widgetsnbextension~=3.6.0->ipywidgets>=7.7.1->bigframes) (0.18.0)\n",
            "Requirement already satisfied: prometheus-client in /usr/local/lib/python3.10/dist-packages (from notebook>=4.4.1->widgetsnbextension~=3.6.0->ipywidgets>=7.7.1->bigframes) (0.18.0)\n",
            "Requirement already satisfied: nbclassic>=0.4.7 in /usr/local/lib/python3.10/dist-packages (from notebook>=4.4.1->widgetsnbextension~=3.6.0->ipywidgets>=7.7.1->bigframes) (1.0.0)\n",
            "Requirement already satisfied: ptyprocess>=0.5 in /usr/local/lib/python3.10/dist-packages (from pexpect>4.3->ipython>=4.0.0->ipywidgets>=7.7.1->bigframes) (0.7.0)\n",
            "Requirement already satisfied: wcwidth in /usr/local/lib/python3.10/dist-packages (from prompt-toolkit!=3.0.0,!=3.0.1,<3.1.0,>=2.0.0->ipython>=4.0.0->ipywidgets>=7.7.1->bigframes) (0.2.10)\n",
            "Requirement already satisfied: oauthlib>=3.0.0 in /usr/local/lib/python3.10/dist-packages (from requests-oauthlib>=0.7.0->google-auth-oauthlib->gcsfs>=2023.3.0->bigframes) (3.2.2)\n",
            "Requirement already satisfied: jupyter-server>=1.8 in /usr/local/lib/python3.10/dist-packages (from nbclassic>=0.4.7->notebook>=4.4.1->widgetsnbextension~=3.6.0->ipywidgets>=7.7.1->bigframes) (1.24.0)\n",
            "Requirement already satisfied: notebook-shim>=0.2.3 in /usr/local/lib/python3.10/dist-packages (from nbclassic>=0.4.7->notebook>=4.4.1->widgetsnbextension~=3.6.0->ipywidgets>=7.7.1->bigframes) (0.2.3)\n",
            "Requirement already satisfied: lxml in /usr/local/lib/python3.10/dist-packages (from nbconvert>=5->notebook>=4.4.1->widgetsnbextension~=3.6.0->ipywidgets>=7.7.1->bigframes) (4.9.3)\n",
            "Requirement already satisfied: beautifulsoup4 in /usr/local/lib/python3.10/dist-packages (from nbconvert>=5->notebook>=4.4.1->widgetsnbextension~=3.6.0->ipywidgets>=7.7.1->bigframes) (4.11.2)\n",
            "Requirement already satisfied: bleach in /usr/local/lib/python3.10/dist-packages (from nbconvert>=5->notebook>=4.4.1->widgetsnbextension~=3.6.0->ipywidgets>=7.7.1->bigframes) (6.1.0)\n",
            "Requirement already satisfied: defusedxml in /usr/local/lib/python3.10/dist-packages (from nbconvert>=5->notebook>=4.4.1->widgetsnbextension~=3.6.0->ipywidgets>=7.7.1->bigframes) (0.7.1)\n",
            "Requirement already satisfied: entrypoints>=0.2.2 in /usr/local/lib/python3.10/dist-packages (from nbconvert>=5->notebook>=4.4.1->widgetsnbextension~=3.6.0->ipywidgets>=7.7.1->bigframes) (0.4)\n",
            "Requirement already satisfied: jupyterlab-pygments in /usr/local/lib/python3.10/dist-packages (from nbconvert>=5->notebook>=4.4.1->widgetsnbextension~=3.6.0->ipywidgets>=7.7.1->bigframes) (0.2.2)\n",
            "Requirement already satisfied: MarkupSafe>=2.0 in /usr/local/lib/python3.10/dist-packages (from nbconvert>=5->notebook>=4.4.1->widgetsnbextension~=3.6.0->ipywidgets>=7.7.1->bigframes) (2.1.3)\n",
            "Requirement already satisfied: mistune<2,>=0.8.1 in /usr/local/lib/python3.10/dist-packages (from nbconvert>=5->notebook>=4.4.1->widgetsnbextension~=3.6.0->ipywidgets>=7.7.1->bigframes) (0.8.4)\n",
            "Requirement already satisfied: nbclient>=0.5.0 in /usr/local/lib/python3.10/dist-packages (from nbconvert>=5->notebook>=4.4.1->widgetsnbextension~=3.6.0->ipywidgets>=7.7.1->bigframes) (0.9.0)\n",
            "Requirement already satisfied: pandocfilters>=1.4.1 in /usr/local/lib/python3.10/dist-packages (from nbconvert>=5->notebook>=4.4.1->widgetsnbextension~=3.6.0->ipywidgets>=7.7.1->bigframes) (1.5.0)\n",
            "Requirement already satisfied: tinycss2 in /usr/local/lib/python3.10/dist-packages (from nbconvert>=5->notebook>=4.4.1->widgetsnbextension~=3.6.0->ipywidgets>=7.7.1->bigframes) (1.2.1)\n",
            "Requirement already satisfied: fastjsonschema in /usr/local/lib/python3.10/dist-packages (from nbformat->notebook>=4.4.1->widgetsnbextension~=3.6.0->ipywidgets>=7.7.1->bigframes) (2.19.0)\n",
            "Requirement already satisfied: jsonschema>=2.6 in /usr/local/lib/python3.10/dist-packages (from nbformat->notebook>=4.4.1->widgetsnbextension~=3.6.0->ipywidgets>=7.7.1->bigframes) (4.19.2)\n",
            "Requirement already satisfied: argon2-cffi-bindings in /usr/local/lib/python3.10/dist-packages (from argon2-cffi->notebook>=4.4.1->widgetsnbextension~=3.6.0->ipywidgets>=7.7.1->bigframes) (21.2.0)\n",
            "Requirement already satisfied: jsonschema-specifications>=2023.03.6 in /usr/local/lib/python3.10/dist-packages (from jsonschema>=2.6->nbformat->notebook>=4.4.1->widgetsnbextension~=3.6.0->ipywidgets>=7.7.1->bigframes) (2023.11.1)\n",
            "Requirement already satisfied: referencing>=0.28.4 in /usr/local/lib/python3.10/dist-packages (from jsonschema>=2.6->nbformat->notebook>=4.4.1->widgetsnbextension~=3.6.0->ipywidgets>=7.7.1->bigframes) (0.31.0)\n",
            "Requirement already satisfied: rpds-py>=0.7.1 in /usr/local/lib/python3.10/dist-packages (from jsonschema>=2.6->nbformat->notebook>=4.4.1->widgetsnbextension~=3.6.0->ipywidgets>=7.7.1->bigframes) (0.13.0)\n",
            "Requirement already satisfied: anyio<4,>=3.1.0 in /usr/local/lib/python3.10/dist-packages (from jupyter-server>=1.8->nbclassic>=0.4.7->notebook>=4.4.1->widgetsnbextension~=3.6.0->ipywidgets>=7.7.1->bigframes) (3.7.1)\n",
            "Requirement already satisfied: websocket-client in /usr/local/lib/python3.10/dist-packages (from jupyter-server>=1.8->nbclassic>=0.4.7->notebook>=4.4.1->widgetsnbextension~=3.6.0->ipywidgets>=7.7.1->bigframes) (1.6.4)\n",
            "Requirement already satisfied: cffi>=1.0.1 in /usr/local/lib/python3.10/dist-packages (from argon2-cffi-bindings->argon2-cffi->notebook>=4.4.1->widgetsnbextension~=3.6.0->ipywidgets>=7.7.1->bigframes) (1.16.0)\n",
            "Requirement already satisfied: soupsieve>1.2 in /usr/local/lib/python3.10/dist-packages (from beautifulsoup4->nbconvert>=5->notebook>=4.4.1->widgetsnbextension~=3.6.0->ipywidgets>=7.7.1->bigframes) (2.5)\n",
            "Requirement already satisfied: webencodings in /usr/local/lib/python3.10/dist-packages (from bleach->nbconvert>=5->notebook>=4.4.1->widgetsnbextension~=3.6.0->ipywidgets>=7.7.1->bigframes) (0.5.1)\n",
            "Requirement already satisfied: sniffio>=1.1 in /usr/local/lib/python3.10/dist-packages (from anyio<4,>=3.1.0->jupyter-server>=1.8->nbclassic>=0.4.7->notebook>=4.4.1->widgetsnbextension~=3.6.0->ipywidgets>=7.7.1->bigframes) (1.3.0)\n",
            "Requirement already satisfied: exceptiongroup in /usr/local/lib/python3.10/dist-packages (from anyio<4,>=3.1.0->jupyter-server>=1.8->nbclassic>=0.4.7->notebook>=4.4.1->widgetsnbextension~=3.6.0->ipywidgets>=7.7.1->bigframes) (1.1.3)\n",
            "Requirement already satisfied: pycparser in /usr/local/lib/python3.10/dist-packages (from cffi>=1.0.1->argon2-cffi-bindings->argon2-cffi->notebook>=4.4.1->widgetsnbextension~=3.6.0->ipywidgets>=7.7.1->bigframes) (2.21)\n",
            "Installing collected packages: jedi, bigframes\n",
            "  Attempting uninstall: bigframes\n",
            "    Found existing installation: bigframes 0.13.0\n",
            "    Uninstalling bigframes-0.13.0:\n",
            "      Successfully uninstalled bigframes-0.13.0\n",
            "Successfully installed bigframes-0.15.0 jedi-0.19.1\n"
          ]
        }
      ]
    },
    {
      "cell_type": "markdown",
      "source": [
        "## Define notebook variables\n",
        "\n",
        "Please update variables like your GCP Project ID (`PROJECT_ID`), dataset name (`DATASET_NAME`), and location (`LOCATION`).\n",
        "\n",
        "The variables `DATASET_NAME`, `LOCATION` and `MODEL_NAME` are pre-populated, but you can update them if you wish.\n",
        "\n",
        "Ensure that the dataset exists in the same GCP Project as `PROJECT_ID`."
      ],
      "metadata": {
        "id": "sHoUOuxf5GOR"
      }
    },
    {
      "cell_type": "code",
      "source": [
        "#@title Setup Project Variables { run: \"auto\", display-mode: \"form\" }\n",
        "PROJECT_ID = \"qwiklabs-gcp-00-7d81a74347ee\" #@param {type:\"string\"}\n",
        "DATASET_NAME = \"theLook_retail\" #@param {type:\"string\"}\n",
        "MODEL_NAME = \"bqdf_customer_segment_cluster\" #@param {type:\"string\"}\n",
        "EVAL_NAME = MODEL_NAME + \"_eval\"\n",
        "LOCATION = \"US\"  # @param {type:\"string\"}\n",
        "from google.cloud import bigquery\n",
        "client = bigquery.Client()"
      ],
      "metadata": {
        "id": "_3Rfhx874F2J",
        "executionInfo": {
          "status": "ok",
          "timestamp": 1702329315930,
          "user_tz": 360,
          "elapsed": 174,
          "user": {
            "displayName": "",
            "userId": ""
          }
        }
      },
      "execution_count": 39,
      "outputs": []
    },
    {
      "cell_type": "code",
      "source": [
        "dataset = client.create_dataset(DATASET_NAME, timeout=30)  # Make an API request.\n",
        "print(\"Created dataset {}.{}\".format(client.project, dataset.dataset_id))"
      ],
      "metadata": {
        "colab": {
          "base_uri": "https://localhost:8080/"
        },
        "id": "wHJfWWBTumIu",
        "executionInfo": {
          "status": "ok",
          "timestamp": 1702329416484,
          "user_tz": 360,
          "elapsed": 576,
          "user": {
            "displayName": "",
            "userId": ""
          }
        },
        "outputId": "748c0c05-95c8-42c1-bc72-1eb22919d679"
      },
      "execution_count": 45,
      "outputs": [
        {
          "output_type": "stream",
          "name": "stdout",
          "text": [
            "Created dataset qwiklabs-gcp-00-7d81a74347ee.theLook_retail\n"
          ]
        }
      ]
    },
    {
      "cell_type": "code",
      "source": [
        "import time\n",
        "time.sleep(10)"
      ],
      "metadata": {
        "id": "yqiajb3yp-lq",
        "executionInfo": {
          "status": "ok",
          "timestamp": 1702329095646,
          "user_tz": 360,
          "elapsed": 9934,
          "user": {
            "displayName": "",
            "userId": ""
          }
        }
      },
      "execution_count": 10,
      "outputs": []
    },
    {
      "cell_type": "markdown",
      "source": [
        "\n",
        "\n",
        "---\n",
        "\n"
      ],
      "metadata": {
        "id": "P-eLlA_0dj8p"
      }
    },
    {
      "cell_type": "markdown",
      "source": [
        "## Step 1 : Basic Exploratory Data Analysis\n",
        "To kick things off, let's first inspect our data prior to constructing any models. Within this tutorial, we'll be working with the [theLook eCommerce public dataset](https://console.cloud.google.com/marketplace/product/bigquery-public-data/thelook-ecommerce).\n",
        "\n",
        "TheLook is an imaginary eCommerce apparel website. Within this dataset, you'll discover details about customers, products, orders, logistics, web events, and digital marketing campaigns. Our main emphasis is the `order_items` table, which contains transactional insights about customers. It's important to note that the contents of this dataset are artificially generated and are made available to professionals in the industry for the purposes of product exploration, testing, and assessment.\n",
        "\n",
        "There are a few ways we can query data and get it into a dataframe. Here are two approaches:"
      ],
      "metadata": {
        "id": "IOlN-lku6KPi"
      }
    },
    {
      "cell_type": "markdown",
      "source": [
        "#### **Initializing BigQuery Dataframes**\n",
        "\n",
        "Import bigframes.pandas for a pandas-like interface. Use the Python SDK to bring data into a dataframe."
      ],
      "metadata": {
        "id": "5Ss_JcgU6dxL"
      }
    },
    {
      "cell_type": "code",
      "source": [
        "import bigframes as bf\n",
        "import bigframes.pandas as bpd"
      ],
      "metadata": {
        "id": "QlW51RNDNEw-",
        "executionInfo": {
          "status": "ok",
          "timestamp": 1702329098436,
          "user_tz": 360,
          "elapsed": 2791,
          "user": {
            "displayName": "",
            "userId": ""
          }
        }
      },
      "execution_count": 11,
      "outputs": []
    },
    {
      "cell_type": "markdown",
      "source": [
        "BigQuery DataFrames uses a BigQuery session internally to manage metadata on the service side. This session is tied to a location . BigQuery DataFrames uses the US multi-region as the default location, but you can use session_options.location to set a different location. Every query in a session is executed in the location where the session was created."
      ],
      "metadata": {
        "id": "wEQpRmHws1WW"
      }
    },
    {
      "cell_type": "code",
      "source": [
        "bf.options.bigquery.project = PROJECT_ID\n",
        "bf.options.bigquery.location = LOCATION"
      ],
      "metadata": {
        "id": "qR-GYJlTORxf",
        "executionInfo": {
          "status": "ok",
          "timestamp": 1702329098436,
          "user_tz": 360,
          "elapsed": 3,
          "user": {
            "displayName": "",
            "userId": ""
          }
        }
      },
      "execution_count": 12,
      "outputs": []
    },
    {
      "cell_type": "markdown",
      "source": [
        "If you want to reset the location of the created DataFrame or Series objects, reset the session by executing `bf.close_session()`. After that, you can reuse `bf.options.bigquery.location` to specify another lo"
      ],
      "metadata": {
        "id": "LlE01FGFsT8d"
      }
    },
    {
      "cell_type": "markdown",
      "source": [
        " #### **`read_gbq` function**\n",
        " The `read_gbq` method accepts either a fully-qualified table ID or a SQL query."
      ],
      "metadata": {
        "id": "Fugedzw5shoX"
      }
    },
    {
      "cell_type": "code",
      "source": [
        "df = bpd.read_gbq(\"bigquery-public-data.thelook_ecommerce.order_items\")\n",
        "df"
      ],
      "metadata": {
        "colab": {
          "base_uri": "https://localhost:8080/",
          "height": 1000
        },
        "id": "RzXhD_KYNX25",
        "outputId": "175fb052-d0ca-47cc-859e-9de325c3b4f1",
        "executionInfo": {
          "status": "ok",
          "timestamp": 1702329108326,
          "user_tz": 360,
          "elapsed": 9892,
          "user": {
            "displayName": "",
            "userId": ""
          }
        }
      },
      "execution_count": 13,
      "outputs": [
        {
          "output_type": "display_data",
          "data": {
            "text/plain": [
              "<IPython.core.display.HTML object>"
            ],
            "text/html": [
              "Query job fa0e98e7-83db-4984-a062-b3696319380c is DONE. 0 Bytes processed. <a target=\"_blank\" href=\"https://console.cloud.google.com/bigquery?project=qwiklabs-gcp-00-7d81a74347ee&j=bq:US:fa0e98e7-83db-4984-a062-b3696319380c&page=queryresults\">Open Job</a>"
            ]
          },
          "metadata": {}
        },
        {
          "output_type": "display_data",
          "data": {
            "text/plain": [
              "<IPython.core.display.HTML object>"
            ],
            "text/html": [
              "Query job b07aede6-07c6-4212-8955-3b3a30aa8e28 is DONE. 13.6 MB processed. <a target=\"_blank\" href=\"https://console.cloud.google.com/bigquery?project=qwiklabs-gcp-00-7d81a74347ee&j=bq:US:b07aede6-07c6-4212-8955-3b3a30aa8e28&page=queryresults\">Open Job</a>"
            ]
          },
          "metadata": {}
        },
        {
          "output_type": "execute_result",
          "data": {
            "text/plain": [
              "        id  order_id  user_id  product_id  inventory_item_id      status  \\\n",
              "0    31054     21499    17389       14744              83689  Processing   \n",
              "1   124570     85895    68860       20072             336360     Shipped   \n",
              "2    43033     29762    23974       13413             116088  Processing   \n",
              "3    99575     68653    55067       28575             268686     Shipped   \n",
              "4    42410     29305    23618       10612             114395     Shipped   \n",
              "5    29441     20369    16453        3606              79340     Shipped   \n",
              "6    64874     44710    35762       22852             175029    Complete   \n",
              "7    25853     17915    14513       16434              69683     Shipped   \n",
              "8   108981     75048    60229       20573             294101    Returned   \n",
              "9     3349      2326     1932        4995               9046    Complete   \n",
              "10  179695    124096    99221        7777             484968    Returned   \n",
              "11  141550     97660    78256       22607             382196    Complete   \n",
              "12   13905      9667     7794       29037              37483     Shipped   \n",
              "13  124724     86005    68940        6767             336773     Shipped   \n",
              "14   71203     49064    39246        2907             192154    Complete   \n",
              "15  170644    117863    94249       27736             460597     Shipped   \n",
              "16  131281     90576    72629       27032             354516     Shipped   \n",
              "17   28188     19501    15775        7165              75973    Returned   \n",
              "18  165784    114491    91548       16400             447542   Cancelled   \n",
              "19  117281     80883    64812       10747             316666     Shipped   \n",
              "20   49738     34378    27632       23814             134208    Complete   \n",
              "21  146308    101006    80897       21544             395067    Complete   \n",
              "22  148098    102260    81858       14612             399876  Processing   \n",
              "23   95446     65797    52766        4670             257529     Shipped   \n",
              "24    2360      1638     1348        1611               6371     Shipped   \n",
              "\n",
              "                   created_at                 shipped_at  \\\n",
              "0   2023-06-21 16:08:25+00:00                       <NA>   \n",
              "1   2022-10-16 05:43:19+00:00  2022-10-18 23:23:00+00:00   \n",
              "2   2021-08-01 23:24:28+00:00                       <NA>   \n",
              "3   2023-07-28 08:08:10+00:00  2023-07-31 05:37:00+00:00   \n",
              "4   2023-08-27 13:58:57+00:00  2023-08-28 01:28:00+00:00   \n",
              "5   2022-12-08 01:48:33+00:00  2022-12-10 18:47:00+00:00   \n",
              "6   2023-07-03 16:11:51+00:00  2023-07-05 17:29:00+00:00   \n",
              "7   2020-08-09 10:52:36+00:00  2020-08-10 12:19:00+00:00   \n",
              "8   2022-12-26 03:04:09+00:00  2022-12-29 03:20:00+00:00   \n",
              "9   2023-11-21 09:30:34+00:00  2023-11-22 13:52:00+00:00   \n",
              "10  2023-10-21 04:32:46+00:00  2023-10-21 16:19:00+00:00   \n",
              "11  2023-11-11 06:34:19+00:00  2023-11-13 13:03:00+00:00   \n",
              "12  2022-10-30 14:16:43+00:00  2022-11-01 05:39:00+00:00   \n",
              "13  2022-09-29 16:21:45+00:00  2022-09-29 13:29:00+00:00   \n",
              "14  2020-09-19 11:01:04+00:00  2020-09-22 00:17:00+00:00   \n",
              "15  2023-05-21 00:23:20+00:00  2023-05-20 08:30:00+00:00   \n",
              "16  2023-12-07 03:42:53+00:00  2023-12-08 14:49:00+00:00   \n",
              "17  2019-08-02 10:40:20+00:00  2019-08-03 15:01:00+00:00   \n",
              "18  2022-08-24 07:56:03+00:00                       <NA>   \n",
              "19  2023-11-20 13:38:45+00:00  2023-11-23 15:50:00+00:00   \n",
              "20  2020-10-31 03:01:09+00:00  2020-10-31 10:06:00+00:00   \n",
              "21  2023-12-08 00:19:14+00:00  2023-12-04 16:08:00+00:00   \n",
              "22  2023-08-18 22:40:09+00:00                       <NA>   \n",
              "23  2023-07-22 05:13:25+00:00  2023-07-22 15:55:00+00:00   \n",
              "24  2022-07-21 06:26:14+00:00  2022-07-22 17:45:00+00:00   \n",
              "\n",
              "                 delivered_at                returned_at  sale_price  \n",
              "0                        <NA>                       <NA>       44.98  \n",
              "1                        <NA>                       <NA>  209.990005  \n",
              "2                        <NA>                       <NA>        25.0  \n",
              "3                        <NA>                       <NA>        5.99  \n",
              "4                        <NA>                       <NA>        34.0  \n",
              "5                        <NA>                       <NA>        88.0  \n",
              "6   2023-07-08 12:58:00+00:00                       <NA>   64.949997  \n",
              "7                        <NA>                       <NA>        65.0  \n",
              "8   2023-01-02 14:10:00+00:00  2023-01-03 16:20:00+00:00   50.150002  \n",
              "9   2023-11-23 19:03:00+00:00                       <NA>       179.0  \n",
              "10  2023-10-23 05:38:00+00:00  2023-10-26 03:41:00+00:00        28.9  \n",
              "11  2023-11-17 10:54:00+00:00                       <NA>       178.0  \n",
              "12                       <NA>                       <NA>       14.95  \n",
              "13                       <NA>                       <NA>   51.970001  \n",
              "14  2020-09-23 01:58:00+00:00                       <NA>       10.99  \n",
              "15                       <NA>                       <NA>        74.0  \n",
              "16                       <NA>                       <NA>   34.299999  \n",
              "17  2019-08-04 06:01:00+00:00  2019-08-05 07:30:00+00:00        42.0  \n",
              "18                       <NA>                       <NA>   43.529999  \n",
              "19                       <NA>                       <NA>        13.0  \n",
              "20  2020-11-01 11:45:00+00:00                       <NA>        72.0  \n",
              "21  2023-12-06 13:32:00+00:00                       <NA>   24.469999  \n",
              "22                       <NA>                       <NA>   44.099998  \n",
              "23                       <NA>                       <NA>       172.0  \n",
              "24                       <NA>                       <NA>        54.5  \n",
              "...\n",
              "\n",
              "[181073 rows x 11 columns]"
            ],
            "text/html": [
              "<div>\n",
              "<style scoped>\n",
              "    .dataframe tbody tr th:only-of-type {\n",
              "        vertical-align: middle;\n",
              "    }\n",
              "\n",
              "    .dataframe tbody tr th {\n",
              "        vertical-align: top;\n",
              "    }\n",
              "\n",
              "    .dataframe thead th {\n",
              "        text-align: right;\n",
              "    }\n",
              "</style>\n",
              "<table border=\"1\" class=\"dataframe\">\n",
              "  <thead>\n",
              "    <tr style=\"text-align: right;\">\n",
              "      <th></th>\n",
              "      <th>id</th>\n",
              "      <th>order_id</th>\n",
              "      <th>user_id</th>\n",
              "      <th>product_id</th>\n",
              "      <th>inventory_item_id</th>\n",
              "      <th>status</th>\n",
              "      <th>created_at</th>\n",
              "      <th>shipped_at</th>\n",
              "      <th>delivered_at</th>\n",
              "      <th>returned_at</th>\n",
              "      <th>sale_price</th>\n",
              "    </tr>\n",
              "  </thead>\n",
              "  <tbody>\n",
              "    <tr>\n",
              "      <th>0</th>\n",
              "      <td>31054</td>\n",
              "      <td>21499</td>\n",
              "      <td>17389</td>\n",
              "      <td>14744</td>\n",
              "      <td>83689</td>\n",
              "      <td>Processing</td>\n",
              "      <td>2023-06-21 16:08:25+00:00</td>\n",
              "      <td>&lt;NA&gt;</td>\n",
              "      <td>&lt;NA&gt;</td>\n",
              "      <td>&lt;NA&gt;</td>\n",
              "      <td>44.98</td>\n",
              "    </tr>\n",
              "    <tr>\n",
              "      <th>1</th>\n",
              "      <td>124570</td>\n",
              "      <td>85895</td>\n",
              "      <td>68860</td>\n",
              "      <td>20072</td>\n",
              "      <td>336360</td>\n",
              "      <td>Shipped</td>\n",
              "      <td>2022-10-16 05:43:19+00:00</td>\n",
              "      <td>2022-10-18 23:23:00+00:00</td>\n",
              "      <td>&lt;NA&gt;</td>\n",
              "      <td>&lt;NA&gt;</td>\n",
              "      <td>209.990005</td>\n",
              "    </tr>\n",
              "    <tr>\n",
              "      <th>2</th>\n",
              "      <td>43033</td>\n",
              "      <td>29762</td>\n",
              "      <td>23974</td>\n",
              "      <td>13413</td>\n",
              "      <td>116088</td>\n",
              "      <td>Processing</td>\n",
              "      <td>2021-08-01 23:24:28+00:00</td>\n",
              "      <td>&lt;NA&gt;</td>\n",
              "      <td>&lt;NA&gt;</td>\n",
              "      <td>&lt;NA&gt;</td>\n",
              "      <td>25.0</td>\n",
              "    </tr>\n",
              "    <tr>\n",
              "      <th>3</th>\n",
              "      <td>99575</td>\n",
              "      <td>68653</td>\n",
              "      <td>55067</td>\n",
              "      <td>28575</td>\n",
              "      <td>268686</td>\n",
              "      <td>Shipped</td>\n",
              "      <td>2023-07-28 08:08:10+00:00</td>\n",
              "      <td>2023-07-31 05:37:00+00:00</td>\n",
              "      <td>&lt;NA&gt;</td>\n",
              "      <td>&lt;NA&gt;</td>\n",
              "      <td>5.99</td>\n",
              "    </tr>\n",
              "    <tr>\n",
              "      <th>4</th>\n",
              "      <td>42410</td>\n",
              "      <td>29305</td>\n",
              "      <td>23618</td>\n",
              "      <td>10612</td>\n",
              "      <td>114395</td>\n",
              "      <td>Shipped</td>\n",
              "      <td>2023-08-27 13:58:57+00:00</td>\n",
              "      <td>2023-08-28 01:28:00+00:00</td>\n",
              "      <td>&lt;NA&gt;</td>\n",
              "      <td>&lt;NA&gt;</td>\n",
              "      <td>34.0</td>\n",
              "    </tr>\n",
              "    <tr>\n",
              "      <th>5</th>\n",
              "      <td>29441</td>\n",
              "      <td>20369</td>\n",
              "      <td>16453</td>\n",
              "      <td>3606</td>\n",
              "      <td>79340</td>\n",
              "      <td>Shipped</td>\n",
              "      <td>2022-12-08 01:48:33+00:00</td>\n",
              "      <td>2022-12-10 18:47:00+00:00</td>\n",
              "      <td>&lt;NA&gt;</td>\n",
              "      <td>&lt;NA&gt;</td>\n",
              "      <td>88.0</td>\n",
              "    </tr>\n",
              "    <tr>\n",
              "      <th>6</th>\n",
              "      <td>64874</td>\n",
              "      <td>44710</td>\n",
              "      <td>35762</td>\n",
              "      <td>22852</td>\n",
              "      <td>175029</td>\n",
              "      <td>Complete</td>\n",
              "      <td>2023-07-03 16:11:51+00:00</td>\n",
              "      <td>2023-07-05 17:29:00+00:00</td>\n",
              "      <td>2023-07-08 12:58:00+00:00</td>\n",
              "      <td>&lt;NA&gt;</td>\n",
              "      <td>64.949997</td>\n",
              "    </tr>\n",
              "    <tr>\n",
              "      <th>7</th>\n",
              "      <td>25853</td>\n",
              "      <td>17915</td>\n",
              "      <td>14513</td>\n",
              "      <td>16434</td>\n",
              "      <td>69683</td>\n",
              "      <td>Shipped</td>\n",
              "      <td>2020-08-09 10:52:36+00:00</td>\n",
              "      <td>2020-08-10 12:19:00+00:00</td>\n",
              "      <td>&lt;NA&gt;</td>\n",
              "      <td>&lt;NA&gt;</td>\n",
              "      <td>65.0</td>\n",
              "    </tr>\n",
              "    <tr>\n",
              "      <th>8</th>\n",
              "      <td>108981</td>\n",
              "      <td>75048</td>\n",
              "      <td>60229</td>\n",
              "      <td>20573</td>\n",
              "      <td>294101</td>\n",
              "      <td>Returned</td>\n",
              "      <td>2022-12-26 03:04:09+00:00</td>\n",
              "      <td>2022-12-29 03:20:00+00:00</td>\n",
              "      <td>2023-01-02 14:10:00+00:00</td>\n",
              "      <td>2023-01-03 16:20:00+00:00</td>\n",
              "      <td>50.150002</td>\n",
              "    </tr>\n",
              "    <tr>\n",
              "      <th>9</th>\n",
              "      <td>3349</td>\n",
              "      <td>2326</td>\n",
              "      <td>1932</td>\n",
              "      <td>4995</td>\n",
              "      <td>9046</td>\n",
              "      <td>Complete</td>\n",
              "      <td>2023-11-21 09:30:34+00:00</td>\n",
              "      <td>2023-11-22 13:52:00+00:00</td>\n",
              "      <td>2023-11-23 19:03:00+00:00</td>\n",
              "      <td>&lt;NA&gt;</td>\n",
              "      <td>179.0</td>\n",
              "    </tr>\n",
              "    <tr>\n",
              "      <th>10</th>\n",
              "      <td>179695</td>\n",
              "      <td>124096</td>\n",
              "      <td>99221</td>\n",
              "      <td>7777</td>\n",
              "      <td>484968</td>\n",
              "      <td>Returned</td>\n",
              "      <td>2023-10-21 04:32:46+00:00</td>\n",
              "      <td>2023-10-21 16:19:00+00:00</td>\n",
              "      <td>2023-10-23 05:38:00+00:00</td>\n",
              "      <td>2023-10-26 03:41:00+00:00</td>\n",
              "      <td>28.9</td>\n",
              "    </tr>\n",
              "    <tr>\n",
              "      <th>11</th>\n",
              "      <td>141550</td>\n",
              "      <td>97660</td>\n",
              "      <td>78256</td>\n",
              "      <td>22607</td>\n",
              "      <td>382196</td>\n",
              "      <td>Complete</td>\n",
              "      <td>2023-11-11 06:34:19+00:00</td>\n",
              "      <td>2023-11-13 13:03:00+00:00</td>\n",
              "      <td>2023-11-17 10:54:00+00:00</td>\n",
              "      <td>&lt;NA&gt;</td>\n",
              "      <td>178.0</td>\n",
              "    </tr>\n",
              "    <tr>\n",
              "      <th>12</th>\n",
              "      <td>13905</td>\n",
              "      <td>9667</td>\n",
              "      <td>7794</td>\n",
              "      <td>29037</td>\n",
              "      <td>37483</td>\n",
              "      <td>Shipped</td>\n",
              "      <td>2022-10-30 14:16:43+00:00</td>\n",
              "      <td>2022-11-01 05:39:00+00:00</td>\n",
              "      <td>&lt;NA&gt;</td>\n",
              "      <td>&lt;NA&gt;</td>\n",
              "      <td>14.95</td>\n",
              "    </tr>\n",
              "    <tr>\n",
              "      <th>13</th>\n",
              "      <td>124724</td>\n",
              "      <td>86005</td>\n",
              "      <td>68940</td>\n",
              "      <td>6767</td>\n",
              "      <td>336773</td>\n",
              "      <td>Shipped</td>\n",
              "      <td>2022-09-29 16:21:45+00:00</td>\n",
              "      <td>2022-09-29 13:29:00+00:00</td>\n",
              "      <td>&lt;NA&gt;</td>\n",
              "      <td>&lt;NA&gt;</td>\n",
              "      <td>51.970001</td>\n",
              "    </tr>\n",
              "    <tr>\n",
              "      <th>14</th>\n",
              "      <td>71203</td>\n",
              "      <td>49064</td>\n",
              "      <td>39246</td>\n",
              "      <td>2907</td>\n",
              "      <td>192154</td>\n",
              "      <td>Complete</td>\n",
              "      <td>2020-09-19 11:01:04+00:00</td>\n",
              "      <td>2020-09-22 00:17:00+00:00</td>\n",
              "      <td>2020-09-23 01:58:00+00:00</td>\n",
              "      <td>&lt;NA&gt;</td>\n",
              "      <td>10.99</td>\n",
              "    </tr>\n",
              "    <tr>\n",
              "      <th>15</th>\n",
              "      <td>170644</td>\n",
              "      <td>117863</td>\n",
              "      <td>94249</td>\n",
              "      <td>27736</td>\n",
              "      <td>460597</td>\n",
              "      <td>Shipped</td>\n",
              "      <td>2023-05-21 00:23:20+00:00</td>\n",
              "      <td>2023-05-20 08:30:00+00:00</td>\n",
              "      <td>&lt;NA&gt;</td>\n",
              "      <td>&lt;NA&gt;</td>\n",
              "      <td>74.0</td>\n",
              "    </tr>\n",
              "    <tr>\n",
              "      <th>16</th>\n",
              "      <td>131281</td>\n",
              "      <td>90576</td>\n",
              "      <td>72629</td>\n",
              "      <td>27032</td>\n",
              "      <td>354516</td>\n",
              "      <td>Shipped</td>\n",
              "      <td>2023-12-07 03:42:53+00:00</td>\n",
              "      <td>2023-12-08 14:49:00+00:00</td>\n",
              "      <td>&lt;NA&gt;</td>\n",
              "      <td>&lt;NA&gt;</td>\n",
              "      <td>34.299999</td>\n",
              "    </tr>\n",
              "    <tr>\n",
              "      <th>17</th>\n",
              "      <td>28188</td>\n",
              "      <td>19501</td>\n",
              "      <td>15775</td>\n",
              "      <td>7165</td>\n",
              "      <td>75973</td>\n",
              "      <td>Returned</td>\n",
              "      <td>2019-08-02 10:40:20+00:00</td>\n",
              "      <td>2019-08-03 15:01:00+00:00</td>\n",
              "      <td>2019-08-04 06:01:00+00:00</td>\n",
              "      <td>2019-08-05 07:30:00+00:00</td>\n",
              "      <td>42.0</td>\n",
              "    </tr>\n",
              "    <tr>\n",
              "      <th>18</th>\n",
              "      <td>165784</td>\n",
              "      <td>114491</td>\n",
              "      <td>91548</td>\n",
              "      <td>16400</td>\n",
              "      <td>447542</td>\n",
              "      <td>Cancelled</td>\n",
              "      <td>2022-08-24 07:56:03+00:00</td>\n",
              "      <td>&lt;NA&gt;</td>\n",
              "      <td>&lt;NA&gt;</td>\n",
              "      <td>&lt;NA&gt;</td>\n",
              "      <td>43.529999</td>\n",
              "    </tr>\n",
              "    <tr>\n",
              "      <th>19</th>\n",
              "      <td>117281</td>\n",
              "      <td>80883</td>\n",
              "      <td>64812</td>\n",
              "      <td>10747</td>\n",
              "      <td>316666</td>\n",
              "      <td>Shipped</td>\n",
              "      <td>2023-11-20 13:38:45+00:00</td>\n",
              "      <td>2023-11-23 15:50:00+00:00</td>\n",
              "      <td>&lt;NA&gt;</td>\n",
              "      <td>&lt;NA&gt;</td>\n",
              "      <td>13.0</td>\n",
              "    </tr>\n",
              "    <tr>\n",
              "      <th>20</th>\n",
              "      <td>49738</td>\n",
              "      <td>34378</td>\n",
              "      <td>27632</td>\n",
              "      <td>23814</td>\n",
              "      <td>134208</td>\n",
              "      <td>Complete</td>\n",
              "      <td>2020-10-31 03:01:09+00:00</td>\n",
              "      <td>2020-10-31 10:06:00+00:00</td>\n",
              "      <td>2020-11-01 11:45:00+00:00</td>\n",
              "      <td>&lt;NA&gt;</td>\n",
              "      <td>72.0</td>\n",
              "    </tr>\n",
              "    <tr>\n",
              "      <th>21</th>\n",
              "      <td>146308</td>\n",
              "      <td>101006</td>\n",
              "      <td>80897</td>\n",
              "      <td>21544</td>\n",
              "      <td>395067</td>\n",
              "      <td>Complete</td>\n",
              "      <td>2023-12-08 00:19:14+00:00</td>\n",
              "      <td>2023-12-04 16:08:00+00:00</td>\n",
              "      <td>2023-12-06 13:32:00+00:00</td>\n",
              "      <td>&lt;NA&gt;</td>\n",
              "      <td>24.469999</td>\n",
              "    </tr>\n",
              "    <tr>\n",
              "      <th>22</th>\n",
              "      <td>148098</td>\n",
              "      <td>102260</td>\n",
              "      <td>81858</td>\n",
              "      <td>14612</td>\n",
              "      <td>399876</td>\n",
              "      <td>Processing</td>\n",
              "      <td>2023-08-18 22:40:09+00:00</td>\n",
              "      <td>&lt;NA&gt;</td>\n",
              "      <td>&lt;NA&gt;</td>\n",
              "      <td>&lt;NA&gt;</td>\n",
              "      <td>44.099998</td>\n",
              "    </tr>\n",
              "    <tr>\n",
              "      <th>23</th>\n",
              "      <td>95446</td>\n",
              "      <td>65797</td>\n",
              "      <td>52766</td>\n",
              "      <td>4670</td>\n",
              "      <td>257529</td>\n",
              "      <td>Shipped</td>\n",
              "      <td>2023-07-22 05:13:25+00:00</td>\n",
              "      <td>2023-07-22 15:55:00+00:00</td>\n",
              "      <td>&lt;NA&gt;</td>\n",
              "      <td>&lt;NA&gt;</td>\n",
              "      <td>172.0</td>\n",
              "    </tr>\n",
              "    <tr>\n",
              "      <th>24</th>\n",
              "      <td>2360</td>\n",
              "      <td>1638</td>\n",
              "      <td>1348</td>\n",
              "      <td>1611</td>\n",
              "      <td>6371</td>\n",
              "      <td>Shipped</td>\n",
              "      <td>2022-07-21 06:26:14+00:00</td>\n",
              "      <td>2022-07-22 17:45:00+00:00</td>\n",
              "      <td>&lt;NA&gt;</td>\n",
              "      <td>&lt;NA&gt;</td>\n",
              "      <td>54.5</td>\n",
              "    </tr>\n",
              "  </tbody>\n",
              "</table>\n",
              "<p>25 rows × 11 columns</p>\n",
              "</div>[181073 rows x 11 columns in total]"
            ]
          },
          "metadata": {},
          "execution_count": 13
        }
      ]
    },
    {
      "cell_type": "markdown",
      "source": [
        "#### **Restricting Dataframe columns**\n",
        "Next, Choosing a restricted set of features for the purpose of conducting feature engineering."
      ],
      "metadata": {
        "id": "xC0_CcriIO9J"
      }
    },
    {
      "cell_type": "code",
      "source": [
        "df = df[[\"user_id\", \"order_id\", \"sale_price\", \"created_at\", \"status\"]].rename(columns={\"created_at\": \"order_created_date\"})\n",
        "df"
      ],
      "metadata": {
        "colab": {
          "base_uri": "https://localhost:8080/",
          "height": 915
        },
        "id": "kdNMJnBLOvi6",
        "outputId": "417a08db-3164-468c-ef8b-1bc11c0253d8",
        "executionInfo": {
          "status": "ok",
          "timestamp": 1702329112503,
          "user_tz": 360,
          "elapsed": 4190,
          "user": {
            "displayName": "",
            "userId": ""
          }
        }
      },
      "execution_count": 14,
      "outputs": [
        {
          "output_type": "display_data",
          "data": {
            "text/plain": [
              "<IPython.core.display.HTML object>"
            ],
            "text/html": [
              "Query job 9cc9f8a2-5d03-4bc4-b5f0-572455a7ffa1 is DONE. 0 Bytes processed. <a target=\"_blank\" href=\"https://console.cloud.google.com/bigquery?project=qwiklabs-gcp-00-7d81a74347ee&j=bq:US:9cc9f8a2-5d03-4bc4-b5f0-572455a7ffa1&page=queryresults\">Open Job</a>"
            ]
          },
          "metadata": {}
        },
        {
          "output_type": "display_data",
          "data": {
            "text/plain": [
              "<IPython.core.display.HTML object>"
            ],
            "text/html": [
              "Query job 1cc9c760-a404-4993-a801-d7c79bdbf075 is DONE. 13.6 MB processed. <a target=\"_blank\" href=\"https://console.cloud.google.com/bigquery?project=qwiklabs-gcp-00-7d81a74347ee&j=bq:US:1cc9c760-a404-4993-a801-d7c79bdbf075&page=queryresults\">Open Job</a>"
            ]
          },
          "metadata": {}
        },
        {
          "output_type": "execute_result",
          "data": {
            "text/plain": [
              "    user_id  order_id  sale_price         order_created_date      status\n",
              "0     17389     21499       44.98  2023-06-21 16:08:25+00:00  Processing\n",
              "1     68860     85895  209.990005  2022-10-16 05:43:19+00:00     Shipped\n",
              "2     23974     29762        25.0  2021-08-01 23:24:28+00:00  Processing\n",
              "3     55067     68653        5.99  2023-07-28 08:08:10+00:00     Shipped\n",
              "4     23618     29305        34.0  2023-08-27 13:58:57+00:00     Shipped\n",
              "5     16453     20369        88.0  2022-12-08 01:48:33+00:00     Shipped\n",
              "6     35762     44710   64.949997  2023-07-03 16:11:51+00:00    Complete\n",
              "7     14513     17915        65.0  2020-08-09 10:52:36+00:00     Shipped\n",
              "8     60229     75048   50.150002  2022-12-26 03:04:09+00:00    Returned\n",
              "9      1932      2326       179.0  2023-11-21 09:30:34+00:00    Complete\n",
              "10    99221    124096        28.9  2023-10-21 04:32:46+00:00    Returned\n",
              "11    78256     97660       178.0  2023-11-11 06:34:19+00:00    Complete\n",
              "12     7794      9667       14.95  2022-10-30 14:16:43+00:00     Shipped\n",
              "13    68940     86005   51.970001  2022-09-29 16:21:45+00:00     Shipped\n",
              "14    39246     49064       10.99  2020-09-19 11:01:04+00:00    Complete\n",
              "15    94249    117863        74.0  2023-05-21 00:23:20+00:00     Shipped\n",
              "16    72629     90576   34.299999  2023-12-07 03:42:53+00:00     Shipped\n",
              "17    15775     19501        42.0  2019-08-02 10:40:20+00:00    Returned\n",
              "18    91548    114491   43.529999  2022-08-24 07:56:03+00:00   Cancelled\n",
              "19    64812     80883        13.0  2023-11-20 13:38:45+00:00     Shipped\n",
              "20    27632     34378        72.0  2020-10-31 03:01:09+00:00    Complete\n",
              "21    80897    101006   24.469999  2023-12-08 00:19:14+00:00    Complete\n",
              "22    81858    102260   44.099998  2023-08-18 22:40:09+00:00  Processing\n",
              "23    52766     65797       172.0  2023-07-22 05:13:25+00:00     Shipped\n",
              "24     1348      1638        54.5  2022-07-21 06:26:14+00:00     Shipped\n",
              "...\n",
              "\n",
              "[181073 rows x 5 columns]"
            ],
            "text/html": [
              "<div>\n",
              "<style scoped>\n",
              "    .dataframe tbody tr th:only-of-type {\n",
              "        vertical-align: middle;\n",
              "    }\n",
              "\n",
              "    .dataframe tbody tr th {\n",
              "        vertical-align: top;\n",
              "    }\n",
              "\n",
              "    .dataframe thead th {\n",
              "        text-align: right;\n",
              "    }\n",
              "</style>\n",
              "<table border=\"1\" class=\"dataframe\">\n",
              "  <thead>\n",
              "    <tr style=\"text-align: right;\">\n",
              "      <th></th>\n",
              "      <th>user_id</th>\n",
              "      <th>order_id</th>\n",
              "      <th>sale_price</th>\n",
              "      <th>order_created_date</th>\n",
              "      <th>status</th>\n",
              "    </tr>\n",
              "  </thead>\n",
              "  <tbody>\n",
              "    <tr>\n",
              "      <th>0</th>\n",
              "      <td>17389</td>\n",
              "      <td>21499</td>\n",
              "      <td>44.98</td>\n",
              "      <td>2023-06-21 16:08:25+00:00</td>\n",
              "      <td>Processing</td>\n",
              "    </tr>\n",
              "    <tr>\n",
              "      <th>1</th>\n",
              "      <td>68860</td>\n",
              "      <td>85895</td>\n",
              "      <td>209.990005</td>\n",
              "      <td>2022-10-16 05:43:19+00:00</td>\n",
              "      <td>Shipped</td>\n",
              "    </tr>\n",
              "    <tr>\n",
              "      <th>2</th>\n",
              "      <td>23974</td>\n",
              "      <td>29762</td>\n",
              "      <td>25.0</td>\n",
              "      <td>2021-08-01 23:24:28+00:00</td>\n",
              "      <td>Processing</td>\n",
              "    </tr>\n",
              "    <tr>\n",
              "      <th>3</th>\n",
              "      <td>55067</td>\n",
              "      <td>68653</td>\n",
              "      <td>5.99</td>\n",
              "      <td>2023-07-28 08:08:10+00:00</td>\n",
              "      <td>Shipped</td>\n",
              "    </tr>\n",
              "    <tr>\n",
              "      <th>4</th>\n",
              "      <td>23618</td>\n",
              "      <td>29305</td>\n",
              "      <td>34.0</td>\n",
              "      <td>2023-08-27 13:58:57+00:00</td>\n",
              "      <td>Shipped</td>\n",
              "    </tr>\n",
              "    <tr>\n",
              "      <th>5</th>\n",
              "      <td>16453</td>\n",
              "      <td>20369</td>\n",
              "      <td>88.0</td>\n",
              "      <td>2022-12-08 01:48:33+00:00</td>\n",
              "      <td>Shipped</td>\n",
              "    </tr>\n",
              "    <tr>\n",
              "      <th>6</th>\n",
              "      <td>35762</td>\n",
              "      <td>44710</td>\n",
              "      <td>64.949997</td>\n",
              "      <td>2023-07-03 16:11:51+00:00</td>\n",
              "      <td>Complete</td>\n",
              "    </tr>\n",
              "    <tr>\n",
              "      <th>7</th>\n",
              "      <td>14513</td>\n",
              "      <td>17915</td>\n",
              "      <td>65.0</td>\n",
              "      <td>2020-08-09 10:52:36+00:00</td>\n",
              "      <td>Shipped</td>\n",
              "    </tr>\n",
              "    <tr>\n",
              "      <th>8</th>\n",
              "      <td>60229</td>\n",
              "      <td>75048</td>\n",
              "      <td>50.150002</td>\n",
              "      <td>2022-12-26 03:04:09+00:00</td>\n",
              "      <td>Returned</td>\n",
              "    </tr>\n",
              "    <tr>\n",
              "      <th>9</th>\n",
              "      <td>1932</td>\n",
              "      <td>2326</td>\n",
              "      <td>179.0</td>\n",
              "      <td>2023-11-21 09:30:34+00:00</td>\n",
              "      <td>Complete</td>\n",
              "    </tr>\n",
              "    <tr>\n",
              "      <th>10</th>\n",
              "      <td>99221</td>\n",
              "      <td>124096</td>\n",
              "      <td>28.9</td>\n",
              "      <td>2023-10-21 04:32:46+00:00</td>\n",
              "      <td>Returned</td>\n",
              "    </tr>\n",
              "    <tr>\n",
              "      <th>11</th>\n",
              "      <td>78256</td>\n",
              "      <td>97660</td>\n",
              "      <td>178.0</td>\n",
              "      <td>2023-11-11 06:34:19+00:00</td>\n",
              "      <td>Complete</td>\n",
              "    </tr>\n",
              "    <tr>\n",
              "      <th>12</th>\n",
              "      <td>7794</td>\n",
              "      <td>9667</td>\n",
              "      <td>14.95</td>\n",
              "      <td>2022-10-30 14:16:43+00:00</td>\n",
              "      <td>Shipped</td>\n",
              "    </tr>\n",
              "    <tr>\n",
              "      <th>13</th>\n",
              "      <td>68940</td>\n",
              "      <td>86005</td>\n",
              "      <td>51.970001</td>\n",
              "      <td>2022-09-29 16:21:45+00:00</td>\n",
              "      <td>Shipped</td>\n",
              "    </tr>\n",
              "    <tr>\n",
              "      <th>14</th>\n",
              "      <td>39246</td>\n",
              "      <td>49064</td>\n",
              "      <td>10.99</td>\n",
              "      <td>2020-09-19 11:01:04+00:00</td>\n",
              "      <td>Complete</td>\n",
              "    </tr>\n",
              "    <tr>\n",
              "      <th>15</th>\n",
              "      <td>94249</td>\n",
              "      <td>117863</td>\n",
              "      <td>74.0</td>\n",
              "      <td>2023-05-21 00:23:20+00:00</td>\n",
              "      <td>Shipped</td>\n",
              "    </tr>\n",
              "    <tr>\n",
              "      <th>16</th>\n",
              "      <td>72629</td>\n",
              "      <td>90576</td>\n",
              "      <td>34.299999</td>\n",
              "      <td>2023-12-07 03:42:53+00:00</td>\n",
              "      <td>Shipped</td>\n",
              "    </tr>\n",
              "    <tr>\n",
              "      <th>17</th>\n",
              "      <td>15775</td>\n",
              "      <td>19501</td>\n",
              "      <td>42.0</td>\n",
              "      <td>2019-08-02 10:40:20+00:00</td>\n",
              "      <td>Returned</td>\n",
              "    </tr>\n",
              "    <tr>\n",
              "      <th>18</th>\n",
              "      <td>91548</td>\n",
              "      <td>114491</td>\n",
              "      <td>43.529999</td>\n",
              "      <td>2022-08-24 07:56:03+00:00</td>\n",
              "      <td>Cancelled</td>\n",
              "    </tr>\n",
              "    <tr>\n",
              "      <th>19</th>\n",
              "      <td>64812</td>\n",
              "      <td>80883</td>\n",
              "      <td>13.0</td>\n",
              "      <td>2023-11-20 13:38:45+00:00</td>\n",
              "      <td>Shipped</td>\n",
              "    </tr>\n",
              "    <tr>\n",
              "      <th>20</th>\n",
              "      <td>27632</td>\n",
              "      <td>34378</td>\n",
              "      <td>72.0</td>\n",
              "      <td>2020-10-31 03:01:09+00:00</td>\n",
              "      <td>Complete</td>\n",
              "    </tr>\n",
              "    <tr>\n",
              "      <th>21</th>\n",
              "      <td>80897</td>\n",
              "      <td>101006</td>\n",
              "      <td>24.469999</td>\n",
              "      <td>2023-12-08 00:19:14+00:00</td>\n",
              "      <td>Complete</td>\n",
              "    </tr>\n",
              "    <tr>\n",
              "      <th>22</th>\n",
              "      <td>81858</td>\n",
              "      <td>102260</td>\n",
              "      <td>44.099998</td>\n",
              "      <td>2023-08-18 22:40:09+00:00</td>\n",
              "      <td>Processing</td>\n",
              "    </tr>\n",
              "    <tr>\n",
              "      <th>23</th>\n",
              "      <td>52766</td>\n",
              "      <td>65797</td>\n",
              "      <td>172.0</td>\n",
              "      <td>2023-07-22 05:13:25+00:00</td>\n",
              "      <td>Shipped</td>\n",
              "    </tr>\n",
              "    <tr>\n",
              "      <th>24</th>\n",
              "      <td>1348</td>\n",
              "      <td>1638</td>\n",
              "      <td>54.5</td>\n",
              "      <td>2022-07-21 06:26:14+00:00</td>\n",
              "      <td>Shipped</td>\n",
              "    </tr>\n",
              "  </tbody>\n",
              "</table>\n",
              "<p>25 rows × 5 columns</p>\n",
              "</div>[181073 rows x 5 columns in total]"
            ]
          },
          "metadata": {},
          "execution_count": 14
        }
      ]
    },
    {
      "cell_type": "markdown",
      "source": [
        "#### **Restricting the dataset to data spanning one year**"
      ],
      "metadata": {
        "id": "HtznpFFnJZqO"
      }
    },
    {
      "cell_type": "code",
      "source": [
        "df = df[df[\"order_created_date\"] > \"2022-01-01\"]\n",
        "df = df[df[\"order_created_date\"] < \"2023-01-01\"]\n",
        "df"
      ],
      "metadata": {
        "colab": {
          "base_uri": "https://localhost:8080/",
          "height": 915
        },
        "id": "9QVWdVT5PXmI",
        "outputId": "8c67ff1b-de37-4de6-9932-52ffb6bd01a3",
        "executionInfo": {
          "status": "ok",
          "timestamp": 1702329117200,
          "user_tz": 360,
          "elapsed": 4700,
          "user": {
            "displayName": "",
            "userId": ""
          }
        }
      },
      "execution_count": 15,
      "outputs": [
        {
          "output_type": "display_data",
          "data": {
            "text/plain": [
              "<IPython.core.display.HTML object>"
            ],
            "text/html": [
              "Query job d5459372-0c76-4f7e-b146-f98a9df94bbb is DONE. 1.4 MB processed. <a target=\"_blank\" href=\"https://console.cloud.google.com/bigquery?project=qwiklabs-gcp-00-7d81a74347ee&j=bq:US:d5459372-0c76-4f7e-b146-f98a9df94bbb&page=queryresults\">Open Job</a>"
            ]
          },
          "metadata": {}
        },
        {
          "output_type": "display_data",
          "data": {
            "text/plain": [
              "<IPython.core.display.HTML object>"
            ],
            "text/html": [
              "Query job 6299d53f-9a46-41c9-860e-5d958352f260 is DONE. 13.6 MB processed. <a target=\"_blank\" href=\"https://console.cloud.google.com/bigquery?project=qwiklabs-gcp-00-7d81a74347ee&j=bq:US:6299d53f-9a46-41c9-860e-5d958352f260&page=queryresults\">Open Job</a>"
            ]
          },
          "metadata": {}
        },
        {
          "output_type": "execute_result",
          "data": {
            "text/plain": [
              "    user_id  order_id  sale_price         order_created_date      status\n",
              "1     68860     85895  209.990005  2022-10-16 05:43:19+00:00     Shipped\n",
              "5     16453     20369        88.0  2022-12-08 01:48:33+00:00     Shipped\n",
              "8     60229     75048   50.150002  2022-12-26 03:04:09+00:00    Returned\n",
              "12     7794      9667       14.95  2022-10-30 14:16:43+00:00     Shipped\n",
              "13    68940     86005   51.970001  2022-09-29 16:21:45+00:00     Shipped\n",
              "18    91548    114491   43.529999  2022-08-24 07:56:03+00:00   Cancelled\n",
              "24     1348      1638        54.5  2022-07-21 06:26:14+00:00     Shipped\n",
              "27     9866     12229  149.949997  2022-01-05 01:06:03+00:00     Shipped\n",
              "30    97408    121787       19.99  2022-08-03 17:20:47+00:00   Cancelled\n",
              "44    19653     24356       31.99  2022-09-01 13:39:58+00:00  Processing\n",
              "45    32533     40605   39.990002  2022-04-01 10:05:17+00:00     Shipped\n",
              "52    76936     96032   75.730003  2022-05-01 05:26:35+00:00  Processing\n",
              "54    67285     83942   49.990002  2022-12-01 00:14:57+00:00   Cancelled\n",
              "62    52026     64894        55.0  2022-05-05 02:57:07+00:00    Complete\n",
              "71    27944     34770   41.990002  2022-03-10 06:57:55+00:00     Shipped\n",
              "72    49373     61619       24.99  2022-09-23 21:52:09+00:00   Cancelled\n",
              "73    90562    113279   37.720001  2022-10-11 06:08:38+00:00    Returned\n",
              "75    23859     29603   29.950001  2022-02-17 08:45:34+00:00     Shipped\n",
              "77    47889     59835       100.0  2022-11-25 02:27:50+00:00   Cancelled\n",
              "78    93076    116425       129.0  2022-07-13 04:40:59+00:00  Processing\n",
              "81    30118     37504       105.0  2022-03-12 04:27:18+00:00  Processing\n",
              "84    17994     22266   405.26001  2022-08-05 16:17:49+00:00     Shipped\n",
              "90    57287     71402   99.980003  2022-11-22 07:36:52+00:00  Processing\n",
              "94    70540     88000       17.15  2022-11-08 14:50:32+00:00    Complete\n",
              "95    70400     87827   73.709999  2022-06-16 00:51:02+00:00     Shipped\n",
              "...\n",
              "\n",
              "[44579 rows x 5 columns]"
            ],
            "text/html": [
              "<div>\n",
              "<style scoped>\n",
              "    .dataframe tbody tr th:only-of-type {\n",
              "        vertical-align: middle;\n",
              "    }\n",
              "\n",
              "    .dataframe tbody tr th {\n",
              "        vertical-align: top;\n",
              "    }\n",
              "\n",
              "    .dataframe thead th {\n",
              "        text-align: right;\n",
              "    }\n",
              "</style>\n",
              "<table border=\"1\" class=\"dataframe\">\n",
              "  <thead>\n",
              "    <tr style=\"text-align: right;\">\n",
              "      <th></th>\n",
              "      <th>user_id</th>\n",
              "      <th>order_id</th>\n",
              "      <th>sale_price</th>\n",
              "      <th>order_created_date</th>\n",
              "      <th>status</th>\n",
              "    </tr>\n",
              "  </thead>\n",
              "  <tbody>\n",
              "    <tr>\n",
              "      <th>1</th>\n",
              "      <td>68860</td>\n",
              "      <td>85895</td>\n",
              "      <td>209.990005</td>\n",
              "      <td>2022-10-16 05:43:19+00:00</td>\n",
              "      <td>Shipped</td>\n",
              "    </tr>\n",
              "    <tr>\n",
              "      <th>5</th>\n",
              "      <td>16453</td>\n",
              "      <td>20369</td>\n",
              "      <td>88.0</td>\n",
              "      <td>2022-12-08 01:48:33+00:00</td>\n",
              "      <td>Shipped</td>\n",
              "    </tr>\n",
              "    <tr>\n",
              "      <th>8</th>\n",
              "      <td>60229</td>\n",
              "      <td>75048</td>\n",
              "      <td>50.150002</td>\n",
              "      <td>2022-12-26 03:04:09+00:00</td>\n",
              "      <td>Returned</td>\n",
              "    </tr>\n",
              "    <tr>\n",
              "      <th>12</th>\n",
              "      <td>7794</td>\n",
              "      <td>9667</td>\n",
              "      <td>14.95</td>\n",
              "      <td>2022-10-30 14:16:43+00:00</td>\n",
              "      <td>Shipped</td>\n",
              "    </tr>\n",
              "    <tr>\n",
              "      <th>13</th>\n",
              "      <td>68940</td>\n",
              "      <td>86005</td>\n",
              "      <td>51.970001</td>\n",
              "      <td>2022-09-29 16:21:45+00:00</td>\n",
              "      <td>Shipped</td>\n",
              "    </tr>\n",
              "    <tr>\n",
              "      <th>18</th>\n",
              "      <td>91548</td>\n",
              "      <td>114491</td>\n",
              "      <td>43.529999</td>\n",
              "      <td>2022-08-24 07:56:03+00:00</td>\n",
              "      <td>Cancelled</td>\n",
              "    </tr>\n",
              "    <tr>\n",
              "      <th>24</th>\n",
              "      <td>1348</td>\n",
              "      <td>1638</td>\n",
              "      <td>54.5</td>\n",
              "      <td>2022-07-21 06:26:14+00:00</td>\n",
              "      <td>Shipped</td>\n",
              "    </tr>\n",
              "    <tr>\n",
              "      <th>27</th>\n",
              "      <td>9866</td>\n",
              "      <td>12229</td>\n",
              "      <td>149.949997</td>\n",
              "      <td>2022-01-05 01:06:03+00:00</td>\n",
              "      <td>Shipped</td>\n",
              "    </tr>\n",
              "    <tr>\n",
              "      <th>30</th>\n",
              "      <td>97408</td>\n",
              "      <td>121787</td>\n",
              "      <td>19.99</td>\n",
              "      <td>2022-08-03 17:20:47+00:00</td>\n",
              "      <td>Cancelled</td>\n",
              "    </tr>\n",
              "    <tr>\n",
              "      <th>44</th>\n",
              "      <td>19653</td>\n",
              "      <td>24356</td>\n",
              "      <td>31.99</td>\n",
              "      <td>2022-09-01 13:39:58+00:00</td>\n",
              "      <td>Processing</td>\n",
              "    </tr>\n",
              "    <tr>\n",
              "      <th>45</th>\n",
              "      <td>32533</td>\n",
              "      <td>40605</td>\n",
              "      <td>39.990002</td>\n",
              "      <td>2022-04-01 10:05:17+00:00</td>\n",
              "      <td>Shipped</td>\n",
              "    </tr>\n",
              "    <tr>\n",
              "      <th>52</th>\n",
              "      <td>76936</td>\n",
              "      <td>96032</td>\n",
              "      <td>75.730003</td>\n",
              "      <td>2022-05-01 05:26:35+00:00</td>\n",
              "      <td>Processing</td>\n",
              "    </tr>\n",
              "    <tr>\n",
              "      <th>54</th>\n",
              "      <td>67285</td>\n",
              "      <td>83942</td>\n",
              "      <td>49.990002</td>\n",
              "      <td>2022-12-01 00:14:57+00:00</td>\n",
              "      <td>Cancelled</td>\n",
              "    </tr>\n",
              "    <tr>\n",
              "      <th>62</th>\n",
              "      <td>52026</td>\n",
              "      <td>64894</td>\n",
              "      <td>55.0</td>\n",
              "      <td>2022-05-05 02:57:07+00:00</td>\n",
              "      <td>Complete</td>\n",
              "    </tr>\n",
              "    <tr>\n",
              "      <th>71</th>\n",
              "      <td>27944</td>\n",
              "      <td>34770</td>\n",
              "      <td>41.990002</td>\n",
              "      <td>2022-03-10 06:57:55+00:00</td>\n",
              "      <td>Shipped</td>\n",
              "    </tr>\n",
              "    <tr>\n",
              "      <th>72</th>\n",
              "      <td>49373</td>\n",
              "      <td>61619</td>\n",
              "      <td>24.99</td>\n",
              "      <td>2022-09-23 21:52:09+00:00</td>\n",
              "      <td>Cancelled</td>\n",
              "    </tr>\n",
              "    <tr>\n",
              "      <th>73</th>\n",
              "      <td>90562</td>\n",
              "      <td>113279</td>\n",
              "      <td>37.720001</td>\n",
              "      <td>2022-10-11 06:08:38+00:00</td>\n",
              "      <td>Returned</td>\n",
              "    </tr>\n",
              "    <tr>\n",
              "      <th>75</th>\n",
              "      <td>23859</td>\n",
              "      <td>29603</td>\n",
              "      <td>29.950001</td>\n",
              "      <td>2022-02-17 08:45:34+00:00</td>\n",
              "      <td>Shipped</td>\n",
              "    </tr>\n",
              "    <tr>\n",
              "      <th>77</th>\n",
              "      <td>47889</td>\n",
              "      <td>59835</td>\n",
              "      <td>100.0</td>\n",
              "      <td>2022-11-25 02:27:50+00:00</td>\n",
              "      <td>Cancelled</td>\n",
              "    </tr>\n",
              "    <tr>\n",
              "      <th>78</th>\n",
              "      <td>93076</td>\n",
              "      <td>116425</td>\n",
              "      <td>129.0</td>\n",
              "      <td>2022-07-13 04:40:59+00:00</td>\n",
              "      <td>Processing</td>\n",
              "    </tr>\n",
              "    <tr>\n",
              "      <th>81</th>\n",
              "      <td>30118</td>\n",
              "      <td>37504</td>\n",
              "      <td>105.0</td>\n",
              "      <td>2022-03-12 04:27:18+00:00</td>\n",
              "      <td>Processing</td>\n",
              "    </tr>\n",
              "    <tr>\n",
              "      <th>84</th>\n",
              "      <td>17994</td>\n",
              "      <td>22266</td>\n",
              "      <td>405.26001</td>\n",
              "      <td>2022-08-05 16:17:49+00:00</td>\n",
              "      <td>Shipped</td>\n",
              "    </tr>\n",
              "    <tr>\n",
              "      <th>90</th>\n",
              "      <td>57287</td>\n",
              "      <td>71402</td>\n",
              "      <td>99.980003</td>\n",
              "      <td>2022-11-22 07:36:52+00:00</td>\n",
              "      <td>Processing</td>\n",
              "    </tr>\n",
              "    <tr>\n",
              "      <th>94</th>\n",
              "      <td>70540</td>\n",
              "      <td>88000</td>\n",
              "      <td>17.15</td>\n",
              "      <td>2022-11-08 14:50:32+00:00</td>\n",
              "      <td>Complete</td>\n",
              "    </tr>\n",
              "    <tr>\n",
              "      <th>95</th>\n",
              "      <td>70400</td>\n",
              "      <td>87827</td>\n",
              "      <td>73.709999</td>\n",
              "      <td>2022-06-16 00:51:02+00:00</td>\n",
              "      <td>Shipped</td>\n",
              "    </tr>\n",
              "  </tbody>\n",
              "</table>\n",
              "<p>25 rows × 5 columns</p>\n",
              "</div>[44579 rows x 5 columns in total]"
            ]
          },
          "metadata": {},
          "execution_count": 15
        }
      ]
    },
    {
      "cell_type": "markdown",
      "source": [
        "## Step 2 : Feature Engineering using BigQuery Dataframes"
      ],
      "metadata": {
        "id": "uIt9rmX4JTYW"
      }
    },
    {
      "cell_type": "markdown",
      "source": [
        "## Create features for k-means model.\n",
        "\n",
        "We intend to compute features such as the total number of orders per customer, average spending per customer, and the return ratio, calculated as the total number of returns divided by the number of orders."
      ],
      "metadata": {
        "id": "8RDvQSsqrryy"
      }
    },
    {
      "cell_type": "markdown",
      "source": [
        "#### **Calculating total number of orders per customer**"
      ],
      "metadata": {
        "id": "w1rh8N_rKFsU"
      }
    },
    {
      "cell_type": "code",
      "source": [
        "count_orders = df.groupby([\"user_id\"])[\"order_id\"].count()\n",
        "count_orders"
      ],
      "metadata": {
        "colab": {
          "base_uri": "https://localhost:8080/",
          "height": 520
        },
        "id": "GR47wGItaiXl",
        "outputId": "a5452f7f-868d-4919-d0b9-0a76f2089ff4",
        "executionInfo": {
          "status": "ok",
          "timestamp": 1702329119981,
          "user_tz": 360,
          "elapsed": 2795,
          "user": {
            "displayName": "",
            "userId": ""
          }
        }
      },
      "execution_count": 16,
      "outputs": [
        {
          "output_type": "display_data",
          "data": {
            "text/plain": [
              "<IPython.core.display.HTML object>"
            ],
            "text/html": [
              "Query job 66dd4f18-62fb-4bee-80a9-6c8918794736 is DONE. 2.9 MB processed. <a target=\"_blank\" href=\"https://console.cloud.google.com/bigquery?project=qwiklabs-gcp-00-7d81a74347ee&j=bq:US:66dd4f18-62fb-4bee-80a9-6c8918794736&page=queryresults\">Open Job</a>"
            ]
          },
          "metadata": {}
        },
        {
          "output_type": "display_data",
          "data": {
            "text/plain": [
              "<IPython.core.display.HTML object>"
            ],
            "text/html": [
              "Query job fd43f7cd-5be2-4b4d-8b5c-537e088bd96e is DONE. 4.3 MB processed. <a target=\"_blank\" href=\"https://console.cloud.google.com/bigquery?project=qwiklabs-gcp-00-7d81a74347ee&j=bq:US:fd43f7cd-5be2-4b4d-8b5c-537e088bd96e&page=queryresults\">Open Job</a>"
            ]
          },
          "metadata": {}
        },
        {
          "output_type": "execute_result",
          "data": {
            "text/plain": [
              "user_id\n",
              "1     1\n",
              "6     2\n",
              "21    1\n",
              "22    1\n",
              "29    2\n",
              "36    3\n",
              "37    2\n",
              "39    3\n",
              "41    1\n",
              "50    4\n",
              "51    1\n",
              "52    2\n",
              "54    2\n",
              "58    1\n",
              "59    3\n",
              "61    1\n",
              "62    1\n",
              "67    2\n",
              "75    1\n",
              "77    1\n",
              "78    3\n",
              "81    1\n",
              "83    1\n",
              "84    4\n",
              "89    3\n",
              "Name: order_id, dtype: Int64"
            ]
          },
          "metadata": {},
          "execution_count": 16
        }
      ]
    },
    {
      "cell_type": "markdown",
      "source": [
        "#### **Calculating average spend per customer**"
      ],
      "metadata": {
        "id": "yFnCXVd9KNK5"
      }
    },
    {
      "cell_type": "code",
      "source": [
        "average_spend = df.groupby([\"user_id\"])[\"sale_price\"].mean()\n",
        "average_spend"
      ],
      "metadata": {
        "colab": {
          "base_uri": "https://localhost:8080/",
          "height": 520
        },
        "id": "tRPfIxrqa6O9",
        "outputId": "6160034c-ac05-4d87-c496-089a75663722",
        "executionInfo": {
          "status": "ok",
          "timestamp": 1702329123003,
          "user_tz": 360,
          "elapsed": 3024,
          "user": {
            "displayName": "",
            "userId": ""
          }
        }
      },
      "execution_count": 17,
      "outputs": [
        {
          "output_type": "display_data",
          "data": {
            "text/plain": [
              "<IPython.core.display.HTML object>"
            ],
            "text/html": [
              "Query job f47cfcba-3831-4c48-a616-ca8d3cefd182 is DONE. 2.9 MB processed. <a target=\"_blank\" href=\"https://console.cloud.google.com/bigquery?project=qwiklabs-gcp-00-7d81a74347ee&j=bq:US:f47cfcba-3831-4c48-a616-ca8d3cefd182&page=queryresults\">Open Job</a>"
            ]
          },
          "metadata": {}
        },
        {
          "output_type": "display_data",
          "data": {
            "text/plain": [
              "<IPython.core.display.HTML object>"
            ],
            "text/html": [
              "Query job c2b9ac06-3d4e-4b12-9748-30e1b50efe53 is DONE. 4.3 MB processed. <a target=\"_blank\" href=\"https://console.cloud.google.com/bigquery?project=qwiklabs-gcp-00-7d81a74347ee&j=bq:US:c2b9ac06-3d4e-4b12-9748-30e1b50efe53&page=queryresults\">Open Job</a>"
            ]
          },
          "metadata": {}
        },
        {
          "output_type": "execute_result",
          "data": {
            "text/plain": [
              "user_id\n",
              "1          24.09\n",
              "6           27.4\n",
              "21          45.0\n",
              "22          50.0\n",
              "29     25.145001\n",
              "36     58.466667\n",
              "37        28.925\n",
              "39     78.983334\n",
              "41     49.990002\n",
              "50       40.8475\n",
              "51         219.0\n",
              "52       172.495\n",
              "54         179.5\n",
              "58          42.0\n",
              "59         47.14\n",
              "61          39.0\n",
              "62     21.450001\n",
              "67     48.414998\n",
              "75          25.0\n",
              "77          29.5\n",
              "78     73.310001\n",
              "81          75.0\n",
              "83     88.989998\n",
              "84       41.7925\n",
              "89    147.663333\n",
              "Name: sale_price, dtype: Float64"
            ]
          },
          "metadata": {},
          "execution_count": 17
        }
      ]
    },
    {
      "cell_type": "markdown",
      "source": [
        "#### **Calculating total number of returned orders per customer**"
      ],
      "metadata": {
        "id": "qcRAFUPnOZvD"
      }
    },
    {
      "cell_type": "code",
      "source": [
        "df[\"returned\"] = df[\"status\"] == \"Returned\"\n",
        "returned = df.groupby([\"user_id\"])[\"returned\"].sum()\n",
        "returned"
      ],
      "metadata": {
        "colab": {
          "base_uri": "https://localhost:8080/",
          "height": 520
        },
        "id": "DYERzNIA9IJh",
        "outputId": "99a841bd-1bca-4634-da70-34498cab5bf9",
        "executionInfo": {
          "status": "ok",
          "timestamp": 1702329125882,
          "user_tz": 360,
          "elapsed": 2881,
          "user": {
            "displayName": "",
            "userId": ""
          }
        }
      },
      "execution_count": 18,
      "outputs": [
        {
          "output_type": "display_data",
          "data": {
            "text/plain": [
              "<IPython.core.display.HTML object>"
            ],
            "text/html": [
              "Query job 4dc5c13c-74fb-4023-8ced-98e23e0253ad is DONE. 2.9 MB processed. <a target=\"_blank\" href=\"https://console.cloud.google.com/bigquery?project=qwiklabs-gcp-00-7d81a74347ee&j=bq:US:4dc5c13c-74fb-4023-8ced-98e23e0253ad&page=queryresults\">Open Job</a>"
            ]
          },
          "metadata": {}
        },
        {
          "output_type": "display_data",
          "data": {
            "text/plain": [
              "<IPython.core.display.HTML object>"
            ],
            "text/html": [
              "Query job c6b486fe-a59d-4935-8013-af700c2b44b8 is DONE. 4.8 MB processed. <a target=\"_blank\" href=\"https://console.cloud.google.com/bigquery?project=qwiklabs-gcp-00-7d81a74347ee&j=bq:US:c6b486fe-a59d-4935-8013-af700c2b44b8&page=queryresults\">Open Job</a>"
            ]
          },
          "metadata": {}
        },
        {
          "output_type": "execute_result",
          "data": {
            "text/plain": [
              "user_id\n",
              "1     1\n",
              "6     0\n",
              "21    0\n",
              "22    0\n",
              "29    0\n",
              "36    0\n",
              "37    0\n",
              "39    0\n",
              "41    0\n",
              "50    4\n",
              "51    0\n",
              "52    0\n",
              "54    2\n",
              "58    0\n",
              "59    0\n",
              "61    0\n",
              "62    0\n",
              "67    0\n",
              "75    0\n",
              "77    1\n",
              "78    0\n",
              "81    0\n",
              "83    1\n",
              "84    0\n",
              "89    0\n",
              "Name: returned, dtype: Int64"
            ]
          },
          "metadata": {},
          "execution_count": 18
        }
      ]
    },
    {
      "cell_type": "markdown",
      "source": [
        "#### **Calculating return ratio per customer**"
      ],
      "metadata": {
        "id": "VvfvSw0QOe9N"
      }
    },
    {
      "cell_type": "code",
      "source": [
        "return_ratio = returned / count_orders\n",
        "return_ratio"
      ],
      "metadata": {
        "colab": {
          "base_uri": "https://localhost:8080/",
          "height": 520
        },
        "id": "SUvwp6LIAuhc",
        "outputId": "85d0b2cb-1b4d-4b06-e3a1-9dedf035b7d5",
        "executionInfo": {
          "status": "ok",
          "timestamp": 1702329129332,
          "user_tz": 360,
          "elapsed": 3452,
          "user": {
            "displayName": "",
            "userId": ""
          }
        }
      },
      "execution_count": 19,
      "outputs": [
        {
          "output_type": "display_data",
          "data": {
            "text/plain": [
              "<IPython.core.display.HTML object>"
            ],
            "text/html": [
              "Query job 65532a5d-bca8-4352-a0d2-1b9991cc6a55 is DONE. 2.9 MB processed. <a target=\"_blank\" href=\"https://console.cloud.google.com/bigquery?project=qwiklabs-gcp-00-7d81a74347ee&j=bq:US:65532a5d-bca8-4352-a0d2-1b9991cc6a55&page=queryresults\">Open Job</a>"
            ]
          },
          "metadata": {}
        },
        {
          "output_type": "display_data",
          "data": {
            "text/plain": [
              "<IPython.core.display.HTML object>"
            ],
            "text/html": [
              "Query job 5bb78f91-f625-4e66-a1c7-2b0988a9757d is DONE. 6.2 MB processed. <a target=\"_blank\" href=\"https://console.cloud.google.com/bigquery?project=qwiklabs-gcp-00-7d81a74347ee&j=bq:US:5bb78f91-f625-4e66-a1c7-2b0988a9757d&page=queryresults\">Open Job</a>"
            ]
          },
          "metadata": {}
        },
        {
          "output_type": "execute_result",
          "data": {
            "text/plain": [
              "user_id\n",
              "1     1.0\n",
              "6     0.0\n",
              "21    0.0\n",
              "22    0.0\n",
              "29    0.0\n",
              "36    0.0\n",
              "37    0.0\n",
              "39    0.0\n",
              "41    0.0\n",
              "50    1.0\n",
              "51    0.0\n",
              "52    0.0\n",
              "54    1.0\n",
              "58    0.0\n",
              "59    0.0\n",
              "61    0.0\n",
              "62    0.0\n",
              "67    0.0\n",
              "75    0.0\n",
              "77    1.0\n",
              "78    0.0\n",
              "81    0.0\n",
              "83    1.0\n",
              "84    0.0\n",
              "89    0.0\n",
              "dtype: Float64"
            ]
          },
          "metadata": {},
          "execution_count": 19
        }
      ]
    },
    {
      "cell_type": "markdown",
      "source": [
        "#### **Compiling a conclusive dataframe for the development of a machine learning model for customer segmentation.**"
      ],
      "metadata": {
        "id": "NBNq6Ub3Oik8"
      }
    },
    {
      "cell_type": "code",
      "source": [
        "df_customer = count_orders.rename(\"count_orders\").to_frame()\n",
        "df_customer[\"average_spend\"] = average_spend\n",
        "df_customer[\"return_ratio\"] = return_ratio\n",
        "df_customer"
      ],
      "metadata": {
        "colab": {
          "base_uri": "https://localhost:8080/",
          "height": 946
        },
        "id": "GMjuuLQg_eKh",
        "outputId": "cb7aff2a-3665-4d0c-f5b7-2e843cf7a96e",
        "executionInfo": {
          "status": "ok",
          "timestamp": 1702329134256,
          "user_tz": 360,
          "elapsed": 4925,
          "user": {
            "displayName": "",
            "userId": ""
          }
        }
      },
      "execution_count": 20,
      "outputs": [
        {
          "output_type": "display_data",
          "data": {
            "text/plain": [
              "<IPython.core.display.HTML object>"
            ],
            "text/html": [
              "Query job 4a3e07ee-5f84-40f7-ba5f-4aa9bd4829c6 is DONE. 2.9 MB processed. <a target=\"_blank\" href=\"https://console.cloud.google.com/bigquery?project=qwiklabs-gcp-00-7d81a74347ee&j=bq:US:4a3e07ee-5f84-40f7-ba5f-4aa9bd4829c6&page=queryresults\">Open Job</a>"
            ]
          },
          "metadata": {}
        },
        {
          "output_type": "display_data",
          "data": {
            "text/plain": [
              "<IPython.core.display.HTML object>"
            ],
            "text/html": [
              "Query job 0b7f7cc5-a111-4844-8192-71d3338047d1 is DONE. 7.7 MB processed. <a target=\"_blank\" href=\"https://console.cloud.google.com/bigquery?project=qwiklabs-gcp-00-7d81a74347ee&j=bq:US:0b7f7cc5-a111-4844-8192-71d3338047d1&page=queryresults\">Open Job</a>"
            ]
          },
          "metadata": {}
        },
        {
          "output_type": "execute_result",
          "data": {
            "text/plain": [
              "         count_orders  average_spend  return_ratio\n",
              "user_id                                           \n",
              "1                   1          24.09           1.0\n",
              "6                   2           27.4           0.0\n",
              "21                  1           45.0           0.0\n",
              "22                  1           50.0           0.0\n",
              "29                  2      25.145001           0.0\n",
              "36                  3      58.466667           0.0\n",
              "37                  2         28.925           0.0\n",
              "39                  3      78.983334           0.0\n",
              "41                  1      49.990002           0.0\n",
              "50                  4        40.8475           1.0\n",
              "51                  1          219.0           0.0\n",
              "52                  2        172.495           0.0\n",
              "54                  2          179.5           1.0\n",
              "58                  1           42.0           0.0\n",
              "59                  3          47.14           0.0\n",
              "61                  1           39.0           0.0\n",
              "62                  1      21.450001           0.0\n",
              "67                  2      48.414998           0.0\n",
              "75                  1           25.0           0.0\n",
              "77                  1           29.5           1.0\n",
              "78                  3      73.310001           0.0\n",
              "81                  1           75.0           0.0\n",
              "83                  1      88.989998           1.0\n",
              "84                  4        41.7925           0.0\n",
              "89                  3     147.663333           0.0\n",
              "...\n",
              "\n",
              "[25995 rows x 3 columns]"
            ],
            "text/html": [
              "<div>\n",
              "<style scoped>\n",
              "    .dataframe tbody tr th:only-of-type {\n",
              "        vertical-align: middle;\n",
              "    }\n",
              "\n",
              "    .dataframe tbody tr th {\n",
              "        vertical-align: top;\n",
              "    }\n",
              "\n",
              "    .dataframe thead th {\n",
              "        text-align: right;\n",
              "    }\n",
              "</style>\n",
              "<table border=\"1\" class=\"dataframe\">\n",
              "  <thead>\n",
              "    <tr style=\"text-align: right;\">\n",
              "      <th></th>\n",
              "      <th>count_orders</th>\n",
              "      <th>average_spend</th>\n",
              "      <th>return_ratio</th>\n",
              "    </tr>\n",
              "    <tr>\n",
              "      <th>user_id</th>\n",
              "      <th></th>\n",
              "      <th></th>\n",
              "      <th></th>\n",
              "    </tr>\n",
              "  </thead>\n",
              "  <tbody>\n",
              "    <tr>\n",
              "      <th>1</th>\n",
              "      <td>1</td>\n",
              "      <td>24.09</td>\n",
              "      <td>1.0</td>\n",
              "    </tr>\n",
              "    <tr>\n",
              "      <th>6</th>\n",
              "      <td>2</td>\n",
              "      <td>27.4</td>\n",
              "      <td>0.0</td>\n",
              "    </tr>\n",
              "    <tr>\n",
              "      <th>21</th>\n",
              "      <td>1</td>\n",
              "      <td>45.0</td>\n",
              "      <td>0.0</td>\n",
              "    </tr>\n",
              "    <tr>\n",
              "      <th>22</th>\n",
              "      <td>1</td>\n",
              "      <td>50.0</td>\n",
              "      <td>0.0</td>\n",
              "    </tr>\n",
              "    <tr>\n",
              "      <th>29</th>\n",
              "      <td>2</td>\n",
              "      <td>25.145001</td>\n",
              "      <td>0.0</td>\n",
              "    </tr>\n",
              "    <tr>\n",
              "      <th>36</th>\n",
              "      <td>3</td>\n",
              "      <td>58.466667</td>\n",
              "      <td>0.0</td>\n",
              "    </tr>\n",
              "    <tr>\n",
              "      <th>37</th>\n",
              "      <td>2</td>\n",
              "      <td>28.925</td>\n",
              "      <td>0.0</td>\n",
              "    </tr>\n",
              "    <tr>\n",
              "      <th>39</th>\n",
              "      <td>3</td>\n",
              "      <td>78.983334</td>\n",
              "      <td>0.0</td>\n",
              "    </tr>\n",
              "    <tr>\n",
              "      <th>41</th>\n",
              "      <td>1</td>\n",
              "      <td>49.990002</td>\n",
              "      <td>0.0</td>\n",
              "    </tr>\n",
              "    <tr>\n",
              "      <th>50</th>\n",
              "      <td>4</td>\n",
              "      <td>40.8475</td>\n",
              "      <td>1.0</td>\n",
              "    </tr>\n",
              "    <tr>\n",
              "      <th>51</th>\n",
              "      <td>1</td>\n",
              "      <td>219.0</td>\n",
              "      <td>0.0</td>\n",
              "    </tr>\n",
              "    <tr>\n",
              "      <th>52</th>\n",
              "      <td>2</td>\n",
              "      <td>172.495</td>\n",
              "      <td>0.0</td>\n",
              "    </tr>\n",
              "    <tr>\n",
              "      <th>54</th>\n",
              "      <td>2</td>\n",
              "      <td>179.5</td>\n",
              "      <td>1.0</td>\n",
              "    </tr>\n",
              "    <tr>\n",
              "      <th>58</th>\n",
              "      <td>1</td>\n",
              "      <td>42.0</td>\n",
              "      <td>0.0</td>\n",
              "    </tr>\n",
              "    <tr>\n",
              "      <th>59</th>\n",
              "      <td>3</td>\n",
              "      <td>47.14</td>\n",
              "      <td>0.0</td>\n",
              "    </tr>\n",
              "    <tr>\n",
              "      <th>61</th>\n",
              "      <td>1</td>\n",
              "      <td>39.0</td>\n",
              "      <td>0.0</td>\n",
              "    </tr>\n",
              "    <tr>\n",
              "      <th>62</th>\n",
              "      <td>1</td>\n",
              "      <td>21.450001</td>\n",
              "      <td>0.0</td>\n",
              "    </tr>\n",
              "    <tr>\n",
              "      <th>67</th>\n",
              "      <td>2</td>\n",
              "      <td>48.414998</td>\n",
              "      <td>0.0</td>\n",
              "    </tr>\n",
              "    <tr>\n",
              "      <th>75</th>\n",
              "      <td>1</td>\n",
              "      <td>25.0</td>\n",
              "      <td>0.0</td>\n",
              "    </tr>\n",
              "    <tr>\n",
              "      <th>77</th>\n",
              "      <td>1</td>\n",
              "      <td>29.5</td>\n",
              "      <td>1.0</td>\n",
              "    </tr>\n",
              "    <tr>\n",
              "      <th>78</th>\n",
              "      <td>3</td>\n",
              "      <td>73.310001</td>\n",
              "      <td>0.0</td>\n",
              "    </tr>\n",
              "    <tr>\n",
              "      <th>81</th>\n",
              "      <td>1</td>\n",
              "      <td>75.0</td>\n",
              "      <td>0.0</td>\n",
              "    </tr>\n",
              "    <tr>\n",
              "      <th>83</th>\n",
              "      <td>1</td>\n",
              "      <td>88.989998</td>\n",
              "      <td>1.0</td>\n",
              "    </tr>\n",
              "    <tr>\n",
              "      <th>84</th>\n",
              "      <td>4</td>\n",
              "      <td>41.7925</td>\n",
              "      <td>0.0</td>\n",
              "    </tr>\n",
              "    <tr>\n",
              "      <th>89</th>\n",
              "      <td>3</td>\n",
              "      <td>147.663333</td>\n",
              "      <td>0.0</td>\n",
              "    </tr>\n",
              "  </tbody>\n",
              "</table>\n",
              "<p>25 rows × 3 columns</p>\n",
              "</div>[25995 rows x 3 columns in total]"
            ]
          },
          "metadata": {},
          "execution_count": 20
        }
      ]
    },
    {
      "cell_type": "markdown",
      "source": [
        "## Step 3 : Create a k-means model to cluster ecommerce data\n",
        "\n",
        "**K-means** is a widely used clustering algorithm that can dentify distinct groups or clusters within a dataset. With eCommerce data, k-means can segment customers, products, or transactions into meaningful groups for various analytical and business purposes.\n",
        "\n",
        "\n",
        "#### **Cluster the customer data using BigFrames!**"
      ],
      "metadata": {
        "id": "WnXQQOAc4t22"
      }
    },
    {
      "cell_type": "code",
      "source": [
        "from bigframes.ml.cluster import KMeans\n",
        "from bigframes.ml.model_selection import train_test_split\n",
        "\n",
        "# Split test and training data\n",
        "df_customer = df_customer.dropna()\n",
        "train_X, test_X = train_test_split(df_customer, test_size = 0.2)\n",
        "# train_X = train_X.drop(columns = [\"user_id\"])\n",
        "# Create a K-Means cluster model\n",
        "kmeans = KMeans(n_clusters = 5)\n",
        "kmeans.fit(train_X)\n"
      ],
      "metadata": {
        "id": "cWQ9botFf2Te",
        "colab": {
          "base_uri": "https://localhost:8080/",
          "height": 86
        },
        "outputId": "2104ec42-e2dd-4270-a9bb-318fd01ff1b9",
        "executionInfo": {
          "status": "ok",
          "timestamp": 1702329211547,
          "user_tz": 360,
          "elapsed": 77301,
          "user": {
            "displayName": "",
            "userId": ""
          }
        }
      },
      "execution_count": 21,
      "outputs": [
        {
          "output_type": "display_data",
          "data": {
            "text/plain": [
              "<IPython.core.display.HTML object>"
            ],
            "text/html": [
              "Query job 9566e52b-8594-4ac8-be68-5acd7f4e58af is DONE. 7.7 MB processed. <a target=\"_blank\" href=\"https://console.cloud.google.com/bigquery?project=qwiklabs-gcp-00-7d81a74347ee&j=bq:US:9566e52b-8594-4ac8-be68-5acd7f4e58af&page=queryresults\">Open Job</a>"
            ]
          },
          "metadata": {}
        },
        {
          "output_type": "display_data",
          "data": {
            "text/plain": [
              "<IPython.core.display.HTML object>"
            ],
            "text/html": [
              "Query job b5cb28ba-e769-494b-9497-2351ec668cea is DONE. 7.7 MB processed. <a target=\"_blank\" href=\"https://console.cloud.google.com/bigquery?project=qwiklabs-gcp-00-7d81a74347ee&j=bq:US:b5cb28ba-e769-494b-9497-2351ec668cea&page=queryresults\">Open Job</a>"
            ]
          },
          "metadata": {}
        },
        {
          "output_type": "display_data",
          "data": {
            "text/plain": [
              "<IPython.core.display.HTML object>"
            ],
            "text/html": [
              "Query job 73bcfb15-8a9c-4309-9ecb-715189d4daf8 is DONE. 0 Bytes processed. <a target=\"_blank\" href=\"https://console.cloud.google.com/bigquery?project=qwiklabs-gcp-00-7d81a74347ee&j=bq:US:73bcfb15-8a9c-4309-9ecb-715189d4daf8&page=queryresults\">Open Job</a>"
            ]
          },
          "metadata": {}
        },
        {
          "output_type": "execute_result",
          "data": {
            "text/plain": [
              "KMeans(n_clusters=5)"
            ]
          },
          "metadata": {},
          "execution_count": 21
        }
      ]
    },
    {
      "cell_type": "markdown",
      "source": [
        "#### **Save the model to BigQuery**"
      ],
      "metadata": {
        "id": "iABA1HcDO4Wd"
      }
    },
    {
      "cell_type": "code",
      "source": [
        "\n",
        "kmeans.to_gbq(f\"{PROJECT_ID}.{DATASET_NAME}.{MODEL_NAME}\", True)"
      ],
      "metadata": {
        "colab": {
          "base_uri": "https://localhost:8080/",
          "height": 52
        },
        "id": "8cMH1oeBB5jh",
        "outputId": "39af892f-0c03-4eba-a1d7-738c89c0ce81",
        "executionInfo": {
          "status": "ok",
          "timestamp": 1702329213099,
          "user_tz": 360,
          "elapsed": 1554,
          "user": {
            "displayName": "",
            "userId": ""
          }
        }
      },
      "execution_count": 22,
      "outputs": [
        {
          "output_type": "display_data",
          "data": {
            "text/plain": [
              "<IPython.core.display.HTML object>"
            ],
            "text/html": [
              "Copy job dd9c55a8-bcb8-498f-8c8d-8e1ef127191e is DONE. <a target=\"_blank\" href=\"https://console.cloud.google.com/bigquery?project=qwiklabs-gcp-00-7d81a74347ee&j=bq:US:dd9c55a8-bcb8-498f-8c8d-8e1ef127191e&page=queryresults\">Open Job</a>"
            ]
          },
          "metadata": {}
        },
        {
          "output_type": "execute_result",
          "data": {
            "text/plain": [
              "KMeans(n_clusters=5)"
            ]
          },
          "metadata": {},
          "execution_count": 22
        }
      ]
    },
    {
      "cell_type": "markdown",
      "source": [
        "#### **Visualize the clusters**\n",
        "\n",
        "Next we'll visualize the k-means clusters on a scatterplot. We'll chart `days_since_last_order` by `average_spend` and color by segment/cluster_id generated from the model."
      ],
      "metadata": {
        "id": "81nwv2QE-mlh"
      }
    },
    {
      "cell_type": "code",
      "source": [
        "#########################\n",
        "#Plot K-Means clusters\n",
        "#########################\n",
        "import seaborn as sns\n",
        "import matplotlib.pyplot as plt\n",
        "import pandas as pd\n",
        "\n",
        "# Import K-Means predictions to dataframe\n",
        "# segments_df = kmeans.predict(df_customer).join(df_customer)\n",
        "segments_df = kmeans.predict(df_customer)\n",
        "segments_df = segments_df.rename(columns={'CENTROID_ID': 'segment_id'})\n",
        "segments_pd = segments_df.sample(frac=0.2, random_state=1).to_pandas()\n",
        "\n",
        "segments_pd\n"
      ],
      "metadata": {
        "id": "Ld5HJJlKGlXK",
        "executionInfo": {
          "status": "ok",
          "timestamp": 1702329230023,
          "user_tz": 360,
          "elapsed": 16736,
          "user": {
            "displayName": "",
            "userId": ""
          }
        },
        "colab": {
          "base_uri": "https://localhost:8080/",
          "height": 524
        },
        "outputId": "3d839315-97ef-44c1-df43-0d5c0ba211d7"
      },
      "execution_count": 23,
      "outputs": [
        {
          "output_type": "display_data",
          "data": {
            "text/plain": [
              "<IPython.core.display.HTML object>"
            ],
            "text/html": [
              "Query job 8fc504b3-a84f-4d8b-8315-a20347fef778 is DONE. 7.7 MB processed. <a target=\"_blank\" href=\"https://console.cloud.google.com/bigquery?project=qwiklabs-gcp-00-7d81a74347ee&j=bq:US:8fc504b3-a84f-4d8b-8315-a20347fef778&page=queryresults\">Open Job</a>"
            ]
          },
          "metadata": {}
        },
        {
          "output_type": "display_data",
          "data": {
            "text/plain": [
              "<IPython.core.display.HTML object>"
            ],
            "text/html": [
              "Query job b49ff06f-b0b0-4ad1-a727-3382a6679d89 is DONE. 208.0 kB processed. <a target=\"_blank\" href=\"https://console.cloud.google.com/bigquery?project=qwiklabs-gcp-00-7d81a74347ee&j=bq:US:b49ff06f-b0b0-4ad1-a727-3382a6679d89&page=queryresults\">Open Job</a>"
            ]
          },
          "metadata": {}
        },
        {
          "output_type": "display_data",
          "data": {
            "text/plain": [
              "<IPython.core.display.HTML object>"
            ],
            "text/html": [
              "Query job 4ae7d859-a0ae-4417-9277-7434aa01b564 is DONE. 0 Bytes processed. <a target=\"_blank\" href=\"https://console.cloud.google.com/bigquery?project=qwiklabs-gcp-00-7d81a74347ee&j=bq:US:4ae7d859-a0ae-4417-9277-7434aa01b564&page=queryresults\">Open Job</a>"
            ]
          },
          "metadata": {}
        },
        {
          "output_type": "display_data",
          "data": {
            "text/plain": [
              "<IPython.core.display.HTML object>"
            ],
            "text/html": [
              "Query job f9a1ee37-eaac-442e-9ac4-5b5cd26eeb17 is DONE. 3.1 MB processed. <a target=\"_blank\" href=\"https://console.cloud.google.com/bigquery?project=qwiklabs-gcp-00-7d81a74347ee&j=bq:US:f9a1ee37-eaac-442e-9ac4-5b5cd26eeb17&page=queryresults\">Open Job</a>"
            ]
          },
          "metadata": {}
        },
        {
          "output_type": "execute_result",
          "data": {
            "text/plain": [
              "         segment_id                         NEAREST_CENTROIDS_DISTANCE  \\\n",
              "user_id                                                                  \n",
              "81                4  [{'CENTROID_ID': 4, 'DISTANCE': 0.615438564099...   \n",
              "83651             4  [{'CENTROID_ID': 4, 'DISTANCE': 0.257540086107...   \n",
              "66993             1  [{'CENTROID_ID': 1, 'DISTANCE': 1.982901308812...   \n",
              "65084             4  [{'CENTROID_ID': 4, 'DISTANCE': 0.864662330697...   \n",
              "72632             4  [{'CENTROID_ID': 4, 'DISTANCE': 0.884006199666...   \n",
              "...             ...                                                ...   \n",
              "34352             4  [{'CENTROID_ID': 4, 'DISTANCE': 0.852561743375...   \n",
              "52322             3  [{'CENTROID_ID': 3, 'DISTANCE': 0.844353510554...   \n",
              "68585             2  [{'CENTROID_ID': 2, 'DISTANCE': 0.373688064911...   \n",
              "83442             4  [{'CENTROID_ID': 4, 'DISTANCE': 0.451144667365...   \n",
              "16745             4  [{'CENTROID_ID': 4, 'DISTANCE': 0.409456340179...   \n",
              "\n",
              "         count_orders  average_spend  return_ratio  \n",
              "user_id                                             \n",
              "81                  1           75.0           0.0  \n",
              "83651               1      39.990002           0.0  \n",
              "66993               1      299.98999           0.0  \n",
              "65084               1      89.989998           0.0  \n",
              "72632               2      76.799999           0.0  \n",
              "...               ...            ...           ...  \n",
              "34352               2      74.095001           0.0  \n",
              "52322               1           22.0           1.0  \n",
              "68585               3      57.330001           0.0  \n",
              "83442               1           22.1           0.0  \n",
              "16745               1           25.0           0.0  \n",
              "\n",
              "[5199 rows x 5 columns]"
            ],
            "text/html": [
              "\n",
              "  <div id=\"df-1c650aad-c711-46e9-8fb3-a9d41775e91f\" class=\"colab-df-container\">\n",
              "    <div>\n",
              "<style scoped>\n",
              "    .dataframe tbody tr th:only-of-type {\n",
              "        vertical-align: middle;\n",
              "    }\n",
              "\n",
              "    .dataframe tbody tr th {\n",
              "        vertical-align: top;\n",
              "    }\n",
              "\n",
              "    .dataframe thead th {\n",
              "        text-align: right;\n",
              "    }\n",
              "</style>\n",
              "<table border=\"1\" class=\"dataframe\">\n",
              "  <thead>\n",
              "    <tr style=\"text-align: right;\">\n",
              "      <th></th>\n",
              "      <th>segment_id</th>\n",
              "      <th>NEAREST_CENTROIDS_DISTANCE</th>\n",
              "      <th>count_orders</th>\n",
              "      <th>average_spend</th>\n",
              "      <th>return_ratio</th>\n",
              "    </tr>\n",
              "    <tr>\n",
              "      <th>user_id</th>\n",
              "      <th></th>\n",
              "      <th></th>\n",
              "      <th></th>\n",
              "      <th></th>\n",
              "      <th></th>\n",
              "    </tr>\n",
              "  </thead>\n",
              "  <tbody>\n",
              "    <tr>\n",
              "      <th>81</th>\n",
              "      <td>4</td>\n",
              "      <td>[{'CENTROID_ID': 4, 'DISTANCE': 0.615438564099...</td>\n",
              "      <td>1</td>\n",
              "      <td>75.0</td>\n",
              "      <td>0.0</td>\n",
              "    </tr>\n",
              "    <tr>\n",
              "      <th>83651</th>\n",
              "      <td>4</td>\n",
              "      <td>[{'CENTROID_ID': 4, 'DISTANCE': 0.257540086107...</td>\n",
              "      <td>1</td>\n",
              "      <td>39.990002</td>\n",
              "      <td>0.0</td>\n",
              "    </tr>\n",
              "    <tr>\n",
              "      <th>66993</th>\n",
              "      <td>1</td>\n",
              "      <td>[{'CENTROID_ID': 1, 'DISTANCE': 1.982901308812...</td>\n",
              "      <td>1</td>\n",
              "      <td>299.98999</td>\n",
              "      <td>0.0</td>\n",
              "    </tr>\n",
              "    <tr>\n",
              "      <th>65084</th>\n",
              "      <td>4</td>\n",
              "      <td>[{'CENTROID_ID': 4, 'DISTANCE': 0.864662330697...</td>\n",
              "      <td>1</td>\n",
              "      <td>89.989998</td>\n",
              "      <td>0.0</td>\n",
              "    </tr>\n",
              "    <tr>\n",
              "      <th>72632</th>\n",
              "      <td>4</td>\n",
              "      <td>[{'CENTROID_ID': 4, 'DISTANCE': 0.884006199666...</td>\n",
              "      <td>2</td>\n",
              "      <td>76.799999</td>\n",
              "      <td>0.0</td>\n",
              "    </tr>\n",
              "    <tr>\n",
              "      <th>...</th>\n",
              "      <td>...</td>\n",
              "      <td>...</td>\n",
              "      <td>...</td>\n",
              "      <td>...</td>\n",
              "      <td>...</td>\n",
              "    </tr>\n",
              "    <tr>\n",
              "      <th>34352</th>\n",
              "      <td>4</td>\n",
              "      <td>[{'CENTROID_ID': 4, 'DISTANCE': 0.852561743375...</td>\n",
              "      <td>2</td>\n",
              "      <td>74.095001</td>\n",
              "      <td>0.0</td>\n",
              "    </tr>\n",
              "    <tr>\n",
              "      <th>52322</th>\n",
              "      <td>3</td>\n",
              "      <td>[{'CENTROID_ID': 3, 'DISTANCE': 0.844353510554...</td>\n",
              "      <td>1</td>\n",
              "      <td>22.0</td>\n",
              "      <td>1.0</td>\n",
              "    </tr>\n",
              "    <tr>\n",
              "      <th>68585</th>\n",
              "      <td>2</td>\n",
              "      <td>[{'CENTROID_ID': 2, 'DISTANCE': 0.373688064911...</td>\n",
              "      <td>3</td>\n",
              "      <td>57.330001</td>\n",
              "      <td>0.0</td>\n",
              "    </tr>\n",
              "    <tr>\n",
              "      <th>83442</th>\n",
              "      <td>4</td>\n",
              "      <td>[{'CENTROID_ID': 4, 'DISTANCE': 0.451144667365...</td>\n",
              "      <td>1</td>\n",
              "      <td>22.1</td>\n",
              "      <td>0.0</td>\n",
              "    </tr>\n",
              "    <tr>\n",
              "      <th>16745</th>\n",
              "      <td>4</td>\n",
              "      <td>[{'CENTROID_ID': 4, 'DISTANCE': 0.409456340179...</td>\n",
              "      <td>1</td>\n",
              "      <td>25.0</td>\n",
              "      <td>0.0</td>\n",
              "    </tr>\n",
              "  </tbody>\n",
              "</table>\n",
              "<p>5199 rows × 5 columns</p>\n",
              "</div>\n",
              "    <div class=\"colab-df-buttons\">\n",
              "\n",
              "  <div class=\"colab-df-container\">\n",
              "    <button class=\"colab-df-convert\" onclick=\"convertToInteractive('df-1c650aad-c711-46e9-8fb3-a9d41775e91f')\"\n",
              "            title=\"Convert this dataframe to an interactive table.\"\n",
              "            style=\"display:none;\">\n",
              "\n",
              "  <svg xmlns=\"http://www.w3.org/2000/svg\" height=\"24px\" viewBox=\"0 -960 960 960\">\n",
              "    <path d=\"M120-120v-720h720v720H120Zm60-500h600v-160H180v160Zm220 220h160v-160H400v160Zm0 220h160v-160H400v160ZM180-400h160v-160H180v160Zm440 0h160v-160H620v160ZM180-180h160v-160H180v160Zm440 0h160v-160H620v160Z\"/>\n",
              "  </svg>\n",
              "    </button>\n",
              "\n",
              "  <style>\n",
              "    .colab-df-container {\n",
              "      display:flex;\n",
              "      gap: 12px;\n",
              "    }\n",
              "\n",
              "    .colab-df-convert {\n",
              "      background-color: #E8F0FE;\n",
              "      border: none;\n",
              "      border-radius: 50%;\n",
              "      cursor: pointer;\n",
              "      display: none;\n",
              "      fill: #1967D2;\n",
              "      height: 32px;\n",
              "      padding: 0 0 0 0;\n",
              "      width: 32px;\n",
              "    }\n",
              "\n",
              "    .colab-df-convert:hover {\n",
              "      background-color: #E2EBFA;\n",
              "      box-shadow: 0px 1px 2px rgba(60, 64, 67, 0.3), 0px 1px 3px 1px rgba(60, 64, 67, 0.15);\n",
              "      fill: #174EA6;\n",
              "    }\n",
              "\n",
              "    .colab-df-buttons div {\n",
              "      margin-bottom: 4px;\n",
              "    }\n",
              "\n",
              "    [theme=dark] .colab-df-convert {\n",
              "      background-color: #3B4455;\n",
              "      fill: #D2E3FC;\n",
              "    }\n",
              "\n",
              "    [theme=dark] .colab-df-convert:hover {\n",
              "      background-color: #434B5C;\n",
              "      box-shadow: 0px 1px 3px 1px rgba(0, 0, 0, 0.15);\n",
              "      filter: drop-shadow(0px 1px 2px rgba(0, 0, 0, 0.3));\n",
              "      fill: #FFFFFF;\n",
              "    }\n",
              "  </style>\n",
              "\n",
              "    <script>\n",
              "      const buttonEl =\n",
              "        document.querySelector('#df-1c650aad-c711-46e9-8fb3-a9d41775e91f button.colab-df-convert');\n",
              "      buttonEl.style.display =\n",
              "        google.colab.kernel.accessAllowed ? 'block' : 'none';\n",
              "\n",
              "      async function convertToInteractive(key) {\n",
              "        const element = document.querySelector('#df-1c650aad-c711-46e9-8fb3-a9d41775e91f');\n",
              "        const dataTable =\n",
              "          await google.colab.kernel.invokeFunction('convertToInteractive',\n",
              "                                                    [key], {});\n",
              "        if (!dataTable) return;\n",
              "\n",
              "        const docLinkHtml = 'Like what you see? Visit the ' +\n",
              "          '<a target=\"_blank\" href=https://colab.research.google.com/notebooks/data_table.ipynb>data table notebook</a>'\n",
              "          + ' to learn more about interactive tables.';\n",
              "        element.innerHTML = '';\n",
              "        dataTable['output_type'] = 'display_data';\n",
              "        await google.colab.output.renderOutput(dataTable, element);\n",
              "        const docLink = document.createElement('div');\n",
              "        docLink.innerHTML = docLinkHtml;\n",
              "        element.appendChild(docLink);\n",
              "      }\n",
              "    </script>\n",
              "  </div>\n",
              "\n",
              "\n",
              "<div id=\"df-53770db7-67cb-41bf-83b8-8943ca9fc9c2\">\n",
              "  <button class=\"colab-df-quickchart\" onclick=\"quickchart('df-53770db7-67cb-41bf-83b8-8943ca9fc9c2')\"\n",
              "            title=\"Suggest charts\"\n",
              "            style=\"display:none;\">\n",
              "\n",
              "<svg xmlns=\"http://www.w3.org/2000/svg\" height=\"24px\"viewBox=\"0 0 24 24\"\n",
              "     width=\"24px\">\n",
              "    <g>\n",
              "        <path d=\"M19 3H5c-1.1 0-2 .9-2 2v14c0 1.1.9 2 2 2h14c1.1 0 2-.9 2-2V5c0-1.1-.9-2-2-2zM9 17H7v-7h2v7zm4 0h-2V7h2v10zm4 0h-2v-4h2v4z\"/>\n",
              "    </g>\n",
              "</svg>\n",
              "  </button>\n",
              "\n",
              "<style>\n",
              "  .colab-df-quickchart {\n",
              "      --bg-color: #E8F0FE;\n",
              "      --fill-color: #1967D2;\n",
              "      --hover-bg-color: #E2EBFA;\n",
              "      --hover-fill-color: #174EA6;\n",
              "      --disabled-fill-color: #AAA;\n",
              "      --disabled-bg-color: #DDD;\n",
              "  }\n",
              "\n",
              "  [theme=dark] .colab-df-quickchart {\n",
              "      --bg-color: #3B4455;\n",
              "      --fill-color: #D2E3FC;\n",
              "      --hover-bg-color: #434B5C;\n",
              "      --hover-fill-color: #FFFFFF;\n",
              "      --disabled-bg-color: #3B4455;\n",
              "      --disabled-fill-color: #666;\n",
              "  }\n",
              "\n",
              "  .colab-df-quickchart {\n",
              "    background-color: var(--bg-color);\n",
              "    border: none;\n",
              "    border-radius: 50%;\n",
              "    cursor: pointer;\n",
              "    display: none;\n",
              "    fill: var(--fill-color);\n",
              "    height: 32px;\n",
              "    padding: 0;\n",
              "    width: 32px;\n",
              "  }\n",
              "\n",
              "  .colab-df-quickchart:hover {\n",
              "    background-color: var(--hover-bg-color);\n",
              "    box-shadow: 0 1px 2px rgba(60, 64, 67, 0.3), 0 1px 3px 1px rgba(60, 64, 67, 0.15);\n",
              "    fill: var(--button-hover-fill-color);\n",
              "  }\n",
              "\n",
              "  .colab-df-quickchart-complete:disabled,\n",
              "  .colab-df-quickchart-complete:disabled:hover {\n",
              "    background-color: var(--disabled-bg-color);\n",
              "    fill: var(--disabled-fill-color);\n",
              "    box-shadow: none;\n",
              "  }\n",
              "\n",
              "  .colab-df-spinner {\n",
              "    border: 2px solid var(--fill-color);\n",
              "    border-color: transparent;\n",
              "    border-bottom-color: var(--fill-color);\n",
              "    animation:\n",
              "      spin 1s steps(1) infinite;\n",
              "  }\n",
              "\n",
              "  @keyframes spin {\n",
              "    0% {\n",
              "      border-color: transparent;\n",
              "      border-bottom-color: var(--fill-color);\n",
              "      border-left-color: var(--fill-color);\n",
              "    }\n",
              "    20% {\n",
              "      border-color: transparent;\n",
              "      border-left-color: var(--fill-color);\n",
              "      border-top-color: var(--fill-color);\n",
              "    }\n",
              "    30% {\n",
              "      border-color: transparent;\n",
              "      border-left-color: var(--fill-color);\n",
              "      border-top-color: var(--fill-color);\n",
              "      border-right-color: var(--fill-color);\n",
              "    }\n",
              "    40% {\n",
              "      border-color: transparent;\n",
              "      border-right-color: var(--fill-color);\n",
              "      border-top-color: var(--fill-color);\n",
              "    }\n",
              "    60% {\n",
              "      border-color: transparent;\n",
              "      border-right-color: var(--fill-color);\n",
              "    }\n",
              "    80% {\n",
              "      border-color: transparent;\n",
              "      border-right-color: var(--fill-color);\n",
              "      border-bottom-color: var(--fill-color);\n",
              "    }\n",
              "    90% {\n",
              "      border-color: transparent;\n",
              "      border-bottom-color: var(--fill-color);\n",
              "    }\n",
              "  }\n",
              "</style>\n",
              "\n",
              "  <script>\n",
              "    async function quickchart(key) {\n",
              "      const quickchartButtonEl =\n",
              "        document.querySelector('#' + key + ' button');\n",
              "      quickchartButtonEl.disabled = true;  // To prevent multiple clicks.\n",
              "      quickchartButtonEl.classList.add('colab-df-spinner');\n",
              "      try {\n",
              "        const charts = await google.colab.kernel.invokeFunction(\n",
              "            'suggestCharts', [key], {});\n",
              "      } catch (error) {\n",
              "        console.error('Error during call to suggestCharts:', error);\n",
              "      }\n",
              "      quickchartButtonEl.classList.remove('colab-df-spinner');\n",
              "      quickchartButtonEl.classList.add('colab-df-quickchart-complete');\n",
              "    }\n",
              "    (() => {\n",
              "      let quickchartButtonEl =\n",
              "        document.querySelector('#df-53770db7-67cb-41bf-83b8-8943ca9fc9c2 button');\n",
              "      quickchartButtonEl.style.display =\n",
              "        google.colab.kernel.accessAllowed ? 'block' : 'none';\n",
              "    })();\n",
              "  </script>\n",
              "</div>\n",
              "    </div>\n",
              "  </div>\n"
            ]
          },
          "metadata": {},
          "execution_count": 23
        }
      ]
    },
    {
      "cell_type": "markdown",
      "source": [
        "#### **Generate scatterplot to display clusters**"
      ],
      "metadata": {
        "id": "CKIhpH9kPXNQ"
      }
    },
    {
      "cell_type": "code",
      "source": [
        "g = sns.lmplot(x='count_orders', y='average_spend', data=segments_pd, fit_reg=False, hue='segment_id', palette='Set2', height=7, aspect=2)\n",
        "g = (g.set_axis_labels('Count Orders','Average Spend ($)', fontsize=15).set(xlim=(0,10),ylim=(0,400)))\n",
        "plt.title('Attribute Grouped by K-means Cluster', pad=20, fontsize=20)"
      ],
      "metadata": {
        "id": "WH8s_tULGyf5",
        "executionInfo": {
          "status": "ok",
          "timestamp": 1702329231764,
          "user_tz": 360,
          "elapsed": 1746,
          "user": {
            "displayName": "",
            "userId": ""
          }
        },
        "colab": {
          "base_uri": "https://localhost:8080/",
          "height": 659
        },
        "outputId": "b7acfae2-c763-47c1-eb90-f0ee70f12877"
      },
      "execution_count": 24,
      "outputs": [
        {
          "output_type": "execute_result",
          "data": {
            "text/plain": [
              "Text(0.5, 1.0, 'Attribute Grouped by K-means Cluster')"
            ]
          },
          "metadata": {},
          "execution_count": 24
        },
        {
          "output_type": "display_data",
          "data": {
            "text/plain": [
              "<Figure size 1491.61x700 with 1 Axes>"
            ],
            "image/png": "[encoded data removed]"
          },
          "metadata": {}
        }
      ]
    },
    {
      "cell_type": "markdown",
      "source": [
        "#### **Cluster Summary Statistics**\n",
        "\n",
        "The visualization helped us see distinct clusters. Now let's generate some summary statistics around order recency, frequency, and spend by cluster."
      ],
      "metadata": {
        "id": "yh1_PqPvIalu"
      }
    },
    {
      "cell_type": "code",
      "source": [
        "df_centroid = kmeans.cluster_centers_\n",
        "df_centroid"
      ],
      "metadata": {
        "id": "UmEsjTfeIueR",
        "executionInfo": {
          "status": "ok",
          "timestamp": 1702329239122,
          "user_tz": 360,
          "elapsed": 7360,
          "user": {
            "displayName": "",
            "userId": ""
          }
        },
        "colab": {
          "base_uri": "https://localhost:8080/",
          "height": 653
        },
        "outputId": "e2487665-f30b-4e25-fcdb-550f744afd58"
      },
      "execution_count": 25,
      "outputs": [
        {
          "output_type": "display_data",
          "data": {
            "text/plain": [
              "<IPython.core.display.HTML object>"
            ],
            "text/html": [
              "Query job 7edee6aa-5676-41a8-ba26-57d6e0ca2770 is RUNNING. <a target=\"_blank\" href=\"https://console.cloud.google.com/bigquery?project=qwiklabs-gcp-00-7d81a74347ee&j=bq:US:7edee6aa-5676-41a8-ba26-57d6e0ca2770&page=queryresults\">Open Job</a>"
            ]
          },
          "metadata": {}
        },
        {
          "output_type": "display_data",
          "data": {
            "text/plain": [
              "<IPython.core.display.HTML object>"
            ],
            "text/html": [
              "Query job 1c2cf4e7-59ce-4cdf-a5a9-cf87e893931e is DONE. 160 Bytes processed. <a target=\"_blank\" href=\"https://console.cloud.google.com/bigquery?project=qwiklabs-gcp-00-7d81a74347ee&j=bq:US:1c2cf4e7-59ce-4cdf-a5a9-cf87e893931e&page=queryresults\">Open Job</a>"
            ]
          },
          "metadata": {}
        },
        {
          "output_type": "display_data",
          "data": {
            "text/plain": [
              "<IPython.core.display.HTML object>"
            ],
            "text/html": [
              "Query job 217dfe4e-9050-4bd7-82cd-708b08bb086c is DONE. 0 Bytes processed. <a target=\"_blank\" href=\"https://console.cloud.google.com/bigquery?project=qwiklabs-gcp-00-7d81a74347ee&j=bq:US:217dfe4e-9050-4bd7-82cd-708b08bb086c&page=queryresults\">Open Job</a>"
            ]
          },
          "metadata": {}
        },
        {
          "output_type": "display_data",
          "data": {
            "text/plain": [
              "<IPython.core.display.HTML object>"
            ],
            "text/html": [
              "Query job f929f2c7-9e5a-4ae6-834d-697f733e8d8f is DONE. 0 Bytes processed. <a target=\"_blank\" href=\"https://console.cloud.google.com/bigquery?project=qwiklabs-gcp-00-7d81a74347ee&j=bq:US:f929f2c7-9e5a-4ae6-834d-697f733e8d8f&page=queryresults\">Open Job</a>"
            ]
          },
          "metadata": {}
        },
        {
          "output_type": "display_data",
          "data": {
            "text/plain": [
              "<IPython.core.display.HTML object>"
            ],
            "text/html": [
              "Query job 67b099eb-7b3b-4e7b-99e4-a23dd76beb8e is DONE. 0 Bytes processed. <a target=\"_blank\" href=\"https://console.cloud.google.com/bigquery?project=qwiklabs-gcp-00-7d81a74347ee&j=bq:US:67b099eb-7b3b-4e7b-99e4-a23dd76beb8e&page=queryresults\">Open Job</a>"
            ]
          },
          "metadata": {}
        },
        {
          "output_type": "execute_result",
          "data": {
            "text/plain": [
              "    centroid_id        feature  numerical_value categorical_value\n",
              "0             1  average_spend       189.106048                []\n",
              "1             1   count_orders         1.296691                []\n",
              "2             1   return_ratio         0.015517                []\n",
              "3             2  average_spend        55.932011                []\n",
              "4             2   count_orders          3.40363                []\n",
              "5             2   return_ratio         0.021022                []\n",
              "6             3  average_spend        53.342802                []\n",
              "7             3   count_orders         1.644166                []\n",
              "8             3   return_ratio         0.927274                []\n",
              "9             4  average_spend        43.269855                []\n",
              "10            4   count_orders         1.277016                []\n",
              "11            4   return_ratio              0.0                []\n",
              "12            5  average_spend        58.012849                []\n",
              "13            5   count_orders         5.658228                []\n",
              "14            5   return_ratio         0.089896                []\n",
              "\n",
              "[15 rows x 4 columns]"
            ],
            "text/html": [
              "<div>\n",
              "<style scoped>\n",
              "    .dataframe tbody tr th:only-of-type {\n",
              "        vertical-align: middle;\n",
              "    }\n",
              "\n",
              "    .dataframe tbody tr th {\n",
              "        vertical-align: top;\n",
              "    }\n",
              "\n",
              "    .dataframe thead th {\n",
              "        text-align: right;\n",
              "    }\n",
              "</style>\n",
              "<table border=\"1\" class=\"dataframe\">\n",
              "  <thead>\n",
              "    <tr style=\"text-align: right;\">\n",
              "      <th></th>\n",
              "      <th>centroid_id</th>\n",
              "      <th>feature</th>\n",
              "      <th>numerical_value</th>\n",
              "      <th>categorical_value</th>\n",
              "    </tr>\n",
              "  </thead>\n",
              "  <tbody>\n",
              "    <tr>\n",
              "      <th>0</th>\n",
              "      <td>1</td>\n",
              "      <td>average_spend</td>\n",
              "      <td>189.106048</td>\n",
              "      <td>[]</td>\n",
              "    </tr>\n",
              "    <tr>\n",
              "      <th>1</th>\n",
              "      <td>1</td>\n",
              "      <td>count_orders</td>\n",
              "      <td>1.296691</td>\n",
              "      <td>[]</td>\n",
              "    </tr>\n",
              "    <tr>\n",
              "      <th>2</th>\n",
              "      <td>1</td>\n",
              "      <td>return_ratio</td>\n",
              "      <td>0.015517</td>\n",
              "      <td>[]</td>\n",
              "    </tr>\n",
              "    <tr>\n",
              "      <th>3</th>\n",
              "      <td>2</td>\n",
              "      <td>average_spend</td>\n",
              "      <td>55.932011</td>\n",
              "      <td>[]</td>\n",
              "    </tr>\n",
              "    <tr>\n",
              "      <th>4</th>\n",
              "      <td>2</td>\n",
              "      <td>count_orders</td>\n",
              "      <td>3.40363</td>\n",
              "      <td>[]</td>\n",
              "    </tr>\n",
              "    <tr>\n",
              "      <th>5</th>\n",
              "      <td>2</td>\n",
              "      <td>return_ratio</td>\n",
              "      <td>0.021022</td>\n",
              "      <td>[]</td>\n",
              "    </tr>\n",
              "    <tr>\n",
              "      <th>6</th>\n",
              "      <td>3</td>\n",
              "      <td>average_spend</td>\n",
              "      <td>53.342802</td>\n",
              "      <td>[]</td>\n",
              "    </tr>\n",
              "    <tr>\n",
              "      <th>7</th>\n",
              "      <td>3</td>\n",
              "      <td>count_orders</td>\n",
              "      <td>1.644166</td>\n",
              "      <td>[]</td>\n",
              "    </tr>\n",
              "    <tr>\n",
              "      <th>8</th>\n",
              "      <td>3</td>\n",
              "      <td>return_ratio</td>\n",
              "      <td>0.927274</td>\n",
              "      <td>[]</td>\n",
              "    </tr>\n",
              "    <tr>\n",
              "      <th>9</th>\n",
              "      <td>4</td>\n",
              "      <td>average_spend</td>\n",
              "      <td>43.269855</td>\n",
              "      <td>[]</td>\n",
              "    </tr>\n",
              "    <tr>\n",
              "      <th>10</th>\n",
              "      <td>4</td>\n",
              "      <td>count_orders</td>\n",
              "      <td>1.277016</td>\n",
              "      <td>[]</td>\n",
              "    </tr>\n",
              "    <tr>\n",
              "      <th>11</th>\n",
              "      <td>4</td>\n",
              "      <td>return_ratio</td>\n",
              "      <td>0.0</td>\n",
              "      <td>[]</td>\n",
              "    </tr>\n",
              "    <tr>\n",
              "      <th>12</th>\n",
              "      <td>5</td>\n",
              "      <td>average_spend</td>\n",
              "      <td>58.012849</td>\n",
              "      <td>[]</td>\n",
              "    </tr>\n",
              "    <tr>\n",
              "      <th>13</th>\n",
              "      <td>5</td>\n",
              "      <td>count_orders</td>\n",
              "      <td>5.658228</td>\n",
              "      <td>[]</td>\n",
              "    </tr>\n",
              "    <tr>\n",
              "      <th>14</th>\n",
              "      <td>5</td>\n",
              "      <td>return_ratio</td>\n",
              "      <td>0.089896</td>\n",
              "      <td>[]</td>\n",
              "    </tr>\n",
              "  </tbody>\n",
              "</table>\n",
              "<p>15 rows × 4 columns</p>\n",
              "</div>[15 rows x 4 columns in total]"
            ]
          },
          "metadata": {},
          "execution_count": 25
        }
      ]
    },
    {
      "cell_type": "code",
      "source": [
        "df_centroid_pivot = df_centroid.pivot(index='centroid_id', columns='feature', values='numerical_value')\n",
        "df_centroid_pivot"
      ],
      "metadata": {
        "id": "FzVxofIPJ5zQ",
        "executionInfo": {
          "status": "ok",
          "timestamp": 1702329245886,
          "user_tz": 360,
          "elapsed": 6766,
          "user": {
            "displayName": "",
            "userId": ""
          }
        },
        "colab": {
          "base_uri": "https://localhost:8080/",
          "height": 336
        },
        "outputId": "c566fc34-60f6-4354-ba95-eac68702bb4e"
      },
      "execution_count": 26,
      "outputs": [
        {
          "output_type": "display_data",
          "data": {
            "text/plain": [
              "<IPython.core.display.HTML object>"
            ],
            "text/html": [
              "Query job 6d251112-34f4-460b-8b67-189393ca47a1 is DONE. 0 Bytes processed. <a target=\"_blank\" href=\"https://console.cloud.google.com/bigquery?project=qwiklabs-gcp-00-7d81a74347ee&j=bq:US:6d251112-34f4-460b-8b67-189393ca47a1&page=queryresults\">Open Job</a>"
            ]
          },
          "metadata": {}
        },
        {
          "output_type": "display_data",
          "data": {
            "text/plain": [
              "<IPython.core.display.HTML object>"
            ],
            "text/html": [
              "Query job 4aa17f03-fe00-4ff1-8495-33980f6ac5d9 is DONE. 0 Bytes processed. <a target=\"_blank\" href=\"https://console.cloud.google.com/bigquery?project=qwiklabs-gcp-00-7d81a74347ee&j=bq:US:4aa17f03-fe00-4ff1-8495-33980f6ac5d9&page=queryresults\">Open Job</a>"
            ]
          },
          "metadata": {}
        },
        {
          "output_type": "display_data",
          "data": {
            "text/plain": [
              "<IPython.core.display.HTML object>"
            ],
            "text/html": [
              "Query job e6c7703f-25a3-4a77-bb21-9642161bb6f1 is DONE. 0 Bytes processed. <a target=\"_blank\" href=\"https://console.cloud.google.com/bigquery?project=qwiklabs-gcp-00-7d81a74347ee&j=bq:US:e6c7703f-25a3-4a77-bb21-9642161bb6f1&page=queryresults\">Open Job</a>"
            ]
          },
          "metadata": {}
        },
        {
          "output_type": "execute_result",
          "data": {
            "text/plain": [
              "feature      average_spend  count_orders   return_ratio \n",
              "centroid_id                                             \n",
              "1               189.106048       1.296691       0.015517\n",
              "2                55.932011        3.40363       0.021022\n",
              "3                53.342802       1.644166       0.927274\n",
              "4                43.269855       1.277016            0.0\n",
              "5                58.012849       5.658228       0.089896\n",
              "\n",
              "[5 rows x 3 columns]"
            ],
            "text/html": [
              "<div>\n",
              "<style scoped>\n",
              "    .dataframe tbody tr th:only-of-type {\n",
              "        vertical-align: middle;\n",
              "    }\n",
              "\n",
              "    .dataframe tbody tr th {\n",
              "        vertical-align: top;\n",
              "    }\n",
              "\n",
              "    .dataframe thead th {\n",
              "        text-align: right;\n",
              "    }\n",
              "</style>\n",
              "<table border=\"1\" class=\"dataframe\">\n",
              "  <thead>\n",
              "    <tr style=\"text-align: right;\">\n",
              "      <th>feature</th>\n",
              "      <th>average_spend</th>\n",
              "      <th>count_orders</th>\n",
              "      <th>return_ratio</th>\n",
              "    </tr>\n",
              "    <tr>\n",
              "      <th>centroid_id</th>\n",
              "      <th></th>\n",
              "      <th></th>\n",
              "      <th></th>\n",
              "    </tr>\n",
              "  </thead>\n",
              "  <tbody>\n",
              "    <tr>\n",
              "      <th>1</th>\n",
              "      <td>189.106048</td>\n",
              "      <td>1.296691</td>\n",
              "      <td>0.015517</td>\n",
              "    </tr>\n",
              "    <tr>\n",
              "      <th>2</th>\n",
              "      <td>55.932011</td>\n",
              "      <td>3.40363</td>\n",
              "      <td>0.021022</td>\n",
              "    </tr>\n",
              "    <tr>\n",
              "      <th>3</th>\n",
              "      <td>53.342802</td>\n",
              "      <td>1.644166</td>\n",
              "      <td>0.927274</td>\n",
              "    </tr>\n",
              "    <tr>\n",
              "      <th>4</th>\n",
              "      <td>43.269855</td>\n",
              "      <td>1.277016</td>\n",
              "      <td>0.0</td>\n",
              "    </tr>\n",
              "    <tr>\n",
              "      <th>5</th>\n",
              "      <td>58.012849</td>\n",
              "      <td>5.658228</td>\n",
              "      <td>0.089896</td>\n",
              "    </tr>\n",
              "  </tbody>\n",
              "</table>\n",
              "<p>5 rows × 3 columns</p>\n",
              "</div>[5 rows x 3 columns in total]"
            ]
          },
          "metadata": {},
          "execution_count": 26
        }
      ]
    },
    {
      "cell_type": "markdown",
      "source": [
        "#### **Summary Statistics**\n",
        "Whew! That's a lot of metrics and cluster info. How about we explain this to our colleagues using the magic of LLMs.\n",
        "\n",
        "Let's begin by creating a string with the summary statistics from the last cell."
      ],
      "metadata": {
        "id": "9Ey4aZIEMykc"
      }
    },
    {
      "cell_type": "code",
      "source": [
        "pd_df = df_centroid_pivot.reset_index().to_pandas()\n",
        "pd_df.to_string(header=False, index=False)\n",
        "\n",
        "cluster_info = []\n",
        "for i, row in pd_df.iterrows():\n",
        "  cluster_info.append(\"{0}, average spend ${2}, count of orders per person {1}, return ratio {3}\"\n",
        "    .format(row[\"centroid_id\"], row[\"count_orders\"], row[\"average_spend\"], row[\"return_ratio\"]) )\n",
        "\n",
        "print(str.join(\"\\n\", cluster_info))"
      ],
      "metadata": {
        "id": "XB8SdzclMxUx",
        "executionInfo": {
          "status": "ok",
          "timestamp": 1702329248112,
          "user_tz": 360,
          "elapsed": 2243,
          "user": {
            "displayName": "",
            "userId": ""
          }
        },
        "colab": {
          "base_uri": "https://localhost:8080/",
          "height": 121
        },
        "outputId": "ce987f95-91d0-495b-ab2b-9bb7cf7902d1"
      },
      "execution_count": 27,
      "outputs": [
        {
          "output_type": "display_data",
          "data": {
            "text/plain": [
              "<IPython.core.display.HTML object>"
            ],
            "text/html": [
              "Query job 5ed4369e-34d8-4ae7-92c1-552a4dd7f970 is DONE. 0 Bytes processed. <a target=\"_blank\" href=\"https://console.cloud.google.com/bigquery?project=qwiklabs-gcp-00-7d81a74347ee&j=bq:US:5ed4369e-34d8-4ae7-92c1-552a4dd7f970&page=queryresults\">Open Job</a>"
            ]
          },
          "metadata": {}
        },
        {
          "output_type": "stream",
          "name": "stdout",
          "text": [
            "1, average spend $189.10604847585154, count of orders per person 1.2966909702748284, return ratio 0.015516919050291844\n",
            "2, average spend $55.93201094856424, count of orders per person 3.4036297640653537, return ratio 0.0210223835450679\n",
            "3, average spend $53.34280170108506, count of orders per person 1.6441658630665368, return ratio 0.9272741883639013\n",
            "4, average spend $43.26985516070924, count of orders per person 1.277015626146303, return ratio 1.6681100944992977e-14\n",
            "5, average spend $58.0128493709672, count of orders per person 5.658227848101238, return ratio 0.08989638049312554\n"
          ]
        }
      ]
    },
    {
      "cell_type": "markdown",
      "source": [
        "## Step 4 : Generative AI - Explain customer segments with Vertex AI PaLM API\n",
        "\n",
        "To leverage Large Language Models directly from BigQuery, we will specify a [BigQuery connection](https://cloud.google.com/bigquery/docs/working-with-connections). If you already have a connection, you can simplify provide the name and skip the following creation steps"
      ],
      "metadata": {
        "id": "7Na0_rVVLhOk"
      }
    },
    {
      "cell_type": "code",
      "source": [
        "# Please fill in these values.\n",
        "CONNECTION = \"bq-llm\"  # @param {type:\"string\"}\n",
        "\n",
        "connection_name = f\"{PROJECT_ID}.{LOCATION}.{CONNECTION}\""
      ],
      "metadata": {
        "id": "W13HyzWX0I-F",
        "executionInfo": {
          "status": "ok",
          "timestamp": 1702329248112,
          "user_tz": 360,
          "elapsed": 4,
          "user": {
            "displayName": "",
            "userId": ""
          }
        }
      },
      "execution_count": 28,
      "outputs": []
    },
    {
      "cell_type": "markdown",
      "source": [
        "#### **BigQuery Connection Setup**\n",
        "BigQuery lets you interact with services outside of BigQuery in Google Cloud services like Cloud Storage or Cloud Spanner, or in third-party sources like AWS or Azure. These external connections use the BigQuery Connection API.\n",
        "\n",
        "In this case, we interact with Vertex AI Large Language models using Connection API.\n",
        "\n",
        "In following cell, we try to use the provided connection, and if it doesn't exist, create a new one. We will also print the service account used.\n",
        "\n",
        "Note : You may require additional permissions as [documented here ](https://cloud.google.com/bigquery/docs/working-with-connections#expandable-1)to peform following step."
      ],
      "metadata": {
        "id": "EtiHiulOEd8R"
      }
    },
    {
      "cell_type": "code",
      "source": [
        "from google.cloud import bigquery_connection_v1 as bq_connection\n",
        "from bigframes.ml.llm import PaLM2TextGenerator\n",
        "session = bpd.get_global_session()"
      ],
      "metadata": {
        "id": "sIqdPAl44JQc",
        "executionInfo": {
          "status": "ok",
          "timestamp": 1702329248112,
          "user_tz": 360,
          "elapsed": 3,
          "user": {
            "displayName": "",
            "userId": ""
          }
        }
      },
      "execution_count": 29,
      "outputs": []
    },
    {
      "cell_type": "code",
      "source": [
        "# Initialize client and set request parameters\n",
        "client = bq_connection.ConnectionServiceClient()\n",
        "new_conn_parent = f\"projects/{PROJECT_ID}/locations/{LOCATION}\"\n",
        "exists_conn_parent = f\"projects/{PROJECT_ID}/locations/{LOCATION}/connections/{CONNECTION}\"\n",
        "cloud_resource_properties = bq_connection.CloudResourceProperties({})\n",
        "\n",
        "# Try to connect using provided connection\n",
        "try:\n",
        "    request = client.get_connection(\n",
        "        request=bq_connection.GetConnectionRequest(name=exists_conn_parent)\n",
        "    )\n",
        "    CONN_SERVICE_ACCOUNT = f\"serviceAccount:{request.cloud_resource.service_account_id}\"\n",
        "# Create a new connection on error\n",
        "except Exception:\n",
        "    connection = bq_connection.types.Connection(\n",
        "        {\"friendly_name\": CONNECTION, \"cloud_resource\": cloud_resource_properties}\n",
        "    )\n",
        "    request = bq_connection.CreateConnectionRequest(\n",
        "        {\n",
        "            \"parent\": new_conn_parent,\n",
        "            \"connection_id\": CONNECTION,\n",
        "            \"connection\": connection,\n",
        "        }\n",
        "    )\n",
        "    response = client.create_connection(request)\n",
        "    CONN_SERVICE_ACCOUNT = (\n",
        "        f\"serviceAccount:{response.cloud_resource.service_account_id}\"\n",
        "    )\n",
        "# Set service account permissions\n",
        "!gcloud projects add-iam-policy-binding {PROJECT_ID} --condition=None --no-user-output-enabled --member={CONN_SERVICE_ACCOUNT} --role='roles/bigquery.connectionUser'\n",
        "!gcloud projects add-iam-policy-binding {PROJECT_ID} --condition=None --no-user-output-enabled --member={CONN_SERVICE_ACCOUNT} --role='roles/aiplatform.user'\n",
        "!gcloud projects add-iam-policy-binding {PROJECT_ID} --condition=None --no-user-output-enabled --member={CONN_SERVICE_ACCOUNT} --role='roles/run.invoker'\n",
        "\n",
        "print(CONN_SERVICE_ACCOUNT)"
      ],
      "metadata": {
        "id": "V8iLYPrX3opw",
        "executionInfo": {
          "status": "ok",
          "timestamp": 1702329258531,
          "user_tz": 360,
          "elapsed": 10422,
          "user": {
            "displayName": "",
            "userId": ""
          }
        },
        "colab": {
          "base_uri": "https://localhost:8080/"
        },
        "outputId": "db6ab1c9-f674-460c-ddf0-74122060d899"
      },
      "execution_count": 30,
      "outputs": [
        {
          "output_type": "stream",
          "name": "stdout",
          "text": [
            "serviceAccount:bqcx-951915982025-i3jz@gcp-sa-bigquery-condel.iam.gserviceaccount.com\n"
          ]
        }
      ]
    },
    {
      "cell_type": "markdown",
      "source": [
        "The resource connection service account requires certain project-level permissions:\n",
        "\n",
        "`roles/aiplatform.user` and `roles/bigquery.connectionUser`: These roles are required for the connection to create a model definition using the LLM model in Vertex AI ( [documentation](https://cloud.google.com/bigquery/docs/generate-text#give_the_service_account_access)).\n",
        "roles/run.invoker: This role is required for the connection to have read-only access to Cloud Run services that back custom/remote functions ([documentation](https://cloud.google.com/bigquery/docs/remote-functions#grant_permission_on_function))."
      ],
      "metadata": {
        "id": "j2x4dhJ8Fhtc"
      }
    },
    {
      "cell_type": "markdown",
      "source": [
        "#### **Define the Large Language model using BigFrames**\n",
        "\n",
        "Use bigframes.ml.llm to define the model and get BigFrames session\n"
      ],
      "metadata": {
        "id": "-ay0KygzF_Q1"
      }
    },
    {
      "cell_type": "markdown",
      "source": [
        "#### **Create a Prompt**\n",
        "For each cluster, ask the LLM to act as a brand strategist and generate the following:\n",
        "* Title\n",
        "* Persona\n",
        "* Next Marketing Step"
      ],
      "metadata": {
        "id": "tdoRB7RjLso6"
      }
    },
    {
      "cell_type": "code",
      "source": [
        "model = PaLM2TextGenerator(session=session, connection_name=connection_name)"
      ],
      "metadata": {
        "id": "7J22pFpewG-M",
        "executionInfo": {
          "status": "ok",
          "timestamp": 1702329261357,
          "user_tz": 360,
          "elapsed": 2828,
          "user": {
            "displayName": "",
            "userId": ""
          }
        },
        "colab": {
          "base_uri": "https://localhost:8080/",
          "height": 34
        },
        "outputId": "1af12242-bc76-4179-db6b-17facc6ba2d9"
      },
      "execution_count": 31,
      "outputs": [
        {
          "output_type": "display_data",
          "data": {
            "text/plain": [
              "<IPython.core.display.HTML object>"
            ],
            "text/html": [
              "Query job 97a4d339-42e0-4cef-9748-8f0019d4b980 is DONE. 0 Bytes processed. <a target=\"_blank\" href=\"https://console.cloud.google.com/bigquery?project=qwiklabs-gcp-00-7d81a74347ee&j=bq:US:97a4d339-42e0-4cef-9748-8f0019d4b980&page=queryresults\">Open Job</a>"
            ]
          },
          "metadata": {}
        }
      ]
    },
    {
      "cell_type": "code",
      "source": [
        "\n",
        "\n",
        "clusters = str.join(\"\\n\", cluster_info)\n",
        "\n",
        "prompt = f\"\"\"\n",
        "You're a creative brand strategist, given the following clusters, come up with \\\n",
        "creative brand persona, a catchy title, and next marketing action, \\\n",
        "explained step by step.\n",
        "\n",
        "Clusters:\n",
        "{clusters}\n",
        "\n",
        "For each Cluster:\n",
        "* Title:\n",
        "* Persona:\n",
        "* Next Marketing Step:\n",
        "\"\"\"\n",
        "\n"
      ],
      "metadata": {
        "id": "MYwQNH0ELu9y",
        "executionInfo": {
          "status": "ok",
          "timestamp": 1702329261357,
          "user_tz": 360,
          "elapsed": 2,
          "user": {
            "displayName": "",
            "userId": ""
          }
        }
      },
      "execution_count": 32,
      "outputs": []
    },
    {
      "cell_type": "markdown",
      "source": [
        "#### **Prediction using Large Language model**"
      ],
      "metadata": {
        "id": "X7wyE30HP4-U"
      }
    },
    {
      "cell_type": "code",
      "source": [
        "prompt_df = bpd.read_pandas(pd.DataFrame({'prompt': [prompt]}))\n",
        "pred = model.predict(prompt_df, max_output_tokens=1024, temperature=0.55, top_p=0.8, top_k=40)\n",
        "print(pred.iloc[0,0])"
      ],
      "metadata": {
        "id": "wumJXJv2Qqg_",
        "executionInfo": {
          "status": "ok",
          "timestamp": 1702329286020,
          "user_tz": 360,
          "elapsed": 24665,
          "user": {
            "displayName": "",
            "userId": ""
          }
        },
        "colab": {
          "base_uri": "https://localhost:8080/",
          "height": 627
        },
        "outputId": "27281946-073c-4c40-bb32-e8df7d774f7d"
      },
      "execution_count": 33,
      "outputs": [
        {
          "output_type": "display_data",
          "data": {
            "text/plain": [
              "<IPython.core.display.HTML object>"
            ],
            "text/html": [
              "Load job 20d12ae3-01ff-4fda-aae7-3f8a6334cc28 is DONE. <a target=\"_blank\" href=\"https://console.cloud.google.com/bigquery?project=qwiklabs-gcp-00-7d81a74347ee&j=bq:US:20d12ae3-01ff-4fda-aae7-3f8a6334cc28&page=queryresults\">Open Job</a>"
            ]
          },
          "metadata": {}
        },
        {
          "output_type": "display_data",
          "data": {
            "text/plain": [
              "<IPython.core.display.HTML object>"
            ],
            "text/html": [
              "Query job 76624be1-50a6-47f4-b6fb-24a81cd6756e is DONE. 839 Bytes processed. <a target=\"_blank\" href=\"https://console.cloud.google.com/bigquery?project=qwiklabs-gcp-00-7d81a74347ee&j=bq:US:76624be1-50a6-47f4-b6fb-24a81cd6756e&page=queryresults\">Open Job</a>"
            ]
          },
          "metadata": {}
        },
        {
          "output_type": "display_data",
          "data": {
            "text/plain": [
              "<IPython.core.display.HTML object>"
            ],
            "text/html": [
              "Query job f7c1873b-33fd-41a6-a3df-21b8d0a6eba3 is DONE. 8 Bytes processed. <a target=\"_blank\" href=\"https://console.cloud.google.com/bigquery?project=qwiklabs-gcp-00-7d81a74347ee&j=bq:US:f7c1873b-33fd-41a6-a3df-21b8d0a6eba3&page=queryresults\">Open Job</a>"
            ]
          },
          "metadata": {}
        },
        {
          "output_type": "display_data",
          "data": {
            "text/plain": [
              "<IPython.core.display.HTML object>"
            ],
            "text/html": [
              "Query job ce6616b7-6f49-40a3-98be-c475513ad926 is DONE. 2 Bytes processed. <a target=\"_blank\" href=\"https://console.cloud.google.com/bigquery?project=qwiklabs-gcp-00-7d81a74347ee&j=bq:US:ce6616b7-6f49-40a3-98be-c475513ad926&page=queryresults\">Open Job</a>"
            ]
          },
          "metadata": {}
        },
        {
          "output_type": "display_data",
          "data": {
            "text/plain": [
              "<IPython.core.display.HTML object>"
            ],
            "text/html": [
              "Query job a297a9e1-0c89-4bd7-870f-9b2a15324eee is DONE. 2.1 kB processed. <a target=\"_blank\" href=\"https://console.cloud.google.com/bigquery?project=qwiklabs-gcp-00-7d81a74347ee&j=bq:US:a297a9e1-0c89-4bd7-870f-9b2a15324eee&page=queryresults\">Open Job</a>"
            ]
          },
          "metadata": {}
        },
        {
          "output_type": "stream",
          "name": "stdout",
          "text": [
            " **Cluster 1:**\n",
            "\n",
            "* **Title:** The Occasional Treaters\n",
            "* **Persona:** These customers are not frequent shoppers but when they do make a purchase, they tend to spend a significant amount. They may be buying for special occasions or splurging on luxury items.\n",
            "* **Next Marketing Step:** Target these customers with personalized emails and exclusive offers to encourage them to make repeat purchases.\n",
            "\n",
            "**Cluster 2:**\n",
            "\n",
            "* **Title:** The Frequent Value Seekers\n",
            "* **Persona:** These customers are frequent shoppers who are always looking for a good deal. They may be budget-conscious or simply enjoy the thrill of finding a bargain.\n",
            "* **Next Marketing Step:** Offer these customers loyalty programs, discounts, and free shipping to keep them coming back for more.\n",
            "\n",
            "**Cluster 3:**\n",
            "\n",
            "* **Title:** The Loyal Returners\n",
            "* **Persona:** These customers are highly engaged with your brand and frequently make repeat purchases. They may be particularly loyal to your products or services, or they may simply appreciate your customer service.\n",
            "* **Next Marketing Step:** Reward these customers with exclusive perks, such as early access to new products, personalized recommendations, and VIP events.\n",
            "\n",
            "**Cluster 4:**\n",
            "\n",
            "* **Title:** The Casual Shoppers\n",
            "* **Persona:** These customers make occasional purchases but do not spend a significant amount each time. They may be browsing your website or store out of curiosity or they may be looking for a specific item.\n",
            "* **Next Marketing Step:** Retarget these customers with display ads and social media ads to remind them of your brand and encourage them to make a purchase.\n",
            "\n",
            "**Cluster 5:**\n",
            "\n",
            "* **Title:** The Repeat Purchasers\n",
            "* **Persona:** These customers are frequent shoppers who consistently make repeat purchases. They may be particularly fond of your products or services, or they may simply appreciate the convenience of shopping with your brand.\n",
            "* **Next Marketing Step:** Analyze their purchase history and preferences to create personalized recommendations and offers that will encourage them to continue shopping with you.\n"
          ]
        }
      ]
    },
    {
      "cell_type": "markdown",
      "source": [
        "**Voila! We've now used k-Means clustering to create groups of spenders and explain their profiles.**"
      ],
      "metadata": {
        "id": "jqC5uUguaunY"
      }
    },
    {
      "cell_type": "markdown",
      "source": [
        "**Congratulations**! You have learned how to use **BigFrames** and manage each step of the process, including gathering data, data manipulation, and querying the LLM."
      ],
      "metadata": {
        "id": "bi8SGY4__aEI"
      }
    },
    {
      "cell_type": "markdown",
      "source": [
        "\n",
        "\n",
        "---\n",
        "\n"
      ],
      "metadata": {
        "id": "oFVRAN2wckHC"
      }
    },
    {
      "cell_type": "markdown",
      "source": [
        "#### **BONUS #1: LLM Prompt Engineering**\n",
        "\n",
        "Sometimes, though, you want a little bit extra.\n",
        "\n",
        "#### **Personalized marketing emails**\n",
        "Think about using Generative AI to also generate personalized marketing emails using witty e-mail headline for marketing campaign targeted to their clusters of customers\n",
        "\n",
        "Reference: [Prompt Generation with Generative AI](https://cloud.google.com/blog/transform/prompt-debunking-five-generative-ai-misconceptions)."
      ],
      "metadata": {
        "id": "5HEVHGmmRyGW"
      }
    },
    {
      "cell_type": "code",
      "source": [
        "\n",
        "\n",
        "cluster_info = str.join('\\n', cluster_info)\n",
        "\n",
        "prompt = f\"\"\"\n",
        "Pretend you're a creative strategist, analyse the following clusters and come up with \\\n",
        "creative brand persona for each that includes the detail of which Taylor Swift song is \\\n",
        "likely to be their favorite, a summary of how this relates to their purchasing behavior, \\\n",
        "and a witty e-mail headline for marketing campaign targeted to their group using \\\n",
        "their predicted favorite song title.\n",
        "\n",
        "Clusters:\n",
        "{cluster_info}\n",
        "\n",
        "\n",
        "For each Cluster:\n",
        "* Cluster:\n",
        "* Interests:\n",
        "* Favorite Taylor Swift Song:\n",
        "* Witty email headline:\n",
        "* Email body:\n",
        "\n",
        "\"\"\"\n"
      ],
      "metadata": {
        "id": "3HgwtN1tR3xQ",
        "executionInfo": {
          "status": "ok",
          "timestamp": 1702329286020,
          "user_tz": 360,
          "elapsed": 2,
          "user": {
            "displayName": "",
            "userId": ""
          }
        }
      },
      "execution_count": 34,
      "outputs": []
    },
    {
      "cell_type": "code",
      "source": [
        "prompt_df = bpd.read_pandas(pd.DataFrame({'prompt': [prompt]}))\n",
        "pred = model.predict(prompt_df, max_output_tokens=1024, temperature=0.55, top_p=0.8, top_k=40)\n",
        "print(pred.iloc[0,0])"
      ],
      "metadata": {
        "id": "PqkskS625o7y",
        "executionInfo": {
          "status": "ok",
          "timestamp": 1702329315603,
          "user_tz": 360,
          "elapsed": 29584,
          "user": {
            "displayName": "",
            "userId": ""
          }
        },
        "colab": {
          "base_uri": "https://localhost:8080/",
          "height": 714
        },
        "outputId": "f1e2ca1a-7b73-415d-c7a2-5ef5eb3dc2b4"
      },
      "execution_count": 35,
      "outputs": [
        {
          "output_type": "display_data",
          "data": {
            "text/plain": [
              "<IPython.core.display.HTML object>"
            ],
            "text/html": [
              "Load job 5d35d662-506e-46aa-bbc7-7e780cf937d2 is DONE. <a target=\"_blank\" href=\"https://console.cloud.google.com/bigquery?project=qwiklabs-gcp-00-7d81a74347ee&j=bq:US:5d35d662-506e-46aa-bbc7-7e780cf937d2&page=queryresults\">Open Job</a>"
            ]
          },
          "metadata": {}
        },
        {
          "output_type": "display_data",
          "data": {
            "text/plain": [
              "<IPython.core.display.HTML object>"
            ],
            "text/html": [
              "Query job 18bc7f9a-7f6e-4f69-b21c-a84f7eed5ded is DONE. 1.1 kB processed. <a target=\"_blank\" href=\"https://console.cloud.google.com/bigquery?project=qwiklabs-gcp-00-7d81a74347ee&j=bq:US:18bc7f9a-7f6e-4f69-b21c-a84f7eed5ded&page=queryresults\">Open Job</a>"
            ]
          },
          "metadata": {}
        },
        {
          "output_type": "display_data",
          "data": {
            "text/plain": [
              "<IPython.core.display.HTML object>"
            ],
            "text/html": [
              "Query job 58ca3177-0877-46f9-9674-3a897d0b5663 is DONE. 8 Bytes processed. <a target=\"_blank\" href=\"https://console.cloud.google.com/bigquery?project=qwiklabs-gcp-00-7d81a74347ee&j=bq:US:58ca3177-0877-46f9-9674-3a897d0b5663&page=queryresults\">Open Job</a>"
            ]
          },
          "metadata": {}
        },
        {
          "output_type": "display_data",
          "data": {
            "text/plain": [
              "<IPython.core.display.HTML object>"
            ],
            "text/html": [
              "Query job 454d61bb-7c32-43a5-992f-0e24b5a40053 is DONE. 2 Bytes processed. <a target=\"_blank\" href=\"https://console.cloud.google.com/bigquery?project=qwiklabs-gcp-00-7d81a74347ee&j=bq:US:454d61bb-7c32-43a5-992f-0e24b5a40053&page=queryresults\">Open Job</a>"
            ]
          },
          "metadata": {}
        },
        {
          "output_type": "display_data",
          "data": {
            "text/plain": [
              "<IPython.core.display.HTML object>"
            ],
            "text/html": [
              "Query job 702b836b-ff87-4e8a-85a2-5f01d9bfdcbe is DONE. 3.1 kB processed. <a target=\"_blank\" href=\"https://console.cloud.google.com/bigquery?project=qwiklabs-gcp-00-7d81a74347ee&j=bq:US:702b836b-ff87-4e8a-85a2-5f01d9bfdcbe&page=queryresults\">Open Job</a>"
            ]
          },
          "metadata": {}
        },
        {
          "output_type": "stream",
          "name": "stdout",
          "text": [
            " **Cluster 1:**\n",
            "\n",
            "* **Interests:** High spenders who make infrequent purchases and rarely return items. They may be looking for high-quality, luxury items that they will keep for a long time.\n",
            "* **Favorite Taylor Swift Song:** \"The Last Time\" (featuring Gary Lightbody of Snow Patrol)\n",
            "* **Witty email headline:** \"Love that lasts: Timeless pieces for the discerning collector\"\n",
            "* **Email body:** \"Discover our curated collection of timeless pieces that are sure to become your favorites for years to come. From elegant jewelry to luxurious handbags, we have something for every taste. Treat yourself to the best and enjoy the thrill of owning something truly special.\"\n",
            "\n",
            "**Cluster 2:**\n",
            "\n",
            "* **Interests:** Moderate spenders who make frequent purchases and have a slightly higher return ratio. They may be looking for trendy, affordable items that they can wear or use for a shorter period of time.\n",
            "* **Favorite Taylor Swift Song:** \"Shake It Off\"\n",
            "* **Witty email headline:** \"Shake up your style: Fresh finds for the trendsetter in you\"\n",
            "* **Email body:** \"Get ready to turn heads with our latest collection of on-trend pieces. From bold prints to statement accessories, we have everything you need to stay ahead of the curve. Shop now and be the first to rock the hottest looks of the season.\"\n",
            "\n",
            "**Cluster 3:**\n",
            "\n",
            "* **Interests:** Moderate spenders who make a moderate number of purchases and have a very high return ratio. They may be looking for items that they can try on or experiment with before deciding whether to keep them.\n",
            "* **Favorite Taylor Swift Song:** \"Wildest Dreams\"\n",
            "* **Witty email headline:** \"Dare to dream: Discover your wildest fashion fantasies\"\n",
            "* **Email body:** \"Step into a world of endless possibilities with our collection of dreamy pieces. From flowy dresses to whimsical accessories, we have everything you need to create your own unique style. Embrace your inner fashionista and let your dreams come true.\"\n",
            "\n",
            "**Cluster 4:**\n",
            "\n",
            "* **Interests:** Low spenders who make infrequent purchases and rarely return items. They may be looking for basic, everyday items that they can use for a long time.\n",
            "* **Favorite Taylor Swift Song:** \"You Need to Calm Down\"\n",
            "* **Witty email headline:** \"Calm your spending: Everyday essentials at prices that won't break the bank\"\n",
            "* **Email body:** \"Take a deep breath and relax. We've got you covered with our collection of everyday essentials at prices that won't make you sweat. From cozy loungewear to practical kitchen gadgets, we have everything you need to keep your life running smoothly.\"\n",
            "\n",
            "**Cluster 5:**\n",
            "\n",
            "* **Interests:** Low spenders who make frequent purchases and have a low return ratio. They may be looking for affordable, disposable items that they can use for a short period of time.\n",
            "* **Favorite Taylor Swift Song:** \"22\"\n",
            "* **Witty email headline:** \"Turn it up to 22: Celebrate life with our fun and affordable finds\"\n",
            "* **Email body:** \"Get ready to party with our collection of fun and affordable finds. From statement jewelry to playful accessories, we have everything you need to make every day a celebration. Live it up and enjoy the moment with our budget-friendly picks.\"\n"
          ]
        }
      ]
    },
    {
      "cell_type": "markdown",
      "source": [
        "#### **BONUS #2: Generate Python in your Notebook**\n",
        "\n",
        "If you have Duet AI enabled on your project, you can begin to generate Python directly within your Notebook:\n",
        "* Open a new Code cell\n",
        "* Click \"Generate with AI\"\n",
        "* Paste one of the prompts below and hit Enter\n",
        "* Generate Python code should appear in the cell\n"
      ],
      "metadata": {
        "id": "LT8lVXaCGDtK"
      }
    },
    {
      "cell_type": "code",
      "source": [
        "# prompt: 10 random numbers using numpy"
      ],
      "metadata": {
        "id": "zLFewJ8iGbLz",
        "executionInfo": {
          "status": "ok",
          "timestamp": 1702329315603,
          "user_tz": 360,
          "elapsed": 3,
          "user": {
            "displayName": "",
            "userId": ""
          }
        }
      },
      "execution_count": 36,
      "outputs": []
    },
    {
      "cell_type": "code",
      "source": [
        "# prompt: generate a bigframes dataframe from the table bigquery-public-data.thelook_ecommerce.order_items"
      ],
      "metadata": {
        "id": "ysTumh3TkcYU",
        "executionInfo": {
          "status": "ok",
          "timestamp": 1702329315603,
          "user_tz": 360,
          "elapsed": 2,
          "user": {
            "displayName": "",
            "userId": ""
          }
        }
      },
      "execution_count": 37,
      "outputs": []
    },
    {
      "cell_type": "code",
      "source": [
        "# prompt: write some sql that queries the table bigquery-public-data.thelook_ecommerce.order_items.  Don't use python. Use %%bigquery."
      ],
      "metadata": {
        "id": "b3J4r9FXmPfs",
        "executionInfo": {
          "status": "ok",
          "timestamp": 1702329315603,
          "user_tz": 360,
          "elapsed": 2,
          "user": {
            "displayName": "",
            "userId": ""
          }
        }
      },
      "execution_count": 38,
      "outputs": []
    }
  ]
}