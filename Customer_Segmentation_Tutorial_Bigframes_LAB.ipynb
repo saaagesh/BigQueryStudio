{
  "nbformat": 4,
  "nbformat_minor": 0,
  "metadata": {
    "colab": {
      "provenance": []
    },
    "kernelspec": {
      "name": "python3",
      "display_name": "Python 3"
    },
    "language_info": {
      "name": "python"
    }
  },
  "cells": [
    {
      "cell_type": "markdown",
      "source": [
        "#Generate customer clusters and generate marketing messages BigQuery DataFrames and GenAI\n",
        "\n",
        "##Overview\n",
        "Within the **BigQuery Studio** workspace, you can use a Colab Enterprise notebook interface and a workspace to save and share your notebooks. The notebooks come with **BigQuery DataFrames**, which provide a Pythonic DataFrame and ML API powered by the BigQuery engine. The operations happen in BigQuery at scale rather than within the notebook runtime.\n",
        "\n",
        "*   [bigframes.pandas](https://cloud.google.com/python/docs/reference/bigframes/latest/bigframes.dataframe.DataFrame) provides a pandas-compatible API for analytics.\n",
        "*   [bigframes.ml](https://cloud.google.com/python/docs/reference/bigframes/latest/bigframes.ml.cluster) provides a scikit-learn-like API for ML.\n",
        "*   [bigframes.ml.llm](https://cloud.google.com/python/docs/reference/bigframes/latest/bigframes.ml.llm) provides LLM capabilities.\n",
        "\n",
        "BigQuery DataFrames is an open-source Python package. It is pre-installed on  BigQuery Studio Python notebooks.  Additionally, you can always run `pip install --upgrade bigframes` to install the latest version.\n",
        "\n",
        "\n",
        "\n",
        "## Objectives\n",
        "This example illustrates a common Data to AI journey from data exploration to constructing a k-means machine learning model with BigFrames to segment customers of similar behaviors and demographics. Subsequently, Generative AI is applied to leverage cluster information and customer messaging to activate marketing campaigns. In doing so, you can build a data-centric, personalized marketing campaign all from BigQuery!\n",
        "\n",
        "In this tutorial, you will:\n",
        "\n",
        "* Generate features using BigQuery DataFrames\n",
        "* Perform basic data exploration\n",
        "* Implement a k-means clustering model with BigFrames\n",
        "* Produce cluster descriptive statistics\n",
        "* Utilize Generative AI to articulate ML model outputs in natural language for business users\n",
        "* (Bonus) Use Generative AI to craft engaging emails tailored to customer segments.\n",
        "\n",
        "\n",
        "\n",
        "\n",
        "###Helpful Links\n",
        "\n",
        "* [BigFrames API Reference](https://cloud.google.com/python/docs/reference/bigframes/latest)\n",
        "\n",
        "\n",
        "* [BigFrames GitHub page with sample notebooks](https://github.com/googleapis/python-bigquery-dataframes)\n",
        "\n",
        "* [Troubleshooting notebook runtimes](https://cloud.google.com/colab/docs/troubleshooting)\n"
      ],
      "metadata": {
        "id": "Sxq-V_jV4gEk"
      }
    },
    {
      "cell_type": "markdown",
      "source": [
        "## Before you Begin : Setup Steps\n"
      ],
      "metadata": {
        "id": "05KJTULrIrbP"
      }
    },
    {
      "cell_type": "markdown",
      "source": [
        "## Instal the `bigframes` package."
      ],
      "metadata": {
        "id": "Fo3s2ujertLo"
      }
    },
    {
      "cell_type": "code",
      "source": [
        "!pip install --upgrade bigframes"
      ],
      "metadata": {
        "colab": {
          "base_uri": "https://localhost:8080/"
        },
        "id": "SNJdanrQM0IT",
        "outputId": "60bd59ae-69f7-4771-e785-765d1ba869c3",
        "executionInfo": {
          "status": "ok",
          "timestamp": 1701796029561,
          "user_tz": 360,
          "elapsed": 21816,
          "user": {
            "displayName": "",
            "userId": ""
          }
        }
      },
      "execution_count": 1,
      "outputs": [
        {
          "output_type": "stream",
          "name": "stdout",
          "text": [
            "Requirement already satisfied: bigframes in /usr/local/lib/python3.10/dist-packages (0.13.0)\n",
            "Collecting bigframes\n",
            "  Downloading bigframes-0.15.0-py2.py3-none-any.whl (392 kB)\n",
            "\u001b[2K     \u001b[90m━━━━━━━━━━━━━━━━━━━━━━━━━━━━━━━━━━━━━━━━\u001b[0m \u001b[32m392.1/392.1 kB\u001b[0m \u001b[31m2.8 MB/s\u001b[0m eta \u001b[36m0:00:00\u001b[0m\n",
            "\u001b[?25hRequirement already satisfied: cloudpickle>=2.0.0 in /usr/local/lib/python3.10/dist-packages (from bigframes) (2.2.1)\n",
            "Requirement already satisfied: fsspec>=2023.3.0 in /usr/local/lib/python3.10/dist-packages (from bigframes) (2023.6.0)\n",
            "Requirement already satisfied: gcsfs>=2023.3.0 in /usr/local/lib/python3.10/dist-packages (from bigframes) (2023.6.0)\n",
            "Requirement already satisfied: geopandas>=0.12.2 in /usr/local/lib/python3.10/dist-packages (from bigframes) (0.13.2)\n",
            "Requirement already satisfied: google-auth<3.0dev,>2.14.1 in /usr/local/lib/python3.10/dist-packages (from bigframes) (2.17.3)\n",
            "Requirement already satisfied: google-cloud-bigquery[bqstorage,pandas]>=3.10.0 in /usr/local/lib/python3.10/dist-packages (from bigframes) (3.12.0)\n",
            "Requirement already satisfied: google-cloud-functions>=1.10.1 in /usr/local/lib/python3.10/dist-packages (from bigframes) (1.13.3)\n",
            "Requirement already satisfied: google-cloud-bigquery-connection>=1.12.0 in /usr/local/lib/python3.10/dist-packages (from bigframes) (1.12.1)\n",
            "Requirement already satisfied: google-cloud-iam>=2.12.1 in /usr/local/lib/python3.10/dist-packages (from bigframes) (2.12.2)\n",
            "Requirement already satisfied: google-cloud-resource-manager>=1.10.3 in /usr/local/lib/python3.10/dist-packages (from bigframes) (1.10.4)\n",
            "Requirement already satisfied: google-cloud-storage>=2.0.0 in /usr/local/lib/python3.10/dist-packages (from bigframes) (2.8.0)\n",
            "Requirement already satisfied: ibis-framework[bigquery]<7.0.0dev,>=6.2.0 in /usr/local/lib/python3.10/dist-packages (from bigframes) (6.2.0)\n",
            "Requirement already satisfied: pandas>=1.5.0 in /usr/local/lib/python3.10/dist-packages (from bigframes) (1.5.3)\n",
            "Requirement already satisfied: pydata-google-auth>=1.8.2 in /usr/local/lib/python3.10/dist-packages (from bigframes) (1.8.2)\n",
            "Requirement already satisfied: requests>=2.27.1 in /usr/local/lib/python3.10/dist-packages (from bigframes) (2.31.0)\n",
            "Requirement already satisfied: scikit-learn>=1.2.2 in /usr/local/lib/python3.10/dist-packages (from bigframes) (1.2.2)\n",
            "Requirement already satisfied: sqlalchemy<3.0dev,>=1.4 in /usr/local/lib/python3.10/dist-packages (from bigframes) (2.0.23)\n",
            "Requirement already satisfied: tabulate>=0.9 in /usr/local/lib/python3.10/dist-packages (from bigframes) (0.9.0)\n",
            "Requirement already satisfied: ipywidgets>=7.7.1 in /usr/local/lib/python3.10/dist-packages (from bigframes) (7.7.1)\n",
            "Requirement already satisfied: humanize>=4.6.0 in /usr/local/lib/python3.10/dist-packages (from bigframes) (4.7.0)\n",
            "Requirement already satisfied: aiohttp!=4.0.0a0,!=4.0.0a1 in /usr/local/lib/python3.10/dist-packages (from gcsfs>=2023.3.0->bigframes) (3.8.6)\n",
            "Requirement already satisfied: decorator>4.1.2 in /usr/local/lib/python3.10/dist-packages (from gcsfs>=2023.3.0->bigframes) (4.4.2)\n",
            "Requirement already satisfied: google-auth-oauthlib in /usr/local/lib/python3.10/dist-packages (from gcsfs>=2023.3.0->bigframes) (1.0.0)\n",
            "Requirement already satisfied: fiona>=1.8.19 in /usr/local/lib/python3.10/dist-packages (from geopandas>=0.12.2->bigframes) (1.9.5)\n",
            "Requirement already satisfied: packaging in /usr/local/lib/python3.10/dist-packages (from geopandas>=0.12.2->bigframes) (23.2)\n",
            "Requirement already satisfied: pyproj>=3.0.1 in /usr/local/lib/python3.10/dist-packages (from geopandas>=0.12.2->bigframes) (3.6.1)\n",
            "Requirement already satisfied: shapely>=1.7.1 in /usr/local/lib/python3.10/dist-packages (from geopandas>=0.12.2->bigframes) (2.0.2)\n",
            "Requirement already satisfied: cachetools<6.0,>=2.0.0 in /usr/local/lib/python3.10/dist-packages (from google-auth<3.0dev,>2.14.1->bigframes) (5.3.2)\n",
            "Requirement already satisfied: pyasn1-modules>=0.2.1 in /usr/local/lib/python3.10/dist-packages (from google-auth<3.0dev,>2.14.1->bigframes) (0.3.0)\n",
            "Requirement already satisfied: six>=1.9.0 in /usr/local/lib/python3.10/dist-packages (from google-auth<3.0dev,>2.14.1->bigframes) (1.16.0)\n",
            "Requirement already satisfied: rsa<5,>=3.1.4 in /usr/local/lib/python3.10/dist-packages (from google-auth<3.0dev,>2.14.1->bigframes) (4.9)\n",
            "Requirement already satisfied: google-api-core[grpc]!=2.0.*,!=2.1.*,!=2.10.*,!=2.2.*,!=2.3.*,!=2.4.*,!=2.5.*,!=2.6.*,!=2.7.*,!=2.8.*,!=2.9.*,<3.0.0dev,>=1.34.0 in /usr/local/lib/python3.10/dist-packages (from google-cloud-bigquery-connection>=1.12.0->bigframes) (2.11.1)\n",
            "Requirement already satisfied: proto-plus<2.0.0dev,>=1.22.0 in /usr/local/lib/python3.10/dist-packages (from google-cloud-bigquery-connection>=1.12.0->bigframes) (1.22.3)\n",
            "Requirement already satisfied: protobuf!=3.20.0,!=3.20.1,!=4.21.0,!=4.21.1,!=4.21.2,!=4.21.3,!=4.21.4,!=4.21.5,<5.0.0dev,>=3.19.5 in /usr/local/lib/python3.10/dist-packages (from google-cloud-bigquery-connection>=1.12.0->bigframes) (3.20.3)\n",
            "Requirement already satisfied: grpc-google-iam-v1<1.0.0dev,>=0.12.4 in /usr/local/lib/python3.10/dist-packages (from google-cloud-bigquery-connection>=1.12.0->bigframes) (0.12.7)\n",
            "Requirement already satisfied: grpcio<2.0dev,>=1.47.0 in /usr/local/lib/python3.10/dist-packages (from google-cloud-bigquery[bqstorage,pandas]>=3.10.0->bigframes) (1.51.3)\n",
            "Requirement already satisfied: google-cloud-core<3.0.0dev,>=1.6.0 in /usr/local/lib/python3.10/dist-packages (from google-cloud-bigquery[bqstorage,pandas]>=3.10.0->bigframes) (2.3.3)\n",
            "Requirement already satisfied: google-resumable-media<3.0dev,>=0.6.0 in /usr/local/lib/python3.10/dist-packages (from google-cloud-bigquery[bqstorage,pandas]>=3.10.0->bigframes) (2.6.0)\n",
            "Requirement already satisfied: python-dateutil<3.0dev,>=2.7.2 in /usr/local/lib/python3.10/dist-packages (from google-cloud-bigquery[bqstorage,pandas]>=3.10.0->bigframes) (2.8.2)\n",
            "Requirement already satisfied: pyarrow>=3.0.0 in /usr/local/lib/python3.10/dist-packages (from google-cloud-bigquery[bqstorage,pandas]>=3.10.0->bigframes) (9.0.0)\n",
            "Requirement already satisfied: db-dtypes<2.0.0dev,>=0.3.0 in /usr/local/lib/python3.10/dist-packages (from google-cloud-bigquery[bqstorage,pandas]>=3.10.0->bigframes) (1.1.1)\n",
            "Requirement already satisfied: google-cloud-bigquery-storage<3.0.0dev,>=2.6.0 in /usr/local/lib/python3.10/dist-packages (from google-cloud-bigquery[bqstorage,pandas]>=3.10.0->bigframes) (2.22.0)\n",
            "Requirement already satisfied: atpublic<5,>=2.3 in /usr/local/lib/python3.10/dist-packages (from ibis-framework[bigquery]<7.0.0dev,>=6.2.0->bigframes) (4.0)\n",
            "Requirement already satisfied: bidict<1,>=0.22.1 in /usr/local/lib/python3.10/dist-packages (from ibis-framework[bigquery]<7.0.0dev,>=6.2.0->bigframes) (0.22.1)\n",
            "Requirement already satisfied: filelock<4,>=3.7.0 in /usr/local/lib/python3.10/dist-packages (from ibis-framework[bigquery]<7.0.0dev,>=6.2.0->bigframes) (3.13.1)\n",
            "Requirement already satisfied: multipledispatch<2,>=0.6 in /usr/local/lib/python3.10/dist-packages (from ibis-framework[bigquery]<7.0.0dev,>=6.2.0->bigframes) (1.0.0)\n",
            "Requirement already satisfied: numpy<2,>=1 in /usr/local/lib/python3.10/dist-packages (from ibis-framework[bigquery]<7.0.0dev,>=6.2.0->bigframes) (1.23.5)\n",
            "Requirement already satisfied: parsy<3,>=2 in /usr/local/lib/python3.10/dist-packages (from ibis-framework[bigquery]<7.0.0dev,>=6.2.0->bigframes) (2.1)\n",
            "Requirement already satisfied: pooch[progress,xxhash]<2,>=1.6.0 in /usr/local/lib/python3.10/dist-packages (from ibis-framework[bigquery]<7.0.0dev,>=6.2.0->bigframes) (1.8.0)\n",
            "Requirement already satisfied: pytz>=2022.7 in /usr/local/lib/python3.10/dist-packages (from ibis-framework[bigquery]<7.0.0dev,>=6.2.0->bigframes) (2023.3.post1)\n",
            "Requirement already satisfied: rich<14,>=12.4.4 in /usr/local/lib/python3.10/dist-packages (from ibis-framework[bigquery]<7.0.0dev,>=6.2.0->bigframes) (13.7.0)\n",
            "Requirement already satisfied: sqlglot<18,>=10.4.3 in /usr/local/lib/python3.10/dist-packages (from ibis-framework[bigquery]<7.0.0dev,>=6.2.0->bigframes) (17.16.2)\n",
            "Requirement already satisfied: toolz<1,>=0.11 in /usr/local/lib/python3.10/dist-packages (from ibis-framework[bigquery]<7.0.0dev,>=6.2.0->bigframes) (0.12.0)\n",
            "Requirement already satisfied: typing-extensions<5,>=4.3.0 in /usr/local/lib/python3.10/dist-packages (from ibis-framework[bigquery]<7.0.0dev,>=6.2.0->bigframes) (4.5.0)\n",
            "Requirement already satisfied: ipykernel>=4.5.1 in /usr/local/lib/python3.10/dist-packages (from ipywidgets>=7.7.1->bigframes) (5.5.6)\n",
            "Requirement already satisfied: ipython-genutils~=0.2.0 in /usr/local/lib/python3.10/dist-packages (from ipywidgets>=7.7.1->bigframes) (0.2.0)\n",
            "Requirement already satisfied: traitlets>=4.3.1 in /usr/local/lib/python3.10/dist-packages (from ipywidgets>=7.7.1->bigframes) (5.7.1)\n",
            "Requirement already satisfied: widgetsnbextension~=3.6.0 in /usr/local/lib/python3.10/dist-packages (from ipywidgets>=7.7.1->bigframes) (3.6.6)\n",
            "Requirement already satisfied: ipython>=4.0.0 in /usr/local/lib/python3.10/dist-packages (from ipywidgets>=7.7.1->bigframes) (7.34.0)\n",
            "Requirement already satisfied: jupyterlab-widgets>=1.0.0 in /usr/local/lib/python3.10/dist-packages (from ipywidgets>=7.7.1->bigframes) (3.0.9)\n",
            "Requirement already satisfied: setuptools in /usr/local/lib/python3.10/dist-packages (from pydata-google-auth>=1.8.2->bigframes) (67.7.2)\n",
            "Requirement already satisfied: charset-normalizer<4,>=2 in /usr/local/lib/python3.10/dist-packages (from requests>=2.27.1->bigframes) (3.3.2)\n",
            "Requirement already satisfied: idna<4,>=2.5 in /usr/local/lib/python3.10/dist-packages (from requests>=2.27.1->bigframes) (3.4)\n",
            "Requirement already satisfied: urllib3<3,>=1.21.1 in /usr/local/lib/python3.10/dist-packages (from requests>=2.27.1->bigframes) (2.0.7)\n",
            "Requirement already satisfied: certifi>=2017.4.17 in /usr/local/lib/python3.10/dist-packages (from requests>=2.27.1->bigframes) (2023.7.22)\n",
            "Requirement already satisfied: scipy>=1.3.2 in /usr/local/lib/python3.10/dist-packages (from scikit-learn>=1.2.2->bigframes) (1.11.3)\n",
            "Requirement already satisfied: joblib>=1.1.1 in /usr/local/lib/python3.10/dist-packages (from scikit-learn>=1.2.2->bigframes) (1.3.2)\n",
            "Requirement already satisfied: threadpoolctl>=2.0.0 in /usr/local/lib/python3.10/dist-packages (from scikit-learn>=1.2.2->bigframes) (3.2.0)\n",
            "Requirement already satisfied: greenlet!=0.4.17 in /usr/local/lib/python3.10/dist-packages (from sqlalchemy<3.0dev,>=1.4->bigframes) (3.0.1)\n",
            "Requirement already satisfied: attrs>=17.3.0 in /usr/local/lib/python3.10/dist-packages (from aiohttp!=4.0.0a0,!=4.0.0a1->gcsfs>=2023.3.0->bigframes) (23.1.0)\n",
            "Requirement already satisfied: multidict<7.0,>=4.5 in /usr/local/lib/python3.10/dist-packages (from aiohttp!=4.0.0a0,!=4.0.0a1->gcsfs>=2023.3.0->bigframes) (6.0.4)\n",
            "Requirement already satisfied: async-timeout<5.0,>=4.0.0a3 in /usr/local/lib/python3.10/dist-packages (from aiohttp!=4.0.0a0,!=4.0.0a1->gcsfs>=2023.3.0->bigframes) (4.0.3)\n",
            "Requirement already satisfied: yarl<2.0,>=1.0 in /usr/local/lib/python3.10/dist-packages (from aiohttp!=4.0.0a0,!=4.0.0a1->gcsfs>=2023.3.0->bigframes) (1.9.2)\n",
            "Requirement already satisfied: frozenlist>=1.1.1 in /usr/local/lib/python3.10/dist-packages (from aiohttp!=4.0.0a0,!=4.0.0a1->gcsfs>=2023.3.0->bigframes) (1.4.0)\n",
            "Requirement already satisfied: aiosignal>=1.1.2 in /usr/local/lib/python3.10/dist-packages (from aiohttp!=4.0.0a0,!=4.0.0a1->gcsfs>=2023.3.0->bigframes) (1.3.1)\n",
            "Requirement already satisfied: click~=8.0 in /usr/local/lib/python3.10/dist-packages (from fiona>=1.8.19->geopandas>=0.12.2->bigframes) (8.1.7)\n",
            "Requirement already satisfied: click-plugins>=1.0 in /usr/local/lib/python3.10/dist-packages (from fiona>=1.8.19->geopandas>=0.12.2->bigframes) (1.1.1)\n",
            "Requirement already satisfied: cligj>=0.5 in /usr/local/lib/python3.10/dist-packages (from fiona>=1.8.19->geopandas>=0.12.2->bigframes) (0.7.2)\n",
            "Requirement already satisfied: googleapis-common-protos<2.0.dev0,>=1.56.2 in /usr/local/lib/python3.10/dist-packages (from google-api-core[grpc]!=2.0.*,!=2.1.*,!=2.10.*,!=2.2.*,!=2.3.*,!=2.4.*,!=2.5.*,!=2.6.*,!=2.7.*,!=2.8.*,!=2.9.*,<3.0.0dev,>=1.34.0->google-cloud-bigquery-connection>=1.12.0->bigframes) (1.61.0)\n",
            "Requirement already satisfied: grpcio-status<2.0.dev0,>=1.33.2 in /usr/local/lib/python3.10/dist-packages (from google-api-core[grpc]!=2.0.*,!=2.1.*,!=2.10.*,!=2.2.*,!=2.3.*,!=2.4.*,!=2.5.*,!=2.6.*,!=2.7.*,!=2.8.*,!=2.9.*,<3.0.0dev,>=1.34.0->google-cloud-bigquery-connection>=1.12.0->bigframes) (1.48.2)\n",
            "Requirement already satisfied: requests-oauthlib>=0.7.0 in /usr/local/lib/python3.10/dist-packages (from google-auth-oauthlib->gcsfs>=2023.3.0->bigframes) (1.3.1)\n",
            "Requirement already satisfied: google-crc32c<2.0dev,>=1.0 in /usr/local/lib/python3.10/dist-packages (from google-resumable-media<3.0dev,>=0.6.0->google-cloud-bigquery[bqstorage,pandas]>=3.10.0->bigframes) (1.5.0)\n",
            "Requirement already satisfied: jupyter-client in /usr/local/lib/python3.10/dist-packages (from ipykernel>=4.5.1->ipywidgets>=7.7.1->bigframes) (6.1.12)\n",
            "Requirement already satisfied: tornado>=4.2 in /usr/local/lib/python3.10/dist-packages (from ipykernel>=4.5.1->ipywidgets>=7.7.1->bigframes) (6.3.2)\n",
            "Collecting jedi>=0.16 (from ipython>=4.0.0->ipywidgets>=7.7.1->bigframes)\n",
            "  Downloading jedi-0.19.1-py2.py3-none-any.whl (1.6 MB)\n",
            "\u001b[2K     \u001b[90m━━━━━━━━━━━━━━━━━━━━━━━━━━━━━━━━━━━━━━━━\u001b[0m \u001b[32m1.6/1.6 MB\u001b[0m \u001b[31m17.2 MB/s\u001b[0m eta \u001b[36m0:00:00\u001b[0m\n",
            "\u001b[?25hRequirement already satisfied: pickleshare in /usr/local/lib/python3.10/dist-packages (from ipython>=4.0.0->ipywidgets>=7.7.1->bigframes) (0.7.5)\n",
            "Requirement already satisfied: prompt-toolkit!=3.0.0,!=3.0.1,<3.1.0,>=2.0.0 in /usr/local/lib/python3.10/dist-packages (from ipython>=4.0.0->ipywidgets>=7.7.1->bigframes) (3.0.41)\n",
            "Requirement already satisfied: pygments in /usr/local/lib/python3.10/dist-packages (from ipython>=4.0.0->ipywidgets>=7.7.1->bigframes) (2.16.1)\n",
            "Requirement already satisfied: backcall in /usr/local/lib/python3.10/dist-packages (from ipython>=4.0.0->ipywidgets>=7.7.1->bigframes) (0.2.0)\n",
            "Requirement already satisfied: matplotlib-inline in /usr/local/lib/python3.10/dist-packages (from ipython>=4.0.0->ipywidgets>=7.7.1->bigframes) (0.1.6)\n",
            "Requirement already satisfied: pexpect>4.3 in /usr/local/lib/python3.10/dist-packages (from ipython>=4.0.0->ipywidgets>=7.7.1->bigframes) (4.8.0)\n",
            "Requirement already satisfied: platformdirs>=2.5.0 in /usr/local/lib/python3.10/dist-packages (from pooch[progress,xxhash]<2,>=1.6.0->ibis-framework[bigquery]<7.0.0dev,>=6.2.0->bigframes) (3.11.0)\n",
            "Requirement already satisfied: xxhash>=1.4.3 in /usr/local/lib/python3.10/dist-packages (from pooch[progress,xxhash]<2,>=1.6.0->ibis-framework[bigquery]<7.0.0dev,>=6.2.0->bigframes) (3.4.1)\n",
            "Requirement already satisfied: tqdm<5.0.0,>=4.41.0 in /usr/local/lib/python3.10/dist-packages (from pooch[progress,xxhash]<2,>=1.6.0->ibis-framework[bigquery]<7.0.0dev,>=6.2.0->bigframes) (4.66.1)\n",
            "Requirement already satisfied: pyasn1<0.6.0,>=0.4.6 in /usr/local/lib/python3.10/dist-packages (from pyasn1-modules>=0.2.1->google-auth<3.0dev,>2.14.1->bigframes) (0.5.0)\n",
            "Requirement already satisfied: markdown-it-py>=2.2.0 in /usr/local/lib/python3.10/dist-packages (from rich<14,>=12.4.4->ibis-framework[bigquery]<7.0.0dev,>=6.2.0->bigframes) (3.0.0)\n",
            "Requirement already satisfied: notebook>=4.4.1 in /usr/local/lib/python3.10/dist-packages (from widgetsnbextension~=3.6.0->ipywidgets>=7.7.1->bigframes) (6.5.5)\n",
            "Requirement already satisfied: parso<0.9.0,>=0.8.3 in /usr/local/lib/python3.10/dist-packages (from jedi>=0.16->ipython>=4.0.0->ipywidgets>=7.7.1->bigframes) (0.8.3)\n",
            "Requirement already satisfied: mdurl~=0.1 in /usr/local/lib/python3.10/dist-packages (from markdown-it-py>=2.2.0->rich<14,>=12.4.4->ibis-framework[bigquery]<7.0.0dev,>=6.2.0->bigframes) (0.1.2)\n",
            "Requirement already satisfied: jinja2 in /usr/local/lib/python3.10/dist-packages (from notebook>=4.4.1->widgetsnbextension~=3.6.0->ipywidgets>=7.7.1->bigframes) (3.1.2)\n",
            "Requirement already satisfied: pyzmq<25,>=17 in /usr/local/lib/python3.10/dist-packages (from notebook>=4.4.1->widgetsnbextension~=3.6.0->ipywidgets>=7.7.1->bigframes) (23.2.1)\n",
            "Requirement already satisfied: argon2-cffi in /usr/local/lib/python3.10/dist-packages (from notebook>=4.4.1->widgetsnbextension~=3.6.0->ipywidgets>=7.7.1->bigframes) (23.1.0)\n",
            "Requirement already satisfied: jupyter-core>=4.6.1 in /usr/local/lib/python3.10/dist-packages (from notebook>=4.4.1->widgetsnbextension~=3.6.0->ipywidgets>=7.7.1->bigframes) (5.5.0)\n",
            "Requirement already satisfied: nbformat in /usr/local/lib/python3.10/dist-packages (from notebook>=4.4.1->widgetsnbextension~=3.6.0->ipywidgets>=7.7.1->bigframes) (5.9.2)\n",
            "Requirement already satisfied: nbconvert>=5 in /usr/local/lib/python3.10/dist-packages (from notebook>=4.4.1->widgetsnbextension~=3.6.0->ipywidgets>=7.7.1->bigframes) (6.5.4)\n",
            "Requirement already satisfied: nest-asyncio>=1.5 in /usr/local/lib/python3.10/dist-packages (from notebook>=4.4.1->widgetsnbextension~=3.6.0->ipywidgets>=7.7.1->bigframes) (1.5.8)\n",
            "Requirement already satisfied: Send2Trash>=1.8.0 in /usr/local/lib/python3.10/dist-packages (from notebook>=4.4.1->widgetsnbextension~=3.6.0->ipywidgets>=7.7.1->bigframes) (1.8.2)\n",
            "Requirement already satisfied: terminado>=0.8.3 in /usr/local/lib/python3.10/dist-packages (from notebook>=4.4.1->widgetsnbextension~=3.6.0->ipywidgets>=7.7.1->bigframes) (0.18.0)\n",
            "Requirement already satisfied: prometheus-client in /usr/local/lib/python3.10/dist-packages (from notebook>=4.4.1->widgetsnbextension~=3.6.0->ipywidgets>=7.7.1->bigframes) (0.18.0)\n",
            "Requirement already satisfied: nbclassic>=0.4.7 in /usr/local/lib/python3.10/dist-packages (from notebook>=4.4.1->widgetsnbextension~=3.6.0->ipywidgets>=7.7.1->bigframes) (1.0.0)\n",
            "Requirement already satisfied: ptyprocess>=0.5 in /usr/local/lib/python3.10/dist-packages (from pexpect>4.3->ipython>=4.0.0->ipywidgets>=7.7.1->bigframes) (0.7.0)\n",
            "Requirement already satisfied: wcwidth in /usr/local/lib/python3.10/dist-packages (from prompt-toolkit!=3.0.0,!=3.0.1,<3.1.0,>=2.0.0->ipython>=4.0.0->ipywidgets>=7.7.1->bigframes) (0.2.10)\n",
            "Requirement already satisfied: oauthlib>=3.0.0 in /usr/local/lib/python3.10/dist-packages (from requests-oauthlib>=0.7.0->google-auth-oauthlib->gcsfs>=2023.3.0->bigframes) (3.2.2)\n",
            "Requirement already satisfied: jupyter-server>=1.8 in /usr/local/lib/python3.10/dist-packages (from nbclassic>=0.4.7->notebook>=4.4.1->widgetsnbextension~=3.6.0->ipywidgets>=7.7.1->bigframes) (1.24.0)\n",
            "Requirement already satisfied: notebook-shim>=0.2.3 in /usr/local/lib/python3.10/dist-packages (from nbclassic>=0.4.7->notebook>=4.4.1->widgetsnbextension~=3.6.0->ipywidgets>=7.7.1->bigframes) (0.2.3)\n",
            "Requirement already satisfied: lxml in /usr/local/lib/python3.10/dist-packages (from nbconvert>=5->notebook>=4.4.1->widgetsnbextension~=3.6.0->ipywidgets>=7.7.1->bigframes) (4.9.3)\n",
            "Requirement already satisfied: beautifulsoup4 in /usr/local/lib/python3.10/dist-packages (from nbconvert>=5->notebook>=4.4.1->widgetsnbextension~=3.6.0->ipywidgets>=7.7.1->bigframes) (4.11.2)\n",
            "Requirement already satisfied: bleach in /usr/local/lib/python3.10/dist-packages (from nbconvert>=5->notebook>=4.4.1->widgetsnbextension~=3.6.0->ipywidgets>=7.7.1->bigframes) (6.1.0)\n",
            "Requirement already satisfied: defusedxml in /usr/local/lib/python3.10/dist-packages (from nbconvert>=5->notebook>=4.4.1->widgetsnbextension~=3.6.0->ipywidgets>=7.7.1->bigframes) (0.7.1)\n",
            "Requirement already satisfied: entrypoints>=0.2.2 in /usr/local/lib/python3.10/dist-packages (from nbconvert>=5->notebook>=4.4.1->widgetsnbextension~=3.6.0->ipywidgets>=7.7.1->bigframes) (0.4)\n",
            "Requirement already satisfied: jupyterlab-pygments in /usr/local/lib/python3.10/dist-packages (from nbconvert>=5->notebook>=4.4.1->widgetsnbextension~=3.6.0->ipywidgets>=7.7.1->bigframes) (0.2.2)\n",
            "Requirement already satisfied: MarkupSafe>=2.0 in /usr/local/lib/python3.10/dist-packages (from nbconvert>=5->notebook>=4.4.1->widgetsnbextension~=3.6.0->ipywidgets>=7.7.1->bigframes) (2.1.3)\n",
            "Requirement already satisfied: mistune<2,>=0.8.1 in /usr/local/lib/python3.10/dist-packages (from nbconvert>=5->notebook>=4.4.1->widgetsnbextension~=3.6.0->ipywidgets>=7.7.1->bigframes) (0.8.4)\n",
            "Requirement already satisfied: nbclient>=0.5.0 in /usr/local/lib/python3.10/dist-packages (from nbconvert>=5->notebook>=4.4.1->widgetsnbextension~=3.6.0->ipywidgets>=7.7.1->bigframes) (0.9.0)\n",
            "Requirement already satisfied: pandocfilters>=1.4.1 in /usr/local/lib/python3.10/dist-packages (from nbconvert>=5->notebook>=4.4.1->widgetsnbextension~=3.6.0->ipywidgets>=7.7.1->bigframes) (1.5.0)\n",
            "Requirement already satisfied: tinycss2 in /usr/local/lib/python3.10/dist-packages (from nbconvert>=5->notebook>=4.4.1->widgetsnbextension~=3.6.0->ipywidgets>=7.7.1->bigframes) (1.2.1)\n",
            "Requirement already satisfied: fastjsonschema in /usr/local/lib/python3.10/dist-packages (from nbformat->notebook>=4.4.1->widgetsnbextension~=3.6.0->ipywidgets>=7.7.1->bigframes) (2.19.0)\n",
            "Requirement already satisfied: jsonschema>=2.6 in /usr/local/lib/python3.10/dist-packages (from nbformat->notebook>=4.4.1->widgetsnbextension~=3.6.0->ipywidgets>=7.7.1->bigframes) (4.19.2)\n",
            "Requirement already satisfied: argon2-cffi-bindings in /usr/local/lib/python3.10/dist-packages (from argon2-cffi->notebook>=4.4.1->widgetsnbextension~=3.6.0->ipywidgets>=7.7.1->bigframes) (21.2.0)\n",
            "Requirement already satisfied: jsonschema-specifications>=2023.03.6 in /usr/local/lib/python3.10/dist-packages (from jsonschema>=2.6->nbformat->notebook>=4.4.1->widgetsnbextension~=3.6.0->ipywidgets>=7.7.1->bigframes) (2023.11.1)\n",
            "Requirement already satisfied: referencing>=0.28.4 in /usr/local/lib/python3.10/dist-packages (from jsonschema>=2.6->nbformat->notebook>=4.4.1->widgetsnbextension~=3.6.0->ipywidgets>=7.7.1->bigframes) (0.31.0)\n",
            "Requirement already satisfied: rpds-py>=0.7.1 in /usr/local/lib/python3.10/dist-packages (from jsonschema>=2.6->nbformat->notebook>=4.4.1->widgetsnbextension~=3.6.0->ipywidgets>=7.7.1->bigframes) (0.13.0)\n",
            "Requirement already satisfied: anyio<4,>=3.1.0 in /usr/local/lib/python3.10/dist-packages (from jupyter-server>=1.8->nbclassic>=0.4.7->notebook>=4.4.1->widgetsnbextension~=3.6.0->ipywidgets>=7.7.1->bigframes) (3.7.1)\n",
            "Requirement already satisfied: websocket-client in /usr/local/lib/python3.10/dist-packages (from jupyter-server>=1.8->nbclassic>=0.4.7->notebook>=4.4.1->widgetsnbextension~=3.6.0->ipywidgets>=7.7.1->bigframes) (1.6.4)\n",
            "Requirement already satisfied: cffi>=1.0.1 in /usr/local/lib/python3.10/dist-packages (from argon2-cffi-bindings->argon2-cffi->notebook>=4.4.1->widgetsnbextension~=3.6.0->ipywidgets>=7.7.1->bigframes) (1.16.0)\n",
            "Requirement already satisfied: soupsieve>1.2 in /usr/local/lib/python3.10/dist-packages (from beautifulsoup4->nbconvert>=5->notebook>=4.4.1->widgetsnbextension~=3.6.0->ipywidgets>=7.7.1->bigframes) (2.5)\n",
            "Requirement already satisfied: webencodings in /usr/local/lib/python3.10/dist-packages (from bleach->nbconvert>=5->notebook>=4.4.1->widgetsnbextension~=3.6.0->ipywidgets>=7.7.1->bigframes) (0.5.1)\n",
            "Requirement already satisfied: sniffio>=1.1 in /usr/local/lib/python3.10/dist-packages (from anyio<4,>=3.1.0->jupyter-server>=1.8->nbclassic>=0.4.7->notebook>=4.4.1->widgetsnbextension~=3.6.0->ipywidgets>=7.7.1->bigframes) (1.3.0)\n",
            "Requirement already satisfied: exceptiongroup in /usr/local/lib/python3.10/dist-packages (from anyio<4,>=3.1.0->jupyter-server>=1.8->nbclassic>=0.4.7->notebook>=4.4.1->widgetsnbextension~=3.6.0->ipywidgets>=7.7.1->bigframes) (1.1.3)\n",
            "Requirement already satisfied: pycparser in /usr/local/lib/python3.10/dist-packages (from cffi>=1.0.1->argon2-cffi-bindings->argon2-cffi->notebook>=4.4.1->widgetsnbextension~=3.6.0->ipywidgets>=7.7.1->bigframes) (2.21)\n",
            "Installing collected packages: jedi, bigframes\n",
            "  Attempting uninstall: bigframes\n",
            "    Found existing installation: bigframes 0.13.0\n",
            "    Uninstalling bigframes-0.13.0:\n",
            "      Successfully uninstalled bigframes-0.13.0\n",
            "Successfully installed bigframes-0.15.0 jedi-0.19.1\n"
          ]
        }
      ]
    },
    {
      "cell_type": "markdown",
      "source": [
        "## Define notebook variables\n",
        "\n",
        "Please update variables like your GCP Project ID (`PROJECT_ID`), dataset name (`DATASET_NAME`), and location (`LOCATION`).\n",
        "\n",
        "The variables `DATASET_NAME`, `LOCATION` and `MODEL_NAME` are pre-populated, but you can update them if you wish.\n",
        "\n",
        "Ensure that the dataset exists in the same GCP Project as `PROJECT_ID`."
      ],
      "metadata": {
        "id": "sHoUOuxf5GOR"
      }
    },
    {
      "cell_type": "code",
      "source": [
        "#@title Setup Project Variables { run: \"auto\", display-mode: \"form\" }\n",
        "PROJECT_ID = \"\\u003C>\" #@param {type:\"string\"}\n",
        "DATASET_NAME = \"theLook_retail\" #@param {type:\"string\"}\n",
        "MODEL_NAME = \"bqdf_customer_segment_cluster\" #@param {type:\"string\"}\n",
        "EVAL_NAME = MODEL_NAME + \"_eval\"\n",
        "LOCATION = \"US\"  # @param {type:\"string\"}"
      ],
      "metadata": {
        "id": "_3Rfhx874F2J",
        "executionInfo": {
          "status": "ok",
          "timestamp": 1701796029562,
          "user_tz": 360,
          "elapsed": 3,
          "user": {
            "displayName": "",
            "userId": ""
          }
        }
      },
      "execution_count": 2,
      "outputs": []
    },
    {
      "cell_type": "markdown",
      "source": [
        "\n",
        "\n",
        "---\n",
        "\n"
      ],
      "metadata": {
        "id": "P-eLlA_0dj8p"
      }
    },
    {
      "cell_type": "markdown",
      "source": [
        "## Step 1 : Basic Exploratory Data Analysis\n",
        "To kick things off, let's first inspect our data prior to constructing any models. Within this tutorial, we'll be working with the [theLook eCommerce public dataset](https://console.cloud.google.com/marketplace/product/bigquery-public-data/thelook-ecommerce).\n",
        "\n",
        "TheLook is an imaginary eCommerce apparel website. Within this dataset, you'll discover details about customers, products, orders, logistics, web events, and digital marketing campaigns. Our main emphasis is the `order_items` table, which contains transactional insights about customers. It's important to note that the contents of this dataset are artificially generated and are made available to professionals in the industry for the purposes of product exploration, testing, and assessment.\n",
        "\n",
        "There are a few ways we can query data and get it into a dataframe. Here are two approaches:"
      ],
      "metadata": {
        "id": "IOlN-lku6KPi"
      }
    },
    {
      "cell_type": "markdown",
      "source": [
        "#### **Initializing BigQuery Dataframes**\n",
        "\n",
        "Import bigframes.pandas for a pandas-like interface. Use the Python SDK to bring data into a dataframe."
      ],
      "metadata": {
        "id": "5Ss_JcgU6dxL"
      }
    },
    {
      "cell_type": "code",
      "source": [
        "import bigframes as bf\n",
        "import bigframes.pandas as bpd"
      ],
      "metadata": {
        "id": "QlW51RNDNEw-",
        "executionInfo": {
          "status": "ok",
          "timestamp": 1701796030421,
          "user_tz": 360,
          "elapsed": 861,
          "user": {
            "displayName": "",
            "userId": ""
          }
        }
      },
      "execution_count": 3,
      "outputs": []
    },
    {
      "cell_type": "markdown",
      "source": [
        "BigQuery DataFrames uses a BigQuery session internally to manage metadata on the service side. This session is tied to a location . BigQuery DataFrames uses the US multi-region as the default location, but you can use session_options.location to set a different location. Every query in a session is executed in the location where the session was created."
      ],
      "metadata": {
        "id": "wEQpRmHws1WW"
      }
    },
    {
      "cell_type": "code",
      "source": [
        "bf.options.bigquery.project = PROJECT_ID\n",
        "bf.options.bigquery.location = LOCATION"
      ],
      "metadata": {
        "id": "qR-GYJlTORxf",
        "executionInfo": {
          "status": "ok",
          "timestamp": 1701796030421,
          "user_tz": 360,
          "elapsed": 4,
          "user": {
            "displayName": "",
            "userId": ""
          }
        }
      },
      "execution_count": 4,
      "outputs": []
    },
    {
      "cell_type": "markdown",
      "source": [
        "If you want to reset the location of the created DataFrame or Series objects, reset the session by executing `bf.close_session()`. After that, you can reuse `bf.options.bigquery.location` to specify another lo"
      ],
      "metadata": {
        "id": "LlE01FGFsT8d"
      }
    },
    {
      "cell_type": "markdown",
      "source": [
        " #### **`read_gbq` function**\n",
        " The `read_gbq` method accepts either a fully-qualified table ID or a SQL query."
      ],
      "metadata": {
        "id": "Fugedzw5shoX"
      }
    },
    {
      "cell_type": "code",
      "source": [
        "df = bpd.read_gbq(\"bigquery-public-data.thelook_ecommerce.order_items\")\n",
        "df"
      ],
      "metadata": {
        "colab": {
          "base_uri": "https://localhost:8080/",
          "height": 1000
        },
        "id": "RzXhD_KYNX25",
        "outputId": "ce8d5b53-9eda-4ffc-8ac7-884846aeaca8",
        "executionInfo": {
          "status": "ok",
          "timestamp": 1701796036826,
          "user_tz": 360,
          "elapsed": 6408,
          "user": {
            "displayName": "",
            "userId": ""
          }
        }
      },
      "execution_count": 5,
      "outputs": [
        {
          "output_type": "display_data",
          "data": {
            "text/plain": [
              "<IPython.core.display.HTML object>"
            ],
            "text/html": [
              "Query job 2394bbff-c840-4776-863f-f9c3ccd7ce70 is DONE. 0 Bytes processed. <a target=\"_blank\" href=\"https://console.cloud.google.com/bigquery?project=analytics-ml-ai&j=bq:US:2394bbff-c840-4776-863f-f9c3ccd7ce70&page=queryresults\">Open Job</a>"
            ]
          },
          "metadata": {}
        },
        {
          "output_type": "display_data",
          "data": {
            "text/plain": [
              "<IPython.core.display.HTML object>"
            ],
            "text/html": [
              "Query job c60e256b-40b2-4f9e-b33e-d6fb8de26924 is DONE. 13.7 MB processed. <a target=\"_blank\" href=\"https://console.cloud.google.com/bigquery?project=analytics-ml-ai&j=bq:US:c60e256b-40b2-4f9e-b33e-d6fb8de26924&page=queryresults\">Open Job</a>"
            ]
          },
          "metadata": {}
        },
        {
          "output_type": "execute_result",
          "data": {
            "text/plain": [
              "        id  order_id  user_id  product_id  inventory_item_id      status  \\\n",
              "0   129723     89258    71199       28693             350752    Complete   \n",
              "1   157467    108375    86438       10085             425687  Processing   \n",
              "2   174653    120236    95953        9568             472185    Complete   \n",
              "3    25556     17558    13937       24926              69192   Cancelled   \n",
              "4    30478     20981    16650       22191              82449     Shipped   \n",
              "5    62091     42554    33834        8397             167998  Processing   \n",
              "6    86870     59667    47542       25253             234950     Shipped   \n",
              "7   114640     78814    62789       27343             309924    Complete   \n",
              "8    95558     65706    52350       28348             258410    Complete   \n",
              "9   148147    101915    81359        1970             400454    Returned   \n",
              "10  124141     85427    68086       25628             335621     Shipped   \n",
              "11   32972     22682    17974       24727              89180     Shipped   \n",
              "12  145376    100012    79819       24458             393009    Returned   \n",
              "13   46056     31665    25057       21234             124611    Complete   \n",
              "14  149567    102908    82139       14851             404277  Processing   \n",
              "15   37583     25863    20462       15031             101708   Cancelled   \n",
              "16  129029     88768    70814       10459             348864  Processing   \n",
              "17   13804      9489     7577       15408              37371    Complete   \n",
              "18  177772    122389    97597        2721             480590     Shipped   \n",
              "19  177721    122348    97565        7644             480455  Processing   \n",
              "20  153429    105564    84208       21507             414724     Shipped   \n",
              "21   42373     29137    23110       10551             114702    Complete   \n",
              "22  142873     98308    78469       18780             386252   Cancelled   \n",
              "23  164127    112906    90092       20756             443665  Processing   \n",
              "24   15188     10425     8340       24299              41150     Shipped   \n",
              "\n",
              "                   created_at                 shipped_at  \\\n",
              "0   2022-09-14 22:05:24+00:00  2022-09-14 06:23:00+00:00   \n",
              "1   2022-10-02 14:18:57+00:00                       <NA>   \n",
              "2   2023-11-02 05:20:49+00:00  2023-10-31 17:19:00+00:00   \n",
              "3   2023-08-18 06:55:09+00:00                       <NA>   \n",
              "4   2023-11-06 04:01:56+00:00  2023-11-04 19:44:00+00:00   \n",
              "5   2020-01-03 15:46:40+00:00                       <NA>   \n",
              "6   2022-10-08 11:40:43+00:00  2022-10-06 17:16:00+00:00   \n",
              "7   2023-12-03 09:22:10+00:00  2023-12-06 08:36:00+00:00   \n",
              "8   2021-08-18 21:57:45+00:00  2021-08-20 11:57:00+00:00   \n",
              "9   2023-02-02 17:09:59+00:00  2023-02-02 18:26:00+00:00   \n",
              "10  2023-11-30 22:03:01+00:00  2023-12-01 15:18:00+00:00   \n",
              "11  2022-06-09 13:48:45+00:00  2022-06-11 16:41:00+00:00   \n",
              "12  2023-11-25 07:34:43+00:00  2023-11-23 15:15:00+00:00   \n",
              "13  2022-06-04 02:40:21+00:00  2022-06-03 02:05:00+00:00   \n",
              "14  2023-05-06 05:08:14+00:00                       <NA>   \n",
              "15  2023-05-10 15:18:39+00:00                       <NA>   \n",
              "16  2023-11-18 06:12:29+00:00                       <NA>   \n",
              "17  2023-10-24 12:40:15+00:00  2023-10-26 21:59:00+00:00   \n",
              "18  2021-07-17 06:10:07+00:00  2021-07-18 14:39:00+00:00   \n",
              "19  2023-05-25 14:36:47+00:00                       <NA>   \n",
              "20  2023-10-31 00:53:00+00:00  2023-10-28 19:38:00+00:00   \n",
              "21  2022-07-18 06:32:57+00:00  2022-07-19 08:21:00+00:00   \n",
              "22  2022-12-17 07:48:59+00:00                       <NA>   \n",
              "23  2023-04-19 02:51:52+00:00                       <NA>   \n",
              "24  2023-08-24 09:58:03+00:00  2023-08-25 00:41:00+00:00   \n",
              "\n",
              "                 delivered_at                returned_at  sale_price  \n",
              "0   2022-09-18 05:12:00+00:00                       <NA>   19.200001  \n",
              "1                        <NA>                       <NA>       140.0  \n",
              "2   2023-11-02 18:22:00+00:00                       <NA>   39.990002  \n",
              "3                        <NA>                       <NA>        9.97  \n",
              "4                        <NA>                       <NA>   39.990002  \n",
              "5                        <NA>                       <NA>  105.559998  \n",
              "6                        <NA>                       <NA>   22.950001  \n",
              "7   2023-12-06 13:20:00+00:00                       <NA>   49.950001  \n",
              "8   2021-08-21 21:08:00+00:00                       <NA>       19.99  \n",
              "9   2023-02-03 04:56:00+00:00  2023-02-05 20:18:00+00:00   79.949997  \n",
              "10                       <NA>                       <NA>        25.0  \n",
              "11                       <NA>                       <NA>        13.0  \n",
              "12  2023-11-24 11:26:00+00:00  2023-11-27 03:16:00+00:00        14.0  \n",
              "13  2022-06-03 18:17:00+00:00                       <NA>        60.0  \n",
              "14                       <NA>                       <NA>       14.98  \n",
              "15                       <NA>                       <NA>       119.5  \n",
              "16                       <NA>                       <NA>        29.0  \n",
              "17  2023-10-30 04:28:00+00:00                       <NA>        36.0  \n",
              "18                       <NA>                       <NA>       12.99  \n",
              "19                       <NA>                       <NA>       12.38  \n",
              "20                       <NA>                       <NA>   32.990002  \n",
              "21  2022-07-19 19:42:00+00:00                       <NA>        69.0  \n",
              "22                       <NA>                       <NA>        25.0  \n",
              "23                       <NA>                       <NA>        99.0  \n",
              "24                       <NA>                       <NA>        68.0  \n",
              "...\n",
              "\n",
              "[182063 rows x 11 columns]"
            ],
            "text/html": [
              "<div>\n",
              "<style scoped>\n",
              "    .dataframe tbody tr th:only-of-type {\n",
              "        vertical-align: middle;\n",
              "    }\n",
              "\n",
              "    .dataframe tbody tr th {\n",
              "        vertical-align: top;\n",
              "    }\n",
              "\n",
              "    .dataframe thead th {\n",
              "        text-align: right;\n",
              "    }\n",
              "</style>\n",
              "<table border=\"1\" class=\"dataframe\">\n",
              "  <thead>\n",
              "    <tr style=\"text-align: right;\">\n",
              "      <th></th>\n",
              "      <th>id</th>\n",
              "      <th>order_id</th>\n",
              "      <th>user_id</th>\n",
              "      <th>product_id</th>\n",
              "      <th>inventory_item_id</th>\n",
              "      <th>status</th>\n",
              "      <th>created_at</th>\n",
              "      <th>shipped_at</th>\n",
              "      <th>delivered_at</th>\n",
              "      <th>returned_at</th>\n",
              "      <th>sale_price</th>\n",
              "    </tr>\n",
              "  </thead>\n",
              "  <tbody>\n",
              "    <tr>\n",
              "      <th>0</th>\n",
              "      <td>129723</td>\n",
              "      <td>89258</td>\n",
              "      <td>71199</td>\n",
              "      <td>28693</td>\n",
              "      <td>350752</td>\n",
              "      <td>Complete</td>\n",
              "      <td>2022-09-14 22:05:24+00:00</td>\n",
              "      <td>2022-09-14 06:23:00+00:00</td>\n",
              "      <td>2022-09-18 05:12:00+00:00</td>\n",
              "      <td>&lt;NA&gt;</td>\n",
              "      <td>19.200001</td>\n",
              "    </tr>\n",
              "    <tr>\n",
              "      <th>1</th>\n",
              "      <td>157467</td>\n",
              "      <td>108375</td>\n",
              "      <td>86438</td>\n",
              "      <td>10085</td>\n",
              "      <td>425687</td>\n",
              "      <td>Processing</td>\n",
              "      <td>2022-10-02 14:18:57+00:00</td>\n",
              "      <td>&lt;NA&gt;</td>\n",
              "      <td>&lt;NA&gt;</td>\n",
              "      <td>&lt;NA&gt;</td>\n",
              "      <td>140.0</td>\n",
              "    </tr>\n",
              "    <tr>\n",
              "      <th>2</th>\n",
              "      <td>174653</td>\n",
              "      <td>120236</td>\n",
              "      <td>95953</td>\n",
              "      <td>9568</td>\n",
              "      <td>472185</td>\n",
              "      <td>Complete</td>\n",
              "      <td>2023-11-02 05:20:49+00:00</td>\n",
              "      <td>2023-10-31 17:19:00+00:00</td>\n",
              "      <td>2023-11-02 18:22:00+00:00</td>\n",
              "      <td>&lt;NA&gt;</td>\n",
              "      <td>39.990002</td>\n",
              "    </tr>\n",
              "    <tr>\n",
              "      <th>3</th>\n",
              "      <td>25556</td>\n",
              "      <td>17558</td>\n",
              "      <td>13937</td>\n",
              "      <td>24926</td>\n",
              "      <td>69192</td>\n",
              "      <td>Cancelled</td>\n",
              "      <td>2023-08-18 06:55:09+00:00</td>\n",
              "      <td>&lt;NA&gt;</td>\n",
              "      <td>&lt;NA&gt;</td>\n",
              "      <td>&lt;NA&gt;</td>\n",
              "      <td>9.97</td>\n",
              "    </tr>\n",
              "    <tr>\n",
              "      <th>4</th>\n",
              "      <td>30478</td>\n",
              "      <td>20981</td>\n",
              "      <td>16650</td>\n",
              "      <td>22191</td>\n",
              "      <td>82449</td>\n",
              "      <td>Shipped</td>\n",
              "      <td>2023-11-06 04:01:56+00:00</td>\n",
              "      <td>2023-11-04 19:44:00+00:00</td>\n",
              "      <td>&lt;NA&gt;</td>\n",
              "      <td>&lt;NA&gt;</td>\n",
              "      <td>39.990002</td>\n",
              "    </tr>\n",
              "    <tr>\n",
              "      <th>5</th>\n",
              "      <td>62091</td>\n",
              "      <td>42554</td>\n",
              "      <td>33834</td>\n",
              "      <td>8397</td>\n",
              "      <td>167998</td>\n",
              "      <td>Processing</td>\n",
              "      <td>2020-01-03 15:46:40+00:00</td>\n",
              "      <td>&lt;NA&gt;</td>\n",
              "      <td>&lt;NA&gt;</td>\n",
              "      <td>&lt;NA&gt;</td>\n",
              "      <td>105.559998</td>\n",
              "    </tr>\n",
              "    <tr>\n",
              "      <th>6</th>\n",
              "      <td>86870</td>\n",
              "      <td>59667</td>\n",
              "      <td>47542</td>\n",
              "      <td>25253</td>\n",
              "      <td>234950</td>\n",
              "      <td>Shipped</td>\n",
              "      <td>2022-10-08 11:40:43+00:00</td>\n",
              "      <td>2022-10-06 17:16:00+00:00</td>\n",
              "      <td>&lt;NA&gt;</td>\n",
              "      <td>&lt;NA&gt;</td>\n",
              "      <td>22.950001</td>\n",
              "    </tr>\n",
              "    <tr>\n",
              "      <th>7</th>\n",
              "      <td>114640</td>\n",
              "      <td>78814</td>\n",
              "      <td>62789</td>\n",
              "      <td>27343</td>\n",
              "      <td>309924</td>\n",
              "      <td>Complete</td>\n",
              "      <td>2023-12-03 09:22:10+00:00</td>\n",
              "      <td>2023-12-06 08:36:00+00:00</td>\n",
              "      <td>2023-12-06 13:20:00+00:00</td>\n",
              "      <td>&lt;NA&gt;</td>\n",
              "      <td>49.950001</td>\n",
              "    </tr>\n",
              "    <tr>\n",
              "      <th>8</th>\n",
              "      <td>95558</td>\n",
              "      <td>65706</td>\n",
              "      <td>52350</td>\n",
              "      <td>28348</td>\n",
              "      <td>258410</td>\n",
              "      <td>Complete</td>\n",
              "      <td>2021-08-18 21:57:45+00:00</td>\n",
              "      <td>2021-08-20 11:57:00+00:00</td>\n",
              "      <td>2021-08-21 21:08:00+00:00</td>\n",
              "      <td>&lt;NA&gt;</td>\n",
              "      <td>19.99</td>\n",
              "    </tr>\n",
              "    <tr>\n",
              "      <th>9</th>\n",
              "      <td>148147</td>\n",
              "      <td>101915</td>\n",
              "      <td>81359</td>\n",
              "      <td>1970</td>\n",
              "      <td>400454</td>\n",
              "      <td>Returned</td>\n",
              "      <td>2023-02-02 17:09:59+00:00</td>\n",
              "      <td>2023-02-02 18:26:00+00:00</td>\n",
              "      <td>2023-02-03 04:56:00+00:00</td>\n",
              "      <td>2023-02-05 20:18:00+00:00</td>\n",
              "      <td>79.949997</td>\n",
              "    </tr>\n",
              "    <tr>\n",
              "      <th>10</th>\n",
              "      <td>124141</td>\n",
              "      <td>85427</td>\n",
              "      <td>68086</td>\n",
              "      <td>25628</td>\n",
              "      <td>335621</td>\n",
              "      <td>Shipped</td>\n",
              "      <td>2023-11-30 22:03:01+00:00</td>\n",
              "      <td>2023-12-01 15:18:00+00:00</td>\n",
              "      <td>&lt;NA&gt;</td>\n",
              "      <td>&lt;NA&gt;</td>\n",
              "      <td>25.0</td>\n",
              "    </tr>\n",
              "    <tr>\n",
              "      <th>11</th>\n",
              "      <td>32972</td>\n",
              "      <td>22682</td>\n",
              "      <td>17974</td>\n",
              "      <td>24727</td>\n",
              "      <td>89180</td>\n",
              "      <td>Shipped</td>\n",
              "      <td>2022-06-09 13:48:45+00:00</td>\n",
              "      <td>2022-06-11 16:41:00+00:00</td>\n",
              "      <td>&lt;NA&gt;</td>\n",
              "      <td>&lt;NA&gt;</td>\n",
              "      <td>13.0</td>\n",
              "    </tr>\n",
              "    <tr>\n",
              "      <th>12</th>\n",
              "      <td>145376</td>\n",
              "      <td>100012</td>\n",
              "      <td>79819</td>\n",
              "      <td>24458</td>\n",
              "      <td>393009</td>\n",
              "      <td>Returned</td>\n",
              "      <td>2023-11-25 07:34:43+00:00</td>\n",
              "      <td>2023-11-23 15:15:00+00:00</td>\n",
              "      <td>2023-11-24 11:26:00+00:00</td>\n",
              "      <td>2023-11-27 03:16:00+00:00</td>\n",
              "      <td>14.0</td>\n",
              "    </tr>\n",
              "    <tr>\n",
              "      <th>13</th>\n",
              "      <td>46056</td>\n",
              "      <td>31665</td>\n",
              "      <td>25057</td>\n",
              "      <td>21234</td>\n",
              "      <td>124611</td>\n",
              "      <td>Complete</td>\n",
              "      <td>2022-06-04 02:40:21+00:00</td>\n",
              "      <td>2022-06-03 02:05:00+00:00</td>\n",
              "      <td>2022-06-03 18:17:00+00:00</td>\n",
              "      <td>&lt;NA&gt;</td>\n",
              "      <td>60.0</td>\n",
              "    </tr>\n",
              "    <tr>\n",
              "      <th>14</th>\n",
              "      <td>149567</td>\n",
              "      <td>102908</td>\n",
              "      <td>82139</td>\n",
              "      <td>14851</td>\n",
              "      <td>404277</td>\n",
              "      <td>Processing</td>\n",
              "      <td>2023-05-06 05:08:14+00:00</td>\n",
              "      <td>&lt;NA&gt;</td>\n",
              "      <td>&lt;NA&gt;</td>\n",
              "      <td>&lt;NA&gt;</td>\n",
              "      <td>14.98</td>\n",
              "    </tr>\n",
              "    <tr>\n",
              "      <th>15</th>\n",
              "      <td>37583</td>\n",
              "      <td>25863</td>\n",
              "      <td>20462</td>\n",
              "      <td>15031</td>\n",
              "      <td>101708</td>\n",
              "      <td>Cancelled</td>\n",
              "      <td>2023-05-10 15:18:39+00:00</td>\n",
              "      <td>&lt;NA&gt;</td>\n",
              "      <td>&lt;NA&gt;</td>\n",
              "      <td>&lt;NA&gt;</td>\n",
              "      <td>119.5</td>\n",
              "    </tr>\n",
              "    <tr>\n",
              "      <th>16</th>\n",
              "      <td>129029</td>\n",
              "      <td>88768</td>\n",
              "      <td>70814</td>\n",
              "      <td>10459</td>\n",
              "      <td>348864</td>\n",
              "      <td>Processing</td>\n",
              "      <td>2023-11-18 06:12:29+00:00</td>\n",
              "      <td>&lt;NA&gt;</td>\n",
              "      <td>&lt;NA&gt;</td>\n",
              "      <td>&lt;NA&gt;</td>\n",
              "      <td>29.0</td>\n",
              "    </tr>\n",
              "    <tr>\n",
              "      <th>17</th>\n",
              "      <td>13804</td>\n",
              "      <td>9489</td>\n",
              "      <td>7577</td>\n",
              "      <td>15408</td>\n",
              "      <td>37371</td>\n",
              "      <td>Complete</td>\n",
              "      <td>2023-10-24 12:40:15+00:00</td>\n",
              "      <td>2023-10-26 21:59:00+00:00</td>\n",
              "      <td>2023-10-30 04:28:00+00:00</td>\n",
              "      <td>&lt;NA&gt;</td>\n",
              "      <td>36.0</td>\n",
              "    </tr>\n",
              "    <tr>\n",
              "      <th>18</th>\n",
              "      <td>177772</td>\n",
              "      <td>122389</td>\n",
              "      <td>97597</td>\n",
              "      <td>2721</td>\n",
              "      <td>480590</td>\n",
              "      <td>Shipped</td>\n",
              "      <td>2021-07-17 06:10:07+00:00</td>\n",
              "      <td>2021-07-18 14:39:00+00:00</td>\n",
              "      <td>&lt;NA&gt;</td>\n",
              "      <td>&lt;NA&gt;</td>\n",
              "      <td>12.99</td>\n",
              "    </tr>\n",
              "    <tr>\n",
              "      <th>19</th>\n",
              "      <td>177721</td>\n",
              "      <td>122348</td>\n",
              "      <td>97565</td>\n",
              "      <td>7644</td>\n",
              "      <td>480455</td>\n",
              "      <td>Processing</td>\n",
              "      <td>2023-05-25 14:36:47+00:00</td>\n",
              "      <td>&lt;NA&gt;</td>\n",
              "      <td>&lt;NA&gt;</td>\n",
              "      <td>&lt;NA&gt;</td>\n",
              "      <td>12.38</td>\n",
              "    </tr>\n",
              "    <tr>\n",
              "      <th>20</th>\n",
              "      <td>153429</td>\n",
              "      <td>105564</td>\n",
              "      <td>84208</td>\n",
              "      <td>21507</td>\n",
              "      <td>414724</td>\n",
              "      <td>Shipped</td>\n",
              "      <td>2023-10-31 00:53:00+00:00</td>\n",
              "      <td>2023-10-28 19:38:00+00:00</td>\n",
              "      <td>&lt;NA&gt;</td>\n",
              "      <td>&lt;NA&gt;</td>\n",
              "      <td>32.990002</td>\n",
              "    </tr>\n",
              "    <tr>\n",
              "      <th>21</th>\n",
              "      <td>42373</td>\n",
              "      <td>29137</td>\n",
              "      <td>23110</td>\n",
              "      <td>10551</td>\n",
              "      <td>114702</td>\n",
              "      <td>Complete</td>\n",
              "      <td>2022-07-18 06:32:57+00:00</td>\n",
              "      <td>2022-07-19 08:21:00+00:00</td>\n",
              "      <td>2022-07-19 19:42:00+00:00</td>\n",
              "      <td>&lt;NA&gt;</td>\n",
              "      <td>69.0</td>\n",
              "    </tr>\n",
              "    <tr>\n",
              "      <th>22</th>\n",
              "      <td>142873</td>\n",
              "      <td>98308</td>\n",
              "      <td>78469</td>\n",
              "      <td>18780</td>\n",
              "      <td>386252</td>\n",
              "      <td>Cancelled</td>\n",
              "      <td>2022-12-17 07:48:59+00:00</td>\n",
              "      <td>&lt;NA&gt;</td>\n",
              "      <td>&lt;NA&gt;</td>\n",
              "      <td>&lt;NA&gt;</td>\n",
              "      <td>25.0</td>\n",
              "    </tr>\n",
              "    <tr>\n",
              "      <th>23</th>\n",
              "      <td>164127</td>\n",
              "      <td>112906</td>\n",
              "      <td>90092</td>\n",
              "      <td>20756</td>\n",
              "      <td>443665</td>\n",
              "      <td>Processing</td>\n",
              "      <td>2023-04-19 02:51:52+00:00</td>\n",
              "      <td>&lt;NA&gt;</td>\n",
              "      <td>&lt;NA&gt;</td>\n",
              "      <td>&lt;NA&gt;</td>\n",
              "      <td>99.0</td>\n",
              "    </tr>\n",
              "    <tr>\n",
              "      <th>24</th>\n",
              "      <td>15188</td>\n",
              "      <td>10425</td>\n",
              "      <td>8340</td>\n",
              "      <td>24299</td>\n",
              "      <td>41150</td>\n",
              "      <td>Shipped</td>\n",
              "      <td>2023-08-24 09:58:03+00:00</td>\n",
              "      <td>2023-08-25 00:41:00+00:00</td>\n",
              "      <td>&lt;NA&gt;</td>\n",
              "      <td>&lt;NA&gt;</td>\n",
              "      <td>68.0</td>\n",
              "    </tr>\n",
              "  </tbody>\n",
              "</table>\n",
              "<p>25 rows × 11 columns</p>\n",
              "</div>[182063 rows x 11 columns in total]"
            ]
          },
          "metadata": {},
          "execution_count": 5
        }
      ]
    },
    {
      "cell_type": "markdown",
      "source": [
        "#### **Restricting Dataframe columns**\n",
        "Next, Choosing a restricted set of features for the purpose of conducting feature engineering."
      ],
      "metadata": {
        "id": "xC0_CcriIO9J"
      }
    },
    {
      "cell_type": "code",
      "source": [
        "df = df[[\"user_id\", \"order_id\", \"sale_price\", \"created_at\", \"status\"]].rename(columns={\"created_at\": \"order_created_date\"})\n",
        "df"
      ],
      "metadata": {
        "colab": {
          "base_uri": "https://localhost:8080/",
          "height": 915
        },
        "id": "kdNMJnBLOvi6",
        "outputId": "1ddef036-1b83-48db-8531-5052d45bfdb5",
        "executionInfo": {
          "status": "ok",
          "timestamp": 1701796041404,
          "user_tz": 360,
          "elapsed": 4597,
          "user": {
            "displayName": "",
            "userId": ""
          }
        }
      },
      "execution_count": 6,
      "outputs": [
        {
          "output_type": "display_data",
          "data": {
            "text/plain": [
              "<IPython.core.display.HTML object>"
            ],
            "text/html": [
              "Query job e137c3c6-44f1-413d-8f20-88de08f95505 is DONE. 0 Bytes processed. <a target=\"_blank\" href=\"https://console.cloud.google.com/bigquery?project=analytics-ml-ai&j=bq:US:e137c3c6-44f1-413d-8f20-88de08f95505&page=queryresults\">Open Job</a>"
            ]
          },
          "metadata": {}
        },
        {
          "output_type": "display_data",
          "data": {
            "text/plain": [
              "<IPython.core.display.HTML object>"
            ],
            "text/html": [
              "Query job 88e9b0cf-8c42-49d6-b43d-d69b7c15b14c is DONE. 13.7 MB processed. <a target=\"_blank\" href=\"https://console.cloud.google.com/bigquery?project=analytics-ml-ai&j=bq:US:88e9b0cf-8c42-49d6-b43d-d69b7c15b14c&page=queryresults\">Open Job</a>"
            ]
          },
          "metadata": {}
        },
        {
          "output_type": "execute_result",
          "data": {
            "text/plain": [
              "    user_id  order_id  sale_price         order_created_date      status\n",
              "0     71199     89258   19.200001  2022-09-14 22:05:24+00:00    Complete\n",
              "1     86438    108375       140.0  2022-10-02 14:18:57+00:00  Processing\n",
              "2     95953    120236   39.990002  2023-11-02 05:20:49+00:00    Complete\n",
              "3     13937     17558        9.97  2023-08-18 06:55:09+00:00   Cancelled\n",
              "4     16650     20981   39.990002  2023-11-06 04:01:56+00:00     Shipped\n",
              "5     33834     42554  105.559998  2020-01-03 15:46:40+00:00  Processing\n",
              "6     47542     59667   22.950001  2022-10-08 11:40:43+00:00     Shipped\n",
              "7     62789     78814   49.950001  2023-12-03 09:22:10+00:00    Complete\n",
              "8     52350     65706       19.99  2021-08-18 21:57:45+00:00    Complete\n",
              "9     81359    101915   79.949997  2023-02-02 17:09:59+00:00    Returned\n",
              "10    68086     85427        25.0  2023-11-30 22:03:01+00:00     Shipped\n",
              "11    17974     22682        13.0  2022-06-09 13:48:45+00:00     Shipped\n",
              "12    79819    100012        14.0  2023-11-25 07:34:43+00:00    Returned\n",
              "13    25057     31665        60.0  2022-06-04 02:40:21+00:00    Complete\n",
              "14    82139    102908       14.98  2023-05-06 05:08:14+00:00  Processing\n",
              "15    20462     25863       119.5  2023-05-10 15:18:39+00:00   Cancelled\n",
              "16    70814     88768        29.0  2023-11-18 06:12:29+00:00  Processing\n",
              "17     7577      9489        36.0  2023-10-24 12:40:15+00:00    Complete\n",
              "18    97597    122389       12.99  2021-07-17 06:10:07+00:00     Shipped\n",
              "19    97565    122348       12.38  2023-05-25 14:36:47+00:00  Processing\n",
              "20    84208    105564   32.990002  2023-10-31 00:53:00+00:00     Shipped\n",
              "21    23110     29137        69.0  2022-07-18 06:32:57+00:00    Complete\n",
              "22    78469     98308        25.0  2022-12-17 07:48:59+00:00   Cancelled\n",
              "23    90092    112906        99.0  2023-04-19 02:51:52+00:00  Processing\n",
              "24     8340     10425        68.0  2023-08-24 09:58:03+00:00     Shipped\n",
              "...\n",
              "\n",
              "[182063 rows x 5 columns]"
            ],
            "text/html": [
              "<div>\n",
              "<style scoped>\n",
              "    .dataframe tbody tr th:only-of-type {\n",
              "        vertical-align: middle;\n",
              "    }\n",
              "\n",
              "    .dataframe tbody tr th {\n",
              "        vertical-align: top;\n",
              "    }\n",
              "\n",
              "    .dataframe thead th {\n",
              "        text-align: right;\n",
              "    }\n",
              "</style>\n",
              "<table border=\"1\" class=\"dataframe\">\n",
              "  <thead>\n",
              "    <tr style=\"text-align: right;\">\n",
              "      <th></th>\n",
              "      <th>user_id</th>\n",
              "      <th>order_id</th>\n",
              "      <th>sale_price</th>\n",
              "      <th>order_created_date</th>\n",
              "      <th>status</th>\n",
              "    </tr>\n",
              "  </thead>\n",
              "  <tbody>\n",
              "    <tr>\n",
              "      <th>0</th>\n",
              "      <td>71199</td>\n",
              "      <td>89258</td>\n",
              "      <td>19.200001</td>\n",
              "      <td>2022-09-14 22:05:24+00:00</td>\n",
              "      <td>Complete</td>\n",
              "    </tr>\n",
              "    <tr>\n",
              "      <th>1</th>\n",
              "      <td>86438</td>\n",
              "      <td>108375</td>\n",
              "      <td>140.0</td>\n",
              "      <td>2022-10-02 14:18:57+00:00</td>\n",
              "      <td>Processing</td>\n",
              "    </tr>\n",
              "    <tr>\n",
              "      <th>2</th>\n",
              "      <td>95953</td>\n",
              "      <td>120236</td>\n",
              "      <td>39.990002</td>\n",
              "      <td>2023-11-02 05:20:49+00:00</td>\n",
              "      <td>Complete</td>\n",
              "    </tr>\n",
              "    <tr>\n",
              "      <th>3</th>\n",
              "      <td>13937</td>\n",
              "      <td>17558</td>\n",
              "      <td>9.97</td>\n",
              "      <td>2023-08-18 06:55:09+00:00</td>\n",
              "      <td>Cancelled</td>\n",
              "    </tr>\n",
              "    <tr>\n",
              "      <th>4</th>\n",
              "      <td>16650</td>\n",
              "      <td>20981</td>\n",
              "      <td>39.990002</td>\n",
              "      <td>2023-11-06 04:01:56+00:00</td>\n",
              "      <td>Shipped</td>\n",
              "    </tr>\n",
              "    <tr>\n",
              "      <th>5</th>\n",
              "      <td>33834</td>\n",
              "      <td>42554</td>\n",
              "      <td>105.559998</td>\n",
              "      <td>2020-01-03 15:46:40+00:00</td>\n",
              "      <td>Processing</td>\n",
              "    </tr>\n",
              "    <tr>\n",
              "      <th>6</th>\n",
              "      <td>47542</td>\n",
              "      <td>59667</td>\n",
              "      <td>22.950001</td>\n",
              "      <td>2022-10-08 11:40:43+00:00</td>\n",
              "      <td>Shipped</td>\n",
              "    </tr>\n",
              "    <tr>\n",
              "      <th>7</th>\n",
              "      <td>62789</td>\n",
              "      <td>78814</td>\n",
              "      <td>49.950001</td>\n",
              "      <td>2023-12-03 09:22:10+00:00</td>\n",
              "      <td>Complete</td>\n",
              "    </tr>\n",
              "    <tr>\n",
              "      <th>8</th>\n",
              "      <td>52350</td>\n",
              "      <td>65706</td>\n",
              "      <td>19.99</td>\n",
              "      <td>2021-08-18 21:57:45+00:00</td>\n",
              "      <td>Complete</td>\n",
              "    </tr>\n",
              "    <tr>\n",
              "      <th>9</th>\n",
              "      <td>81359</td>\n",
              "      <td>101915</td>\n",
              "      <td>79.949997</td>\n",
              "      <td>2023-02-02 17:09:59+00:00</td>\n",
              "      <td>Returned</td>\n",
              "    </tr>\n",
              "    <tr>\n",
              "      <th>10</th>\n",
              "      <td>68086</td>\n",
              "      <td>85427</td>\n",
              "      <td>25.0</td>\n",
              "      <td>2023-11-30 22:03:01+00:00</td>\n",
              "      <td>Shipped</td>\n",
              "    </tr>\n",
              "    <tr>\n",
              "      <th>11</th>\n",
              "      <td>17974</td>\n",
              "      <td>22682</td>\n",
              "      <td>13.0</td>\n",
              "      <td>2022-06-09 13:48:45+00:00</td>\n",
              "      <td>Shipped</td>\n",
              "    </tr>\n",
              "    <tr>\n",
              "      <th>12</th>\n",
              "      <td>79819</td>\n",
              "      <td>100012</td>\n",
              "      <td>14.0</td>\n",
              "      <td>2023-11-25 07:34:43+00:00</td>\n",
              "      <td>Returned</td>\n",
              "    </tr>\n",
              "    <tr>\n",
              "      <th>13</th>\n",
              "      <td>25057</td>\n",
              "      <td>31665</td>\n",
              "      <td>60.0</td>\n",
              "      <td>2022-06-04 02:40:21+00:00</td>\n",
              "      <td>Complete</td>\n",
              "    </tr>\n",
              "    <tr>\n",
              "      <th>14</th>\n",
              "      <td>82139</td>\n",
              "      <td>102908</td>\n",
              "      <td>14.98</td>\n",
              "      <td>2023-05-06 05:08:14+00:00</td>\n",
              "      <td>Processing</td>\n",
              "    </tr>\n",
              "    <tr>\n",
              "      <th>15</th>\n",
              "      <td>20462</td>\n",
              "      <td>25863</td>\n",
              "      <td>119.5</td>\n",
              "      <td>2023-05-10 15:18:39+00:00</td>\n",
              "      <td>Cancelled</td>\n",
              "    </tr>\n",
              "    <tr>\n",
              "      <th>16</th>\n",
              "      <td>70814</td>\n",
              "      <td>88768</td>\n",
              "      <td>29.0</td>\n",
              "      <td>2023-11-18 06:12:29+00:00</td>\n",
              "      <td>Processing</td>\n",
              "    </tr>\n",
              "    <tr>\n",
              "      <th>17</th>\n",
              "      <td>7577</td>\n",
              "      <td>9489</td>\n",
              "      <td>36.0</td>\n",
              "      <td>2023-10-24 12:40:15+00:00</td>\n",
              "      <td>Complete</td>\n",
              "    </tr>\n",
              "    <tr>\n",
              "      <th>18</th>\n",
              "      <td>97597</td>\n",
              "      <td>122389</td>\n",
              "      <td>12.99</td>\n",
              "      <td>2021-07-17 06:10:07+00:00</td>\n",
              "      <td>Shipped</td>\n",
              "    </tr>\n",
              "    <tr>\n",
              "      <th>19</th>\n",
              "      <td>97565</td>\n",
              "      <td>122348</td>\n",
              "      <td>12.38</td>\n",
              "      <td>2023-05-25 14:36:47+00:00</td>\n",
              "      <td>Processing</td>\n",
              "    </tr>\n",
              "    <tr>\n",
              "      <th>20</th>\n",
              "      <td>84208</td>\n",
              "      <td>105564</td>\n",
              "      <td>32.990002</td>\n",
              "      <td>2023-10-31 00:53:00+00:00</td>\n",
              "      <td>Shipped</td>\n",
              "    </tr>\n",
              "    <tr>\n",
              "      <th>21</th>\n",
              "      <td>23110</td>\n",
              "      <td>29137</td>\n",
              "      <td>69.0</td>\n",
              "      <td>2022-07-18 06:32:57+00:00</td>\n",
              "      <td>Complete</td>\n",
              "    </tr>\n",
              "    <tr>\n",
              "      <th>22</th>\n",
              "      <td>78469</td>\n",
              "      <td>98308</td>\n",
              "      <td>25.0</td>\n",
              "      <td>2022-12-17 07:48:59+00:00</td>\n",
              "      <td>Cancelled</td>\n",
              "    </tr>\n",
              "    <tr>\n",
              "      <th>23</th>\n",
              "      <td>90092</td>\n",
              "      <td>112906</td>\n",
              "      <td>99.0</td>\n",
              "      <td>2023-04-19 02:51:52+00:00</td>\n",
              "      <td>Processing</td>\n",
              "    </tr>\n",
              "    <tr>\n",
              "      <th>24</th>\n",
              "      <td>8340</td>\n",
              "      <td>10425</td>\n",
              "      <td>68.0</td>\n",
              "      <td>2023-08-24 09:58:03+00:00</td>\n",
              "      <td>Shipped</td>\n",
              "    </tr>\n",
              "  </tbody>\n",
              "</table>\n",
              "<p>25 rows × 5 columns</p>\n",
              "</div>[182063 rows x 5 columns in total]"
            ]
          },
          "metadata": {},
          "execution_count": 6
        }
      ]
    },
    {
      "cell_type": "markdown",
      "source": [
        "#### **Restricting the dataset to data spanning one year**"
      ],
      "metadata": {
        "id": "HtznpFFnJZqO"
      }
    },
    {
      "cell_type": "code",
      "source": [
        "df = df[df[\"order_created_date\"] > \"2022-01-01\"]\n",
        "df = df[df[\"order_created_date\"] < \"2023-01-01\"]\n",
        "df"
      ],
      "metadata": {
        "colab": {
          "base_uri": "https://localhost:8080/",
          "height": 915
        },
        "id": "9QVWdVT5PXmI",
        "outputId": "a1fc64b7-c9f7-4d94-d5fc-c5c78f92755b",
        "executionInfo": {
          "status": "ok",
          "timestamp": 1701796045794,
          "user_tz": 360,
          "elapsed": 4394,
          "user": {
            "displayName": "",
            "userId": ""
          }
        }
      },
      "execution_count": 7,
      "outputs": [
        {
          "output_type": "display_data",
          "data": {
            "text/plain": [
              "<IPython.core.display.HTML object>"
            ],
            "text/html": [
              "Query job bb52100c-1512-4a9f-aa7f-f1bf3a1fe720 is DONE. 1.5 MB processed. <a target=\"_blank\" href=\"https://console.cloud.google.com/bigquery?project=analytics-ml-ai&j=bq:US:bb52100c-1512-4a9f-aa7f-f1bf3a1fe720&page=queryresults\">Open Job</a>"
            ]
          },
          "metadata": {}
        },
        {
          "output_type": "display_data",
          "data": {
            "text/plain": [
              "<IPython.core.display.HTML object>"
            ],
            "text/html": [
              "Query job e96a939b-a1db-4707-8dc0-722a0caf6922 is DONE. 13.7 MB processed. <a target=\"_blank\" href=\"https://console.cloud.google.com/bigquery?project=analytics-ml-ai&j=bq:US:e96a939b-a1db-4707-8dc0-722a0caf6922&page=queryresults\">Open Job</a>"
            ]
          },
          "metadata": {}
        },
        {
          "output_type": "execute_result",
          "data": {
            "text/plain": [
              "    user_id  order_id  sale_price         order_created_date      status\n",
              "0     71199     89258   19.200001  2022-09-14 22:05:24+00:00    Complete\n",
              "1     86438    108375       140.0  2022-10-02 14:18:57+00:00  Processing\n",
              "6     47542     59667   22.950001  2022-10-08 11:40:43+00:00     Shipped\n",
              "11    17974     22682        13.0  2022-06-09 13:48:45+00:00     Shipped\n",
              "13    25057     31665        60.0  2022-06-04 02:40:21+00:00    Complete\n",
              "21    23110     29137        69.0  2022-07-18 06:32:57+00:00    Complete\n",
              "22    78469     98308        25.0  2022-12-17 07:48:59+00:00   Cancelled\n",
              "27    48714     61106        23.0  2022-10-04 23:42:38+00:00     Shipped\n",
              "29    29746     37454       27.68  2022-10-07 01:59:44+00:00     Shipped\n",
              "32    59441     74569        5.95  2022-10-21 10:08:45+00:00  Processing\n",
              "36    22546     28421        64.5  2022-08-07 18:26:11+00:00  Processing\n",
              "37    36436     45788  119.040001  2022-12-29 02:10:00+00:00   Cancelled\n",
              "39    93845    117692        74.0  2022-09-30 11:56:50+00:00   Cancelled\n",
              "40    18182     22940   32.900002  2022-07-27 07:52:12+00:00   Cancelled\n",
              "41    71729     89902  100.010002  2022-12-20 06:06:21+00:00    Complete\n",
              "45    70966     88946  142.270004  2022-07-11 06:20:12+00:00     Shipped\n",
              "49    35902     45139        6.97  2022-10-26 14:59:12+00:00    Complete\n",
              "50    97781    122630   49.990002  2022-03-26 13:27:56+00:00   Cancelled\n",
              "52    11305     14189        44.0  2022-12-13 06:54:06+00:00    Returned\n",
              "55    37005     46511        60.0  2022-12-02 02:11:58+00:00  Processing\n",
              "56    97588    122377   57.990002  2022-05-21 13:56:33+00:00    Complete\n",
              "58    97289    122010        10.1  2022-11-22 00:36:21+00:00  Processing\n",
              "59    64156     80472   67.989998  2022-04-16 10:20:58+00:00    Complete\n",
              "62    19571     24727       18.99  2022-07-18 06:56:43+00:00     Shipped\n",
              "66    34756     43659       10.91  2022-04-16 10:40:17+00:00  Processing\n",
              "...\n",
              "\n",
              "[45573 rows x 5 columns]"
            ],
            "text/html": [
              "<div>\n",
              "<style scoped>\n",
              "    .dataframe tbody tr th:only-of-type {\n",
              "        vertical-align: middle;\n",
              "    }\n",
              "\n",
              "    .dataframe tbody tr th {\n",
              "        vertical-align: top;\n",
              "    }\n",
              "\n",
              "    .dataframe thead th {\n",
              "        text-align: right;\n",
              "    }\n",
              "</style>\n",
              "<table border=\"1\" class=\"dataframe\">\n",
              "  <thead>\n",
              "    <tr style=\"text-align: right;\">\n",
              "      <th></th>\n",
              "      <th>user_id</th>\n",
              "      <th>order_id</th>\n",
              "      <th>sale_price</th>\n",
              "      <th>order_created_date</th>\n",
              "      <th>status</th>\n",
              "    </tr>\n",
              "  </thead>\n",
              "  <tbody>\n",
              "    <tr>\n",
              "      <th>0</th>\n",
              "      <td>71199</td>\n",
              "      <td>89258</td>\n",
              "      <td>19.200001</td>\n",
              "      <td>2022-09-14 22:05:24+00:00</td>\n",
              "      <td>Complete</td>\n",
              "    </tr>\n",
              "    <tr>\n",
              "      <th>1</th>\n",
              "      <td>86438</td>\n",
              "      <td>108375</td>\n",
              "      <td>140.0</td>\n",
              "      <td>2022-10-02 14:18:57+00:00</td>\n",
              "      <td>Processing</td>\n",
              "    </tr>\n",
              "    <tr>\n",
              "      <th>6</th>\n",
              "      <td>47542</td>\n",
              "      <td>59667</td>\n",
              "      <td>22.950001</td>\n",
              "      <td>2022-10-08 11:40:43+00:00</td>\n",
              "      <td>Shipped</td>\n",
              "    </tr>\n",
              "    <tr>\n",
              "      <th>11</th>\n",
              "      <td>17974</td>\n",
              "      <td>22682</td>\n",
              "      <td>13.0</td>\n",
              "      <td>2022-06-09 13:48:45+00:00</td>\n",
              "      <td>Shipped</td>\n",
              "    </tr>\n",
              "    <tr>\n",
              "      <th>13</th>\n",
              "      <td>25057</td>\n",
              "      <td>31665</td>\n",
              "      <td>60.0</td>\n",
              "      <td>2022-06-04 02:40:21+00:00</td>\n",
              "      <td>Complete</td>\n",
              "    </tr>\n",
              "    <tr>\n",
              "      <th>21</th>\n",
              "      <td>23110</td>\n",
              "      <td>29137</td>\n",
              "      <td>69.0</td>\n",
              "      <td>2022-07-18 06:32:57+00:00</td>\n",
              "      <td>Complete</td>\n",
              "    </tr>\n",
              "    <tr>\n",
              "      <th>22</th>\n",
              "      <td>78469</td>\n",
              "      <td>98308</td>\n",
              "      <td>25.0</td>\n",
              "      <td>2022-12-17 07:48:59+00:00</td>\n",
              "      <td>Cancelled</td>\n",
              "    </tr>\n",
              "    <tr>\n",
              "      <th>27</th>\n",
              "      <td>48714</td>\n",
              "      <td>61106</td>\n",
              "      <td>23.0</td>\n",
              "      <td>2022-10-04 23:42:38+00:00</td>\n",
              "      <td>Shipped</td>\n",
              "    </tr>\n",
              "    <tr>\n",
              "      <th>29</th>\n",
              "      <td>29746</td>\n",
              "      <td>37454</td>\n",
              "      <td>27.68</td>\n",
              "      <td>2022-10-07 01:59:44+00:00</td>\n",
              "      <td>Shipped</td>\n",
              "    </tr>\n",
              "    <tr>\n",
              "      <th>32</th>\n",
              "      <td>59441</td>\n",
              "      <td>74569</td>\n",
              "      <td>5.95</td>\n",
              "      <td>2022-10-21 10:08:45+00:00</td>\n",
              "      <td>Processing</td>\n",
              "    </tr>\n",
              "    <tr>\n",
              "      <th>36</th>\n",
              "      <td>22546</td>\n",
              "      <td>28421</td>\n",
              "      <td>64.5</td>\n",
              "      <td>2022-08-07 18:26:11+00:00</td>\n",
              "      <td>Processing</td>\n",
              "    </tr>\n",
              "    <tr>\n",
              "      <th>37</th>\n",
              "      <td>36436</td>\n",
              "      <td>45788</td>\n",
              "      <td>119.040001</td>\n",
              "      <td>2022-12-29 02:10:00+00:00</td>\n",
              "      <td>Cancelled</td>\n",
              "    </tr>\n",
              "    <tr>\n",
              "      <th>39</th>\n",
              "      <td>93845</td>\n",
              "      <td>117692</td>\n",
              "      <td>74.0</td>\n",
              "      <td>2022-09-30 11:56:50+00:00</td>\n",
              "      <td>Cancelled</td>\n",
              "    </tr>\n",
              "    <tr>\n",
              "      <th>40</th>\n",
              "      <td>18182</td>\n",
              "      <td>22940</td>\n",
              "      <td>32.900002</td>\n",
              "      <td>2022-07-27 07:52:12+00:00</td>\n",
              "      <td>Cancelled</td>\n",
              "    </tr>\n",
              "    <tr>\n",
              "      <th>41</th>\n",
              "      <td>71729</td>\n",
              "      <td>89902</td>\n",
              "      <td>100.010002</td>\n",
              "      <td>2022-12-20 06:06:21+00:00</td>\n",
              "      <td>Complete</td>\n",
              "    </tr>\n",
              "    <tr>\n",
              "      <th>45</th>\n",
              "      <td>70966</td>\n",
              "      <td>88946</td>\n",
              "      <td>142.270004</td>\n",
              "      <td>2022-07-11 06:20:12+00:00</td>\n",
              "      <td>Shipped</td>\n",
              "    </tr>\n",
              "    <tr>\n",
              "      <th>49</th>\n",
              "      <td>35902</td>\n",
              "      <td>45139</td>\n",
              "      <td>6.97</td>\n",
              "      <td>2022-10-26 14:59:12+00:00</td>\n",
              "      <td>Complete</td>\n",
              "    </tr>\n",
              "    <tr>\n",
              "      <th>50</th>\n",
              "      <td>97781</td>\n",
              "      <td>122630</td>\n",
              "      <td>49.990002</td>\n",
              "      <td>2022-03-26 13:27:56+00:00</td>\n",
              "      <td>Cancelled</td>\n",
              "    </tr>\n",
              "    <tr>\n",
              "      <th>52</th>\n",
              "      <td>11305</td>\n",
              "      <td>14189</td>\n",
              "      <td>44.0</td>\n",
              "      <td>2022-12-13 06:54:06+00:00</td>\n",
              "      <td>Returned</td>\n",
              "    </tr>\n",
              "    <tr>\n",
              "      <th>55</th>\n",
              "      <td>37005</td>\n",
              "      <td>46511</td>\n",
              "      <td>60.0</td>\n",
              "      <td>2022-12-02 02:11:58+00:00</td>\n",
              "      <td>Processing</td>\n",
              "    </tr>\n",
              "    <tr>\n",
              "      <th>56</th>\n",
              "      <td>97588</td>\n",
              "      <td>122377</td>\n",
              "      <td>57.990002</td>\n",
              "      <td>2022-05-21 13:56:33+00:00</td>\n",
              "      <td>Complete</td>\n",
              "    </tr>\n",
              "    <tr>\n",
              "      <th>58</th>\n",
              "      <td>97289</td>\n",
              "      <td>122010</td>\n",
              "      <td>10.1</td>\n",
              "      <td>2022-11-22 00:36:21+00:00</td>\n",
              "      <td>Processing</td>\n",
              "    </tr>\n",
              "    <tr>\n",
              "      <th>59</th>\n",
              "      <td>64156</td>\n",
              "      <td>80472</td>\n",
              "      <td>67.989998</td>\n",
              "      <td>2022-04-16 10:20:58+00:00</td>\n",
              "      <td>Complete</td>\n",
              "    </tr>\n",
              "    <tr>\n",
              "      <th>62</th>\n",
              "      <td>19571</td>\n",
              "      <td>24727</td>\n",
              "      <td>18.99</td>\n",
              "      <td>2022-07-18 06:56:43+00:00</td>\n",
              "      <td>Shipped</td>\n",
              "    </tr>\n",
              "    <tr>\n",
              "      <th>66</th>\n",
              "      <td>34756</td>\n",
              "      <td>43659</td>\n",
              "      <td>10.91</td>\n",
              "      <td>2022-04-16 10:40:17+00:00</td>\n",
              "      <td>Processing</td>\n",
              "    </tr>\n",
              "  </tbody>\n",
              "</table>\n",
              "<p>25 rows × 5 columns</p>\n",
              "</div>[45573 rows x 5 columns in total]"
            ]
          },
          "metadata": {},
          "execution_count": 7
        }
      ]
    },
    {
      "cell_type": "markdown",
      "source": [
        "## Step 2 : Feature Engineering using BigQuery Dataframes"
      ],
      "metadata": {
        "id": "uIt9rmX4JTYW"
      }
    },
    {
      "cell_type": "markdown",
      "source": [
        "## Create features for k-means model.\n",
        "\n",
        "We intend to compute features such as the total number of orders per customer, average spending per customer, and the return ratio, calculated as the total number of returns divided by the number of orders."
      ],
      "metadata": {
        "id": "8RDvQSsqrryy"
      }
    },
    {
      "cell_type": "markdown",
      "source": [
        "#### **Calculating total number of orders per customer**"
      ],
      "metadata": {
        "id": "w1rh8N_rKFsU"
      }
    },
    {
      "cell_type": "code",
      "source": [
        "count_orders = df.groupby([\"user_id\"])[\"order_id\"].count()\n",
        "count_orders"
      ],
      "metadata": {
        "colab": {
          "base_uri": "https://localhost:8080/",
          "height": 520
        },
        "id": "GR47wGItaiXl",
        "outputId": "1a9dbd2b-7503-4ba8-9900-6f3681c8fee9",
        "executionInfo": {
          "status": "ok",
          "timestamp": 1701796049399,
          "user_tz": 360,
          "elapsed": 3621,
          "user": {
            "displayName": "",
            "userId": ""
          }
        }
      },
      "execution_count": 8,
      "outputs": [
        {
          "output_type": "display_data",
          "data": {
            "text/plain": [
              "<IPython.core.display.HTML object>"
            ],
            "text/html": [
              "Query job fd0805c9-1fd4-41b5-a7a7-caa8bbb558d1 is DONE. 2.9 MB processed. <a target=\"_blank\" href=\"https://console.cloud.google.com/bigquery?project=analytics-ml-ai&j=bq:US:fd0805c9-1fd4-41b5-a7a7-caa8bbb558d1&page=queryresults\">Open Job</a>"
            ]
          },
          "metadata": {}
        },
        {
          "output_type": "display_data",
          "data": {
            "text/plain": [
              "<IPython.core.display.HTML object>"
            ],
            "text/html": [
              "Query job 2cdf629b-f5df-4587-984a-87b52d37568e is DONE. 4.4 MB processed. <a target=\"_blank\" href=\"https://console.cloud.google.com/bigquery?project=analytics-ml-ai&j=bq:US:2cdf629b-f5df-4587-984a-87b52d37568e&page=queryresults\">Open Job</a>"
            ]
          },
          "metadata": {}
        },
        {
          "output_type": "execute_result",
          "data": {
            "text/plain": [
              "user_id\n",
              "1     1\n",
              "4     2\n",
              "9     4\n",
              "11    7\n",
              "12    1\n",
              "18    3\n",
              "19    4\n",
              "22    4\n",
              "28    1\n",
              "29    1\n",
              "34    2\n",
              "35    2\n",
              "37    1\n",
              "44    1\n",
              "46    1\n",
              "48    2\n",
              "51    2\n",
              "55    1\n",
              "59    2\n",
              "61    1\n",
              "72    4\n",
              "75    3\n",
              "76    2\n",
              "79    1\n",
              "82    2\n",
              "Name: order_id, dtype: Int64"
            ]
          },
          "metadata": {},
          "execution_count": 8
        }
      ]
    },
    {
      "cell_type": "markdown",
      "source": [
        "#### **Calculating average spend per customer**"
      ],
      "metadata": {
        "id": "yFnCXVd9KNK5"
      }
    },
    {
      "cell_type": "code",
      "source": [
        "average_spend = df.groupby([\"user_id\"])[\"sale_price\"].mean()\n",
        "average_spend"
      ],
      "metadata": {
        "colab": {
          "base_uri": "https://localhost:8080/",
          "height": 520
        },
        "id": "tRPfIxrqa6O9",
        "outputId": "dc455236-8c2c-4f67-e1e3-84b7713d4618",
        "executionInfo": {
          "status": "ok",
          "timestamp": 1701796052350,
          "user_tz": 360,
          "elapsed": 2955,
          "user": {
            "displayName": "",
            "userId": ""
          }
        }
      },
      "execution_count": 9,
      "outputs": [
        {
          "output_type": "display_data",
          "data": {
            "text/plain": [
              "<IPython.core.display.HTML object>"
            ],
            "text/html": [
              "Query job 9bf0483b-0352-4ce2-8c96-282dd07e048f is DONE. 2.9 MB processed. <a target=\"_blank\" href=\"https://console.cloud.google.com/bigquery?project=analytics-ml-ai&j=bq:US:9bf0483b-0352-4ce2-8c96-282dd07e048f&page=queryresults\">Open Job</a>"
            ]
          },
          "metadata": {}
        },
        {
          "output_type": "display_data",
          "data": {
            "text/plain": [
              "<IPython.core.display.HTML object>"
            ],
            "text/html": [
              "Query job 88f12c10-66f5-4c3d-87a1-eb54eb61d0b0 is DONE. 4.4 MB processed. <a target=\"_blank\" href=\"https://console.cloud.google.com/bigquery?project=analytics-ml-ai&j=bq:US:88f12c10-66f5-4c3d-87a1-eb54eb61d0b0&page=queryresults\">Open Job</a>"
            ]
          },
          "metadata": {}
        },
        {
          "output_type": "execute_result",
          "data": {
            "text/plain": [
              "user_id\n",
              "1          185.0\n",
              "4      43.970001\n",
              "9       111.4625\n",
              "11     65.204285\n",
              "12         17.99\n",
              "18         64.81\n",
              "19        26.435\n",
              "22    174.497501\n",
              "28    107.099998\n",
              "29     55.380001\n",
              "34         46.25\n",
              "35        19.995\n",
              "37          75.0\n",
              "44         23.16\n",
              "46         16.99\n",
              "48     30.495001\n",
              "51        73.495\n",
              "55          28.0\n",
              "59         25.95\n",
              "61           9.5\n",
              "72       40.9875\n",
              "75     53.976666\n",
              "76     62.474998\n",
              "79     48.200001\n",
              "82         103.0\n",
              "Name: sale_price, dtype: Float64"
            ]
          },
          "metadata": {},
          "execution_count": 9
        }
      ]
    },
    {
      "cell_type": "markdown",
      "source": [
        "#### **Calculating total number of returned orders per customer**"
      ],
      "metadata": {
        "id": "qcRAFUPnOZvD"
      }
    },
    {
      "cell_type": "code",
      "source": [
        "df[\"returned\"] = df[\"status\"] == \"Returned\"\n",
        "returned = df.groupby([\"user_id\"])[\"returned\"].sum()\n",
        "returned"
      ],
      "metadata": {
        "colab": {
          "base_uri": "https://localhost:8080/",
          "height": 520
        },
        "id": "DYERzNIA9IJh",
        "outputId": "05b6e8a2-8ff5-4550-84fa-e4c6a31b41ed",
        "executionInfo": {
          "status": "ok",
          "timestamp": 1701796055304,
          "user_tz": 360,
          "elapsed": 2958,
          "user": {
            "displayName": "",
            "userId": ""
          }
        }
      },
      "execution_count": 10,
      "outputs": [
        {
          "output_type": "display_data",
          "data": {
            "text/plain": [
              "<IPython.core.display.HTML object>"
            ],
            "text/html": [
              "Query job 0231d56e-0d92-4922-a91f-c5c94922c7e8 is DONE. 2.9 MB processed. <a target=\"_blank\" href=\"https://console.cloud.google.com/bigquery?project=analytics-ml-ai&j=bq:US:0231d56e-0d92-4922-a91f-c5c94922c7e8&page=queryresults\">Open Job</a>"
            ]
          },
          "metadata": {}
        },
        {
          "output_type": "display_data",
          "data": {
            "text/plain": [
              "<IPython.core.display.HTML object>"
            ],
            "text/html": [
              "Query job 46be7fa3-5399-4ea5-a233-533bb14afaa5 is DONE. 4.8 MB processed. <a target=\"_blank\" href=\"https://console.cloud.google.com/bigquery?project=analytics-ml-ai&j=bq:US:46be7fa3-5399-4ea5-a233-533bb14afaa5&page=queryresults\">Open Job</a>"
            ]
          },
          "metadata": {}
        },
        {
          "output_type": "execute_result",
          "data": {
            "text/plain": [
              "user_id\n",
              "1     0\n",
              "4     0\n",
              "9     0\n",
              "11    0\n",
              "12    0\n",
              "18    0\n",
              "19    0\n",
              "22    0\n",
              "28    0\n",
              "29    0\n",
              "34    0\n",
              "35    0\n",
              "37    0\n",
              "44    0\n",
              "46    1\n",
              "48    0\n",
              "51    0\n",
              "55    0\n",
              "59    0\n",
              "61    0\n",
              "72    0\n",
              "75    0\n",
              "76    0\n",
              "79    0\n",
              "82    0\n",
              "Name: returned, dtype: Int64"
            ]
          },
          "metadata": {},
          "execution_count": 10
        }
      ]
    },
    {
      "cell_type": "markdown",
      "source": [
        "#### **Calculating return ratio per customer**"
      ],
      "metadata": {
        "id": "VvfvSw0QOe9N"
      }
    },
    {
      "cell_type": "code",
      "source": [
        "return_ratio = returned / count_orders\n",
        "return_ratio"
      ],
      "metadata": {
        "colab": {
          "base_uri": "https://localhost:8080/",
          "height": 520
        },
        "id": "SUvwp6LIAuhc",
        "outputId": "2803f3fe-1ddd-4e62-c0cd-464a13cf4a84",
        "executionInfo": {
          "status": "ok",
          "timestamp": 1701796059232,
          "user_tz": 360,
          "elapsed": 3930,
          "user": {
            "displayName": "",
            "userId": ""
          }
        }
      },
      "execution_count": 11,
      "outputs": [
        {
          "output_type": "display_data",
          "data": {
            "text/plain": [
              "<IPython.core.display.HTML object>"
            ],
            "text/html": [
              "Query job 90887537-47ae-4a04-b1e1-71ac3379e783 is DONE. 2.9 MB processed. <a target=\"_blank\" href=\"https://console.cloud.google.com/bigquery?project=analytics-ml-ai&j=bq:US:90887537-47ae-4a04-b1e1-71ac3379e783&page=queryresults\">Open Job</a>"
            ]
          },
          "metadata": {}
        },
        {
          "output_type": "display_data",
          "data": {
            "text/plain": [
              "<IPython.core.display.HTML object>"
            ],
            "text/html": [
              "Query job 0137ccc9-8f39-4d45-bf81-774be5d79b8b is DONE. 6.2 MB processed. <a target=\"_blank\" href=\"https://console.cloud.google.com/bigquery?project=analytics-ml-ai&j=bq:US:0137ccc9-8f39-4d45-bf81-774be5d79b8b&page=queryresults\">Open Job</a>"
            ]
          },
          "metadata": {}
        },
        {
          "output_type": "execute_result",
          "data": {
            "text/plain": [
              "user_id\n",
              "1     0.0\n",
              "4     0.0\n",
              "9     0.0\n",
              "11    0.0\n",
              "12    0.0\n",
              "18    0.0\n",
              "19    0.0\n",
              "22    0.0\n",
              "28    0.0\n",
              "29    0.0\n",
              "34    0.0\n",
              "35    0.0\n",
              "37    0.0\n",
              "44    0.0\n",
              "46    1.0\n",
              "48    0.0\n",
              "51    0.0\n",
              "55    0.0\n",
              "59    0.0\n",
              "61    0.0\n",
              "72    0.0\n",
              "75    0.0\n",
              "76    0.0\n",
              "79    0.0\n",
              "82    0.0\n",
              "dtype: Float64"
            ]
          },
          "metadata": {},
          "execution_count": 11
        }
      ]
    },
    {
      "cell_type": "markdown",
      "source": [
        "#### **Compiling a conclusive dataframe for the development of a machine learning model for customer segmentation.**"
      ],
      "metadata": {
        "id": "NBNq6Ub3Oik8"
      }
    },
    {
      "cell_type": "code",
      "source": [
        "df_customer = count_orders.rename(\"count_orders\").to_frame()\n",
        "df_customer[\"average_spend\"] = average_spend\n",
        "df_customer[\"return_ratio\"] = return_ratio\n",
        "df_customer"
      ],
      "metadata": {
        "colab": {
          "base_uri": "https://localhost:8080/",
          "height": 946
        },
        "id": "GMjuuLQg_eKh",
        "outputId": "a7cac7a2-c5c0-4d10-c6e4-a645d1b117d9",
        "executionInfo": {
          "status": "ok",
          "timestamp": 1701796063783,
          "user_tz": 360,
          "elapsed": 4553,
          "user": {
            "displayName": "",
            "userId": ""
          }
        }
      },
      "execution_count": 12,
      "outputs": [
        {
          "output_type": "display_data",
          "data": {
            "text/plain": [
              "<IPython.core.display.HTML object>"
            ],
            "text/html": [
              "Query job 72d4f2a7-4a9e-4062-ae6f-b8c4fd346c7a is DONE. 2.9 MB processed. <a target=\"_blank\" href=\"https://console.cloud.google.com/bigquery?project=analytics-ml-ai&j=bq:US:72d4f2a7-4a9e-4062-ae6f-b8c4fd346c7a&page=queryresults\">Open Job</a>"
            ]
          },
          "metadata": {}
        },
        {
          "output_type": "display_data",
          "data": {
            "text/plain": [
              "<IPython.core.display.HTML object>"
            ],
            "text/html": [
              "Query job 81670b78-34c8-4e4a-aacf-40588a501c91 is DONE. 7.7 MB processed. <a target=\"_blank\" href=\"https://console.cloud.google.com/bigquery?project=analytics-ml-ai&j=bq:US:81670b78-34c8-4e4a-aacf-40588a501c91&page=queryresults\">Open Job</a>"
            ]
          },
          "metadata": {}
        },
        {
          "output_type": "execute_result",
          "data": {
            "text/plain": [
              "         count_orders  average_spend  return_ratio\n",
              "user_id                                           \n",
              "1                   1          185.0           0.0\n",
              "4                   2      43.970001           0.0\n",
              "9                   4       111.4625           0.0\n",
              "11                  7      65.204285           0.0\n",
              "12                  1          17.99           0.0\n",
              "18                  3          64.81           0.0\n",
              "19                  4         26.435           0.0\n",
              "22                  4     174.497501           0.0\n",
              "28                  1     107.099998           0.0\n",
              "29                  1      55.380001           0.0\n",
              "34                  2          46.25           0.0\n",
              "35                  2         19.995           0.0\n",
              "37                  1           75.0           0.0\n",
              "44                  1          23.16           0.0\n",
              "46                  1          16.99           1.0\n",
              "48                  2      30.495001           0.0\n",
              "51                  2         73.495           0.0\n",
              "55                  1           28.0           0.0\n",
              "59                  2          25.95           0.0\n",
              "61                  1            9.5           0.0\n",
              "72                  4        40.9875           0.0\n",
              "75                  3      53.976666           0.0\n",
              "76                  2      62.474998           0.0\n",
              "79                  1      48.200001           0.0\n",
              "82                  2          103.0           0.0\n",
              "...\n",
              "\n",
              "[26387 rows x 3 columns]"
            ],
            "text/html": [
              "<div>\n",
              "<style scoped>\n",
              "    .dataframe tbody tr th:only-of-type {\n",
              "        vertical-align: middle;\n",
              "    }\n",
              "\n",
              "    .dataframe tbody tr th {\n",
              "        vertical-align: top;\n",
              "    }\n",
              "\n",
              "    .dataframe thead th {\n",
              "        text-align: right;\n",
              "    }\n",
              "</style>\n",
              "<table border=\"1\" class=\"dataframe\">\n",
              "  <thead>\n",
              "    <tr style=\"text-align: right;\">\n",
              "      <th></th>\n",
              "      <th>count_orders</th>\n",
              "      <th>average_spend</th>\n",
              "      <th>return_ratio</th>\n",
              "    </tr>\n",
              "    <tr>\n",
              "      <th>user_id</th>\n",
              "      <th></th>\n",
              "      <th></th>\n",
              "      <th></th>\n",
              "    </tr>\n",
              "  </thead>\n",
              "  <tbody>\n",
              "    <tr>\n",
              "      <th>1</th>\n",
              "      <td>1</td>\n",
              "      <td>185.0</td>\n",
              "      <td>0.0</td>\n",
              "    </tr>\n",
              "    <tr>\n",
              "      <th>4</th>\n",
              "      <td>2</td>\n",
              "      <td>43.970001</td>\n",
              "      <td>0.0</td>\n",
              "    </tr>\n",
              "    <tr>\n",
              "      <th>9</th>\n",
              "      <td>4</td>\n",
              "      <td>111.4625</td>\n",
              "      <td>0.0</td>\n",
              "    </tr>\n",
              "    <tr>\n",
              "      <th>11</th>\n",
              "      <td>7</td>\n",
              "      <td>65.204285</td>\n",
              "      <td>0.0</td>\n",
              "    </tr>\n",
              "    <tr>\n",
              "      <th>12</th>\n",
              "      <td>1</td>\n",
              "      <td>17.99</td>\n",
              "      <td>0.0</td>\n",
              "    </tr>\n",
              "    <tr>\n",
              "      <th>18</th>\n",
              "      <td>3</td>\n",
              "      <td>64.81</td>\n",
              "      <td>0.0</td>\n",
              "    </tr>\n",
              "    <tr>\n",
              "      <th>19</th>\n",
              "      <td>4</td>\n",
              "      <td>26.435</td>\n",
              "      <td>0.0</td>\n",
              "    </tr>\n",
              "    <tr>\n",
              "      <th>22</th>\n",
              "      <td>4</td>\n",
              "      <td>174.497501</td>\n",
              "      <td>0.0</td>\n",
              "    </tr>\n",
              "    <tr>\n",
              "      <th>28</th>\n",
              "      <td>1</td>\n",
              "      <td>107.099998</td>\n",
              "      <td>0.0</td>\n",
              "    </tr>\n",
              "    <tr>\n",
              "      <th>29</th>\n",
              "      <td>1</td>\n",
              "      <td>55.380001</td>\n",
              "      <td>0.0</td>\n",
              "    </tr>\n",
              "    <tr>\n",
              "      <th>34</th>\n",
              "      <td>2</td>\n",
              "      <td>46.25</td>\n",
              "      <td>0.0</td>\n",
              "    </tr>\n",
              "    <tr>\n",
              "      <th>35</th>\n",
              "      <td>2</td>\n",
              "      <td>19.995</td>\n",
              "      <td>0.0</td>\n",
              "    </tr>\n",
              "    <tr>\n",
              "      <th>37</th>\n",
              "      <td>1</td>\n",
              "      <td>75.0</td>\n",
              "      <td>0.0</td>\n",
              "    </tr>\n",
              "    <tr>\n",
              "      <th>44</th>\n",
              "      <td>1</td>\n",
              "      <td>23.16</td>\n",
              "      <td>0.0</td>\n",
              "    </tr>\n",
              "    <tr>\n",
              "      <th>46</th>\n",
              "      <td>1</td>\n",
              "      <td>16.99</td>\n",
              "      <td>1.0</td>\n",
              "    </tr>\n",
              "    <tr>\n",
              "      <th>48</th>\n",
              "      <td>2</td>\n",
              "      <td>30.495001</td>\n",
              "      <td>0.0</td>\n",
              "    </tr>\n",
              "    <tr>\n",
              "      <th>51</th>\n",
              "      <td>2</td>\n",
              "      <td>73.495</td>\n",
              "      <td>0.0</td>\n",
              "    </tr>\n",
              "    <tr>\n",
              "      <th>55</th>\n",
              "      <td>1</td>\n",
              "      <td>28.0</td>\n",
              "      <td>0.0</td>\n",
              "    </tr>\n",
              "    <tr>\n",
              "      <th>59</th>\n",
              "      <td>2</td>\n",
              "      <td>25.95</td>\n",
              "      <td>0.0</td>\n",
              "    </tr>\n",
              "    <tr>\n",
              "      <th>61</th>\n",
              "      <td>1</td>\n",
              "      <td>9.5</td>\n",
              "      <td>0.0</td>\n",
              "    </tr>\n",
              "    <tr>\n",
              "      <th>72</th>\n",
              "      <td>4</td>\n",
              "      <td>40.9875</td>\n",
              "      <td>0.0</td>\n",
              "    </tr>\n",
              "    <tr>\n",
              "      <th>75</th>\n",
              "      <td>3</td>\n",
              "      <td>53.976666</td>\n",
              "      <td>0.0</td>\n",
              "    </tr>\n",
              "    <tr>\n",
              "      <th>76</th>\n",
              "      <td>2</td>\n",
              "      <td>62.474998</td>\n",
              "      <td>0.0</td>\n",
              "    </tr>\n",
              "    <tr>\n",
              "      <th>79</th>\n",
              "      <td>1</td>\n",
              "      <td>48.200001</td>\n",
              "      <td>0.0</td>\n",
              "    </tr>\n",
              "    <tr>\n",
              "      <th>82</th>\n",
              "      <td>2</td>\n",
              "      <td>103.0</td>\n",
              "      <td>0.0</td>\n",
              "    </tr>\n",
              "  </tbody>\n",
              "</table>\n",
              "<p>25 rows × 3 columns</p>\n",
              "</div>[26387 rows x 3 columns in total]"
            ]
          },
          "metadata": {},
          "execution_count": 12
        }
      ]
    },
    {
      "cell_type": "markdown",
      "source": [
        "## Step 3 : Create a k-means model to cluster ecommerce data\n",
        "\n",
        "**K-means** is a widely used clustering algorithm that can dentify distinct groups or clusters within a dataset. With eCommerce data, k-means can segment customers, products, or transactions into meaningful groups for various analytical and business purposes.\n",
        "\n",
        "\n",
        "#### **Cluster the customer data using BigFrames!**"
      ],
      "metadata": {
        "id": "WnXQQOAc4t22"
      }
    },
    {
      "cell_type": "code",
      "source": [
        "from bigframes.ml.cluster import KMeans\n",
        "from bigframes.ml.model_selection import train_test_split\n",
        "\n",
        "# Split test and training data\n",
        "df_customer = df_customer.dropna()\n",
        "train_X, test_X = train_test_split(df_customer, test_size = 0.2)\n",
        "# train_X = train_X.drop(columns = [\"user_id\"])\n",
        "# Create a K-Means cluster model\n",
        "kmeans = KMeans(n_clusters = 5)\n",
        "kmeans.fit(train_X)\n"
      ],
      "metadata": {
        "id": "cWQ9botFf2Te",
        "colab": {
          "base_uri": "https://localhost:8080/",
          "height": 86
        },
        "outputId": "a2e080b0-8df3-451a-923e-da0de947dba6",
        "executionInfo": {
          "status": "ok",
          "timestamp": 1701796132210,
          "user_tz": 360,
          "elapsed": 68441,
          "user": {
            "displayName": "",
            "userId": ""
          }
        }
      },
      "execution_count": 13,
      "outputs": [
        {
          "output_type": "display_data",
          "data": {
            "text/plain": [
              "<IPython.core.display.HTML object>"
            ],
            "text/html": [
              "Query job 2c01a697-33e3-4f5f-9127-3c1c5a5ec9a5 is DONE. 7.7 MB processed. <a target=\"_blank\" href=\"https://console.cloud.google.com/bigquery?project=analytics-ml-ai&j=bq:US:2c01a697-33e3-4f5f-9127-3c1c5a5ec9a5&page=queryresults\">Open Job</a>"
            ]
          },
          "metadata": {}
        },
        {
          "output_type": "display_data",
          "data": {
            "text/plain": [
              "<IPython.core.display.HTML object>"
            ],
            "text/html": [
              "Query job 39454d56-06e3-430d-ba9d-ff732a0d9510 is DONE. 7.7 MB processed. <a target=\"_blank\" href=\"https://console.cloud.google.com/bigquery?project=analytics-ml-ai&j=bq:US:39454d56-06e3-430d-ba9d-ff732a0d9510&page=queryresults\">Open Job</a>"
            ]
          },
          "metadata": {}
        },
        {
          "output_type": "display_data",
          "data": {
            "text/plain": [
              "<IPython.core.display.HTML object>"
            ],
            "text/html": [
              "Query job a0bf01c5-0fb6-47e5-8bac-9c4988cc9706 is DONE. 0 Bytes processed. <a target=\"_blank\" href=\"https://console.cloud.google.com/bigquery?project=analytics-ml-ai&j=bq:US:a0bf01c5-0fb6-47e5-8bac-9c4988cc9706&page=queryresults\">Open Job</a>"
            ]
          },
          "metadata": {}
        },
        {
          "output_type": "execute_result",
          "data": {
            "text/plain": [
              "KMeans(n_clusters=5)"
            ]
          },
          "metadata": {},
          "execution_count": 13
        }
      ]
    },
    {
      "cell_type": "markdown",
      "source": [
        "#### **Save the model to BigQuery**"
      ],
      "metadata": {
        "id": "iABA1HcDO4Wd"
      }
    },
    {
      "cell_type": "code",
      "source": [
        "\n",
        "kmeans.to_gbq(f\"{PROJECT_ID}.{DATASET_NAME}.{MODEL_NAME}\", True)"
      ],
      "metadata": {
        "colab": {
          "base_uri": "https://localhost:8080/",
          "height": 52
        },
        "id": "8cMH1oeBB5jh",
        "outputId": "5b1cfc82-b64f-45c8-90de-0fa7909dca9f",
        "executionInfo": {
          "status": "ok",
          "timestamp": 1701796134390,
          "user_tz": 360,
          "elapsed": 2182,
          "user": {
            "displayName": "",
            "userId": ""
          }
        }
      },
      "execution_count": 14,
      "outputs": [
        {
          "output_type": "display_data",
          "data": {
            "text/plain": [
              "<IPython.core.display.HTML object>"
            ],
            "text/html": [
              "Copy job 463c650d-171f-4f32-a3a3-2cac9cbd7b1e is DONE. <a target=\"_blank\" href=\"https://console.cloud.google.com/bigquery?project=analytics-ml-ai&j=bq:US:463c650d-171f-4f32-a3a3-2cac9cbd7b1e&page=queryresults\">Open Job</a>"
            ]
          },
          "metadata": {}
        },
        {
          "output_type": "execute_result",
          "data": {
            "text/plain": [
              "KMeans(n_clusters=5)"
            ]
          },
          "metadata": {},
          "execution_count": 14
        }
      ]
    },
    {
      "cell_type": "markdown",
      "source": [
        "#### **Visualize the clusters**\n",
        "\n",
        "Next we'll visualize the k-means clusters on a scatterplot. We'll chart `days_since_last_order` by `average_spend` and color by segment/cluster_id generated from the model."
      ],
      "metadata": {
        "id": "81nwv2QE-mlh"
      }
    },
    {
      "cell_type": "code",
      "source": [
        "#########################\n",
        "#Plot K-Means clusters\n",
        "#########################\n",
        "import seaborn as sns\n",
        "import matplotlib.pyplot as plt\n",
        "import pandas as pd\n",
        "\n",
        "# Import K-Means predictions to dataframe\n",
        "# segments_df = kmeans.predict(df_customer).join(df_customer)\n",
        "segments_df = kmeans.predict(df_customer)\n",
        "segments_df = segments_df.rename(columns={'CENTROID_ID': 'segment_id'})\n",
        "segments_pd = segments_df.sample(frac=0.2, random_state=1).to_pandas()\n",
        "\n",
        "segments_pd\n"
      ],
      "metadata": {
        "colab": {
          "base_uri": "https://localhost:8080/",
          "height": 524
        },
        "id": "Ld5HJJlKGlXK",
        "outputId": "cc8775e2-fee7-4952-da54-b12c4b6ea37a",
        "executionInfo": {
          "status": "ok",
          "timestamp": 1701796739104,
          "user_tz": 360,
          "elapsed": 12374,
          "user": {
            "displayName": "",
            "userId": ""
          }
        }
      },
      "execution_count": 16,
      "outputs": [
        {
          "output_type": "display_data",
          "data": {
            "text/plain": [
              "<IPython.core.display.HTML object>"
            ],
            "text/html": [
              "Query job d901248e-cdd2-4f11-a99c-0c5df5be61ef is DONE. 7.7 MB processed. <a target=\"_blank\" href=\"https://console.cloud.google.com/bigquery?project=analytics-ml-ai&j=bq:US:d901248e-cdd2-4f11-a99c-0c5df5be61ef&page=queryresults\">Open Job</a>"
            ]
          },
          "metadata": {}
        },
        {
          "output_type": "display_data",
          "data": {
            "text/plain": [
              "<IPython.core.display.HTML object>"
            ],
            "text/html": [
              "Query job 71ba8d76-6f8a-4dcd-8d02-883e0341758f is DONE. 211.1 kB processed. <a target=\"_blank\" href=\"https://console.cloud.google.com/bigquery?project=analytics-ml-ai&j=bq:US:71ba8d76-6f8a-4dcd-8d02-883e0341758f&page=queryresults\">Open Job</a>"
            ]
          },
          "metadata": {}
        },
        {
          "output_type": "display_data",
          "data": {
            "text/plain": [
              "<IPython.core.display.HTML object>"
            ],
            "text/html": [
              "Query job bf796f48-d4b4-4743-b577-0d02266b7b8d is DONE. 0 Bytes processed. <a target=\"_blank\" href=\"https://console.cloud.google.com/bigquery?project=analytics-ml-ai&j=bq:US:bf796f48-d4b4-4743-b577-0d02266b7b8d&page=queryresults\">Open Job</a>"
            ]
          },
          "metadata": {}
        },
        {
          "output_type": "display_data",
          "data": {
            "text/plain": [
              "<IPython.core.display.HTML object>"
            ],
            "text/html": [
              "Query job 8edc2286-21a7-4703-8642-0e39764981c1 is DONE. 3.2 MB processed. <a target=\"_blank\" href=\"https://console.cloud.google.com/bigquery?project=analytics-ml-ai&j=bq:US:8edc2286-21a7-4703-8642-0e39764981c1&page=queryresults\">Open Job</a>"
            ]
          },
          "metadata": {}
        },
        {
          "output_type": "execute_result",
          "data": {
            "text/plain": [
              "         segment_id                         NEAREST_CENTROIDS_DISTANCE  \\\n",
              "user_id                                                                  \n",
              "75                5  [{'CENTROID_ID': 5, 'DISTANCE': 0.384329294010...   \n",
              "82628             4  [{'CENTROID_ID': 4, 'DISTANCE': 0.647686400318...   \n",
              "66197             3  [{'CENTROID_ID': 3, 'DISTANCE': 0.582539425649...   \n",
              "64371             4  [{'CENTROID_ID': 4, 'DISTANCE': 0.303629927776...   \n",
              "71786             4  [{'CENTROID_ID': 4, 'DISTANCE': 0.312954651655...   \n",
              "...             ...                                                ...   \n",
              "51751             4  [{'CENTROID_ID': 4, 'DISTANCE': 0.682133332703...   \n",
              "88466             2  [{'CENTROID_ID': 2, 'DISTANCE': 0.674741762318...   \n",
              "46826             4  [{'CENTROID_ID': 4, 'DISTANCE': 0.760199330296...   \n",
              "99070             3  [{'CENTROID_ID': 3, 'DISTANCE': 3.500577486551...   \n",
              "33981             4  [{'CENTROID_ID': 4, 'DISTANCE': 0.640086356392...   \n",
              "\n",
              "         count_orders  average_spend  return_ratio  \n",
              "user_id                                             \n",
              "75                  3      53.976666           0.0  \n",
              "82628               1      79.949997           0.0  \n",
              "66197               1      49.950001           1.0  \n",
              "64371               1      32.990002           0.0  \n",
              "71786               1           55.0           0.0  \n",
              "...               ...            ...           ...  \n",
              "51751               2      58.200001           0.0  \n",
              "88466               5         50.624           0.0  \n",
              "46826               2      68.700001           0.0  \n",
              "99070               1          269.0           1.0  \n",
              "33981               2           40.5           0.0  \n",
              "\n",
              "[5277 rows x 5 columns]"
            ],
            "text/html": [
              "\n",
              "  <div id=\"df-bf5421bb-a585-43e5-8239-0403f5f72c63\" class=\"colab-df-container\">\n",
              "    <div>\n",
              "<style scoped>\n",
              "    .dataframe tbody tr th:only-of-type {\n",
              "        vertical-align: middle;\n",
              "    }\n",
              "\n",
              "    .dataframe tbody tr th {\n",
              "        vertical-align: top;\n",
              "    }\n",
              "\n",
              "    .dataframe thead th {\n",
              "        text-align: right;\n",
              "    }\n",
              "</style>\n",
              "<table border=\"1\" class=\"dataframe\">\n",
              "  <thead>\n",
              "    <tr style=\"text-align: right;\">\n",
              "      <th></th>\n",
              "      <th>segment_id</th>\n",
              "      <th>NEAREST_CENTROIDS_DISTANCE</th>\n",
              "      <th>count_orders</th>\n",
              "      <th>average_spend</th>\n",
              "      <th>return_ratio</th>\n",
              "    </tr>\n",
              "    <tr>\n",
              "      <th>user_id</th>\n",
              "      <th></th>\n",
              "      <th></th>\n",
              "      <th></th>\n",
              "      <th></th>\n",
              "      <th></th>\n",
              "    </tr>\n",
              "  </thead>\n",
              "  <tbody>\n",
              "    <tr>\n",
              "      <th>75</th>\n",
              "      <td>5</td>\n",
              "      <td>[{'CENTROID_ID': 5, 'DISTANCE': 0.384329294010...</td>\n",
              "      <td>3</td>\n",
              "      <td>53.976666</td>\n",
              "      <td>0.0</td>\n",
              "    </tr>\n",
              "    <tr>\n",
              "      <th>82628</th>\n",
              "      <td>4</td>\n",
              "      <td>[{'CENTROID_ID': 4, 'DISTANCE': 0.647686400318...</td>\n",
              "      <td>1</td>\n",
              "      <td>79.949997</td>\n",
              "      <td>0.0</td>\n",
              "    </tr>\n",
              "    <tr>\n",
              "      <th>66197</th>\n",
              "      <td>3</td>\n",
              "      <td>[{'CENTROID_ID': 3, 'DISTANCE': 0.582539425649...</td>\n",
              "      <td>1</td>\n",
              "      <td>49.950001</td>\n",
              "      <td>1.0</td>\n",
              "    </tr>\n",
              "    <tr>\n",
              "      <th>64371</th>\n",
              "      <td>4</td>\n",
              "      <td>[{'CENTROID_ID': 4, 'DISTANCE': 0.303629927776...</td>\n",
              "      <td>1</td>\n",
              "      <td>32.990002</td>\n",
              "      <td>0.0</td>\n",
              "    </tr>\n",
              "    <tr>\n",
              "      <th>71786</th>\n",
              "      <td>4</td>\n",
              "      <td>[{'CENTROID_ID': 4, 'DISTANCE': 0.312954651655...</td>\n",
              "      <td>1</td>\n",
              "      <td>55.0</td>\n",
              "      <td>0.0</td>\n",
              "    </tr>\n",
              "    <tr>\n",
              "      <th>...</th>\n",
              "      <td>...</td>\n",
              "      <td>...</td>\n",
              "      <td>...</td>\n",
              "      <td>...</td>\n",
              "      <td>...</td>\n",
              "    </tr>\n",
              "    <tr>\n",
              "      <th>51751</th>\n",
              "      <td>4</td>\n",
              "      <td>[{'CENTROID_ID': 4, 'DISTANCE': 0.682133332703...</td>\n",
              "      <td>2</td>\n",
              "      <td>58.200001</td>\n",
              "      <td>0.0</td>\n",
              "    </tr>\n",
              "    <tr>\n",
              "      <th>88466</th>\n",
              "      <td>2</td>\n",
              "      <td>[{'CENTROID_ID': 2, 'DISTANCE': 0.674741762318...</td>\n",
              "      <td>5</td>\n",
              "      <td>50.624</td>\n",
              "      <td>0.0</td>\n",
              "    </tr>\n",
              "    <tr>\n",
              "      <th>46826</th>\n",
              "      <td>4</td>\n",
              "      <td>[{'CENTROID_ID': 4, 'DISTANCE': 0.760199330296...</td>\n",
              "      <td>2</td>\n",
              "      <td>68.700001</td>\n",
              "      <td>0.0</td>\n",
              "    </tr>\n",
              "    <tr>\n",
              "      <th>99070</th>\n",
              "      <td>3</td>\n",
              "      <td>[{'CENTROID_ID': 3, 'DISTANCE': 3.500577486551...</td>\n",
              "      <td>1</td>\n",
              "      <td>269.0</td>\n",
              "      <td>1.0</td>\n",
              "    </tr>\n",
              "    <tr>\n",
              "      <th>33981</th>\n",
              "      <td>4</td>\n",
              "      <td>[{'CENTROID_ID': 4, 'DISTANCE': 0.640086356392...</td>\n",
              "      <td>2</td>\n",
              "      <td>40.5</td>\n",
              "      <td>0.0</td>\n",
              "    </tr>\n",
              "  </tbody>\n",
              "</table>\n",
              "<p>5277 rows × 5 columns</p>\n",
              "</div>\n",
              "    <div class=\"colab-df-buttons\">\n",
              "\n",
              "  <div class=\"colab-df-container\">\n",
              "    <button class=\"colab-df-convert\" onclick=\"convertToInteractive('df-bf5421bb-a585-43e5-8239-0403f5f72c63')\"\n",
              "            title=\"Convert this dataframe to an interactive table.\"\n",
              "            style=\"display:none;\">\n",
              "\n",
              "  <svg xmlns=\"http://www.w3.org/2000/svg\" height=\"24px\" viewBox=\"0 -960 960 960\">\n",
              "    <path d=\"M120-120v-720h720v720H120Zm60-500h600v-160H180v160Zm220 220h160v-160H400v160Zm0 220h160v-160H400v160ZM180-400h160v-160H180v160Zm440 0h160v-160H620v160ZM180-180h160v-160H180v160Zm440 0h160v-160H620v160Z\"/>\n",
              "  </svg>\n",
              "    </button>\n",
              "\n",
              "  <style>\n",
              "    .colab-df-container {\n",
              "      display:flex;\n",
              "      gap: 12px;\n",
              "    }\n",
              "\n",
              "    .colab-df-convert {\n",
              "      background-color: #E8F0FE;\n",
              "      border: none;\n",
              "      border-radius: 50%;\n",
              "      cursor: pointer;\n",
              "      display: none;\n",
              "      fill: #1967D2;\n",
              "      height: 32px;\n",
              "      padding: 0 0 0 0;\n",
              "      width: 32px;\n",
              "    }\n",
              "\n",
              "    .colab-df-convert:hover {\n",
              "      background-color: #E2EBFA;\n",
              "      box-shadow: 0px 1px 2px rgba(60, 64, 67, 0.3), 0px 1px 3px 1px rgba(60, 64, 67, 0.15);\n",
              "      fill: #174EA6;\n",
              "    }\n",
              "\n",
              "    .colab-df-buttons div {\n",
              "      margin-bottom: 4px;\n",
              "    }\n",
              "\n",
              "    [theme=dark] .colab-df-convert {\n",
              "      background-color: #3B4455;\n",
              "      fill: #D2E3FC;\n",
              "    }\n",
              "\n",
              "    [theme=dark] .colab-df-convert:hover {\n",
              "      background-color: #434B5C;\n",
              "      box-shadow: 0px 1px 3px 1px rgba(0, 0, 0, 0.15);\n",
              "      filter: drop-shadow(0px 1px 2px rgba(0, 0, 0, 0.3));\n",
              "      fill: #FFFFFF;\n",
              "    }\n",
              "  </style>\n",
              "\n",
              "    <script>\n",
              "      const buttonEl =\n",
              "        document.querySelector('#df-bf5421bb-a585-43e5-8239-0403f5f72c63 button.colab-df-convert');\n",
              "      buttonEl.style.display =\n",
              "        google.colab.kernel.accessAllowed ? 'block' : 'none';\n",
              "\n",
              "      async function convertToInteractive(key) {\n",
              "        const element = document.querySelector('#df-bf5421bb-a585-43e5-8239-0403f5f72c63');\n",
              "        const dataTable =\n",
              "          await google.colab.kernel.invokeFunction('convertToInteractive',\n",
              "                                                    [key], {});\n",
              "        if (!dataTable) return;\n",
              "\n",
              "        const docLinkHtml = 'Like what you see? Visit the ' +\n",
              "          '<a target=\"_blank\" href=https://colab.research.google.com/notebooks/data_table.ipynb>data table notebook</a>'\n",
              "          + ' to learn more about interactive tables.';\n",
              "        element.innerHTML = '';\n",
              "        dataTable['output_type'] = 'display_data';\n",
              "        await google.colab.output.renderOutput(dataTable, element);\n",
              "        const docLink = document.createElement('div');\n",
              "        docLink.innerHTML = docLinkHtml;\n",
              "        element.appendChild(docLink);\n",
              "      }\n",
              "    </script>\n",
              "  </div>\n",
              "\n",
              "\n",
              "<div id=\"df-637b28b4-7eff-4072-a1dd-6d11918dc479\">\n",
              "  <button class=\"colab-df-quickchart\" onclick=\"quickchart('df-637b28b4-7eff-4072-a1dd-6d11918dc479')\"\n",
              "            title=\"Suggest charts\"\n",
              "            style=\"display:none;\">\n",
              "\n",
              "<svg xmlns=\"http://www.w3.org/2000/svg\" height=\"24px\"viewBox=\"0 0 24 24\"\n",
              "     width=\"24px\">\n",
              "    <g>\n",
              "        <path d=\"M19 3H5c-1.1 0-2 .9-2 2v14c0 1.1.9 2 2 2h14c1.1 0 2-.9 2-2V5c0-1.1-.9-2-2-2zM9 17H7v-7h2v7zm4 0h-2V7h2v10zm4 0h-2v-4h2v4z\"/>\n",
              "    </g>\n",
              "</svg>\n",
              "  </button>\n",
              "\n",
              "<style>\n",
              "  .colab-df-quickchart {\n",
              "      --bg-color: #E8F0FE;\n",
              "      --fill-color: #1967D2;\n",
              "      --hover-bg-color: #E2EBFA;\n",
              "      --hover-fill-color: #174EA6;\n",
              "      --disabled-fill-color: #AAA;\n",
              "      --disabled-bg-color: #DDD;\n",
              "  }\n",
              "\n",
              "  [theme=dark] .colab-df-quickchart {\n",
              "      --bg-color: #3B4455;\n",
              "      --fill-color: #D2E3FC;\n",
              "      --hover-bg-color: #434B5C;\n",
              "      --hover-fill-color: #FFFFFF;\n",
              "      --disabled-bg-color: #3B4455;\n",
              "      --disabled-fill-color: #666;\n",
              "  }\n",
              "\n",
              "  .colab-df-quickchart {\n",
              "    background-color: var(--bg-color);\n",
              "    border: none;\n",
              "    border-radius: 50%;\n",
              "    cursor: pointer;\n",
              "    display: none;\n",
              "    fill: var(--fill-color);\n",
              "    height: 32px;\n",
              "    padding: 0;\n",
              "    width: 32px;\n",
              "  }\n",
              "\n",
              "  .colab-df-quickchart:hover {\n",
              "    background-color: var(--hover-bg-color);\n",
              "    box-shadow: 0 1px 2px rgba(60, 64, 67, 0.3), 0 1px 3px 1px rgba(60, 64, 67, 0.15);\n",
              "    fill: var(--button-hover-fill-color);\n",
              "  }\n",
              "\n",
              "  .colab-df-quickchart-complete:disabled,\n",
              "  .colab-df-quickchart-complete:disabled:hover {\n",
              "    background-color: var(--disabled-bg-color);\n",
              "    fill: var(--disabled-fill-color);\n",
              "    box-shadow: none;\n",
              "  }\n",
              "\n",
              "  .colab-df-spinner {\n",
              "    border: 2px solid var(--fill-color);\n",
              "    border-color: transparent;\n",
              "    border-bottom-color: var(--fill-color);\n",
              "    animation:\n",
              "      spin 1s steps(1) infinite;\n",
              "  }\n",
              "\n",
              "  @keyframes spin {\n",
              "    0% {\n",
              "      border-color: transparent;\n",
              "      border-bottom-color: var(--fill-color);\n",
              "      border-left-color: var(--fill-color);\n",
              "    }\n",
              "    20% {\n",
              "      border-color: transparent;\n",
              "      border-left-color: var(--fill-color);\n",
              "      border-top-color: var(--fill-color);\n",
              "    }\n",
              "    30% {\n",
              "      border-color: transparent;\n",
              "      border-left-color: var(--fill-color);\n",
              "      border-top-color: var(--fill-color);\n",
              "      border-right-color: var(--fill-color);\n",
              "    }\n",
              "    40% {\n",
              "      border-color: transparent;\n",
              "      border-right-color: var(--fill-color);\n",
              "      border-top-color: var(--fill-color);\n",
              "    }\n",
              "    60% {\n",
              "      border-color: transparent;\n",
              "      border-right-color: var(--fill-color);\n",
              "    }\n",
              "    80% {\n",
              "      border-color: transparent;\n",
              "      border-right-color: var(--fill-color);\n",
              "      border-bottom-color: var(--fill-color);\n",
              "    }\n",
              "    90% {\n",
              "      border-color: transparent;\n",
              "      border-bottom-color: var(--fill-color);\n",
              "    }\n",
              "  }\n",
              "</style>\n",
              "\n",
              "  <script>\n",
              "    async function quickchart(key) {\n",
              "      const quickchartButtonEl =\n",
              "        document.querySelector('#' + key + ' button');\n",
              "      quickchartButtonEl.disabled = true;  // To prevent multiple clicks.\n",
              "      quickchartButtonEl.classList.add('colab-df-spinner');\n",
              "      try {\n",
              "        const charts = await google.colab.kernel.invokeFunction(\n",
              "            'suggestCharts', [key], {});\n",
              "      } catch (error) {\n",
              "        console.error('Error during call to suggestCharts:', error);\n",
              "      }\n",
              "      quickchartButtonEl.classList.remove('colab-df-spinner');\n",
              "      quickchartButtonEl.classList.add('colab-df-quickchart-complete');\n",
              "    }\n",
              "    (() => {\n",
              "      let quickchartButtonEl =\n",
              "        document.querySelector('#df-637b28b4-7eff-4072-a1dd-6d11918dc479 button');\n",
              "      quickchartButtonEl.style.display =\n",
              "        google.colab.kernel.accessAllowed ? 'block' : 'none';\n",
              "    })();\n",
              "  </script>\n",
              "</div>\n",
              "    </div>\n",
              "  </div>\n"
            ]
          },
          "metadata": {},
          "execution_count": 16
        }
      ]
    },
    {
      "cell_type": "markdown",
      "source": [
        "#### **Generate scatterplot to display clusters**"
      ],
      "metadata": {
        "id": "CKIhpH9kPXNQ"
      }
    },
    {
      "cell_type": "code",
      "source": [
        "g = sns.lmplot(x='count_orders', y='average_spend', data=segments_pd, fit_reg=False, hue='segment_id', palette='Set2', height=7, aspect=2)\n",
        "g = (g.set_axis_labels('Count Orders','Average Spend ($)', fontsize=15).set(xlim=(0,10),ylim=(0,400)))\n",
        "plt.title('Attribute Grouped by K-means Cluster', pad=20, fontsize=20)"
      ],
      "metadata": {
        "colab": {
          "base_uri": "https://localhost:8080/",
          "height": 672
        },
        "id": "WH8s_tULGyf5",
        "outputId": "eec67a35-4feb-4557-b293-7f43ac3c723f",
        "executionInfo": {
          "status": "ok",
          "timestamp": 1701796740288,
          "user_tz": 360,
          "elapsed": 1194,
          "user": {
            "displayName": "",
            "userId": ""
          }
        }
      },
      "execution_count": 17,
      "outputs": [
        {
          "output_type": "execute_result",
          "data": {
            "text/plain": [
              "Text(0.5, 1.0, 'Attribute Grouped by K-means Cluster')"
            ]
          },
          "metadata": {},
          "execution_count": 17
        },
        {
          "output_type": "display_data",
          "data": {
            "text/plain": [
              "<Figure size 1491.61x700 with 1 Axes>"
            ],
            "image/png": "[encoded data removed]"
          },
          "metadata": {}
        }
      ]
    },
    {
      "cell_type": "markdown",
      "source": [
        "#### **Cluster Summary Statistics**\n",
        "\n",
        "The visualization helped us see distinct clusters. Now let's generate some summary statistics around order recency, frequency, and spend by cluster."
      ],
      "metadata": {
        "id": "yh1_PqPvIalu"
      }
    },
    {
      "cell_type": "code",
      "source": [
        "df_centroid = kmeans.cluster_centers_\n",
        "df_centroid"
      ],
      "metadata": {
        "colab": {
          "base_uri": "https://localhost:8080/",
          "height": 653
        },
        "id": "UmEsjTfeIueR",
        "outputId": "b7903696-1f5d-4945-a02d-c5d465105070",
        "executionInfo": {
          "status": "ok",
          "timestamp": 1701796747788,
          "user_tz": 360,
          "elapsed": 7501,
          "user": {
            "displayName": "",
            "userId": ""
          }
        }
      },
      "execution_count": 18,
      "outputs": [
        {
          "output_type": "display_data",
          "data": {
            "text/plain": [
              "<IPython.core.display.HTML object>"
            ],
            "text/html": [
              "Query job 17d6c52d-e67a-4e5b-ab23-0f656cc3264d is RUNNING. <a target=\"_blank\" href=\"https://console.cloud.google.com/bigquery?project=analytics-ml-ai&j=bq:US:17d6c52d-e67a-4e5b-ab23-0f656cc3264d&page=queryresults\">Open Job</a>"
            ]
          },
          "metadata": {}
        },
        {
          "output_type": "display_data",
          "data": {
            "text/plain": [
              "<IPython.core.display.HTML object>"
            ],
            "text/html": [
              "Query job 228e2932-4bf8-444c-814a-a48a4d04da47 is DONE. 160 Bytes processed. <a target=\"_blank\" href=\"https://console.cloud.google.com/bigquery?project=analytics-ml-ai&j=bq:US:228e2932-4bf8-444c-814a-a48a4d04da47&page=queryresults\">Open Job</a>"
            ]
          },
          "metadata": {}
        },
        {
          "output_type": "display_data",
          "data": {
            "text/plain": [
              "<IPython.core.display.HTML object>"
            ],
            "text/html": [
              "Query job d29c41ff-716d-43b6-8ef1-0a3cd472bb25 is DONE. 0 Bytes processed. <a target=\"_blank\" href=\"https://console.cloud.google.com/bigquery?project=analytics-ml-ai&j=bq:US:d29c41ff-716d-43b6-8ef1-0a3cd472bb25&page=queryresults\">Open Job</a>"
            ]
          },
          "metadata": {}
        },
        {
          "output_type": "display_data",
          "data": {
            "text/plain": [
              "<IPython.core.display.HTML object>"
            ],
            "text/html": [
              "Query job d659dab1-37e7-41ee-b8a2-187d4ff420c0 is DONE. 0 Bytes processed. <a target=\"_blank\" href=\"https://console.cloud.google.com/bigquery?project=analytics-ml-ai&j=bq:US:d659dab1-37e7-41ee-b8a2-187d4ff420c0&page=queryresults\">Open Job</a>"
            ]
          },
          "metadata": {}
        },
        {
          "output_type": "display_data",
          "data": {
            "text/plain": [
              "<IPython.core.display.HTML object>"
            ],
            "text/html": [
              "Query job 8a84d869-b6ac-4432-b960-d26b7d3abb86 is DONE. 0 Bytes processed. <a target=\"_blank\" href=\"https://console.cloud.google.com/bigquery?project=analytics-ml-ai&j=bq:US:8a84d869-b6ac-4432-b960-d26b7d3abb86&page=queryresults\">Open Job</a>"
            ]
          },
          "metadata": {}
        },
        {
          "output_type": "execute_result",
          "data": {
            "text/plain": [
              "    centroid_id        feature  numerical_value categorical_value\n",
              "0             1  average_spend       194.408409                []\n",
              "1             1   count_orders         1.295263                []\n",
              "2             1   return_ratio         0.011316                []\n",
              "3             2  average_spend        59.674665                []\n",
              "4             2   count_orders          5.66388                []\n",
              "5             2   return_ratio         0.083164                []\n",
              "6             3  average_spend        58.330348                []\n",
              "7             3   count_orders         1.581578                []\n",
              "8             3   return_ratio         0.934142                []\n",
              "9             4  average_spend        43.509252                []\n",
              "10            4   count_orders         1.281373                []\n",
              "11            4   return_ratio              0.0                []\n",
              "12            5  average_spend        56.648122                []\n",
              "13            5   count_orders         3.422423                []\n",
              "14            5   return_ratio         0.020219                []\n",
              "\n",
              "[15 rows x 4 columns]"
            ],
            "text/html": [
              "<div>\n",
              "<style scoped>\n",
              "    .dataframe tbody tr th:only-of-type {\n",
              "        vertical-align: middle;\n",
              "    }\n",
              "\n",
              "    .dataframe tbody tr th {\n",
              "        vertical-align: top;\n",
              "    }\n",
              "\n",
              "    .dataframe thead th {\n",
              "        text-align: right;\n",
              "    }\n",
              "</style>\n",
              "<table border=\"1\" class=\"dataframe\">\n",
              "  <thead>\n",
              "    <tr style=\"text-align: right;\">\n",
              "      <th></th>\n",
              "      <th>centroid_id</th>\n",
              "      <th>feature</th>\n",
              "      <th>numerical_value</th>\n",
              "      <th>categorical_value</th>\n",
              "    </tr>\n",
              "  </thead>\n",
              "  <tbody>\n",
              "    <tr>\n",
              "      <th>0</th>\n",
              "      <td>1</td>\n",
              "      <td>average_spend</td>\n",
              "      <td>194.408409</td>\n",
              "      <td>[]</td>\n",
              "    </tr>\n",
              "    <tr>\n",
              "      <th>1</th>\n",
              "      <td>1</td>\n",
              "      <td>count_orders</td>\n",
              "      <td>1.295263</td>\n",
              "      <td>[]</td>\n",
              "    </tr>\n",
              "    <tr>\n",
              "      <th>2</th>\n",
              "      <td>1</td>\n",
              "      <td>return_ratio</td>\n",
              "      <td>0.011316</td>\n",
              "      <td>[]</td>\n",
              "    </tr>\n",
              "    <tr>\n",
              "      <th>3</th>\n",
              "      <td>2</td>\n",
              "      <td>average_spend</td>\n",
              "      <td>59.674665</td>\n",
              "      <td>[]</td>\n",
              "    </tr>\n",
              "    <tr>\n",
              "      <th>4</th>\n",
              "      <td>2</td>\n",
              "      <td>count_orders</td>\n",
              "      <td>5.66388</td>\n",
              "      <td>[]</td>\n",
              "    </tr>\n",
              "    <tr>\n",
              "      <th>5</th>\n",
              "      <td>2</td>\n",
              "      <td>return_ratio</td>\n",
              "      <td>0.083164</td>\n",
              "      <td>[]</td>\n",
              "    </tr>\n",
              "    <tr>\n",
              "      <th>6</th>\n",
              "      <td>3</td>\n",
              "      <td>average_spend</td>\n",
              "      <td>58.330348</td>\n",
              "      <td>[]</td>\n",
              "    </tr>\n",
              "    <tr>\n",
              "      <th>7</th>\n",
              "      <td>3</td>\n",
              "      <td>count_orders</td>\n",
              "      <td>1.581578</td>\n",
              "      <td>[]</td>\n",
              "    </tr>\n",
              "    <tr>\n",
              "      <th>8</th>\n",
              "      <td>3</td>\n",
              "      <td>return_ratio</td>\n",
              "      <td>0.934142</td>\n",
              "      <td>[]</td>\n",
              "    </tr>\n",
              "    <tr>\n",
              "      <th>9</th>\n",
              "      <td>4</td>\n",
              "      <td>average_spend</td>\n",
              "      <td>43.509252</td>\n",
              "      <td>[]</td>\n",
              "    </tr>\n",
              "    <tr>\n",
              "      <th>10</th>\n",
              "      <td>4</td>\n",
              "      <td>count_orders</td>\n",
              "      <td>1.281373</td>\n",
              "      <td>[]</td>\n",
              "    </tr>\n",
              "    <tr>\n",
              "      <th>11</th>\n",
              "      <td>4</td>\n",
              "      <td>return_ratio</td>\n",
              "      <td>0.0</td>\n",
              "      <td>[]</td>\n",
              "    </tr>\n",
              "    <tr>\n",
              "      <th>12</th>\n",
              "      <td>5</td>\n",
              "      <td>average_spend</td>\n",
              "      <td>56.648122</td>\n",
              "      <td>[]</td>\n",
              "    </tr>\n",
              "    <tr>\n",
              "      <th>13</th>\n",
              "      <td>5</td>\n",
              "      <td>count_orders</td>\n",
              "      <td>3.422423</td>\n",
              "      <td>[]</td>\n",
              "    </tr>\n",
              "    <tr>\n",
              "      <th>14</th>\n",
              "      <td>5</td>\n",
              "      <td>return_ratio</td>\n",
              "      <td>0.020219</td>\n",
              "      <td>[]</td>\n",
              "    </tr>\n",
              "  </tbody>\n",
              "</table>\n",
              "<p>15 rows × 4 columns</p>\n",
              "</div>[15 rows x 4 columns in total]"
            ]
          },
          "metadata": {},
          "execution_count": 18
        }
      ]
    },
    {
      "cell_type": "code",
      "source": [
        "df_centroid_pivot = df_centroid.pivot(index='centroid_id', columns='feature', values='numerical_value')\n",
        "df_centroid_pivot"
      ],
      "metadata": {
        "colab": {
          "base_uri": "https://localhost:8080/",
          "height": 336
        },
        "id": "FzVxofIPJ5zQ",
        "outputId": "9e19a393-5228-4d18-adec-7236958fcaef",
        "executionInfo": {
          "status": "ok",
          "timestamp": 1701796754104,
          "user_tz": 360,
          "elapsed": 6336,
          "user": {
            "displayName": "",
            "userId": ""
          }
        }
      },
      "execution_count": 19,
      "outputs": [
        {
          "output_type": "display_data",
          "data": {
            "text/plain": [
              "<IPython.core.display.HTML object>"
            ],
            "text/html": [
              "Query job 58e225c6-0f0c-41dc-8261-c49ae7e9085c is DONE. 0 Bytes processed. <a target=\"_blank\" href=\"https://console.cloud.google.com/bigquery?project=analytics-ml-ai&j=bq:US:58e225c6-0f0c-41dc-8261-c49ae7e9085c&page=queryresults\">Open Job</a>"
            ]
          },
          "metadata": {}
        },
        {
          "output_type": "display_data",
          "data": {
            "text/plain": [
              "<IPython.core.display.HTML object>"
            ],
            "text/html": [
              "Query job 1bf8b9f9-8645-4276-bf1e-11bc8f8c4793 is DONE. 0 Bytes processed. <a target=\"_blank\" href=\"https://console.cloud.google.com/bigquery?project=analytics-ml-ai&j=bq:US:1bf8b9f9-8645-4276-bf1e-11bc8f8c4793&page=queryresults\">Open Job</a>"
            ]
          },
          "metadata": {}
        },
        {
          "output_type": "display_data",
          "data": {
            "text/plain": [
              "<IPython.core.display.HTML object>"
            ],
            "text/html": [
              "Query job 78b2c4e7-1c72-4d81-bb13-cebd1e0e5f56 is DONE. 0 Bytes processed. <a target=\"_blank\" href=\"https://console.cloud.google.com/bigquery?project=analytics-ml-ai&j=bq:US:78b2c4e7-1c72-4d81-bb13-cebd1e0e5f56&page=queryresults\">Open Job</a>"
            ]
          },
          "metadata": {}
        },
        {
          "output_type": "execute_result",
          "data": {
            "text/plain": [
              "feature      average_spend  count_orders   return_ratio \n",
              "centroid_id                                             \n",
              "1               194.408409       1.295263       0.011316\n",
              "2                59.674665        5.66388       0.083164\n",
              "3                58.330348       1.581578       0.934142\n",
              "4                43.509252       1.281373            0.0\n",
              "5                56.648122       3.422423       0.020219\n",
              "\n",
              "[5 rows x 3 columns]"
            ],
            "text/html": [
              "<div>\n",
              "<style scoped>\n",
              "    .dataframe tbody tr th:only-of-type {\n",
              "        vertical-align: middle;\n",
              "    }\n",
              "\n",
              "    .dataframe tbody tr th {\n",
              "        vertical-align: top;\n",
              "    }\n",
              "\n",
              "    .dataframe thead th {\n",
              "        text-align: right;\n",
              "    }\n",
              "</style>\n",
              "<table border=\"1\" class=\"dataframe\">\n",
              "  <thead>\n",
              "    <tr style=\"text-align: right;\">\n",
              "      <th>feature</th>\n",
              "      <th>average_spend</th>\n",
              "      <th>count_orders</th>\n",
              "      <th>return_ratio</th>\n",
              "    </tr>\n",
              "    <tr>\n",
              "      <th>centroid_id</th>\n",
              "      <th></th>\n",
              "      <th></th>\n",
              "      <th></th>\n",
              "    </tr>\n",
              "  </thead>\n",
              "  <tbody>\n",
              "    <tr>\n",
              "      <th>1</th>\n",
              "      <td>194.408409</td>\n",
              "      <td>1.295263</td>\n",
              "      <td>0.011316</td>\n",
              "    </tr>\n",
              "    <tr>\n",
              "      <th>2</th>\n",
              "      <td>59.674665</td>\n",
              "      <td>5.66388</td>\n",
              "      <td>0.083164</td>\n",
              "    </tr>\n",
              "    <tr>\n",
              "      <th>3</th>\n",
              "      <td>58.330348</td>\n",
              "      <td>1.581578</td>\n",
              "      <td>0.934142</td>\n",
              "    </tr>\n",
              "    <tr>\n",
              "      <th>4</th>\n",
              "      <td>43.509252</td>\n",
              "      <td>1.281373</td>\n",
              "      <td>0.0</td>\n",
              "    </tr>\n",
              "    <tr>\n",
              "      <th>5</th>\n",
              "      <td>56.648122</td>\n",
              "      <td>3.422423</td>\n",
              "      <td>0.020219</td>\n",
              "    </tr>\n",
              "  </tbody>\n",
              "</table>\n",
              "<p>5 rows × 3 columns</p>\n",
              "</div>[5 rows x 3 columns in total]"
            ]
          },
          "metadata": {},
          "execution_count": 19
        }
      ]
    },
    {
      "cell_type": "markdown",
      "source": [
        "#### **Summary Statistics**\n",
        "Whew! That's a lot of metrics and cluster info. How about we explain this to our colleagues using the magic of LLMs.\n",
        "\n",
        "Let's begin by creating a string with the summary statistics from the last cell."
      ],
      "metadata": {
        "id": "9Ey4aZIEMykc"
      }
    },
    {
      "cell_type": "code",
      "source": [
        "pd_df = df_centroid_pivot.reset_index().to_pandas()\n",
        "pd_df.to_string(header=False, index=False)\n",
        "\n",
        "cluster_info = []\n",
        "for i, row in pd_df.iterrows():\n",
        "  cluster_info.append(\"{0}, average spend ${2}, count of orders per person {1}, return ratio {3}\"\n",
        "    .format(row[\"centroid_id\"], row[\"count_orders\"], row[\"average_spend\"], row[\"return_ratio\"]) )\n",
        "\n",
        "print(str.join(\"\\n\", cluster_info))"
      ],
      "metadata": {
        "colab": {
          "base_uri": "https://localhost:8080/",
          "height": 121
        },
        "id": "XB8SdzclMxUx",
        "outputId": "f3cd7f25-9cee-48e1-8041-f7fbef43ed92",
        "executionInfo": {
          "status": "ok",
          "timestamp": 1701796756395,
          "user_tz": 360,
          "elapsed": 2294,
          "user": {
            "displayName": "",
            "userId": ""
          }
        }
      },
      "execution_count": 20,
      "outputs": [
        {
          "output_type": "display_data",
          "data": {
            "text/plain": [
              "<IPython.core.display.HTML object>"
            ],
            "text/html": [
              "Query job 314493d0-3538-467e-888c-63737dbe74dc is DONE. 0 Bytes processed. <a target=\"_blank\" href=\"https://console.cloud.google.com/bigquery?project=analytics-ml-ai&j=bq:US:314493d0-3538-467e-888c-63737dbe74dc&page=queryresults\">Open Job</a>"
            ]
          },
          "metadata": {}
        },
        {
          "output_type": "stream",
          "name": "stdout",
          "text": [
            "1, average spend $194.40840874661038, count of orders per person 1.295263157894745, return ratio 0.011315789473679977\n",
            "2, average spend $59.67466521899343, count of orders per person 5.663879598662167, return ratio 0.08316411849020548\n",
            "3, average spend $58.330347907537345, count of orders per person 1.5815776580107732, return ratio 0.9341417605748923\n",
            "4, average spend $43.5092516940559, count of orders per person 1.2813732651571168, return ratio 1.3225531780847177e-14\n",
            "5, average spend $56.648121649146184, count of orders per person 3.422422769871469, return ratio 0.020218674071497952\n"
          ]
        }
      ]
    },
    {
      "cell_type": "markdown",
      "source": [
        "## Step 4 : Generative AI - Explain customer segments with Vertex AI PaLM API\n",
        "\n",
        "To leverage Large Language Models directly from BigQuery, we will specify a [BigQuery connection](https://cloud.google.com/bigquery/docs/working-with-connections). If you already have a connection, you can simplify provide the name and skip the following creation steps"
      ],
      "metadata": {
        "id": "7Na0_rVVLhOk"
      }
    },
    {
      "cell_type": "code",
      "source": [
        "# Please fill in these values.\n",
        "CONNECTION = \"bq-llm\"  # @param {type:\"string\"}\n",
        "\n",
        "connection_name = f\"{PROJECT_ID}.{LOCATION}.{CONNECTION}\""
      ],
      "metadata": {
        "id": "W13HyzWX0I-F",
        "executionInfo": {
          "status": "ok",
          "timestamp": 1701796756395,
          "user_tz": 360,
          "elapsed": 10,
          "user": {
            "displayName": "",
            "userId": ""
          }
        }
      },
      "execution_count": 21,
      "outputs": []
    },
    {
      "cell_type": "markdown",
      "source": [
        "#### **BigQuery Connection Setup**\n",
        "BigQuery lets you interact with services outside of BigQuery in Google Cloud services like Cloud Storage or Cloud Spanner, or in third-party sources like AWS or Azure. These external connections use the BigQuery Connection API.\n",
        "\n",
        "In this case, we interact with Vertex AI Large Language models using Connection API.\n",
        "\n",
        "In following cell, we try to use the provided connection, and if it doesn't exist, create a new one. We will also print the service account used.\n",
        "\n",
        "Note : You may require additional permissions as [documented here ](https://cloud.google.com/bigquery/docs/working-with-connections#expandable-1)to peform following step."
      ],
      "metadata": {
        "id": "EtiHiulOEd8R"
      }
    },
    {
      "cell_type": "code",
      "source": [
        "from google.cloud import bigquery_connection_v1 as bq_connection\n",
        "from bigframes.ml.llm import PaLM2TextGenerator\n",
        "session = bpd.get_global_session()"
      ],
      "metadata": {
        "id": "sIqdPAl44JQc",
        "executionInfo": {
          "status": "ok",
          "timestamp": 1701796827635,
          "user_tz": 360,
          "elapsed": 127,
          "user": {
            "displayName": "",
            "userId": ""
          }
        }
      },
      "execution_count": 23,
      "outputs": []
    },
    {
      "cell_type": "code",
      "source": [
        "# Initialize client and set request parameters\n",
        "client = bq_connection.ConnectionServiceClient()\n",
        "new_conn_parent = f\"projects/{PROJECT_ID}/locations/{LOCATION}\"\n",
        "exists_conn_parent = f\"projects/{PROJECT_ID}/locations/{LOCATION}/connections/{CONNECTION}\"\n",
        "cloud_resource_properties = bq_connection.CloudResourceProperties({})\n",
        "\n",
        "# Try to connect using provided connection\n",
        "try:\n",
        "    request = client.get_connection(\n",
        "        request=bq_connection.GetConnectionRequest(name=exists_conn_parent)\n",
        "    )\n",
        "    CONN_SERVICE_ACCOUNT = f\"serviceAccount:{request.cloud_resource.service_account_id}\"\n",
        "# Create a new connection on error\n",
        "except Exception:\n",
        "    connection = bq_connection.types.Connection(\n",
        "        {\"friendly_name\": CONNECTION, \"cloud_resource\": cloud_resource_properties}\n",
        "    )\n",
        "    request = bq_connection.CreateConnectionRequest(\n",
        "        {\n",
        "            \"parent\": new_conn_parent,\n",
        "            \"connection_id\": CONNECTION,\n",
        "            \"connection\": connection,\n",
        "        }\n",
        "    )\n",
        "    response = client.create_connection(request)\n",
        "    CONN_SERVICE_ACCOUNT = (\n",
        "        f\"serviceAccount:{response.cloud_resource.service_account_id}\"\n",
        "    )\n",
        "# Set service account permissions\n",
        "!gcloud projects add-iam-policy-binding {PROJECT_ID} --condition=None --no-user-output-enabled --member={CONN_SERVICE_ACCOUNT} --role='roles/bigquery.connectionUser'\n",
        "!gcloud projects add-iam-policy-binding {PROJECT_ID} --condition=None --no-user-output-enabled --member={CONN_SERVICE_ACCOUNT} --role='roles/aiplatform.user'\n",
        "!gcloud projects add-iam-policy-binding {PROJECT_ID} --condition=None --no-user-output-enabled --member={CONN_SERVICE_ACCOUNT} --role='roles/run.invoker'\n",
        "\n",
        "print(CONN_SERVICE_ACCOUNT)"
      ],
      "metadata": {
        "colab": {
          "base_uri": "https://localhost:8080/"
        },
        "id": "V8iLYPrX3opw",
        "executionInfo": {
          "status": "ok",
          "timestamp": 1701796837624,
          "user_tz": 360,
          "elapsed": 9883,
          "user": {
            "displayName": "",
            "userId": ""
          }
        },
        "outputId": "44e68578-6357-499a-9d30-6d3611a36748"
      },
      "execution_count": 24,
      "outputs": [
        {
          "output_type": "stream",
          "name": "stdout",
          "text": [
            "serviceAccount:bqcx-184378960328-5vzh@gcp-sa-bigquery-condel.iam.gserviceaccount.com\n"
          ]
        }
      ]
    },
    {
      "cell_type": "markdown",
      "source": [
        "The resource connection service account requires certain project-level permissions:\n",
        "\n",
        "`roles/aiplatform.user` and `roles/bigquery.connectionUser`: These roles are required for the connection to create a model definition using the LLM model in Vertex AI ( [documentation](https://cloud.google.com/bigquery/docs/generate-text#give_the_service_account_access)).\n",
        "roles/run.invoker: This role is required for the connection to have read-only access to Cloud Run services that back custom/remote functions ([documentation](https://cloud.google.com/bigquery/docs/remote-functions#grant_permission_on_function))."
      ],
      "metadata": {
        "id": "j2x4dhJ8Fhtc"
      }
    },
    {
      "cell_type": "markdown",
      "source": [
        "#### **Define the Large Language model using BigFrames**\n",
        "\n",
        "Use bigframes.ml.llm to define the model and get BigFrames session\n"
      ],
      "metadata": {
        "id": "-ay0KygzF_Q1"
      }
    },
    {
      "cell_type": "markdown",
      "source": [
        "#### **Create a Prompt**\n",
        "For each cluster, ask the LLM to act as a brand strategist and generate the following:\n",
        "* Title\n",
        "* Persona\n",
        "* Next Marketing Step"
      ],
      "metadata": {
        "id": "tdoRB7RjLso6"
      }
    },
    {
      "cell_type": "code",
      "source": [
        "model = PaLM2TextGenerator(session=session, connection_name=connection_name)"
      ],
      "metadata": {
        "colab": {
          "base_uri": "https://localhost:8080/",
          "height": 34
        },
        "id": "7J22pFpewG-M",
        "executionInfo": {
          "status": "ok",
          "timestamp": 1701796840556,
          "user_tz": 360,
          "elapsed": 2935,
          "user": {
            "displayName": "",
            "userId": ""
          }
        },
        "outputId": "ceb7e41b-0f37-49f0-8be9-7fe7bec02a93"
      },
      "execution_count": 25,
      "outputs": [
        {
          "output_type": "display_data",
          "data": {
            "text/plain": [
              "<IPython.core.display.HTML object>"
            ],
            "text/html": [
              "Query job 968e7ec1-9dcb-4328-9003-b719be146eb1 is DONE. 0 Bytes processed. <a target=\"_blank\" href=\"https://console.cloud.google.com/bigquery?project=analytics-ml-ai&j=bq:US:968e7ec1-9dcb-4328-9003-b719be146eb1&page=queryresults\">Open Job</a>"
            ]
          },
          "metadata": {}
        }
      ]
    },
    {
      "cell_type": "code",
      "source": [
        "\n",
        "\n",
        "clusters = str.join(\"\\n\", cluster_info)\n",
        "\n",
        "prompt = f\"\"\"\n",
        "You're a creative brand strategist, given the following clusters, come up with \\\n",
        "creative brand persona, a catchy title, and next marketing action, \\\n",
        "explained step by step.\n",
        "\n",
        "Clusters:\n",
        "{clusters}\n",
        "\n",
        "For each Cluster:\n",
        "* Title:\n",
        "* Persona:\n",
        "* Next Marketing Step:\n",
        "\"\"\"\n",
        "\n"
      ],
      "metadata": {
        "id": "MYwQNH0ELu9y",
        "executionInfo": {
          "status": "ok",
          "timestamp": 1701796840556,
          "user_tz": 360,
          "elapsed": 2,
          "user": {
            "displayName": "",
            "userId": ""
          }
        }
      },
      "execution_count": 26,
      "outputs": []
    },
    {
      "cell_type": "markdown",
      "source": [
        "#### **Prediction using Large Language model**"
      ],
      "metadata": {
        "id": "X7wyE30HP4-U"
      }
    },
    {
      "cell_type": "code",
      "source": [
        "prompt_df = bpd.read_pandas(pd.DataFrame({'prompt': [prompt]}))\n",
        "pred = model.predict(prompt_df, max_output_tokens=1024, temperature=0.55, top_p=0.8, top_k=40)\n",
        "print(pred.iloc[0,0])"
      ],
      "metadata": {
        "colab": {
          "base_uri": "https://localhost:8080/",
          "height": 627
        },
        "id": "wumJXJv2Qqg_",
        "outputId": "b705931a-7e9c-4e58-834d-34441e239cfc",
        "executionInfo": {
          "status": "ok",
          "timestamp": 1701796892869,
          "user_tz": 360,
          "elapsed": 52315,
          "user": {
            "displayName": "",
            "userId": ""
          }
        }
      },
      "execution_count": 27,
      "outputs": [
        {
          "output_type": "display_data",
          "data": {
            "text/plain": [
              "<IPython.core.display.HTML object>"
            ],
            "text/html": [
              "Load job d9f58fed-ccaa-46d7-8798-a0094109196d is DONE. <a target=\"_blank\" href=\"https://console.cloud.google.com/bigquery?project=analytics-ml-ai&j=bq:US:d9f58fed-ccaa-46d7-8798-a0094109196d&page=queryresults\">Open Job</a>"
            ]
          },
          "metadata": {}
        },
        {
          "output_type": "display_data",
          "data": {
            "text/plain": [
              "<IPython.core.display.HTML object>"
            ],
            "text/html": [
              "Query job 392bca26-43fc-471a-b713-3daed4c2b801 is DONE. 842 Bytes processed. <a target=\"_blank\" href=\"https://console.cloud.google.com/bigquery?project=analytics-ml-ai&j=bq:US:392bca26-43fc-471a-b713-3daed4c2b801&page=queryresults\">Open Job</a>"
            ]
          },
          "metadata": {}
        },
        {
          "output_type": "display_data",
          "data": {
            "text/plain": [
              "<IPython.core.display.HTML object>"
            ],
            "text/html": [
              "Query job c55c2310-07e3-42ff-a964-93b65a6c6d19 is DONE. 8 Bytes processed. <a target=\"_blank\" href=\"https://console.cloud.google.com/bigquery?project=analytics-ml-ai&j=bq:US:c55c2310-07e3-42ff-a964-93b65a6c6d19&page=queryresults\">Open Job</a>"
            ]
          },
          "metadata": {}
        },
        {
          "output_type": "display_data",
          "data": {
            "text/plain": [
              "<IPython.core.display.HTML object>"
            ],
            "text/html": [
              "Query job 4b7773d7-1d48-4bef-a8a0-1695765e3aea is DONE. 2 Bytes processed. <a target=\"_blank\" href=\"https://console.cloud.google.com/bigquery?project=analytics-ml-ai&j=bq:US:4b7773d7-1d48-4bef-a8a0-1695765e3aea&page=queryresults\">Open Job</a>"
            ]
          },
          "metadata": {}
        },
        {
          "output_type": "display_data",
          "data": {
            "text/plain": [
              "<IPython.core.display.HTML object>"
            ],
            "text/html": [
              "Query job 90d1edce-a9cd-4039-962d-f28f63ef8b6d is DONE. 2.2 kB processed. <a target=\"_blank\" href=\"https://console.cloud.google.com/bigquery?project=analytics-ml-ai&j=bq:US:90d1edce-a9cd-4039-962d-f28f63ef8b6d&page=queryresults\">Open Job</a>"
            ]
          },
          "metadata": {}
        },
        {
          "output_type": "stream",
          "name": "stdout",
          "text": [
            " **Cluster 1:**\n",
            "\n",
            "* Title: The High-End Shoppers\n",
            "* Persona: These customers are looking for the best of the best and are willing to pay a premium for it. They're typically affluent and have a high disposable income.\n",
            "* Next Marketing Step: Target these customers with exclusive offers and discounts. Make them feel like they're getting something special that's not available to everyone else.\n",
            "\n",
            "**Cluster 2:**\n",
            "\n",
            "* Title: The Bargain Hunters\n",
            "* Persona: These customers are always looking for a good deal and are willing to put in the time to find it. They're typically budget-minded and are always on the lookout for a sale.\n",
            "* Next Marketing Step: Target these customers with discounts and promotions. Make it clear that they're getting a great deal on a quality product.\n",
            "\n",
            "**Cluster 3:**\n",
            "\n",
            "* Title: The Loyal Customers\n",
            "* Persona: These customers are your bread and butter. They're the ones who keep coming back for more, even if they could find a cheaper product elsewhere. They're typically satisfied with your products and services and are happy to recommend you to their friends and family.\n",
            "* Next Marketing Step: Reward these customers for their loyalty. Offer them exclusive discounts, early access to new products, and other perks. Make them feel like they're part of a special community.\n",
            "\n",
            "**Cluster 4:**\n",
            "\n",
            "* Title: The Impulse Buyers\n",
            "* Persona: These customers are the ones who make a purchase on a whim. They're typically not very brand-loyal and are more likely to buy something if it's on sale or if they're feeling impulsive.\n",
            "* Next Marketing Step: Target these customers with time-sensitive offers and discounts. Create a sense of urgency that will make them feel like they need to buy now or they'll miss out.\n",
            "\n",
            "**Cluster 5:**\n",
            "\n",
            "* Title: The Repeat Customers\n",
            "* Persona: These customers are the ones who keep coming back for more, even if they could find a cheaper product elsewhere. They're typically satisfied with your products and services and are happy to recommend you to their friends and family.\n",
            "* Next Marketing Step: Target these customers with loyalty programs and rewards. Make it clear that you appreciate their business and want to keep them coming back.\n"
          ]
        }
      ]
    },
    {
      "cell_type": "markdown",
      "source": [
        "**Voila! We've now used k-Means clustering to create groups of spenders and explain their profiles.**"
      ],
      "metadata": {
        "id": "jqC5uUguaunY"
      }
    },
    {
      "cell_type": "markdown",
      "source": [
        "**Congratulations**! You have learned how to use **BigFrames** and manage each step of the process, including gathering data, data manipulation, and querying the LLM."
      ],
      "metadata": {
        "id": "bi8SGY4__aEI"
      }
    },
    {
      "cell_type": "markdown",
      "source": [
        "\n",
        "\n",
        "---\n",
        "\n"
      ],
      "metadata": {
        "id": "oFVRAN2wckHC"
      }
    },
    {
      "cell_type": "markdown",
      "source": [
        "#### **BONUS #1: LLM Prompt Engineering**\n",
        "\n",
        "Sometimes, though, you want a little bit extra.\n",
        "\n",
        "#### **Personalized marketing emails**\n",
        "Think about using Generative AI to also generate personalized marketing emails using witty e-mail headline for marketing campaign targeted to their clusters of customers\n",
        "\n",
        "Reference: [Prompt Generation with Generative AI](https://cloud.google.com/blog/transform/prompt-debunking-five-generative-ai-misconceptions)."
      ],
      "metadata": {
        "id": "5HEVHGmmRyGW"
      }
    },
    {
      "cell_type": "code",
      "source": [
        "\n",
        "\n",
        "cluster_info = str.join('\\n', cluster_info)\n",
        "\n",
        "prompt = f\"\"\"\n",
        "Pretend you're a creative strategist, analyse the following clusters and come up with \\\n",
        "creative brand persona for each that includes the detail of which Taylor Swift song is \\\n",
        "likely to be their favorite, a summary of how this relates to their purchasing behavior, \\\n",
        "and a witty e-mail headline for marketing campaign targeted to their group using \\\n",
        "their predicted favorite song title.\n",
        "\n",
        "Clusters:\n",
        "{cluster_info}\n",
        "\n",
        "\n",
        "For each Cluster:\n",
        "* Cluster:\n",
        "* Interests:\n",
        "* Favorite Taylor Swift Song:\n",
        "* Witty email headline:\n",
        "* Email body:\n",
        "\n",
        "\"\"\"\n"
      ],
      "metadata": {
        "id": "3HgwtN1tR3xQ",
        "executionInfo": {
          "status": "ok",
          "timestamp": 1701796892869,
          "user_tz": 360,
          "elapsed": 12,
          "user": {
            "displayName": "",
            "userId": ""
          }
        }
      },
      "execution_count": 28,
      "outputs": []
    },
    {
      "cell_type": "code",
      "source": [
        "prompt_df = bpd.read_pandas(pd.DataFrame({'prompt': [prompt]}))\n",
        "pred = model.predict(prompt_df, max_output_tokens=1024, temperature=0.55, top_p=0.8, top_k=40)\n",
        "print(pred.iloc[0,0])"
      ],
      "metadata": {
        "colab": {
          "base_uri": "https://localhost:8080/",
          "height": 1000
        },
        "id": "PqkskS625o7y",
        "executionInfo": {
          "status": "ok",
          "timestamp": 1701796919598,
          "user_tz": 360,
          "elapsed": 26740,
          "user": {
            "displayName": "",
            "userId": ""
          }
        },
        "outputId": "72bd6d35-e2a9-4966-b1bc-0405e6c48cc9"
      },
      "execution_count": 29,
      "outputs": [
        {
          "output_type": "display_data",
          "data": {
            "text/plain": [
              "<IPython.core.display.HTML object>"
            ],
            "text/html": [
              "Load job 789a4dad-5cb1-4f38-9d2a-4eda54e7e72a is DONE. <a target=\"_blank\" href=\"https://console.cloud.google.com/bigquery?project=analytics-ml-ai&j=bq:US:789a4dad-5cb1-4f38-9d2a-4eda54e7e72a&page=queryresults\">Open Job</a>"
            ]
          },
          "metadata": {}
        },
        {
          "output_type": "display_data",
          "data": {
            "text/plain": [
              "<IPython.core.display.HTML object>"
            ],
            "text/html": [
              "Query job 0aeebf6b-524c-4632-b3a8-f86b6d98a459 is DONE. 1.1 kB processed. <a target=\"_blank\" href=\"https://console.cloud.google.com/bigquery?project=analytics-ml-ai&j=bq:US:0aeebf6b-524c-4632-b3a8-f86b6d98a459&page=queryresults\">Open Job</a>"
            ]
          },
          "metadata": {}
        },
        {
          "output_type": "display_data",
          "data": {
            "text/plain": [
              "<IPython.core.display.HTML object>"
            ],
            "text/html": [
              "Query job 15cac46e-1d40-40df-a1c8-b83ee120bc0f is DONE. 8 Bytes processed. <a target=\"_blank\" href=\"https://console.cloud.google.com/bigquery?project=analytics-ml-ai&j=bq:US:15cac46e-1d40-40df-a1c8-b83ee120bc0f&page=queryresults\">Open Job</a>"
            ]
          },
          "metadata": {}
        },
        {
          "output_type": "display_data",
          "data": {
            "text/plain": [
              "<IPython.core.display.HTML object>"
            ],
            "text/html": [
              "Query job bbfe7273-cfa6-433a-82d8-ccbc5a7b3abc is DONE. 2 Bytes processed. <a target=\"_blank\" href=\"https://console.cloud.google.com/bigquery?project=analytics-ml-ai&j=bq:US:bbfe7273-cfa6-433a-82d8-ccbc5a7b3abc&page=queryresults\">Open Job</a>"
            ]
          },
          "metadata": {}
        },
        {
          "output_type": "display_data",
          "data": {
            "text/plain": [
              "<IPython.core.display.HTML object>"
            ],
            "text/html": [
              "Query job d4cfe25f-891d-4f4a-a567-8b3bb63ad23f is DONE. 3.7 kB processed. <a target=\"_blank\" href=\"https://console.cloud.google.com/bigquery?project=analytics-ml-ai&j=bq:US:d4cfe25f-891d-4f4a-a567-8b3bb63ad23f&page=queryresults\">Open Job</a>"
            ]
          },
          "metadata": {}
        },
        {
          "output_type": "stream",
          "name": "stdout",
          "text": [
            " **Cluster 1**: \n",
            "* __Interests:__ \n",
            "High spenders who place few orders and rarely return items. \n",
            "* __Favorite Taylor Swift Song:__ \n",
            "\"Shake It Off\" \n",
            "* __Witty email headline:__ \n",
            "\"You're a VIP, and we're shaking it off for you!\" \n",
            "* __Email body:__ \n",
            "\"Hey, VIP! \n",
            "We noticed you're a big spender who rarely returns items. We appreciate your loyalty, and we want to show you some love. \n",
            "That's why we're giving you early access to our latest sale. You'll get 20% off everything in our store, just for being you. \n",
            "So go ahead and treat yourself! We know you deserve it. \n",
            "Thanks for being a VIP! \n",
            "Love, \n",
            "The Taylor Swift Store\" \n",
            "\n",
            "\n",
            "**Cluster 2**: \n",
            "* __Interests:__ \n",
            "Moderate spenders who place many orders and return items frequently. \n",
            "* __Favorite Taylor Swift Song:__ \n",
            "\"We Are Never Ever Getting Back Together\"\n",
            "* __Witty email headline:__ \n",
            "\"We're never ever getting back together with your old shopping habits!\" \n",
            "* __Email body:__ \n",
            "\"Hey, [customer name]! \n",
            "We noticed you're a frequent shopper who sometimes returns items. We understand that sometimes things don't work out, but we're here to help you make the most of your shopping experience. \n",
            "That's why we're offering you a 10% discount on your next purchase. We hope this will encourage you to give us another try. \n",
            "We're committed to making sure you're happy with your purchases, so if you have any questions or concerns, please don't hesitate to contact us. \n",
            "Thanks for being a customer! \n",
            "Love, \n",
            "The Taylor Swift Store\" \n",
            "\n",
            "\n",
            "**Cluster 3**: \n",
            "* __Interests:__ \n",
            "Low spenders who place few orders and return items frequently. \n",
            "* __Favorite Taylor Swift Song:__ \n",
            "\"I Knew You Were Trouble\" \n",
            "* __Witty email headline:__ \n",
            "\"We knew you were trouble when you walked in...\" \n",
            "* __Email body:__ \n",
            "\"Hey, [customer name]! \n",
            "We noticed you're a customer who sometimes places small orders and returns items frequently. We want to assure you that we're here to help you find the perfect products for you. \n",
            "That's why we're offering you a 15% discount on your next purchase. We hope this will encourage you to give us another try. \n",
            "We're committed to making sure you're happy with your purchases, so if you have any questions or concerns, please don't hesitate to contact us. \n",
            "Thanks for being a customer! \n",
            "Love, \n",
            "The Taylor Swift Store\" \n",
            "\n",
            "\n",
            "**Cluster 4**: \n",
            "* __Interests:__ \n",
            "Low spenders who place few orders and rarely return items. \n",
            "* __Favorite Taylor Swift Song:__ \n",
            "\"You Are In Love\" \n",
            "* __Witty email headline:__ \n",
            "\"You're in love with our products, and we know it!\" \n",
            "* __Email body:__ \n",
            "\"Hey, [customer name]! \n",
            "We noticed you're a customer who places small orders and rarely returns items. We appreciate your loyalty, and we want to show you some love. \n",
            "That's why we're giving you a 20% discount on your next purchase. We hope this will encourage you to try some of our other products. \n",
            "We're committed to making sure you're happy with your purchases, so if you have any questions or concerns, please don't hesitate to contact us. \n",
            "Thanks for being a customer! \n",
            "Love, \n",
            "The Taylor Swift Store\" \n",
            "\n",
            "\n",
            "**Cluster 5**: \n",
            "* __Interests:__ \n",
            "Moderate spenders who place many orders and rarely return items. \n",
            "* __Favorite Taylor Swift Song:__ \n",
            "\"Love Story\" \n",
            "* __Witty email headline:__ \n",
            "\"Our love story with you is just beginning...\" \n",
            "* __Email body:__ \n",
            "\"Hey, [customer name]! \n",
            "We noticed you're a frequent shopper who rarely returns items. We appreciate your loyalty, and we want to show you some love. \n",
            "That's why we're giving you a 10% discount on your next purchase. We hope this will encourage you to keep shopping with us. \n",
            "We're committed to making sure you're happy with your purchases, so if you have any questions or concerns, please don't hesitate to contact us. \n",
            "Thanks for being a customer!\n"
          ]
        }
      ]
    },
    {
      "cell_type": "markdown",
      "source": [
        "#### **BONUS #2: Generate Python in your Notebook**\n",
        "\n",
        "If you have Duet AI enabled on your project, you can begin to generate Python directly within your Notebook:\n",
        "* Open a new Code cell\n",
        "* Click \"Generate with AI\"\n",
        "* Paste one of the prompts below and hit Enter\n",
        "* Generate Python code should appear in the cell\n"
      ],
      "metadata": {
        "id": "LT8lVXaCGDtK"
      }
    },
    {
      "cell_type": "code",
      "source": [
        "# prompt: 10 random numbers using numpy"
      ],
      "metadata": {
        "id": "zLFewJ8iGbLz",
        "executionInfo": {
          "status": "ok",
          "timestamp": 1701796919598,
          "user_tz": 360,
          "elapsed": 3,
          "user": {
            "displayName": "",
            "userId": ""
          }
        }
      },
      "execution_count": 30,
      "outputs": []
    },
    {
      "cell_type": "code",
      "source": [
        "# prompt: generate a bigframes dataframe from the table bigquery-public-data.thelook_ecommerce.order_items"
      ],
      "metadata": {
        "id": "ysTumh3TkcYU",
        "executionInfo": {
          "status": "ok",
          "timestamp": 1701796919598,
          "user_tz": 360,
          "elapsed": 2,
          "user": {
            "displayName": "",
            "userId": ""
          }
        }
      },
      "execution_count": 31,
      "outputs": []
    },
    {
      "cell_type": "code",
      "source": [
        "# prompt: write some sql that queries the table bigquery-public-data.thelook_ecommerce.order_items.  Don't use python. Use %%bigquery."
      ],
      "metadata": {
        "id": "b3J4r9FXmPfs",
        "executionInfo": {
          "status": "ok",
          "timestamp": 1701796919598,
          "user_tz": 360,
          "elapsed": 2,
          "user": {
            "displayName": "",
            "userId": ""
          }
        }
      },
      "execution_count": 32,
      "outputs": []
    }
  ]
}