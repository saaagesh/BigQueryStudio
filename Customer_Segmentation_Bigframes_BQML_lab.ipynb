{
  "nbformat": 4,
  "nbformat_minor": 0,
  "metadata": {
    "colab": {
      "provenance": []
    },
    "kernelspec": {
      "name": "python3",
      "display_name": "Python 3"
    },
    "language_info": {
      "name": "python"
    },
    "widgets": {
      "application/vnd.jupyter.widget-state+json": {
        "27e1e6f33ab3479492e309e63ddf8632": {
          "model_module": "@jupyter-widgets/controls",
          "model_name": "HBoxModel",
          "model_module_version": "1.5.0",
          "state": {
            "_dom_classes": [],
            "_model_module": "@jupyter-widgets/controls",
            "_model_module_version": "1.5.0",
            "_model_name": "HBoxModel",
            "_view_count": null,
            "_view_module": "@jupyter-widgets/controls",
            "_view_module_version": "1.5.0",
            "_view_name": "HBoxView",
            "box_style": "",
            "children": [
              "IPY_MODEL_38fbf9d47afc4f4180e3d89303a66701",
              "IPY_MODEL_c1ee028e29754f1abfb92a76c7834c4e",
              "IPY_MODEL_0ecc5fb7463c4590acaa924686b1e3fd"
            ],
            "layout": "IPY_MODEL_e5747d20130843d691113acf39240440"
          }
        },
        "38fbf9d47afc4f4180e3d89303a66701": {
          "model_module": "@jupyter-widgets/controls",
          "model_name": "HTMLModel",
          "model_module_version": "1.5.0",
          "state": {
            "_dom_classes": [],
            "_model_module": "@jupyter-widgets/controls",
            "_model_module_version": "1.5.0",
            "_model_name": "HTMLModel",
            "_view_count": null,
            "_view_module": "@jupyter-widgets/controls",
            "_view_module_version": "1.5.0",
            "_view_name": "HTMLView",
            "description": "",
            "description_tooltip": null,
            "layout": "IPY_MODEL_fb93663875a3404191d16ceb0f8a4bda",
            "placeholder": "​",
            "style": "IPY_MODEL_358306d27df24c4ca498d5e7bef295c1",
            "value": "Job ID 2a26e607-5ba1-4c05-9888-c0bb665382b9 successfully executed: 100%"
          }
        },
        "c1ee028e29754f1abfb92a76c7834c4e": {
          "model_module": "@jupyter-widgets/controls",
          "model_name": "FloatProgressModel",
          "model_module_version": "1.5.0",
          "state": {
            "_dom_classes": [],
            "_model_module": "@jupyter-widgets/controls",
            "_model_module_version": "1.5.0",
            "_model_name": "FloatProgressModel",
            "_view_count": null,
            "_view_module": "@jupyter-widgets/controls",
            "_view_module_version": "1.5.0",
            "_view_name": "ProgressView",
            "bar_style": "success",
            "description": "",
            "description_tooltip": null,
            "layout": "IPY_MODEL_0c37cd1bf9e945cfa6cca454b6a8da17",
            "max": 1,
            "min": 0,
            "orientation": "horizontal",
            "style": "IPY_MODEL_316bda1c40434594bb4efea0c7961106",
            "value": 1
          }
        },
        "0ecc5fb7463c4590acaa924686b1e3fd": {
          "model_module": "@jupyter-widgets/controls",
          "model_name": "HTMLModel",
          "model_module_version": "1.5.0",
          "state": {
            "_dom_classes": [],
            "_model_module": "@jupyter-widgets/controls",
            "_model_module_version": "1.5.0",
            "_model_name": "HTMLModel",
            "_view_count": null,
            "_view_module": "@jupyter-widgets/controls",
            "_view_module_version": "1.5.0",
            "_view_name": "HTMLView",
            "description": "",
            "description_tooltip": null,
            "layout": "IPY_MODEL_7a7b16261760405fa5e8ffd02fe8f246",
            "placeholder": "​",
            "style": "IPY_MODEL_91e16312d8d049179b0f319d92f51e13",
            "value": ""
          }
        },
        "e5747d20130843d691113acf39240440": {
          "model_module": "@jupyter-widgets/base",
          "model_name": "LayoutModel",
          "model_module_version": "1.2.0",
          "state": {
            "_model_module": "@jupyter-widgets/base",
            "_model_module_version": "1.2.0",
            "_model_name": "LayoutModel",
            "_view_count": null,
            "_view_module": "@jupyter-widgets/base",
            "_view_module_version": "1.2.0",
            "_view_name": "LayoutView",
            "align_content": null,
            "align_items": null,
            "align_self": null,
            "border": null,
            "bottom": null,
            "display": null,
            "flex": null,
            "flex_flow": null,
            "grid_area": null,
            "grid_auto_columns": null,
            "grid_auto_flow": null,
            "grid_auto_rows": null,
            "grid_column": null,
            "grid_gap": null,
            "grid_row": null,
            "grid_template_areas": null,
            "grid_template_columns": null,
            "grid_template_rows": null,
            "height": null,
            "justify_content": null,
            "justify_items": null,
            "left": null,
            "margin": null,
            "max_height": null,
            "max_width": null,
            "min_height": null,
            "min_width": null,
            "object_fit": null,
            "object_position": null,
            "order": null,
            "overflow": null,
            "overflow_x": null,
            "overflow_y": null,
            "padding": null,
            "right": null,
            "top": null,
            "visibility": null,
            "width": null
          }
        },
        "fb93663875a3404191d16ceb0f8a4bda": {
          "model_module": "@jupyter-widgets/base",
          "model_name": "LayoutModel",
          "model_module_version": "1.2.0",
          "state": {
            "_model_module": "@jupyter-widgets/base",
            "_model_module_version": "1.2.0",
            "_model_name": "LayoutModel",
            "_view_count": null,
            "_view_module": "@jupyter-widgets/base",
            "_view_module_version": "1.2.0",
            "_view_name": "LayoutView",
            "align_content": null,
            "align_items": null,
            "align_self": null,
            "border": null,
            "bottom": null,
            "display": null,
            "flex": null,
            "flex_flow": null,
            "grid_area": null,
            "grid_auto_columns": null,
            "grid_auto_flow": null,
            "grid_auto_rows": null,
            "grid_column": null,
            "grid_gap": null,
            "grid_row": null,
            "grid_template_areas": null,
            "grid_template_columns": null,
            "grid_template_rows": null,
            "height": null,
            "justify_content": null,
            "justify_items": null,
            "left": null,
            "margin": null,
            "max_height": null,
            "max_width": null,
            "min_height": null,
            "min_width": null,
            "object_fit": null,
            "object_position": null,
            "order": null,
            "overflow": null,
            "overflow_x": null,
            "overflow_y": null,
            "padding": null,
            "right": null,
            "top": null,
            "visibility": null,
            "width": null
          }
        },
        "358306d27df24c4ca498d5e7bef295c1": {
          "model_module": "@jupyter-widgets/controls",
          "model_name": "DescriptionStyleModel",
          "model_module_version": "1.5.0",
          "state": {
            "_model_module": "@jupyter-widgets/controls",
            "_model_module_version": "1.5.0",
            "_model_name": "DescriptionStyleModel",
            "_view_count": null,
            "_view_module": "@jupyter-widgets/base",
            "_view_module_version": "1.2.0",
            "_view_name": "StyleView",
            "description_width": ""
          }
        },
        "0c37cd1bf9e945cfa6cca454b6a8da17": {
          "model_module": "@jupyter-widgets/base",
          "model_name": "LayoutModel",
          "model_module_version": "1.2.0",
          "state": {
            "_model_module": "@jupyter-widgets/base",
            "_model_module_version": "1.2.0",
            "_model_name": "LayoutModel",
            "_view_count": null,
            "_view_module": "@jupyter-widgets/base",
            "_view_module_version": "1.2.0",
            "_view_name": "LayoutView",
            "align_content": null,
            "align_items": null,
            "align_self": null,
            "border": null,
            "bottom": null,
            "display": null,
            "flex": null,
            "flex_flow": null,
            "grid_area": null,
            "grid_auto_columns": null,
            "grid_auto_flow": null,
            "grid_auto_rows": null,
            "grid_column": null,
            "grid_gap": null,
            "grid_row": null,
            "grid_template_areas": null,
            "grid_template_columns": null,
            "grid_template_rows": null,
            "height": null,
            "justify_content": null,
            "justify_items": null,
            "left": null,
            "margin": null,
            "max_height": null,
            "max_width": null,
            "min_height": null,
            "min_width": null,
            "object_fit": null,
            "object_position": null,
            "order": null,
            "overflow": null,
            "overflow_x": null,
            "overflow_y": null,
            "padding": null,
            "right": null,
            "top": null,
            "visibility": null,
            "width": null
          }
        },
        "316bda1c40434594bb4efea0c7961106": {
          "model_module": "@jupyter-widgets/controls",
          "model_name": "ProgressStyleModel",
          "model_module_version": "1.5.0",
          "state": {
            "_model_module": "@jupyter-widgets/controls",
            "_model_module_version": "1.5.0",
            "_model_name": "ProgressStyleModel",
            "_view_count": null,
            "_view_module": "@jupyter-widgets/base",
            "_view_module_version": "1.2.0",
            "_view_name": "StyleView",
            "bar_color": null,
            "description_width": ""
          }
        },
        "7a7b16261760405fa5e8ffd02fe8f246": {
          "model_module": "@jupyter-widgets/base",
          "model_name": "LayoutModel",
          "model_module_version": "1.2.0",
          "state": {
            "_model_module": "@jupyter-widgets/base",
            "_model_module_version": "1.2.0",
            "_model_name": "LayoutModel",
            "_view_count": null,
            "_view_module": "@jupyter-widgets/base",
            "_view_module_version": "1.2.0",
            "_view_name": "LayoutView",
            "align_content": null,
            "align_items": null,
            "align_self": null,
            "border": null,
            "bottom": null,
            "display": null,
            "flex": null,
            "flex_flow": null,
            "grid_area": null,
            "grid_auto_columns": null,
            "grid_auto_flow": null,
            "grid_auto_rows": null,
            "grid_column": null,
            "grid_gap": null,
            "grid_row": null,
            "grid_template_areas": null,
            "grid_template_columns": null,
            "grid_template_rows": null,
            "height": null,
            "justify_content": null,
            "justify_items": null,
            "left": null,
            "margin": null,
            "max_height": null,
            "max_width": null,
            "min_height": null,
            "min_width": null,
            "object_fit": null,
            "object_position": null,
            "order": null,
            "overflow": null,
            "overflow_x": null,
            "overflow_y": null,
            "padding": null,
            "right": null,
            "top": null,
            "visibility": null,
            "width": null
          }
        },
        "91e16312d8d049179b0f319d92f51e13": {
          "model_module": "@jupyter-widgets/controls",
          "model_name": "DescriptionStyleModel",
          "model_module_version": "1.5.0",
          "state": {
            "_model_module": "@jupyter-widgets/controls",
            "_model_module_version": "1.5.0",
            "_model_name": "DescriptionStyleModel",
            "_view_count": null,
            "_view_module": "@jupyter-widgets/base",
            "_view_module_version": "1.2.0",
            "_view_name": "StyleView",
            "description_width": ""
          }
        },
        "d72ebbb1fd864f74a8c5489412e6c25d": {
          "model_module": "@jupyter-widgets/controls",
          "model_name": "HBoxModel",
          "model_module_version": "1.5.0",
          "state": {
            "_dom_classes": [],
            "_model_module": "@jupyter-widgets/controls",
            "_model_module_version": "1.5.0",
            "_model_name": "HBoxModel",
            "_view_count": null,
            "_view_module": "@jupyter-widgets/controls",
            "_view_module_version": "1.5.0",
            "_view_name": "HBoxView",
            "box_style": "",
            "children": [
              "IPY_MODEL_87a7cc023cb941338120970e9582b499",
              "IPY_MODEL_da5ddef637d049d7b29e355e35e3cab3",
              "IPY_MODEL_dcb61948c6754ca582fa6bd8bd40366f"
            ],
            "layout": "IPY_MODEL_fe5d13c0dc5c465781fdfac8f1ba0745"
          }
        },
        "87a7cc023cb941338120970e9582b499": {
          "model_module": "@jupyter-widgets/controls",
          "model_name": "HTMLModel",
          "model_module_version": "1.5.0",
          "state": {
            "_dom_classes": [],
            "_model_module": "@jupyter-widgets/controls",
            "_model_module_version": "1.5.0",
            "_model_name": "HTMLModel",
            "_view_count": null,
            "_view_module": "@jupyter-widgets/controls",
            "_view_module_version": "1.5.0",
            "_view_name": "HTMLView",
            "description": "",
            "description_tooltip": null,
            "layout": "IPY_MODEL_08d5a84f07754dcb90ad913f13155975",
            "placeholder": "​",
            "style": "IPY_MODEL_56d4fae88e884bde8a3c20e412c0f34b",
            "value": "Downloading: 100%"
          }
        },
        "da5ddef637d049d7b29e355e35e3cab3": {
          "model_module": "@jupyter-widgets/controls",
          "model_name": "FloatProgressModel",
          "model_module_version": "1.5.0",
          "state": {
            "_dom_classes": [],
            "_model_module": "@jupyter-widgets/controls",
            "_model_module_version": "1.5.0",
            "_model_name": "FloatProgressModel",
            "_view_count": null,
            "_view_module": "@jupyter-widgets/controls",
            "_view_module_version": "1.5.0",
            "_view_name": "ProgressView",
            "bar_style": "success",
            "description": "",
            "description_tooltip": null,
            "layout": "IPY_MODEL_78ba89fe349e433199ae20ebe40ac3e9",
            "max": 44579,
            "min": 0,
            "orientation": "horizontal",
            "style": "IPY_MODEL_02e397cab9ce4cdf8269b0ecbd8e757f",
            "value": 44579
          }
        },
        "dcb61948c6754ca582fa6bd8bd40366f": {
          "model_module": "@jupyter-widgets/controls",
          "model_name": "HTMLModel",
          "model_module_version": "1.5.0",
          "state": {
            "_dom_classes": [],
            "_model_module": "@jupyter-widgets/controls",
            "_model_module_version": "1.5.0",
            "_model_name": "HTMLModel",
            "_view_count": null,
            "_view_module": "@jupyter-widgets/controls",
            "_view_module_version": "1.5.0",
            "_view_name": "HTMLView",
            "description": "",
            "description_tooltip": null,
            "layout": "IPY_MODEL_652d2409e14849dcb2c1b1bc0e276210",
            "placeholder": "​",
            "style": "IPY_MODEL_043f00c82a414245b917578e10272498",
            "value": ""
          }
        },
        "fe5d13c0dc5c465781fdfac8f1ba0745": {
          "model_module": "@jupyter-widgets/base",
          "model_name": "LayoutModel",
          "model_module_version": "1.2.0",
          "state": {
            "_model_module": "@jupyter-widgets/base",
            "_model_module_version": "1.2.0",
            "_model_name": "LayoutModel",
            "_view_count": null,
            "_view_module": "@jupyter-widgets/base",
            "_view_module_version": "1.2.0",
            "_view_name": "LayoutView",
            "align_content": null,
            "align_items": null,
            "align_self": null,
            "border": null,
            "bottom": null,
            "display": null,
            "flex": null,
            "flex_flow": null,
            "grid_area": null,
            "grid_auto_columns": null,
            "grid_auto_flow": null,
            "grid_auto_rows": null,
            "grid_column": null,
            "grid_gap": null,
            "grid_row": null,
            "grid_template_areas": null,
            "grid_template_columns": null,
            "grid_template_rows": null,
            "height": null,
            "justify_content": null,
            "justify_items": null,
            "left": null,
            "margin": null,
            "max_height": null,
            "max_width": null,
            "min_height": null,
            "min_width": null,
            "object_fit": null,
            "object_position": null,
            "order": null,
            "overflow": null,
            "overflow_x": null,
            "overflow_y": null,
            "padding": null,
            "right": null,
            "top": null,
            "visibility": null,
            "width": null
          }
        },
        "08d5a84f07754dcb90ad913f13155975": {
          "model_module": "@jupyter-widgets/base",
          "model_name": "LayoutModel",
          "model_module_version": "1.2.0",
          "state": {
            "_model_module": "@jupyter-widgets/base",
            "_model_module_version": "1.2.0",
            "_model_name": "LayoutModel",
            "_view_count": null,
            "_view_module": "@jupyter-widgets/base",
            "_view_module_version": "1.2.0",
            "_view_name": "LayoutView",
            "align_content": null,
            "align_items": null,
            "align_self": null,
            "border": null,
            "bottom": null,
            "display": null,
            "flex": null,
            "flex_flow": null,
            "grid_area": null,
            "grid_auto_columns": null,
            "grid_auto_flow": null,
            "grid_auto_rows": null,
            "grid_column": null,
            "grid_gap": null,
            "grid_row": null,
            "grid_template_areas": null,
            "grid_template_columns": null,
            "grid_template_rows": null,
            "height": null,
            "justify_content": null,
            "justify_items": null,
            "left": null,
            "margin": null,
            "max_height": null,
            "max_width": null,
            "min_height": null,
            "min_width": null,
            "object_fit": null,
            "object_position": null,
            "order": null,
            "overflow": null,
            "overflow_x": null,
            "overflow_y": null,
            "padding": null,
            "right": null,
            "top": null,
            "visibility": null,
            "width": null
          }
        },
        "56d4fae88e884bde8a3c20e412c0f34b": {
          "model_module": "@jupyter-widgets/controls",
          "model_name": "DescriptionStyleModel",
          "model_module_version": "1.5.0",
          "state": {
            "_model_module": "@jupyter-widgets/controls",
            "_model_module_version": "1.5.0",
            "_model_name": "DescriptionStyleModel",
            "_view_count": null,
            "_view_module": "@jupyter-widgets/base",
            "_view_module_version": "1.2.0",
            "_view_name": "StyleView",
            "description_width": ""
          }
        },
        "78ba89fe349e433199ae20ebe40ac3e9": {
          "model_module": "@jupyter-widgets/base",
          "model_name": "LayoutModel",
          "model_module_version": "1.2.0",
          "state": {
            "_model_module": "@jupyter-widgets/base",
            "_model_module_version": "1.2.0",
            "_model_name": "LayoutModel",
            "_view_count": null,
            "_view_module": "@jupyter-widgets/base",
            "_view_module_version": "1.2.0",
            "_view_name": "LayoutView",
            "align_content": null,
            "align_items": null,
            "align_self": null,
            "border": null,
            "bottom": null,
            "display": null,
            "flex": null,
            "flex_flow": null,
            "grid_area": null,
            "grid_auto_columns": null,
            "grid_auto_flow": null,
            "grid_auto_rows": null,
            "grid_column": null,
            "grid_gap": null,
            "grid_row": null,
            "grid_template_areas": null,
            "grid_template_columns": null,
            "grid_template_rows": null,
            "height": null,
            "justify_content": null,
            "justify_items": null,
            "left": null,
            "margin": null,
            "max_height": null,
            "max_width": null,
            "min_height": null,
            "min_width": null,
            "object_fit": null,
            "object_position": null,
            "order": null,
            "overflow": null,
            "overflow_x": null,
            "overflow_y": null,
            "padding": null,
            "right": null,
            "top": null,
            "visibility": null,
            "width": null
          }
        },
        "02e397cab9ce4cdf8269b0ecbd8e757f": {
          "model_module": "@jupyter-widgets/controls",
          "model_name": "ProgressStyleModel",
          "model_module_version": "1.5.0",
          "state": {
            "_model_module": "@jupyter-widgets/controls",
            "_model_module_version": "1.5.0",
            "_model_name": "ProgressStyleModel",
            "_view_count": null,
            "_view_module": "@jupyter-widgets/base",
            "_view_module_version": "1.2.0",
            "_view_name": "StyleView",
            "bar_color": null,
            "description_width": ""
          }
        },
        "652d2409e14849dcb2c1b1bc0e276210": {
          "model_module": "@jupyter-widgets/base",
          "model_name": "LayoutModel",
          "model_module_version": "1.2.0",
          "state": {
            "_model_module": "@jupyter-widgets/base",
            "_model_module_version": "1.2.0",
            "_model_name": "LayoutModel",
            "_view_count": null,
            "_view_module": "@jupyter-widgets/base",
            "_view_module_version": "1.2.0",
            "_view_name": "LayoutView",
            "align_content": null,
            "align_items": null,
            "align_self": null,
            "border": null,
            "bottom": null,
            "display": null,
            "flex": null,
            "flex_flow": null,
            "grid_area": null,
            "grid_auto_columns": null,
            "grid_auto_flow": null,
            "grid_auto_rows": null,
            "grid_column": null,
            "grid_gap": null,
            "grid_row": null,
            "grid_template_areas": null,
            "grid_template_columns": null,
            "grid_template_rows": null,
            "height": null,
            "justify_content": null,
            "justify_items": null,
            "left": null,
            "margin": null,
            "max_height": null,
            "max_width": null,
            "min_height": null,
            "min_width": null,
            "object_fit": null,
            "object_position": null,
            "order": null,
            "overflow": null,
            "overflow_x": null,
            "overflow_y": null,
            "padding": null,
            "right": null,
            "top": null,
            "visibility": null,
            "width": null
          }
        },
        "043f00c82a414245b917578e10272498": {
          "model_module": "@jupyter-widgets/controls",
          "model_name": "DescriptionStyleModel",
          "model_module_version": "1.5.0",
          "state": {
            "_model_module": "@jupyter-widgets/controls",
            "_model_module_version": "1.5.0",
            "_model_name": "DescriptionStyleModel",
            "_view_count": null,
            "_view_module": "@jupyter-widgets/base",
            "_view_module_version": "1.2.0",
            "_view_name": "StyleView",
            "description_width": ""
          }
        }
      }
    }
  },
  "cells": [
    {
      "cell_type": "markdown",
      "source": [
        "# BigQuery Studio Notebook Tutorial to Generate customer clusters followed by a Marketing Campaign\n",
        "\n",
        "## Overview:\n",
        "\n",
        "**BigQuery Studio** provides a single, unified interface for all data practitioners of various coding skills to simplify analytics workflows from data preparation to data exploration and visualization to machine learning (ML) model creation and use.\n",
        "\n",
        "Within the BigQuery Studio workspace, users find a SQL and a Colab notebook interface, an AI-powered collaborator for contextual chat and code assistance as well as source control to analytics assets including SQL scripts, Python scripts, notebooks and SQL pipelines\n",
        "\n",
        "**BigQuery DataFrames** provides a Pythonic DataFrame and ML API powered by the BigQuery engine. The operations happen in BigQuery at scale.\n",
        "\n",
        "*   [bigframes.pandas](https://cloud.google.com/python/docs/reference/bigframes/latest/bigframes.dataframe.DataFrame) provides a pandas-compatible API for analytics.\n",
        "*   [bigframes.ml](https://cloud.google.com/python/docs/reference/bigframes/latest/bigframes.ml.cluster) provides a scikit-learn-like API for ML.\n",
        "*   [bigframes.ml.llm](https://cloud.google.com/python/docs/reference/bigframes/latest/bigframes.ml.llm) provides LLM capabilities.\n",
        "\n",
        "BigQuery DataFrames is an open-source Python package. It is pre-installed on  BigQuery Studio Python notebooks.  Additionally, you can always run `pip install --upgrade bigframes` to install the latest version.\n",
        "\n",
        "\n",
        "\n",
        "## Objectives:\n",
        "\n",
        "This example illustrates the Data to AI journey from data exploration to constructing a k-means machine learning model with BigFrames. Subsequently, Generative AI is applied to leverage cluster information to activate marketing campaigns.\n",
        "\n",
        "In this lab activity, you will:\n",
        "\n",
        "* Generate features using BigQuerySQL\n",
        "* Perform basic data exploration\n",
        "* Implement a k-means clustering model with BigFrames\n",
        "* Produce cluster descriptive statistics\n",
        "* Utilize Generative AI to articulate ML model outputs in natural language for business users\n",
        "* (Bonus) Use Generative AI to craft engaging emails tailored to customer segments.\n",
        "\n",
        "\n",
        "\n",
        "\n",
        "###Helpful Links\n",
        "\n",
        "* [BigFrames API Reference](https://cloud.google.com/python/docs/reference/bigframes/latest)\n",
        "\n",
        "\n",
        "* [BigFrames GitHub page with sample notebooks](https://github.com/googleapis/python-bigquery-dataframes)\n",
        "\n",
        "* [Troubleshooting notebook runtimes](https://cloud.google.com/colab/docs/troubleshooting)\n"
      ],
      "metadata": {
        "id": "Sxq-V_jV4gEk"
      }
    },
    {
      "cell_type": "markdown",
      "source": [
        "## Getting Started : Setup Steps\n",
        "\n",
        "Importing basic libraries, including authenticating the user"
      ],
      "metadata": {
        "id": "mjedECz750Sl"
      }
    },
    {
      "cell_type": "markdown",
      "source": [
        "## Install Vertex AI SDK\n",
        "Restart the kernel after the initial install"
      ],
      "metadata": {
        "id": "Hlvvzvo9rxED"
      }
    },
    {
      "cell_type": "code",
      "source": [
        "!pip install google-cloud-aiplatform --upgrade --user"
      ],
      "metadata": {
        "id": "PfTEYGczLj2n",
        "colab": {
          "base_uri": "https://localhost:8080/"
        },
        "executionInfo": {
          "status": "ok",
          "timestamp": 1702323972521,
          "user_tz": 360,
          "elapsed": 7891,
          "user": {
            "displayName": "",
            "userId": ""
          }
        },
        "outputId": "6983a015-bc1e-4710-f019-47a303f7af4c"
      },
      "execution_count": 31,
      "outputs": [
        {
          "output_type": "stream",
          "name": "stdout",
          "text": [
            "Requirement already satisfied: google-cloud-aiplatform in /root/.local/lib/python3.10/site-packages (1.37.0)\n",
            "Requirement already satisfied: google-api-core[grpc]!=2.0.*,!=2.1.*,!=2.2.*,!=2.3.*,!=2.4.*,!=2.5.*,!=2.6.*,!=2.7.*,<3.0.0dev,>=1.32.0 in /usr/local/lib/python3.10/dist-packages (from google-cloud-aiplatform) (2.11.1)\n",
            "Requirement already satisfied: proto-plus<2.0.0dev,>=1.22.0 in /usr/local/lib/python3.10/dist-packages (from google-cloud-aiplatform) (1.22.3)\n",
            "Requirement already satisfied: protobuf!=3.20.0,!=3.20.1,!=4.21.0,!=4.21.1,!=4.21.2,!=4.21.3,!=4.21.4,!=4.21.5,<5.0.0dev,>=3.19.5 in /usr/local/lib/python3.10/dist-packages (from google-cloud-aiplatform) (3.20.3)\n",
            "Requirement already satisfied: packaging>=14.3 in /usr/local/lib/python3.10/dist-packages (from google-cloud-aiplatform) (23.2)\n",
            "Requirement already satisfied: google-cloud-storage<3.0.0dev,>=1.32.0 in /usr/local/lib/python3.10/dist-packages (from google-cloud-aiplatform) (2.8.0)\n",
            "Requirement already satisfied: google-cloud-bigquery<4.0.0dev,>=1.15.0 in /usr/local/lib/python3.10/dist-packages (from google-cloud-aiplatform) (3.12.0)\n",
            "Requirement already satisfied: google-cloud-resource-manager<3.0.0dev,>=1.3.3 in /usr/local/lib/python3.10/dist-packages (from google-cloud-aiplatform) (1.10.4)\n",
            "Requirement already satisfied: shapely<3.0.0dev in /usr/local/lib/python3.10/dist-packages (from google-cloud-aiplatform) (2.0.2)\n",
            "Requirement already satisfied: googleapis-common-protos<2.0.dev0,>=1.56.2 in /usr/local/lib/python3.10/dist-packages (from google-api-core[grpc]!=2.0.*,!=2.1.*,!=2.2.*,!=2.3.*,!=2.4.*,!=2.5.*,!=2.6.*,!=2.7.*,<3.0.0dev,>=1.32.0->google-cloud-aiplatform) (1.61.0)\n",
            "Requirement already satisfied: google-auth<3.0.dev0,>=2.14.1 in /usr/local/lib/python3.10/dist-packages (from google-api-core[grpc]!=2.0.*,!=2.1.*,!=2.2.*,!=2.3.*,!=2.4.*,!=2.5.*,!=2.6.*,!=2.7.*,<3.0.0dev,>=1.32.0->google-cloud-aiplatform) (2.17.3)\n",
            "Requirement already satisfied: requests<3.0.0.dev0,>=2.18.0 in /usr/local/lib/python3.10/dist-packages (from google-api-core[grpc]!=2.0.*,!=2.1.*,!=2.2.*,!=2.3.*,!=2.4.*,!=2.5.*,!=2.6.*,!=2.7.*,<3.0.0dev,>=1.32.0->google-cloud-aiplatform) (2.31.0)\n",
            "Requirement already satisfied: grpcio<2.0dev,>=1.33.2 in /usr/local/lib/python3.10/dist-packages (from google-api-core[grpc]!=2.0.*,!=2.1.*,!=2.2.*,!=2.3.*,!=2.4.*,!=2.5.*,!=2.6.*,!=2.7.*,<3.0.0dev,>=1.32.0->google-cloud-aiplatform) (1.51.3)\n",
            "Requirement already satisfied: grpcio-status<2.0.dev0,>=1.33.2 in /usr/local/lib/python3.10/dist-packages (from google-api-core[grpc]!=2.0.*,!=2.1.*,!=2.2.*,!=2.3.*,!=2.4.*,!=2.5.*,!=2.6.*,!=2.7.*,<3.0.0dev,>=1.32.0->google-cloud-aiplatform) (1.48.2)\n",
            "Requirement already satisfied: google-cloud-core<3.0.0dev,>=1.6.0 in /usr/local/lib/python3.10/dist-packages (from google-cloud-bigquery<4.0.0dev,>=1.15.0->google-cloud-aiplatform) (2.3.3)\n",
            "Requirement already satisfied: google-resumable-media<3.0dev,>=0.6.0 in /usr/local/lib/python3.10/dist-packages (from google-cloud-bigquery<4.0.0dev,>=1.15.0->google-cloud-aiplatform) (2.6.0)\n",
            "Requirement already satisfied: python-dateutil<3.0dev,>=2.7.2 in /usr/local/lib/python3.10/dist-packages (from google-cloud-bigquery<4.0.0dev,>=1.15.0->google-cloud-aiplatform) (2.8.2)\n",
            "Requirement already satisfied: grpc-google-iam-v1<1.0.0dev,>=0.12.4 in /usr/local/lib/python3.10/dist-packages (from google-cloud-resource-manager<3.0.0dev,>=1.3.3->google-cloud-aiplatform) (0.12.7)\n",
            "Requirement already satisfied: numpy>=1.14 in /usr/local/lib/python3.10/dist-packages (from shapely<3.0.0dev->google-cloud-aiplatform) (1.23.5)\n",
            "Requirement already satisfied: cachetools<6.0,>=2.0.0 in /usr/local/lib/python3.10/dist-packages (from google-auth<3.0.dev0,>=2.14.1->google-api-core[grpc]!=2.0.*,!=2.1.*,!=2.2.*,!=2.3.*,!=2.4.*,!=2.5.*,!=2.6.*,!=2.7.*,<3.0.0dev,>=1.32.0->google-cloud-aiplatform) (5.3.2)\n",
            "Requirement already satisfied: pyasn1-modules>=0.2.1 in /usr/local/lib/python3.10/dist-packages (from google-auth<3.0.dev0,>=2.14.1->google-api-core[grpc]!=2.0.*,!=2.1.*,!=2.2.*,!=2.3.*,!=2.4.*,!=2.5.*,!=2.6.*,!=2.7.*,<3.0.0dev,>=1.32.0->google-cloud-aiplatform) (0.3.0)\n",
            "Requirement already satisfied: six>=1.9.0 in /usr/local/lib/python3.10/dist-packages (from google-auth<3.0.dev0,>=2.14.1->google-api-core[grpc]!=2.0.*,!=2.1.*,!=2.2.*,!=2.3.*,!=2.4.*,!=2.5.*,!=2.6.*,!=2.7.*,<3.0.0dev,>=1.32.0->google-cloud-aiplatform) (1.16.0)\n",
            "Requirement already satisfied: rsa<5,>=3.1.4 in /usr/local/lib/python3.10/dist-packages (from google-auth<3.0.dev0,>=2.14.1->google-api-core[grpc]!=2.0.*,!=2.1.*,!=2.2.*,!=2.3.*,!=2.4.*,!=2.5.*,!=2.6.*,!=2.7.*,<3.0.0dev,>=1.32.0->google-cloud-aiplatform) (4.9)\n",
            "Requirement already satisfied: google-crc32c<2.0dev,>=1.0 in /usr/local/lib/python3.10/dist-packages (from google-resumable-media<3.0dev,>=0.6.0->google-cloud-bigquery<4.0.0dev,>=1.15.0->google-cloud-aiplatform) (1.5.0)\n",
            "Requirement already satisfied: charset-normalizer<4,>=2 in /usr/local/lib/python3.10/dist-packages (from requests<3.0.0.dev0,>=2.18.0->google-api-core[grpc]!=2.0.*,!=2.1.*,!=2.2.*,!=2.3.*,!=2.4.*,!=2.5.*,!=2.6.*,!=2.7.*,<3.0.0dev,>=1.32.0->google-cloud-aiplatform) (3.3.2)\n",
            "Requirement already satisfied: idna<4,>=2.5 in /usr/local/lib/python3.10/dist-packages (from requests<3.0.0.dev0,>=2.18.0->google-api-core[grpc]!=2.0.*,!=2.1.*,!=2.2.*,!=2.3.*,!=2.4.*,!=2.5.*,!=2.6.*,!=2.7.*,<3.0.0dev,>=1.32.0->google-cloud-aiplatform) (3.4)\n",
            "Requirement already satisfied: urllib3<3,>=1.21.1 in /usr/local/lib/python3.10/dist-packages (from requests<3.0.0.dev0,>=2.18.0->google-api-core[grpc]!=2.0.*,!=2.1.*,!=2.2.*,!=2.3.*,!=2.4.*,!=2.5.*,!=2.6.*,!=2.7.*,<3.0.0dev,>=1.32.0->google-cloud-aiplatform) (2.0.7)\n",
            "Requirement already satisfied: certifi>=2017.4.17 in /usr/local/lib/python3.10/dist-packages (from requests<3.0.0.dev0,>=2.18.0->google-api-core[grpc]!=2.0.*,!=2.1.*,!=2.2.*,!=2.3.*,!=2.4.*,!=2.5.*,!=2.6.*,!=2.7.*,<3.0.0dev,>=1.32.0->google-cloud-aiplatform) (2023.7.22)\n",
            "Requirement already satisfied: pyasn1<0.6.0,>=0.4.6 in /usr/local/lib/python3.10/dist-packages (from pyasn1-modules>=0.2.1->google-auth<3.0.dev0,>=2.14.1->google-api-core[grpc]!=2.0.*,!=2.1.*,!=2.2.*,!=2.3.*,!=2.4.*,!=2.5.*,!=2.6.*,!=2.7.*,<3.0.0dev,>=1.32.0->google-cloud-aiplatform) (0.5.0)\n"
          ]
        }
      ]
    },
    {
      "cell_type": "code",
      "source": [
        "from google.colab import auth\n",
        "from google.cloud import bigquery\n",
        "import pandas as pd\n",
        "from typing import Union\n",
        "import sys\n",
        "\n",
        "auth.authenticate_user()"
      ],
      "metadata": {
        "id": "TupKlnCGGt2O",
        "executionInfo": {
          "status": "ok",
          "timestamp": 1702323972521,
          "user_tz": 360,
          "elapsed": 3,
          "user": {
            "displayName": "",
            "userId": ""
          }
        }
      },
      "execution_count": 32,
      "outputs": []
    },
    {
      "cell_type": "markdown",
      "source": [
        "## Define notebook variables\n",
        "\n",
        "Please update varaibles like your GCP Project ID (`project_id`), dataset name (`dataset_name`), and location (`location`).\n",
        "\n",
        "The variables `table_name` and `model_name` are pre-populated, but you can update them if you wish.\n",
        "\n",
        "Ensure that the dataset exists in the same GCP Project as `project_id`."
      ],
      "metadata": {
        "id": "sHoUOuxf5GOR"
      }
    },
    {
      "cell_type": "code",
      "source": [
        "#@title Setup Project Variables { run: \"auto\", display-mode: \"form\" }\n",
        "project_id = \"qwiklabs-gcp-00-7d81a74347ee\" #@param {type:\"string\"}\n",
        "dataset_name = \"theLook_retail\" #@param {type:\"string\"}\n",
        "table_name=\"customer_stats\" #@param {type:\"string\"}\n",
        "model_name = \"bqdf_customer_segment_cluster\" #@param {type:\"string\"}\n",
        "eval_name = model_name + \"_eval\"\n",
        "LOCATION = \"us-central1\"  # @param {type:\"string\"}\n",
        "client = bigquery.Client()"
      ],
      "metadata": {
        "id": "_3Rfhx874F2J",
        "executionInfo": {
          "status": "ok",
          "timestamp": 1702323972521,
          "user_tz": 360,
          "elapsed": 2,
          "user": {
            "displayName": "",
            "userId": ""
          }
        }
      },
      "execution_count": 33,
      "outputs": []
    },
    {
      "cell_type": "markdown",
      "source": [
        "\n",
        "\n",
        "---\n",
        "\n"
      ],
      "metadata": {
        "id": "P-eLlA_0dj8p"
      }
    },
    {
      "cell_type": "markdown",
      "source": [
        "## Basic Exploratory Data Analysis\n",
        "To kick things off, let's first inspect our data prior to constructing any models. Within this tutorial, we'll be working with the [theLook eCommerce public dataset](https://console.cloud.google.com/marketplace/product/bigquery-public-data/thelook-ecommerce).\n",
        "\n",
        "TheLook is an imaginary eCommerce apparel website. Within this dataset, you'll discover details about customers, products, orders, logistics, web events, and digital marketing campaigns. Our main emphasis is the `order_items` table, which contains transactional insights about customers. It's important to note that the contents of this dataset are artificially generated and are made available to professionals in the industry for the purposes of product exploration, testing, and assessment.\n",
        "\n",
        "There are a few ways we can query data and get it into a dataframe. Here are two approaches:"
      ],
      "metadata": {
        "id": "IOlN-lku6KPi"
      }
    },
    {
      "cell_type": "markdown",
      "source": [
        "#### Python\n",
        "\n",
        "Use the Python SDK to bring data into a dataframe."
      ],
      "metadata": {
        "id": "5Ss_JcgU6dxL"
      }
    },
    {
      "cell_type": "code",
      "source": [
        "query = \"\"\"\n",
        "SELECT\n",
        "  user_id,\n",
        "  order_id,\n",
        "  sale_price,\n",
        "  created_at as order_created_date\n",
        "FROM `bigquery-public-data.thelook_ecommerce.order_items`\n",
        "WHERE created_at BETWEEN '2022-01-01' AND '2023-01-01'\n",
        "\"\"\"\n",
        "df = client.query(query).to_dataframe()\n",
        "df.head()\n"
      ],
      "metadata": {
        "id": "V6-JiJZBGmO7",
        "colab": {
          "base_uri": "https://localhost:8080/",
          "height": 206
        },
        "executionInfo": {
          "status": "ok",
          "timestamp": 1702323974509,
          "user_tz": 360,
          "elapsed": 1990,
          "user": {
            "displayName": "",
            "userId": ""
          }
        },
        "outputId": "8702d3e5-70b5-4685-96ff-2a3a8f0affac"
      },
      "execution_count": 34,
      "outputs": [
        {
          "output_type": "execute_result",
          "data": {
            "text/plain": [
              "   user_id  order_id  sale_price        order_created_date\n",
              "0    20151     24994        0.02 2022-04-18 06:27:51+00:00\n",
              "1    28746     35767        0.49 2022-09-15 08:39:52+00:00\n",
              "2    92067    115110        0.49 2022-02-18 02:42:25+00:00\n",
              "3    29175     36324        0.49 2022-02-15 11:06:13+00:00\n",
              "4    12676     15668        1.50 2022-12-04 03:05:52+00:00"
            ],
            "text/html": [
              "\n",
              "  <div id=\"df-d251f9bd-a291-4cfb-bbb0-7f4119594c12\" class=\"colab-df-container\">\n",
              "    <div>\n",
              "<style scoped>\n",
              "    .dataframe tbody tr th:only-of-type {\n",
              "        vertical-align: middle;\n",
              "    }\n",
              "\n",
              "    .dataframe tbody tr th {\n",
              "        vertical-align: top;\n",
              "    }\n",
              "\n",
              "    .dataframe thead th {\n",
              "        text-align: right;\n",
              "    }\n",
              "</style>\n",
              "<table border=\"1\" class=\"dataframe\">\n",
              "  <thead>\n",
              "    <tr style=\"text-align: right;\">\n",
              "      <th></th>\n",
              "      <th>user_id</th>\n",
              "      <th>order_id</th>\n",
              "      <th>sale_price</th>\n",
              "      <th>order_created_date</th>\n",
              "    </tr>\n",
              "  </thead>\n",
              "  <tbody>\n",
              "    <tr>\n",
              "      <th>0</th>\n",
              "      <td>20151</td>\n",
              "      <td>24994</td>\n",
              "      <td>0.02</td>\n",
              "      <td>2022-04-18 06:27:51+00:00</td>\n",
              "    </tr>\n",
              "    <tr>\n",
              "      <th>1</th>\n",
              "      <td>28746</td>\n",
              "      <td>35767</td>\n",
              "      <td>0.49</td>\n",
              "      <td>2022-09-15 08:39:52+00:00</td>\n",
              "    </tr>\n",
              "    <tr>\n",
              "      <th>2</th>\n",
              "      <td>92067</td>\n",
              "      <td>115110</td>\n",
              "      <td>0.49</td>\n",
              "      <td>2022-02-18 02:42:25+00:00</td>\n",
              "    </tr>\n",
              "    <tr>\n",
              "      <th>3</th>\n",
              "      <td>29175</td>\n",
              "      <td>36324</td>\n",
              "      <td>0.49</td>\n",
              "      <td>2022-02-15 11:06:13+00:00</td>\n",
              "    </tr>\n",
              "    <tr>\n",
              "      <th>4</th>\n",
              "      <td>12676</td>\n",
              "      <td>15668</td>\n",
              "      <td>1.50</td>\n",
              "      <td>2022-12-04 03:05:52+00:00</td>\n",
              "    </tr>\n",
              "  </tbody>\n",
              "</table>\n",
              "</div>\n",
              "    <div class=\"colab-df-buttons\">\n",
              "\n",
              "  <div class=\"colab-df-container\">\n",
              "    <button class=\"colab-df-convert\" onclick=\"convertToInteractive('df-d251f9bd-a291-4cfb-bbb0-7f4119594c12')\"\n",
              "            title=\"Convert this dataframe to an interactive table.\"\n",
              "            style=\"display:none;\">\n",
              "\n",
              "  <svg xmlns=\"http://www.w3.org/2000/svg\" height=\"24px\" viewBox=\"0 -960 960 960\">\n",
              "    <path d=\"M120-120v-720h720v720H120Zm60-500h600v-160H180v160Zm220 220h160v-160H400v160Zm0 220h160v-160H400v160ZM180-400h160v-160H180v160Zm440 0h160v-160H620v160ZM180-180h160v-160H180v160Zm440 0h160v-160H620v160Z\"/>\n",
              "  </svg>\n",
              "    </button>\n",
              "\n",
              "  <style>\n",
              "    .colab-df-container {\n",
              "      display:flex;\n",
              "      gap: 12px;\n",
              "    }\n",
              "\n",
              "    .colab-df-convert {\n",
              "      background-color: #E8F0FE;\n",
              "      border: none;\n",
              "      border-radius: 50%;\n",
              "      cursor: pointer;\n",
              "      display: none;\n",
              "      fill: #1967D2;\n",
              "      height: 32px;\n",
              "      padding: 0 0 0 0;\n",
              "      width: 32px;\n",
              "    }\n",
              "\n",
              "    .colab-df-convert:hover {\n",
              "      background-color: #E2EBFA;\n",
              "      box-shadow: 0px 1px 2px rgba(60, 64, 67, 0.3), 0px 1px 3px 1px rgba(60, 64, 67, 0.15);\n",
              "      fill: #174EA6;\n",
              "    }\n",
              "\n",
              "    .colab-df-buttons div {\n",
              "      margin-bottom: 4px;\n",
              "    }\n",
              "\n",
              "    [theme=dark] .colab-df-convert {\n",
              "      background-color: #3B4455;\n",
              "      fill: #D2E3FC;\n",
              "    }\n",
              "\n",
              "    [theme=dark] .colab-df-convert:hover {\n",
              "      background-color: #434B5C;\n",
              "      box-shadow: 0px 1px 3px 1px rgba(0, 0, 0, 0.15);\n",
              "      filter: drop-shadow(0px 1px 2px rgba(0, 0, 0, 0.3));\n",
              "      fill: #FFFFFF;\n",
              "    }\n",
              "  </style>\n",
              "\n",
              "    <script>\n",
              "      const buttonEl =\n",
              "        document.querySelector('#df-d251f9bd-a291-4cfb-bbb0-7f4119594c12 button.colab-df-convert');\n",
              "      buttonEl.style.display =\n",
              "        google.colab.kernel.accessAllowed ? 'block' : 'none';\n",
              "\n",
              "      async function convertToInteractive(key) {\n",
              "        const element = document.querySelector('#df-d251f9bd-a291-4cfb-bbb0-7f4119594c12');\n",
              "        const dataTable =\n",
              "          await google.colab.kernel.invokeFunction('convertToInteractive',\n",
              "                                                    [key], {});\n",
              "        if (!dataTable) return;\n",
              "\n",
              "        const docLinkHtml = 'Like what you see? Visit the ' +\n",
              "          '<a target=\"_blank\" href=https://colab.research.google.com/notebooks/data_table.ipynb>data table notebook</a>'\n",
              "          + ' to learn more about interactive tables.';\n",
              "        element.innerHTML = '';\n",
              "        dataTable['output_type'] = 'display_data';\n",
              "        await google.colab.output.renderOutput(dataTable, element);\n",
              "        const docLink = document.createElement('div');\n",
              "        docLink.innerHTML = docLinkHtml;\n",
              "        element.appendChild(docLink);\n",
              "      }\n",
              "    </script>\n",
              "  </div>\n",
              "\n",
              "\n",
              "<div id=\"df-1a958cdb-a231-475b-bd74-bb9d74c8ec1b\">\n",
              "  <button class=\"colab-df-quickchart\" onclick=\"quickchart('df-1a958cdb-a231-475b-bd74-bb9d74c8ec1b')\"\n",
              "            title=\"Suggest charts\"\n",
              "            style=\"display:none;\">\n",
              "\n",
              "<svg xmlns=\"http://www.w3.org/2000/svg\" height=\"24px\"viewBox=\"0 0 24 24\"\n",
              "     width=\"24px\">\n",
              "    <g>\n",
              "        <path d=\"M19 3H5c-1.1 0-2 .9-2 2v14c0 1.1.9 2 2 2h14c1.1 0 2-.9 2-2V5c0-1.1-.9-2-2-2zM9 17H7v-7h2v7zm4 0h-2V7h2v10zm4 0h-2v-4h2v4z\"/>\n",
              "    </g>\n",
              "</svg>\n",
              "  </button>\n",
              "\n",
              "<style>\n",
              "  .colab-df-quickchart {\n",
              "      --bg-color: #E8F0FE;\n",
              "      --fill-color: #1967D2;\n",
              "      --hover-bg-color: #E2EBFA;\n",
              "      --hover-fill-color: #174EA6;\n",
              "      --disabled-fill-color: #AAA;\n",
              "      --disabled-bg-color: #DDD;\n",
              "  }\n",
              "\n",
              "  [theme=dark] .colab-df-quickchart {\n",
              "      --bg-color: #3B4455;\n",
              "      --fill-color: #D2E3FC;\n",
              "      --hover-bg-color: #434B5C;\n",
              "      --hover-fill-color: #FFFFFF;\n",
              "      --disabled-bg-color: #3B4455;\n",
              "      --disabled-fill-color: #666;\n",
              "  }\n",
              "\n",
              "  .colab-df-quickchart {\n",
              "    background-color: var(--bg-color);\n",
              "    border: none;\n",
              "    border-radius: 50%;\n",
              "    cursor: pointer;\n",
              "    display: none;\n",
              "    fill: var(--fill-color);\n",
              "    height: 32px;\n",
              "    padding: 0;\n",
              "    width: 32px;\n",
              "  }\n",
              "\n",
              "  .colab-df-quickchart:hover {\n",
              "    background-color: var(--hover-bg-color);\n",
              "    box-shadow: 0 1px 2px rgba(60, 64, 67, 0.3), 0 1px 3px 1px rgba(60, 64, 67, 0.15);\n",
              "    fill: var(--button-hover-fill-color);\n",
              "  }\n",
              "\n",
              "  .colab-df-quickchart-complete:disabled,\n",
              "  .colab-df-quickchart-complete:disabled:hover {\n",
              "    background-color: var(--disabled-bg-color);\n",
              "    fill: var(--disabled-fill-color);\n",
              "    box-shadow: none;\n",
              "  }\n",
              "\n",
              "  .colab-df-spinner {\n",
              "    border: 2px solid var(--fill-color);\n",
              "    border-color: transparent;\n",
              "    border-bottom-color: var(--fill-color);\n",
              "    animation:\n",
              "      spin 1s steps(1) infinite;\n",
              "  }\n",
              "\n",
              "  @keyframes spin {\n",
              "    0% {\n",
              "      border-color: transparent;\n",
              "      border-bottom-color: var(--fill-color);\n",
              "      border-left-color: var(--fill-color);\n",
              "    }\n",
              "    20% {\n",
              "      border-color: transparent;\n",
              "      border-left-color: var(--fill-color);\n",
              "      border-top-color: var(--fill-color);\n",
              "    }\n",
              "    30% {\n",
              "      border-color: transparent;\n",
              "      border-left-color: var(--fill-color);\n",
              "      border-top-color: var(--fill-color);\n",
              "      border-right-color: var(--fill-color);\n",
              "    }\n",
              "    40% {\n",
              "      border-color: transparent;\n",
              "      border-right-color: var(--fill-color);\n",
              "      border-top-color: var(--fill-color);\n",
              "    }\n",
              "    60% {\n",
              "      border-color: transparent;\n",
              "      border-right-color: var(--fill-color);\n",
              "    }\n",
              "    80% {\n",
              "      border-color: transparent;\n",
              "      border-right-color: var(--fill-color);\n",
              "      border-bottom-color: var(--fill-color);\n",
              "    }\n",
              "    90% {\n",
              "      border-color: transparent;\n",
              "      border-bottom-color: var(--fill-color);\n",
              "    }\n",
              "  }\n",
              "</style>\n",
              "\n",
              "  <script>\n",
              "    async function quickchart(key) {\n",
              "      const quickchartButtonEl =\n",
              "        document.querySelector('#' + key + ' button');\n",
              "      quickchartButtonEl.disabled = true;  // To prevent multiple clicks.\n",
              "      quickchartButtonEl.classList.add('colab-df-spinner');\n",
              "      try {\n",
              "        const charts = await google.colab.kernel.invokeFunction(\n",
              "            'suggestCharts', [key], {});\n",
              "      } catch (error) {\n",
              "        console.error('Error during call to suggestCharts:', error);\n",
              "      }\n",
              "      quickchartButtonEl.classList.remove('colab-df-spinner');\n",
              "      quickchartButtonEl.classList.add('colab-df-quickchart-complete');\n",
              "    }\n",
              "    (() => {\n",
              "      let quickchartButtonEl =\n",
              "        document.querySelector('#df-1a958cdb-a231-475b-bd74-bb9d74c8ec1b button');\n",
              "      quickchartButtonEl.style.display =\n",
              "        google.colab.kernel.accessAllowed ? 'block' : 'none';\n",
              "    })();\n",
              "  </script>\n",
              "</div>\n",
              "    </div>\n",
              "  </div>\n"
            ]
          },
          "metadata": {},
          "execution_count": 34
        }
      ]
    },
    {
      "cell_type": "markdown",
      "source": [
        "#### SQL\n",
        "We can use the %%bigquery magic operator to run SQL directly in this notebook. Results can be sent to dataframes too. In this case, we define `df_bq` as the dataframe name."
      ],
      "metadata": {
        "id": "MWEbf9Cb6gih"
      }
    },
    {
      "cell_type": "code",
      "source": [
        "%%bigquery df_bq\n",
        "\n",
        "SELECT\n",
        "  user_id,\n",
        "  order_id,\n",
        "  sale_price,\n",
        "  created_at as order_created_date\n",
        "FROM `bigquery-public-data.thelook_ecommerce.order_items`\n",
        "WHERE created_at BETWEEN '2022-01-01' AND '2023-01-01'"
      ],
      "metadata": {
        "id": "5MiwTAvMM43y",
        "colab": {
          "base_uri": "https://localhost:8080/",
          "height": 81,
          "referenced_widgets": [
            "27e1e6f33ab3479492e309e63ddf8632",
            "38fbf9d47afc4f4180e3d89303a66701",
            "c1ee028e29754f1abfb92a76c7834c4e",
            "0ecc5fb7463c4590acaa924686b1e3fd",
            "e5747d20130843d691113acf39240440",
            "fb93663875a3404191d16ceb0f8a4bda",
            "358306d27df24c4ca498d5e7bef295c1",
            "0c37cd1bf9e945cfa6cca454b6a8da17",
            "316bda1c40434594bb4efea0c7961106",
            "7a7b16261760405fa5e8ffd02fe8f246",
            "91e16312d8d049179b0f319d92f51e13",
            "d72ebbb1fd864f74a8c5489412e6c25d",
            "87a7cc023cb941338120970e9582b499",
            "da5ddef637d049d7b29e355e35e3cab3",
            "dcb61948c6754ca582fa6bd8bd40366f",
            "fe5d13c0dc5c465781fdfac8f1ba0745",
            "08d5a84f07754dcb90ad913f13155975",
            "56d4fae88e884bde8a3c20e412c0f34b",
            "78ba89fe349e433199ae20ebe40ac3e9",
            "02e397cab9ce4cdf8269b0ecbd8e757f",
            "652d2409e14849dcb2c1b1bc0e276210",
            "043f00c82a414245b917578e10272498"
          ]
        },
        "executionInfo": {
          "status": "ok",
          "timestamp": 1702323976366,
          "user_tz": 360,
          "elapsed": 1862,
          "user": {
            "displayName": "",
            "userId": ""
          }
        },
        "outputId": "a0ce8edb-e23c-4f78-e3ba-3f0853f4271e"
      },
      "execution_count": 35,
      "outputs": [
        {
          "output_type": "display_data",
          "data": {
            "text/plain": [
              "Query is running:   0%|          |"
            ],
            "application/vnd.jupyter.widget-view+json": {
              "version_major": 2,
              "version_minor": 0,
              "model_id": "27e1e6f33ab3479492e309e63ddf8632"
            }
          },
          "metadata": {}
        },
        {
          "output_type": "display_data",
          "data": {
            "text/plain": [
              "Downloading:   0%|          |"
            ],
            "application/vnd.jupyter.widget-view+json": {
              "version_major": 2,
              "version_minor": 0,
              "model_id": "d72ebbb1fd864f74a8c5489412e6c25d"
            }
          },
          "metadata": {}
        }
      ]
    },
    {
      "cell_type": "code",
      "source": [
        "df_bq.head()"
      ],
      "metadata": {
        "id": "Yf5PTAZz4eOI",
        "colab": {
          "base_uri": "https://localhost:8080/",
          "height": 206
        },
        "executionInfo": {
          "status": "ok",
          "timestamp": 1702323976366,
          "user_tz": 360,
          "elapsed": 5,
          "user": {
            "displayName": "",
            "userId": ""
          }
        },
        "outputId": "9bb94487-0c7c-4205-c356-8e0475d46897"
      },
      "execution_count": 36,
      "outputs": [
        {
          "output_type": "execute_result",
          "data": {
            "text/plain": [
              "   user_id  order_id  sale_price        order_created_date\n",
              "0    20151     24994        0.02 2022-04-18 06:27:51+00:00\n",
              "1    28746     35767        0.49 2022-09-15 08:39:52+00:00\n",
              "2    92067    115110        0.49 2022-02-18 02:42:25+00:00\n",
              "3    29175     36324        0.49 2022-02-15 11:06:13+00:00\n",
              "4    12676     15668        1.50 2022-12-04 03:05:52+00:00"
            ],
            "text/html": [
              "\n",
              "  <div id=\"df-eca07768-3c67-47ad-9f45-b9e9fc5c0337\" class=\"colab-df-container\">\n",
              "    <div>\n",
              "<style scoped>\n",
              "    .dataframe tbody tr th:only-of-type {\n",
              "        vertical-align: middle;\n",
              "    }\n",
              "\n",
              "    .dataframe tbody tr th {\n",
              "        vertical-align: top;\n",
              "    }\n",
              "\n",
              "    .dataframe thead th {\n",
              "        text-align: right;\n",
              "    }\n",
              "</style>\n",
              "<table border=\"1\" class=\"dataframe\">\n",
              "  <thead>\n",
              "    <tr style=\"text-align: right;\">\n",
              "      <th></th>\n",
              "      <th>user_id</th>\n",
              "      <th>order_id</th>\n",
              "      <th>sale_price</th>\n",
              "      <th>order_created_date</th>\n",
              "    </tr>\n",
              "  </thead>\n",
              "  <tbody>\n",
              "    <tr>\n",
              "      <th>0</th>\n",
              "      <td>20151</td>\n",
              "      <td>24994</td>\n",
              "      <td>0.02</td>\n",
              "      <td>2022-04-18 06:27:51+00:00</td>\n",
              "    </tr>\n",
              "    <tr>\n",
              "      <th>1</th>\n",
              "      <td>28746</td>\n",
              "      <td>35767</td>\n",
              "      <td>0.49</td>\n",
              "      <td>2022-09-15 08:39:52+00:00</td>\n",
              "    </tr>\n",
              "    <tr>\n",
              "      <th>2</th>\n",
              "      <td>92067</td>\n",
              "      <td>115110</td>\n",
              "      <td>0.49</td>\n",
              "      <td>2022-02-18 02:42:25+00:00</td>\n",
              "    </tr>\n",
              "    <tr>\n",
              "      <th>3</th>\n",
              "      <td>29175</td>\n",
              "      <td>36324</td>\n",
              "      <td>0.49</td>\n",
              "      <td>2022-02-15 11:06:13+00:00</td>\n",
              "    </tr>\n",
              "    <tr>\n",
              "      <th>4</th>\n",
              "      <td>12676</td>\n",
              "      <td>15668</td>\n",
              "      <td>1.50</td>\n",
              "      <td>2022-12-04 03:05:52+00:00</td>\n",
              "    </tr>\n",
              "  </tbody>\n",
              "</table>\n",
              "</div>\n",
              "    <div class=\"colab-df-buttons\">\n",
              "\n",
              "  <div class=\"colab-df-container\">\n",
              "    <button class=\"colab-df-convert\" onclick=\"convertToInteractive('df-eca07768-3c67-47ad-9f45-b9e9fc5c0337')\"\n",
              "            title=\"Convert this dataframe to an interactive table.\"\n",
              "            style=\"display:none;\">\n",
              "\n",
              "  <svg xmlns=\"http://www.w3.org/2000/svg\" height=\"24px\" viewBox=\"0 -960 960 960\">\n",
              "    <path d=\"M120-120v-720h720v720H120Zm60-500h600v-160H180v160Zm220 220h160v-160H400v160Zm0 220h160v-160H400v160ZM180-400h160v-160H180v160Zm440 0h160v-160H620v160ZM180-180h160v-160H180v160Zm440 0h160v-160H620v160Z\"/>\n",
              "  </svg>\n",
              "    </button>\n",
              "\n",
              "  <style>\n",
              "    .colab-df-container {\n",
              "      display:flex;\n",
              "      gap: 12px;\n",
              "    }\n",
              "\n",
              "    .colab-df-convert {\n",
              "      background-color: #E8F0FE;\n",
              "      border: none;\n",
              "      border-radius: 50%;\n",
              "      cursor: pointer;\n",
              "      display: none;\n",
              "      fill: #1967D2;\n",
              "      height: 32px;\n",
              "      padding: 0 0 0 0;\n",
              "      width: 32px;\n",
              "    }\n",
              "\n",
              "    .colab-df-convert:hover {\n",
              "      background-color: #E2EBFA;\n",
              "      box-shadow: 0px 1px 2px rgba(60, 64, 67, 0.3), 0px 1px 3px 1px rgba(60, 64, 67, 0.15);\n",
              "      fill: #174EA6;\n",
              "    }\n",
              "\n",
              "    .colab-df-buttons div {\n",
              "      margin-bottom: 4px;\n",
              "    }\n",
              "\n",
              "    [theme=dark] .colab-df-convert {\n",
              "      background-color: #3B4455;\n",
              "      fill: #D2E3FC;\n",
              "    }\n",
              "\n",
              "    [theme=dark] .colab-df-convert:hover {\n",
              "      background-color: #434B5C;\n",
              "      box-shadow: 0px 1px 3px 1px rgba(0, 0, 0, 0.15);\n",
              "      filter: drop-shadow(0px 1px 2px rgba(0, 0, 0, 0.3));\n",
              "      fill: #FFFFFF;\n",
              "    }\n",
              "  </style>\n",
              "\n",
              "    <script>\n",
              "      const buttonEl =\n",
              "        document.querySelector('#df-eca07768-3c67-47ad-9f45-b9e9fc5c0337 button.colab-df-convert');\n",
              "      buttonEl.style.display =\n",
              "        google.colab.kernel.accessAllowed ? 'block' : 'none';\n",
              "\n",
              "      async function convertToInteractive(key) {\n",
              "        const element = document.querySelector('#df-eca07768-3c67-47ad-9f45-b9e9fc5c0337');\n",
              "        const dataTable =\n",
              "          await google.colab.kernel.invokeFunction('convertToInteractive',\n",
              "                                                    [key], {});\n",
              "        if (!dataTable) return;\n",
              "\n",
              "        const docLinkHtml = 'Like what you see? Visit the ' +\n",
              "          '<a target=\"_blank\" href=https://colab.research.google.com/notebooks/data_table.ipynb>data table notebook</a>'\n",
              "          + ' to learn more about interactive tables.';\n",
              "        element.innerHTML = '';\n",
              "        dataTable['output_type'] = 'display_data';\n",
              "        await google.colab.output.renderOutput(dataTable, element);\n",
              "        const docLink = document.createElement('div');\n",
              "        docLink.innerHTML = docLinkHtml;\n",
              "        element.appendChild(docLink);\n",
              "      }\n",
              "    </script>\n",
              "  </div>\n",
              "\n",
              "\n",
              "<div id=\"df-4520b8a1-0154-47c9-b8a0-f93b5f6bd63b\">\n",
              "  <button class=\"colab-df-quickchart\" onclick=\"quickchart('df-4520b8a1-0154-47c9-b8a0-f93b5f6bd63b')\"\n",
              "            title=\"Suggest charts\"\n",
              "            style=\"display:none;\">\n",
              "\n",
              "<svg xmlns=\"http://www.w3.org/2000/svg\" height=\"24px\"viewBox=\"0 0 24 24\"\n",
              "     width=\"24px\">\n",
              "    <g>\n",
              "        <path d=\"M19 3H5c-1.1 0-2 .9-2 2v14c0 1.1.9 2 2 2h14c1.1 0 2-.9 2-2V5c0-1.1-.9-2-2-2zM9 17H7v-7h2v7zm4 0h-2V7h2v10zm4 0h-2v-4h2v4z\"/>\n",
              "    </g>\n",
              "</svg>\n",
              "  </button>\n",
              "\n",
              "<style>\n",
              "  .colab-df-quickchart {\n",
              "      --bg-color: #E8F0FE;\n",
              "      --fill-color: #1967D2;\n",
              "      --hover-bg-color: #E2EBFA;\n",
              "      --hover-fill-color: #174EA6;\n",
              "      --disabled-fill-color: #AAA;\n",
              "      --disabled-bg-color: #DDD;\n",
              "  }\n",
              "\n",
              "  [theme=dark] .colab-df-quickchart {\n",
              "      --bg-color: #3B4455;\n",
              "      --fill-color: #D2E3FC;\n",
              "      --hover-bg-color: #434B5C;\n",
              "      --hover-fill-color: #FFFFFF;\n",
              "      --disabled-bg-color: #3B4455;\n",
              "      --disabled-fill-color: #666;\n",
              "  }\n",
              "\n",
              "  .colab-df-quickchart {\n",
              "    background-color: var(--bg-color);\n",
              "    border: none;\n",
              "    border-radius: 50%;\n",
              "    cursor: pointer;\n",
              "    display: none;\n",
              "    fill: var(--fill-color);\n",
              "    height: 32px;\n",
              "    padding: 0;\n",
              "    width: 32px;\n",
              "  }\n",
              "\n",
              "  .colab-df-quickchart:hover {\n",
              "    background-color: var(--hover-bg-color);\n",
              "    box-shadow: 0 1px 2px rgba(60, 64, 67, 0.3), 0 1px 3px 1px rgba(60, 64, 67, 0.15);\n",
              "    fill: var(--button-hover-fill-color);\n",
              "  }\n",
              "\n",
              "  .colab-df-quickchart-complete:disabled,\n",
              "  .colab-df-quickchart-complete:disabled:hover {\n",
              "    background-color: var(--disabled-bg-color);\n",
              "    fill: var(--disabled-fill-color);\n",
              "    box-shadow: none;\n",
              "  }\n",
              "\n",
              "  .colab-df-spinner {\n",
              "    border: 2px solid var(--fill-color);\n",
              "    border-color: transparent;\n",
              "    border-bottom-color: var(--fill-color);\n",
              "    animation:\n",
              "      spin 1s steps(1) infinite;\n",
              "  }\n",
              "\n",
              "  @keyframes spin {\n",
              "    0% {\n",
              "      border-color: transparent;\n",
              "      border-bottom-color: var(--fill-color);\n",
              "      border-left-color: var(--fill-color);\n",
              "    }\n",
              "    20% {\n",
              "      border-color: transparent;\n",
              "      border-left-color: var(--fill-color);\n",
              "      border-top-color: var(--fill-color);\n",
              "    }\n",
              "    30% {\n",
              "      border-color: transparent;\n",
              "      border-left-color: var(--fill-color);\n",
              "      border-top-color: var(--fill-color);\n",
              "      border-right-color: var(--fill-color);\n",
              "    }\n",
              "    40% {\n",
              "      border-color: transparent;\n",
              "      border-right-color: var(--fill-color);\n",
              "      border-top-color: var(--fill-color);\n",
              "    }\n",
              "    60% {\n",
              "      border-color: transparent;\n",
              "      border-right-color: var(--fill-color);\n",
              "    }\n",
              "    80% {\n",
              "      border-color: transparent;\n",
              "      border-right-color: var(--fill-color);\n",
              "      border-bottom-color: var(--fill-color);\n",
              "    }\n",
              "    90% {\n",
              "      border-color: transparent;\n",
              "      border-bottom-color: var(--fill-color);\n",
              "    }\n",
              "  }\n",
              "</style>\n",
              "\n",
              "  <script>\n",
              "    async function quickchart(key) {\n",
              "      const quickchartButtonEl =\n",
              "        document.querySelector('#' + key + ' button');\n",
              "      quickchartButtonEl.disabled = true;  // To prevent multiple clicks.\n",
              "      quickchartButtonEl.classList.add('colab-df-spinner');\n",
              "      try {\n",
              "        const charts = await google.colab.kernel.invokeFunction(\n",
              "            'suggestCharts', [key], {});\n",
              "      } catch (error) {\n",
              "        console.error('Error during call to suggestCharts:', error);\n",
              "      }\n",
              "      quickchartButtonEl.classList.remove('colab-df-spinner');\n",
              "      quickchartButtonEl.classList.add('colab-df-quickchart-complete');\n",
              "    }\n",
              "    (() => {\n",
              "      let quickchartButtonEl =\n",
              "        document.querySelector('#df-4520b8a1-0154-47c9-b8a0-f93b5f6bd63b button');\n",
              "      quickchartButtonEl.style.display =\n",
              "        google.colab.kernel.accessAllowed ? 'block' : 'none';\n",
              "    })();\n",
              "  </script>\n",
              "</div>\n",
              "    </div>\n",
              "  </div>\n"
            ]
          },
          "metadata": {},
          "execution_count": 36
        }
      ]
    },
    {
      "cell_type": "markdown",
      "source": [
        "## Create features for k-means model.\n",
        "\n",
        "The table includes recency, frequency, and monetary value metrics to provide a an understanding of customer behavior."
      ],
      "metadata": {
        "id": "8RDvQSsqrryy"
      }
    },
    {
      "cell_type": "code",
      "source": [
        "\n",
        "query= f\"\"\"\n",
        "CREATE SCHEMA `{project_id}.{dataset_name}`;\n",
        "\"\"\"\n",
        "\n",
        "client.query(query)"
      ],
      "metadata": {
        "id": "neM9J1T8LjKB",
        "colab": {
          "base_uri": "https://localhost:8080/"
        },
        "executionInfo": {
          "status": "ok",
          "timestamp": 1702323976580,
          "user_tz": 360,
          "elapsed": 218,
          "user": {
            "displayName": "",
            "userId": ""
          }
        },
        "outputId": "c7de3bd5-f9d7-4521-8190-ef7725bd3d2c"
      },
      "execution_count": 37,
      "outputs": [
        {
          "output_type": "execute_result",
          "data": {
            "text/plain": [
              "QueryJob<project=qwiklabs-gcp-00-7d81a74347ee, location=US, id=2366b8a1-eff1-4e57-95a7-ee58d167dc79>"
            ]
          },
          "metadata": {},
          "execution_count": 37
        }
      ]
    },
    {
      "cell_type": "code",
      "source": [
        "import time\n",
        "time.sleep(10)"
      ],
      "metadata": {
        "id": "RqFiN02OMDWE",
        "executionInfo": {
          "status": "ok",
          "timestamp": 1702323986865,
          "user_tz": 360,
          "elapsed": 10286,
          "user": {
            "displayName": "",
            "userId": ""
          }
        }
      },
      "execution_count": 38,
      "outputs": []
    },
    {
      "cell_type": "code",
      "source": [
        "\n",
        "query= f\"\"\"\n",
        "CREATE OR REPLACE TABLE `{project_id}.{dataset_name}.{table_name}` AS\n",
        "SELECT\n",
        "  user_id,\n",
        "  --RECENCY\n",
        "  DATE_DIFF(CURRENT_DATE(), CAST(MAX(order_created_date) AS DATE), day) as days_since_last_order,\n",
        "  -- FREQUENCY\n",
        "  count(order_id) as count_orders,\n",
        "  -- MONETARY\n",
        "  AVG(sale_price) as average_spend,\n",
        "  FROM\n",
        "  (\n",
        "SELECT user_id,\n",
        "order_id,\n",
        "sale_price,\n",
        "created_at as order_created_date\n",
        "FROM\n",
        "  `bigquery-public-data.thelook_ecommerce.order_items`\n",
        "WHERE created_at BETWEEN '2022-01-01' AND '2023-01-01'\n",
        "  )\n",
        "GROUP BY\n",
        "user_id;\n",
        "\"\"\"\n",
        "\n",
        "client.query(query)"
      ],
      "metadata": {
        "id": "r4V5dGbcrnZg",
        "colab": {
          "base_uri": "https://localhost:8080/"
        },
        "executionInfo": {
          "status": "ok",
          "timestamp": 1702323987442,
          "user_tz": 360,
          "elapsed": 590,
          "user": {
            "displayName": "",
            "userId": ""
          }
        },
        "outputId": "61effb6d-1ee8-43de-891a-92f521bffac1"
      },
      "execution_count": 39,
      "outputs": [
        {
          "output_type": "execute_result",
          "data": {
            "text/plain": [
              "QueryJob<project=qwiklabs-gcp-00-7d81a74347ee, location=US, id=86c94dd5-354f-46bd-b807-aaa56922ec1f>"
            ]
          },
          "metadata": {},
          "execution_count": 39
        }
      ]
    },
    {
      "cell_type": "code",
      "source": [
        "import time\n",
        "time.sleep(10)"
      ],
      "metadata": {
        "id": "P4ooLApoaghm",
        "executionInfo": {
          "status": "ok",
          "timestamp": 1702323997477,
          "user_tz": 360,
          "elapsed": 10037,
          "user": {
            "displayName": "",
            "userId": ""
          }
        }
      },
      "execution_count": 40,
      "outputs": []
    },
    {
      "cell_type": "markdown",
      "source": [
        "## Create a k-means model to cluster ecommerce data\n",
        "\n",
        "K-means is a widely used clustering algorithm that can dentify distinct groups or clusters within a dataset. With eCommerce data, k-means can segment customers, products, or transactions into meaningful groups for various analytical and business purposes.\n",
        "\n",
        "We will assess two approaches for constructing k-means models and customer clusters:\n",
        "\n",
        "\n",
        "*   one utilizing the innovative BigFrames,  pandas-like API on top of BigQuery\n",
        "*   the other employing BigQuery ML\n",
        "\n",
        "\n",
        "Cluster our data using ***BigFrames*** and ***BigQuery ML***!"
      ],
      "metadata": {
        "id": "WnXQQOAc4t22"
      }
    },
    {
      "cell_type": "markdown",
      "source": [
        "#### Use BigQuery Dataframes to import the data"
      ],
      "metadata": {
        "id": "jQKfCgZ9FZH5"
      }
    },
    {
      "cell_type": "code",
      "source": [
        "\n",
        "import bigframes.pandas as bpd\n",
        "from google.cloud import bigquery\n",
        "\n",
        "# Create a BigQuery Dataframe\n",
        "df_customer = bpd.read_gbq(f\"{project_id}.{dataset_name}.{table_name}\")"
      ],
      "metadata": {
        "id": "BlEn2XdE_Q40",
        "colab": {
          "base_uri": "https://localhost:8080/",
          "height": 52
        },
        "executionInfo": {
          "status": "ok",
          "timestamp": 1702324005471,
          "user_tz": 360,
          "elapsed": 7997,
          "user": {
            "displayName": "",
            "userId": ""
          }
        },
        "outputId": "8f7b639b-62ca-4671-a9ae-e0a5ab78b9f5"
      },
      "execution_count": 41,
      "outputs": [
        {
          "output_type": "display_data",
          "data": {
            "text/plain": [
              "<IPython.core.display.HTML object>"
            ],
            "text/html": [
              "Query job f16ed4b7-b553-4900-8f72-8b7bfaff8b11 is DONE. 0 Bytes processed. <a target=\"_blank\" href=\"https://console.cloud.google.com/bigquery?project=qwiklabs-gcp-00-7d81a74347ee&j=bq:US:f16ed4b7-b553-4900-8f72-8b7bfaff8b11&page=queryresults\">Open Job</a>"
            ]
          },
          "metadata": {}
        },
        {
          "output_type": "display_data",
          "data": {
            "text/plain": [
              "<IPython.core.display.HTML object>"
            ],
            "text/html": [
              "Query job 5b84a554-9830-47f7-aa87-c678d7a5d65b is DONE. 831.8 kB processed. <a target=\"_blank\" href=\"https://console.cloud.google.com/bigquery?project=qwiklabs-gcp-00-7d81a74347ee&j=bq:US:5b84a554-9830-47f7-aa87-c678d7a5d65b&page=queryresults\">Open Job</a>"
            ]
          },
          "metadata": {}
        }
      ]
    },
    {
      "cell_type": "markdown",
      "source": [
        "## Create K-Means Model with BigFrames"
      ],
      "metadata": {
        "id": "ttcjRO2l9I-I"
      }
    },
    {
      "cell_type": "code",
      "source": [
        "##############################\n",
        "# Generate K-Means Clusters\n",
        "##############################\n",
        "from bigframes.ml.cluster import KMeans\n",
        "from bigframes.ml.model_selection import train_test_split\n",
        "\n",
        "# Split test and training data\n",
        "df_customer = df_customer.dropna()\n",
        "train_X, test_X = train_test_split(df_customer, test_size = 0.2)\n",
        "train_X = train_X.drop(columns = [\"user_id\"])\n",
        "# Create a K-Means cluster model\n",
        "kmeans = KMeans(n_clusters = 5)\n",
        "kmeans.fit(train_X)\n",
        "# Save the model to BigQuery\n",
        "kmeans.to_gbq(f\"{project_id}.{dataset_name}.{model_name}\", True)"
      ],
      "metadata": {
        "id": "cWQ9botFf2Te",
        "colab": {
          "base_uri": "https://localhost:8080/",
          "height": 86
        },
        "executionInfo": {
          "status": "ok",
          "timestamp": 1702324068227,
          "user_tz": 360,
          "elapsed": 62758,
          "user": {
            "displayName": "",
            "userId": ""
          }
        },
        "outputId": "98f83c46-03ee-4704-861e-68deac8bf3be"
      },
      "execution_count": 42,
      "outputs": [
        {
          "output_type": "display_data",
          "data": {
            "text/plain": [
              "<IPython.core.display.HTML object>"
            ],
            "text/html": [
              "Query job afe9767f-7695-4570-918e-9d3f8faf51d7 is DONE. 831.8 kB processed. <a target=\"_blank\" href=\"https://console.cloud.google.com/bigquery?project=qwiklabs-gcp-00-7d81a74347ee&j=bq:US:afe9767f-7695-4570-918e-9d3f8faf51d7&page=queryresults\">Open Job</a>"
            ]
          },
          "metadata": {}
        },
        {
          "output_type": "display_data",
          "data": {
            "text/plain": [
              "<IPython.core.display.HTML object>"
            ],
            "text/html": [
              "Query job a1862bc2-e8ca-445b-9d3d-9f4b7e9c16eb is DONE. 0 Bytes processed. <a target=\"_blank\" href=\"https://console.cloud.google.com/bigquery?project=qwiklabs-gcp-00-7d81a74347ee&j=bq:US:a1862bc2-e8ca-445b-9d3d-9f4b7e9c16eb&page=queryresults\">Open Job</a>"
            ]
          },
          "metadata": {}
        },
        {
          "output_type": "display_data",
          "data": {
            "text/plain": [
              "<IPython.core.display.HTML object>"
            ],
            "text/html": [
              "Copy job b5534cea-b4cf-4f72-be1e-8c6c7d75fb48 is DONE. <a target=\"_blank\" href=\"https://console.cloud.google.com/bigquery?project=qwiklabs-gcp-00-7d81a74347ee&j=bq:US:b5534cea-b4cf-4f72-be1e-8c6c7d75fb48&page=queryresults\">Open Job</a>"
            ]
          },
          "metadata": {}
        },
        {
          "output_type": "execute_result",
          "data": {
            "text/plain": [
              "KMeans(n_clusters=5)"
            ]
          },
          "metadata": {},
          "execution_count": 42
        }
      ]
    },
    {
      "cell_type": "markdown",
      "source": [
        "## (OPTIONAL) Create K-Means Model with BigQuery ML\n",
        "\n",
        "**Note:** Uncomment the cells and verify the dataset and table name accuracy. Run the model using simple SQL!"
      ],
      "metadata": {
        "id": "JCUkd-ez9kHh"
      }
    },
    {
      "cell_type": "code",
      "source": [
        "# %%bigquery\n",
        "\n",
        "# CREATE OR REPLACE MODEL `<DATASET_NAME>.bqml_customer_segment_cluster`\n",
        "# OPTIONS (\n",
        "#   MODEL_TYPE = \"KMEANS\",\n",
        "#   NUM_CLUSTERS = 5,\n",
        "#   KMEANS_INIT_METHOD = \"KMEANS++\",\n",
        "#   STANDARDIZE_FEATURES = TRUE )\n",
        "# AS (\n",
        "# SELECT * EXCEPT (user_id)\n",
        "# FROM `<DATASET_NAME>.customer_stats`\n",
        "# );"
      ],
      "metadata": {
        "id": "KiB2gPEvFkkd",
        "executionInfo": {
          "status": "ok",
          "timestamp": 1702324068228,
          "user_tz": 360,
          "elapsed": 3,
          "user": {
            "displayName": "",
            "userId": ""
          }
        }
      },
      "execution_count": 43,
      "outputs": []
    },
    {
      "cell_type": "markdown",
      "source": [
        "## Visualize the clusters\n",
        "\n",
        "Next we'll visualize the k-means clusters on a scatterplot. We'll chart `days_since_last_order` by `average_spend` and color by segment/cluster_id generated from the model."
      ],
      "metadata": {
        "id": "81nwv2QE-mlh"
      }
    },
    {
      "cell_type": "code",
      "source": [
        "#########################\n",
        "#Plot K-Means clusters\n",
        "#########################\n",
        "import seaborn as sns\n",
        "import matplotlib.pyplot as plt\n",
        "import pandas as pd\n",
        "\n",
        "# Import K-Means predictions to dataframe\n",
        "segments_df = kmeans.predict(df_customer).join(df_customer)\n",
        "segments_df = segments_df.rename(columns={'CENTROID_ID': 'segment_id'})\n",
        "segments_pd = segments_df.sample(frac=0.2, random_state=1).to_pandas()\n",
        "\n",
        "# Generate scatterplot to display clusters\n",
        "g = sns.lmplot(x='days_since_last_order', y='average_spend', data=segments_pd, fit_reg=False, hue='segment_id', palette='Set2', height=7, aspect=2)\n",
        "g = (g.set_axis_labels('Days Since Last Order','Average Spend ($)', fontsize=15).set(xlim=(200,800),ylim=(0,400)))\n",
        "plt.title('Attribute Grouped by K-means Cluster', pad=20, fontsize=20)"
      ],
      "metadata": {
        "id": "8vC9nk6wgisU",
        "colab": {
          "base_uri": "https://localhost:8080/",
          "height": 735
        },
        "executionInfo": {
          "status": "ok",
          "timestamp": 1702324084555,
          "user_tz": 360,
          "elapsed": 16329,
          "user": {
            "displayName": "",
            "userId": ""
          }
        },
        "outputId": "d99477ef-6e73-46fb-e798-5e16509062d1"
      },
      "execution_count": 44,
      "outputs": [
        {
          "output_type": "display_data",
          "data": {
            "text/plain": [
              "<IPython.core.display.HTML object>"
            ],
            "text/html": [
              "Query job c02dc1cb-d971-49b1-806d-a15b2a732ba8 is DONE. 0 Bytes processed. <a target=\"_blank\" href=\"https://console.cloud.google.com/bigquery?project=qwiklabs-gcp-00-7d81a74347ee&j=bq:US:c02dc1cb-d971-49b1-806d-a15b2a732ba8&page=queryresults\">Open Job</a>"
            ]
          },
          "metadata": {}
        },
        {
          "output_type": "display_data",
          "data": {
            "text/plain": [
              "<IPython.core.display.HTML object>"
            ],
            "text/html": [
              "Query job 1490ce2c-93b8-431f-b3e7-a1fa7ddda1b4 is DONE. 1.0 MB processed. <a target=\"_blank\" href=\"https://console.cloud.google.com/bigquery?project=qwiklabs-gcp-00-7d81a74347ee&j=bq:US:1490ce2c-93b8-431f-b3e7-a1fa7ddda1b4&page=queryresults\">Open Job</a>"
            ]
          },
          "metadata": {}
        },
        {
          "output_type": "display_data",
          "data": {
            "text/plain": [
              "<IPython.core.display.HTML object>"
            ],
            "text/html": [
              "Query job 0bf1bca6-e574-4a43-80fb-bf784d5894e4 is DONE. 208.0 kB processed. <a target=\"_blank\" href=\"https://console.cloud.google.com/bigquery?project=qwiklabs-gcp-00-7d81a74347ee&j=bq:US:0bf1bca6-e574-4a43-80fb-bf784d5894e4&page=queryresults\">Open Job</a>"
            ]
          },
          "metadata": {}
        },
        {
          "output_type": "display_data",
          "data": {
            "text/plain": [
              "<IPython.core.display.HTML object>"
            ],
            "text/html": [
              "Query job fc8471bd-6c4b-47d2-8f8a-e286f19139a3 is DONE. 1.2 MB processed. <a target=\"_blank\" href=\"https://console.cloud.google.com/bigquery?project=qwiklabs-gcp-00-7d81a74347ee&j=bq:US:fc8471bd-6c4b-47d2-8f8a-e286f19139a3&page=queryresults\">Open Job</a>"
            ]
          },
          "metadata": {}
        },
        {
          "output_type": "display_data",
          "data": {
            "text/plain": [
              "<IPython.core.display.HTML object>"
            ],
            "text/html": [
              "Query job 0343a279-e19a-40fc-8179-2add991d838a is DONE. 1.5 MB processed. <a target=\"_blank\" href=\"https://console.cloud.google.com/bigquery?project=qwiklabs-gcp-00-7d81a74347ee&j=bq:US:0343a279-e19a-40fc-8179-2add991d838a&page=queryresults\">Open Job</a>"
            ]
          },
          "metadata": {}
        },
        {
          "output_type": "execute_result",
          "data": {
            "text/plain": [
              "Text(0.5, 1.0, 'Attribute Grouped by K-means Cluster')"
            ]
          },
          "metadata": {},
          "execution_count": 44
        },
        {
          "output_type": "display_data",
          "data": {
            "text/plain": [
              "<Figure size 1491.61x700 with 1 Axes>"
            ],
            "image/png": "[encoded data removed]"
          },
          "metadata": {}
        }
      ]
    },
    {
      "cell_type": "markdown",
      "source": [
        "### Cluster Summary Statistics\n",
        "\n",
        "The visualization helped us see distinct clusters. Now let's generate some summary statistics around order recency, frequency, and spend by cluster."
      ],
      "metadata": {
        "id": "t1RNh1NqPpJ2"
      }
    },
    {
      "cell_type": "code",
      "source": [
        "query = \"\"\"\n",
        "SELECT\n",
        "  CONCAT('cluster ', CAST(centroid_id as STRING)) as centroid,\n",
        "  average_spend,\n",
        "  count_orders,\n",
        "  days_since_last_order\n",
        "FROM (\n",
        "  SELECT centroid_id, feature, ROUND(numerical_value, 2) as value\n",
        "  FROM ML.CENTROIDS(MODEL `{0}.{1}`)\n",
        ")\n",
        "PIVOT (\n",
        "  SUM(value)\n",
        "  FOR feature IN ('average_spend',  'count_orders', 'days_since_last_order')\n",
        ")\n",
        "ORDER BY centroid_id\n",
        "\"\"\".format(dataset_name, model_name)\n",
        "\n",
        "df_centroid = client.query(query).to_dataframe()\n",
        "df_centroid.head()"
      ],
      "metadata": {
        "id": "H2czyn5zPvhJ",
        "colab": {
          "base_uri": "https://localhost:8080/",
          "height": 206
        },
        "executionInfo": {
          "status": "ok",
          "timestamp": 1702324085990,
          "user_tz": 360,
          "elapsed": 1449,
          "user": {
            "displayName": "",
            "userId": ""
          }
        },
        "outputId": "114b0606-f888-4c3b-81a1-0e69b70f9ee7"
      },
      "execution_count": 45,
      "outputs": [
        {
          "output_type": "execute_result",
          "data": {
            "text/plain": [
              "    centroid  average_spend  count_orders  days_since_last_order\n",
              "0  cluster 1          47.52          1.34                 622.92\n",
              "1  cluster 2          66.79          1.55                 392.14\n",
              "2  cluster 3          33.54          1.17                 460.22\n",
              "3  cluster 4         214.24          1.27                 512.99\n",
              "4  cluster 5          55.17          3.82                 466.78"
            ],
            "text/html": [
              "\n",
              "  <div id=\"df-bf0d84f3-170a-4fd9-bb3f-9a83833e746b\" class=\"colab-df-container\">\n",
              "    <div>\n",
              "<style scoped>\n",
              "    .dataframe tbody tr th:only-of-type {\n",
              "        vertical-align: middle;\n",
              "    }\n",
              "\n",
              "    .dataframe tbody tr th {\n",
              "        vertical-align: top;\n",
              "    }\n",
              "\n",
              "    .dataframe thead th {\n",
              "        text-align: right;\n",
              "    }\n",
              "</style>\n",
              "<table border=\"1\" class=\"dataframe\">\n",
              "  <thead>\n",
              "    <tr style=\"text-align: right;\">\n",
              "      <th></th>\n",
              "      <th>centroid</th>\n",
              "      <th>average_spend</th>\n",
              "      <th>count_orders</th>\n",
              "      <th>days_since_last_order</th>\n",
              "    </tr>\n",
              "  </thead>\n",
              "  <tbody>\n",
              "    <tr>\n",
              "      <th>0</th>\n",
              "      <td>cluster 1</td>\n",
              "      <td>47.52</td>\n",
              "      <td>1.34</td>\n",
              "      <td>622.92</td>\n",
              "    </tr>\n",
              "    <tr>\n",
              "      <th>1</th>\n",
              "      <td>cluster 2</td>\n",
              "      <td>66.79</td>\n",
              "      <td>1.55</td>\n",
              "      <td>392.14</td>\n",
              "    </tr>\n",
              "    <tr>\n",
              "      <th>2</th>\n",
              "      <td>cluster 3</td>\n",
              "      <td>33.54</td>\n",
              "      <td>1.17</td>\n",
              "      <td>460.22</td>\n",
              "    </tr>\n",
              "    <tr>\n",
              "      <th>3</th>\n",
              "      <td>cluster 4</td>\n",
              "      <td>214.24</td>\n",
              "      <td>1.27</td>\n",
              "      <td>512.99</td>\n",
              "    </tr>\n",
              "    <tr>\n",
              "      <th>4</th>\n",
              "      <td>cluster 5</td>\n",
              "      <td>55.17</td>\n",
              "      <td>3.82</td>\n",
              "      <td>466.78</td>\n",
              "    </tr>\n",
              "  </tbody>\n",
              "</table>\n",
              "</div>\n",
              "    <div class=\"colab-df-buttons\">\n",
              "\n",
              "  <div class=\"colab-df-container\">\n",
              "    <button class=\"colab-df-convert\" onclick=\"convertToInteractive('df-bf0d84f3-170a-4fd9-bb3f-9a83833e746b')\"\n",
              "            title=\"Convert this dataframe to an interactive table.\"\n",
              "            style=\"display:none;\">\n",
              "\n",
              "  <svg xmlns=\"http://www.w3.org/2000/svg\" height=\"24px\" viewBox=\"0 -960 960 960\">\n",
              "    <path d=\"M120-120v-720h720v720H120Zm60-500h600v-160H180v160Zm220 220h160v-160H400v160Zm0 220h160v-160H400v160ZM180-400h160v-160H180v160Zm440 0h160v-160H620v160ZM180-180h160v-160H180v160Zm440 0h160v-160H620v160Z\"/>\n",
              "  </svg>\n",
              "    </button>\n",
              "\n",
              "  <style>\n",
              "    .colab-df-container {\n",
              "      display:flex;\n",
              "      gap: 12px;\n",
              "    }\n",
              "\n",
              "    .colab-df-convert {\n",
              "      background-color: #E8F0FE;\n",
              "      border: none;\n",
              "      border-radius: 50%;\n",
              "      cursor: pointer;\n",
              "      display: none;\n",
              "      fill: #1967D2;\n",
              "      height: 32px;\n",
              "      padding: 0 0 0 0;\n",
              "      width: 32px;\n",
              "    }\n",
              "\n",
              "    .colab-df-convert:hover {\n",
              "      background-color: #E2EBFA;\n",
              "      box-shadow: 0px 1px 2px rgba(60, 64, 67, 0.3), 0px 1px 3px 1px rgba(60, 64, 67, 0.15);\n",
              "      fill: #174EA6;\n",
              "    }\n",
              "\n",
              "    .colab-df-buttons div {\n",
              "      margin-bottom: 4px;\n",
              "    }\n",
              "\n",
              "    [theme=dark] .colab-df-convert {\n",
              "      background-color: #3B4455;\n",
              "      fill: #D2E3FC;\n",
              "    }\n",
              "\n",
              "    [theme=dark] .colab-df-convert:hover {\n",
              "      background-color: #434B5C;\n",
              "      box-shadow: 0px 1px 3px 1px rgba(0, 0, 0, 0.15);\n",
              "      filter: drop-shadow(0px 1px 2px rgba(0, 0, 0, 0.3));\n",
              "      fill: #FFFFFF;\n",
              "    }\n",
              "  </style>\n",
              "\n",
              "    <script>\n",
              "      const buttonEl =\n",
              "        document.querySelector('#df-bf0d84f3-170a-4fd9-bb3f-9a83833e746b button.colab-df-convert');\n",
              "      buttonEl.style.display =\n",
              "        google.colab.kernel.accessAllowed ? 'block' : 'none';\n",
              "\n",
              "      async function convertToInteractive(key) {\n",
              "        const element = document.querySelector('#df-bf0d84f3-170a-4fd9-bb3f-9a83833e746b');\n",
              "        const dataTable =\n",
              "          await google.colab.kernel.invokeFunction('convertToInteractive',\n",
              "                                                    [key], {});\n",
              "        if (!dataTable) return;\n",
              "\n",
              "        const docLinkHtml = 'Like what you see? Visit the ' +\n",
              "          '<a target=\"_blank\" href=https://colab.research.google.com/notebooks/data_table.ipynb>data table notebook</a>'\n",
              "          + ' to learn more about interactive tables.';\n",
              "        element.innerHTML = '';\n",
              "        dataTable['output_type'] = 'display_data';\n",
              "        await google.colab.output.renderOutput(dataTable, element);\n",
              "        const docLink = document.createElement('div');\n",
              "        docLink.innerHTML = docLinkHtml;\n",
              "        element.appendChild(docLink);\n",
              "      }\n",
              "    </script>\n",
              "  </div>\n",
              "\n",
              "\n",
              "<div id=\"df-b892821a-1540-40cd-8d33-52e13b06012f\">\n",
              "  <button class=\"colab-df-quickchart\" onclick=\"quickchart('df-b892821a-1540-40cd-8d33-52e13b06012f')\"\n",
              "            title=\"Suggest charts\"\n",
              "            style=\"display:none;\">\n",
              "\n",
              "<svg xmlns=\"http://www.w3.org/2000/svg\" height=\"24px\"viewBox=\"0 0 24 24\"\n",
              "     width=\"24px\">\n",
              "    <g>\n",
              "        <path d=\"M19 3H5c-1.1 0-2 .9-2 2v14c0 1.1.9 2 2 2h14c1.1 0 2-.9 2-2V5c0-1.1-.9-2-2-2zM9 17H7v-7h2v7zm4 0h-2V7h2v10zm4 0h-2v-4h2v4z\"/>\n",
              "    </g>\n",
              "</svg>\n",
              "  </button>\n",
              "\n",
              "<style>\n",
              "  .colab-df-quickchart {\n",
              "      --bg-color: #E8F0FE;\n",
              "      --fill-color: #1967D2;\n",
              "      --hover-bg-color: #E2EBFA;\n",
              "      --hover-fill-color: #174EA6;\n",
              "      --disabled-fill-color: #AAA;\n",
              "      --disabled-bg-color: #DDD;\n",
              "  }\n",
              "\n",
              "  [theme=dark] .colab-df-quickchart {\n",
              "      --bg-color: #3B4455;\n",
              "      --fill-color: #D2E3FC;\n",
              "      --hover-bg-color: #434B5C;\n",
              "      --hover-fill-color: #FFFFFF;\n",
              "      --disabled-bg-color: #3B4455;\n",
              "      --disabled-fill-color: #666;\n",
              "  }\n",
              "\n",
              "  .colab-df-quickchart {\n",
              "    background-color: var(--bg-color);\n",
              "    border: none;\n",
              "    border-radius: 50%;\n",
              "    cursor: pointer;\n",
              "    display: none;\n",
              "    fill: var(--fill-color);\n",
              "    height: 32px;\n",
              "    padding: 0;\n",
              "    width: 32px;\n",
              "  }\n",
              "\n",
              "  .colab-df-quickchart:hover {\n",
              "    background-color: var(--hover-bg-color);\n",
              "    box-shadow: 0 1px 2px rgba(60, 64, 67, 0.3), 0 1px 3px 1px rgba(60, 64, 67, 0.15);\n",
              "    fill: var(--button-hover-fill-color);\n",
              "  }\n",
              "\n",
              "  .colab-df-quickchart-complete:disabled,\n",
              "  .colab-df-quickchart-complete:disabled:hover {\n",
              "    background-color: var(--disabled-bg-color);\n",
              "    fill: var(--disabled-fill-color);\n",
              "    box-shadow: none;\n",
              "  }\n",
              "\n",
              "  .colab-df-spinner {\n",
              "    border: 2px solid var(--fill-color);\n",
              "    border-color: transparent;\n",
              "    border-bottom-color: var(--fill-color);\n",
              "    animation:\n",
              "      spin 1s steps(1) infinite;\n",
              "  }\n",
              "\n",
              "  @keyframes spin {\n",
              "    0% {\n",
              "      border-color: transparent;\n",
              "      border-bottom-color: var(--fill-color);\n",
              "      border-left-color: var(--fill-color);\n",
              "    }\n",
              "    20% {\n",
              "      border-color: transparent;\n",
              "      border-left-color: var(--fill-color);\n",
              "      border-top-color: var(--fill-color);\n",
              "    }\n",
              "    30% {\n",
              "      border-color: transparent;\n",
              "      border-left-color: var(--fill-color);\n",
              "      border-top-color: var(--fill-color);\n",
              "      border-right-color: var(--fill-color);\n",
              "    }\n",
              "    40% {\n",
              "      border-color: transparent;\n",
              "      border-right-color: var(--fill-color);\n",
              "      border-top-color: var(--fill-color);\n",
              "    }\n",
              "    60% {\n",
              "      border-color: transparent;\n",
              "      border-right-color: var(--fill-color);\n",
              "    }\n",
              "    80% {\n",
              "      border-color: transparent;\n",
              "      border-right-color: var(--fill-color);\n",
              "      border-bottom-color: var(--fill-color);\n",
              "    }\n",
              "    90% {\n",
              "      border-color: transparent;\n",
              "      border-bottom-color: var(--fill-color);\n",
              "    }\n",
              "  }\n",
              "</style>\n",
              "\n",
              "  <script>\n",
              "    async function quickchart(key) {\n",
              "      const quickchartButtonEl =\n",
              "        document.querySelector('#' + key + ' button');\n",
              "      quickchartButtonEl.disabled = true;  // To prevent multiple clicks.\n",
              "      quickchartButtonEl.classList.add('colab-df-spinner');\n",
              "      try {\n",
              "        const charts = await google.colab.kernel.invokeFunction(\n",
              "            'suggestCharts', [key], {});\n",
              "      } catch (error) {\n",
              "        console.error('Error during call to suggestCharts:', error);\n",
              "      }\n",
              "      quickchartButtonEl.classList.remove('colab-df-spinner');\n",
              "      quickchartButtonEl.classList.add('colab-df-quickchart-complete');\n",
              "    }\n",
              "    (() => {\n",
              "      let quickchartButtonEl =\n",
              "        document.querySelector('#df-b892821a-1540-40cd-8d33-52e13b06012f button');\n",
              "      quickchartButtonEl.style.display =\n",
              "        google.colab.kernel.accessAllowed ? 'block' : 'none';\n",
              "    })();\n",
              "  </script>\n",
              "</div>\n",
              "    </div>\n",
              "  </div>\n"
            ]
          },
          "metadata": {},
          "execution_count": 45
        }
      ]
    },
    {
      "cell_type": "markdown",
      "source": [
        "Whew! That's a lot of metrics and cluster info. How about we explain this to our colleagues using the magic of LLMs.\n",
        "\n",
        "Let's begin by creating a string with the summary statistics from the last cell."
      ],
      "metadata": {
        "id": "Xhha_o_qPwJY"
      }
    },
    {
      "cell_type": "code",
      "source": [
        "df = client.query(query).to_dataframe()\n",
        "df.to_string(header=False, index=False)\n",
        "\n",
        "cluster_info = []\n",
        "for i, row in df.iterrows():\n",
        "  cluster_info.append(\"{0}, average spend ${2}, count of orders per person {1}, days since last order {3}\"\n",
        "    .format(row[\"centroid\"], row[\"count_orders\"], row[\"average_spend\"], row[\"days_since_last_order\"]) )\n",
        "\n",
        "print(str.join(\"\\n\", cluster_info))"
      ],
      "metadata": {
        "id": "AWzyZUFdRQll",
        "colab": {
          "base_uri": "https://localhost:8080/"
        },
        "executionInfo": {
          "status": "ok",
          "timestamp": 1702324087348,
          "user_tz": 360,
          "elapsed": 1360,
          "user": {
            "displayName": "",
            "userId": ""
          }
        },
        "outputId": "640bbf92-1e82-46b8-a81d-8d7aed395c2e"
      },
      "execution_count": 46,
      "outputs": [
        {
          "output_type": "stream",
          "name": "stdout",
          "text": [
            "cluster 1, average spend $47.52, count of orders per person 1.34, days since last order 622.92\n",
            "cluster 2, average spend $66.79, count of orders per person 1.55, days since last order 392.14\n",
            "cluster 3, average spend $33.54, count of orders per person 1.17, days since last order 460.22\n",
            "cluster 4, average spend $214.24, count of orders per person 1.27, days since last order 512.99\n",
            "cluster 5, average spend $55.17, count of orders per person 3.82, days since last order 466.78\n"
          ]
        }
      ]
    },
    {
      "cell_type": "markdown",
      "source": [
        "# Generative AI : Explain with Vertex AI PaLM API\n",
        "\n",
        "Install the Python library to access Vertex AI Large Language Models."
      ],
      "metadata": {
        "id": "7Na0_rVVLhOk"
      }
    },
    {
      "cell_type": "code",
      "source": [
        "from google.cloud import aiplatform\n",
        "from vertexai.language_models._language_models import TextGenerationModel, ChatModel\n",
        "\n",
        "aiplatform.init(project=project_id, location=LOCATION)"
      ],
      "metadata": {
        "id": "4swYEG_iMmNU",
        "executionInfo": {
          "status": "ok",
          "timestamp": 1702324132797,
          "user_tz": 360,
          "elapsed": 45450,
          "user": {
            "displayName": "",
            "userId": ""
          }
        }
      },
      "execution_count": 47,
      "outputs": []
    },
    {
      "cell_type": "markdown",
      "source": [
        "For each cluster, ask the LLM to act as a brand strategist and generate the following:\n",
        "* Title\n",
        "* Persona\n",
        "* Next Marketing Step"
      ],
      "metadata": {
        "id": "tdoRB7RjLso6"
      }
    },
    {
      "cell_type": "code",
      "source": [
        "model = TextGenerationModel.from_pretrained(\"text-bison@001\")\n",
        "\n",
        "clusters = str.join(\"\\n\", cluster_info)\n",
        "\n",
        "prompt = f\"\"\"\n",
        "You're a creative brand strategist, given the following clusters, come up with \\\n",
        "creative brand persona, a catchy title, and next marketing action, \\\n",
        "explained step by step.\n",
        "\n",
        "Clusters:\n",
        "{clusters}\n",
        "\n",
        "For each Cluster:\n",
        "* Title:\n",
        "* Persona:\n",
        "* Next Marketing Step:\n",
        "\"\"\"\n",
        "\n",
        "print(model.predict(\n",
        "    prompt,\n",
        "    max_output_tokens=1024,\n",
        "    temperature=0.55,\n",
        "    top_p=0.8,\n",
        "    top_k=40,\n",
        "))"
      ],
      "metadata": {
        "id": "MYwQNH0ELu9y",
        "colab": {
          "base_uri": "https://localhost:8080/"
        },
        "executionInfo": {
          "status": "ok",
          "timestamp": 1702324136664,
          "user_tz": 360,
          "elapsed": 3888,
          "user": {
            "displayName": "",
            "userId": ""
          }
        },
        "outputId": "baa52d0e-6e86-4063-b10c-9c38f00238b1"
      },
      "execution_count": 48,
      "outputs": [
        {
          "output_type": "stream",
          "name": "stdout",
          "text": [
            "MultiCandidateTextGenerationResponse(text=\"### Cluster 1\\n\\n**Title:** The Casual Shopper\\n\\n**Persona:** This is someone who enjoys shopping for clothes and accessories, but doesn't want to spend a lot of money. They are typically young and trendy, and they are always looking for the latest deals.\\n\\n**Next Marketing Step:** Send this persona an email newsletter with a coupon for 20% off their next purchase. This will encourage them to shop more often and spend more money.\\n\\n### Cluster 2\\n\\n**Title:** The Luxury Shopper\\n\\n**Persona:** This is someone who enjoys shopping for high-end clothes and accessories. They are typically affluent and have a taste for the finer things in life.\\n\\n**Next Marketing Step:** Host a VIP event for this persona. This could include a private shopping experience, a fashion show, or a meet-and-greet with a celebrity designer. This will make them feel special and encourage them to spend more money.\\n\\n### Cluster 3\\n\\n**Title:** The Bargain Hunter\\n\\n**Persona:** This is someone who is always looking for a good deal. They are typically budget-minded and they are not afraid to shop around for the best prices.\\n\\n**Next Marketing Step:** Send this persona an email newsletter with a list of the latest sales and discounts. This will help them find the best deals on the clothes and accessories they want.\\n\\n### Cluster 4\\n\\n**Title:** The Impulsive Shopper\\n\\n**Persona:** This is someone who makes impulse purchases. They are typically not very good at planning their shopping trips, and they often end up buying more than they intended.\\n\\n**Next Marketing Step:** Place this persona's favorite products on the homepage of your website. This will make it more likely that they will see them and make an impulse purchase.\\n\\n### Cluster 5\\n\\n**Title:** The Loyal Shopper\\n\\n**Persona:** This is someone who is loyal to your brand. They are typically happy with the products and services you offer, and they are likely to continue shopping with you for years to come.\\n\\n**Next Marketing Step:** Send this persona a handwritten thank-you note. This will show them that you appreciate their business and it will encourage them to shop with you even more.\", _prediction_response=Prediction(predictions=[{'citationMetadata': {'citations': []}, 'safetyAttributes': {'categories': ['Derogatory', 'Finance', 'Health', 'Insult', 'Profanity', 'Religion & Belief', 'Sexual', 'Toxic'], 'safetyRatings': [{'severity': 'NEGLIGIBLE', 'probabilityScore': 0.0, 'category': 'Dangerous Content', 'severityScore': 0.1}, {'probabilityScore': 0.2, 'category': 'Harassment', 'severity': 'NEGLIGIBLE', 'severityScore': 0.1}, {'severityScore': 0.1, 'severity': 'NEGLIGIBLE', 'category': 'Hate Speech', 'probabilityScore': 0.2}, {'severityScore': 0.1, 'category': 'Sexually Explicit', 'severity': 'NEGLIGIBLE', 'probabilityScore': 0.2}], 'blocked': False, 'scores': [0.2, 0.6, 0.1, 0.2, 0.1, 0.5, 0.2, 0.1]}, 'content': \"### Cluster 1\\n\\n**Title:** The Casual Shopper\\n\\n**Persona:** This is someone who enjoys shopping for clothes and accessories, but doesn't want to spend a lot of money. They are typically young and trendy, and they are always looking for the latest deals.\\n\\n**Next Marketing Step:** Send this persona an email newsletter with a coupon for 20% off their next purchase. This will encourage them to shop more often and spend more money.\\n\\n### Cluster 2\\n\\n**Title:** The Luxury Shopper\\n\\n**Persona:** This is someone who enjoys shopping for high-end clothes and accessories. They are typically affluent and have a taste for the finer things in life.\\n\\n**Next Marketing Step:** Host a VIP event for this persona. This could include a private shopping experience, a fashion show, or a meet-and-greet with a celebrity designer. This will make them feel special and encourage them to spend more money.\\n\\n### Cluster 3\\n\\n**Title:** The Bargain Hunter\\n\\n**Persona:** This is someone who is always looking for a good deal. They are typically budget-minded and they are not afraid to shop around for the best prices.\\n\\n**Next Marketing Step:** Send this persona an email newsletter with a list of the latest sales and discounts. This will help them find the best deals on the clothes and accessories they want.\\n\\n### Cluster 4\\n\\n**Title:** The Impulsive Shopper\\n\\n**Persona:** This is someone who makes impulse purchases. They are typically not very good at planning their shopping trips, and they often end up buying more than they intended.\\n\\n**Next Marketing Step:** Place this persona's favorite products on the homepage of your website. This will make it more likely that they will see them and make an impulse purchase.\\n\\n### Cluster 5\\n\\n**Title:** The Loyal Shopper\\n\\n**Persona:** This is someone who is loyal to your brand. They are typically happy with the products and services you offer, and they are likely to continue shopping with you for years to come.\\n\\n**Next Marketing Step:** Send this persona a handwritten thank-you note. This will show them that you appreciate their business and it will encourage them to shop with you even more.\"}], deployed_model_id='', model_version_id='', model_resource_name='', explanations=None), is_blocked=False, errors=(), safety_attributes={'Derogatory': 0.2, 'Finance': 0.6, 'Health': 0.1, 'Insult': 0.2, 'Profanity': 0.1, 'Religion & Belief': 0.5, 'Sexual': 0.2, 'Toxic': 0.1}, grounding_metadata=GroundingMetadata(citations=[], search_queries=[]), candidates=[### Cluster 1\n",
            "\n",
            "**Title:** The Casual Shopper\n",
            "\n",
            "**Persona:** This is someone who enjoys shopping for clothes and accessories, but doesn't want to spend a lot of money. They are typically young and trendy, and they are always looking for the latest deals.\n",
            "\n",
            "**Next Marketing Step:** Send this persona an email newsletter with a coupon for 20% off their next purchase. This will encourage them to shop more often and spend more money.\n",
            "\n",
            "### Cluster 2\n",
            "\n",
            "**Title:** The Luxury Shopper\n",
            "\n",
            "**Persona:** This is someone who enjoys shopping for high-end clothes and accessories. They are typically affluent and have a taste for the finer things in life.\n",
            "\n",
            "**Next Marketing Step:** Host a VIP event for this persona. This could include a private shopping experience, a fashion show, or a meet-and-greet with a celebrity designer. This will make them feel special and encourage them to spend more money.\n",
            "\n",
            "### Cluster 3\n",
            "\n",
            "**Title:** The Bargain Hunter\n",
            "\n",
            "**Persona:** This is someone who is always looking for a good deal. They are typically budget-minded and they are not afraid to shop around for the best prices.\n",
            "\n",
            "**Next Marketing Step:** Send this persona an email newsletter with a list of the latest sales and discounts. This will help them find the best deals on the clothes and accessories they want.\n",
            "\n",
            "### Cluster 4\n",
            "\n",
            "**Title:** The Impulsive Shopper\n",
            "\n",
            "**Persona:** This is someone who makes impulse purchases. They are typically not very good at planning their shopping trips, and they often end up buying more than they intended.\n",
            "\n",
            "**Next Marketing Step:** Place this persona's favorite products on the homepage of your website. This will make it more likely that they will see them and make an impulse purchase.\n",
            "\n",
            "### Cluster 5\n",
            "\n",
            "**Title:** The Loyal Shopper\n",
            "\n",
            "**Persona:** This is someone who is loyal to your brand. They are typically happy with the products and services you offer, and they are likely to continue shopping with you for years to come.\n",
            "\n",
            "**Next Marketing Step:** Send this persona a handwritten thank-you note. This will show them that you appreciate their business and it will encourage them to shop with you even more.])\n"
          ]
        }
      ]
    },
    {
      "cell_type": "markdown",
      "source": [
        "**Voila! We've now used k-Means clustering to create groups of spenders and explain their profiles.**"
      ],
      "metadata": {
        "id": "jqC5uUguaunY"
      }
    },
    {
      "cell_type": "markdown",
      "source": [
        "\n",
        "\n",
        "---\n",
        "\n"
      ],
      "metadata": {
        "id": "oFVRAN2wckHC"
      }
    },
    {
      "cell_type": "markdown",
      "source": [
        "### BONUS #1: LLM Prompt Engineering\n",
        "\n",
        "Sometimes, though, you want a little bit extra.\n",
        "\n",
        "Think about using Generative AI to also generate personalized marketing emails using witty e-mail headline for marketing campaign targeted to their clusters of customers\n",
        "\n",
        "Reference: [Prompt Generation with Generative AI](https://cloud.google.com/blog/transform/prompt-debunking-five-generative-ai-misconceptions)."
      ],
      "metadata": {
        "id": "5HEVHGmmRyGW"
      }
    },
    {
      "cell_type": "code",
      "source": [
        "model = TextGenerationModel.from_pretrained(\"text-bison@001\")\n",
        "\n",
        "cluster_info = str.join('\\n', cluster_info)\n",
        "\n",
        "prompt = f\"\"\"\n",
        "Pretend you're a creative strategist, analyse the following clusters and come up with \\\n",
        "creative brand persona for each that includes the detail of which Taylor Swift song is \\\n",
        "likely to be their favorite, a summary of how this relates to their purchasing behavior, \\\n",
        "and a witty e-mail headline for marketing campaign targeted to their group using \\\n",
        "their predicted favorite song title.\n",
        "\n",
        "Clusters:\n",
        "{cluster_info}\n",
        "\n",
        "\n",
        "For each Cluster:\n",
        "* Cluster:\n",
        "* Interests:\n",
        "* Favorite Taylor Swift Song:\n",
        "* Witty email headline:\n",
        "* Email body:\n",
        "\n",
        "\"\"\"\n",
        "\n",
        "print(model.predict(\n",
        "    prompt,\n",
        "    max_output_tokens=1024,\n",
        "    temperature=0.45,\n",
        "    top_p=0.8, top_k=40,\n",
        "))"
      ],
      "metadata": {
        "id": "3HgwtN1tR3xQ",
        "colab": {
          "base_uri": "https://localhost:8080/"
        },
        "executionInfo": {
          "status": "ok",
          "timestamp": 1702324141807,
          "user_tz": 360,
          "elapsed": 5145,
          "user": {
            "displayName": "",
            "userId": ""
          }
        },
        "outputId": "6ca7c55e-fed7-446a-c2f2-e2656136f29d"
      },
      "execution_count": 49,
      "outputs": [
        {
          "output_type": "stream",
          "name": "stdout",
          "text": [
            "MultiCandidateTextGenerationResponse(text='**Cluster 1**\\n\\n* Interests: Fashion, beauty, home decor\\n* Favorite Taylor Swift Song: Style\\n* Witty email headline: \"You\\'ve got style, you\\'ve got grace, you\\'ve got everything that I need.\"\\n* Email body: \"We know you\\'re a fan of Taylor Swift, so we\\'re excited to offer you a special discount on our latest collection of stylish clothes, beauty products, and home decor. Shop now and get 20% off your entire order!\"\\n\\n**Cluster 2**\\n\\n* Interests: Music, movies, travel\\n* Favorite Taylor Swift Song: Love Story\\n* Witty email headline: \"We\\'re about to make your love story come true.\"\\n* Email body: \"We know you\\'re a fan of Taylor Swift\\'s love songs, so we\\'re excited to offer you a special discount on our latest collection of romantic movies, music, and travel packages. Shop now and find the perfect way to celebrate your love!\"\\n\\n**Cluster 3**\\n\\n* Interests: Food, cooking, pets\\n* Favorite Taylor Swift Song: Shake It Off\\n* Witty email headline: \"Shake it off and get ready for some fun!\"\\n* Email body: \"We know you\\'re a fan of Taylor Swift\\'s upbeat songs, so we\\'re excited to offer you a special discount on our latest collection of kitchen gadgets, cookbooks, and pet supplies. Shop now and get ready to have some fun in the kitchen and with your furry friends!\"\\n\\n**Cluster 4**\\n\\n* Interests: Luxury fashion, sports cars, fine dining\\n* Favorite Taylor Swift Song: Blank Space\\n* Witty email headline: \"You\\'re the only one for me.\"\\n* Email body: \"We know you\\'re a fan of Taylor Swift\\'s luxurious lifestyle, so we\\'re excited to offer you a special discount on our latest collection of designer clothes, sports cars, and fine dining experiences. Shop now and treat yourself to the best that life has to offer!\"\\n\\n**Cluster 5**\\n\\n* Interests: Family, friends, faith\\n* Favorite Taylor Swift Song: Love Story\\n* Witty email headline: \"Love is all you need.\"\\n* Email body: \"We know you\\'re a fan of Taylor Swift\\'s love songs, so we\\'re excited to offer you a special discount on our latest collection of books, movies, and music about love. Shop now and find the perfect way to celebrate the love in your life!\"', _prediction_response=Prediction(predictions=[{'content': '**Cluster 1**\\n\\n* Interests: Fashion, beauty, home decor\\n* Favorite Taylor Swift Song: Style\\n* Witty email headline: \"You\\'ve got style, you\\'ve got grace, you\\'ve got everything that I need.\"\\n* Email body: \"We know you\\'re a fan of Taylor Swift, so we\\'re excited to offer you a special discount on our latest collection of stylish clothes, beauty products, and home decor. Shop now and get 20% off your entire order!\"\\n\\n**Cluster 2**\\n\\n* Interests: Music, movies, travel\\n* Favorite Taylor Swift Song: Love Story\\n* Witty email headline: \"We\\'re about to make your love story come true.\"\\n* Email body: \"We know you\\'re a fan of Taylor Swift\\'s love songs, so we\\'re excited to offer you a special discount on our latest collection of romantic movies, music, and travel packages. Shop now and find the perfect way to celebrate your love!\"\\n\\n**Cluster 3**\\n\\n* Interests: Food, cooking, pets\\n* Favorite Taylor Swift Song: Shake It Off\\n* Witty email headline: \"Shake it off and get ready for some fun!\"\\n* Email body: \"We know you\\'re a fan of Taylor Swift\\'s upbeat songs, so we\\'re excited to offer you a special discount on our latest collection of kitchen gadgets, cookbooks, and pet supplies. Shop now and get ready to have some fun in the kitchen and with your furry friends!\"\\n\\n**Cluster 4**\\n\\n* Interests: Luxury fashion, sports cars, fine dining\\n* Favorite Taylor Swift Song: Blank Space\\n* Witty email headline: \"You\\'re the only one for me.\"\\n* Email body: \"We know you\\'re a fan of Taylor Swift\\'s luxurious lifestyle, so we\\'re excited to offer you a special discount on our latest collection of designer clothes, sports cars, and fine dining experiences. Shop now and treat yourself to the best that life has to offer!\"\\n\\n**Cluster 5**\\n\\n* Interests: Family, friends, faith\\n* Favorite Taylor Swift Song: Love Story\\n* Witty email headline: \"Love is all you need.\"\\n* Email body: \"We know you\\'re a fan of Taylor Swift\\'s love songs, so we\\'re excited to offer you a special discount on our latest collection of books, movies, and music about love. Shop now and find the perfect way to celebrate the love in your life!\"', 'safetyAttributes': {'blocked': False, 'safetyRatings': [{'severityScore': 0.1, 'severity': 'NEGLIGIBLE', 'probabilityScore': 0.0, 'category': 'Dangerous Content'}, {'probabilityScore': 0.1, 'severityScore': 0.0, 'severity': 'NEGLIGIBLE', 'category': 'Harassment'}, {'category': 'Hate Speech', 'probabilityScore': 0.1, 'severity': 'NEGLIGIBLE', 'severityScore': 0.0}, {'severityScore': 0.3, 'category': 'Sexually Explicit', 'probabilityScore': 0.8, 'severity': 'LOW'}], 'scores': [0.1, 0.2, 0.1, 0.1, 0.8, 0.1], 'categories': ['Derogatory', 'Health', 'Insult', 'Profanity', 'Sexual', 'Toxic']}, 'citationMetadata': {'citations': []}}], deployed_model_id='', model_version_id='', model_resource_name='', explanations=None), is_blocked=False, errors=(), safety_attributes={'Derogatory': 0.1, 'Health': 0.2, 'Insult': 0.1, 'Profanity': 0.1, 'Sexual': 0.8, 'Toxic': 0.1}, grounding_metadata=GroundingMetadata(citations=[], search_queries=[]), candidates=[**Cluster 1**\n",
            "\n",
            "* Interests: Fashion, beauty, home decor\n",
            "* Favorite Taylor Swift Song: Style\n",
            "* Witty email headline: \"You've got style, you've got grace, you've got everything that I need.\"\n",
            "* Email body: \"We know you're a fan of Taylor Swift, so we're excited to offer you a special discount on our latest collection of stylish clothes, beauty products, and home decor. Shop now and get 20% off your entire order!\"\n",
            "\n",
            "**Cluster 2**\n",
            "\n",
            "* Interests: Music, movies, travel\n",
            "* Favorite Taylor Swift Song: Love Story\n",
            "* Witty email headline: \"We're about to make your love story come true.\"\n",
            "* Email body: \"We know you're a fan of Taylor Swift's love songs, so we're excited to offer you a special discount on our latest collection of romantic movies, music, and travel packages. Shop now and find the perfect way to celebrate your love!\"\n",
            "\n",
            "**Cluster 3**\n",
            "\n",
            "* Interests: Food, cooking, pets\n",
            "* Favorite Taylor Swift Song: Shake It Off\n",
            "* Witty email headline: \"Shake it off and get ready for some fun!\"\n",
            "* Email body: \"We know you're a fan of Taylor Swift's upbeat songs, so we're excited to offer you a special discount on our latest collection of kitchen gadgets, cookbooks, and pet supplies. Shop now and get ready to have some fun in the kitchen and with your furry friends!\"\n",
            "\n",
            "**Cluster 4**\n",
            "\n",
            "* Interests: Luxury fashion, sports cars, fine dining\n",
            "* Favorite Taylor Swift Song: Blank Space\n",
            "* Witty email headline: \"You're the only one for me.\"\n",
            "* Email body: \"We know you're a fan of Taylor Swift's luxurious lifestyle, so we're excited to offer you a special discount on our latest collection of designer clothes, sports cars, and fine dining experiences. Shop now and treat yourself to the best that life has to offer!\"\n",
            "\n",
            "**Cluster 5**\n",
            "\n",
            "* Interests: Family, friends, faith\n",
            "* Favorite Taylor Swift Song: Love Story\n",
            "* Witty email headline: \"Love is all you need.\"\n",
            "* Email body: \"We know you're a fan of Taylor Swift's love songs, so we're excited to offer you a special discount on our latest collection of books, movies, and music about love. Shop now and find the perfect way to celebrate the love in your life!\"])\n"
          ]
        }
      ]
    },
    {
      "cell_type": "markdown",
      "source": [
        "#### BONUS #2: Generate Python in your Notebook\n",
        "\n",
        "If you have Duet AI enabled on your project, you can begin to generate Python directly within your Notebook:\n",
        "* Open a new Code cell\n",
        "* Click \"Generate with AI\"\n",
        "* Paste one of the prompts below and hit Enter\n",
        "* Generate Python code should appear in the cell\n"
      ],
      "metadata": {
        "id": "LT8lVXaCGDtK"
      }
    },
    {
      "cell_type": "code",
      "source": [
        "# prompt: 10 random numbers using numpy\n"
      ],
      "metadata": {
        "id": "zLFewJ8iGbLz",
        "executionInfo": {
          "status": "ok",
          "timestamp": 1702324141807,
          "user_tz": 360,
          "elapsed": 21,
          "user": {
            "displayName": "",
            "userId": ""
          }
        }
      },
      "execution_count": 50,
      "outputs": []
    },
    {
      "cell_type": "code",
      "source": [
        "# prompt: generate a bigframes dataframe from the table bigquery-public-data.thelook_ecommerce.order_items"
      ],
      "metadata": {
        "id": "ysTumh3TkcYU",
        "executionInfo": {
          "status": "ok",
          "timestamp": 1702324141807,
          "user_tz": 360,
          "elapsed": 20,
          "user": {
            "displayName": "",
            "userId": ""
          }
        }
      },
      "execution_count": 51,
      "outputs": []
    },
    {
      "cell_type": "code",
      "source": [
        "# prompt: write some sql that queries the table bigquery-public-data.thelook_ecommerce.order_items.  Don't use python. Use %%bigquery."
      ],
      "metadata": {
        "id": "b3J4r9FXmPfs",
        "executionInfo": {
          "status": "ok",
          "timestamp": 1702324141807,
          "user_tz": 360,
          "elapsed": 20,
          "user": {
            "displayName": "",
            "userId": ""
          }
        }
      },
      "execution_count": 52,
      "outputs": []
    }
  ]
}