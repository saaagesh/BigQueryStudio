{
  "nbformat": 4,
  "nbformat_minor": 0,
  "metadata": {
    "colab": {
      "provenance": []
    },
    "kernelspec": {
      "name": "python3",
      "display_name": "Python 3"
    },
    "language_info": {
      "name": "python"
    },
    "widgets": {
      "application/vnd.jupyter.widget-state+json": {
        "14e9407ce39442dbbf92c52e2a3f1b06": {
          "model_module": "@jupyter-widgets/controls",
          "model_name": "HBoxModel",
          "model_module_version": "1.5.0",
          "state": {
            "_dom_classes": [],
            "_model_module": "@jupyter-widgets/controls",
            "_model_module_version": "1.5.0",
            "_model_name": "HBoxModel",
            "_view_count": null,
            "_view_module": "@jupyter-widgets/controls",
            "_view_module_version": "1.5.0",
            "_view_name": "HBoxView",
            "box_style": "",
            "children": [
              "IPY_MODEL_e4f0f677674d4bd08c4ccd267ed9b2f0",
              "IPY_MODEL_4d1ecd0ccc6741f9bd4742a23f99d45f",
              "IPY_MODEL_1e3a5f275b1b42e5bce283bfc9d21e81"
            ],
            "layout": "IPY_MODEL_3db267e43c8a4e3c832bb47ceb23853b"
          }
        },
        "e4f0f677674d4bd08c4ccd267ed9b2f0": {
          "model_module": "@jupyter-widgets/controls",
          "model_name": "HTMLModel",
          "model_module_version": "1.5.0",
          "state": {
            "_dom_classes": [],
            "_model_module": "@jupyter-widgets/controls",
            "_model_module_version": "1.5.0",
            "_model_name": "HTMLModel",
            "_view_count": null,
            "_view_module": "@jupyter-widgets/controls",
            "_view_module_version": "1.5.0",
            "_view_name": "HTMLView",
            "description": "",
            "description_tooltip": null,
            "layout": "IPY_MODEL_ca42c57076af4dd18a5a957947c655e3",
            "placeholder": "​",
            "style": "IPY_MODEL_b4f15dd9a71c417a9657e58de394253a",
            "value": "Job ID c68eb6bc-102c-4ec3-b6fb-af05a62b63e7 successfully executed: 100%"
          }
        },
        "4d1ecd0ccc6741f9bd4742a23f99d45f": {
          "model_module": "@jupyter-widgets/controls",
          "model_name": "FloatProgressModel",
          "model_module_version": "1.5.0",
          "state": {
            "_dom_classes": [],
            "_model_module": "@jupyter-widgets/controls",
            "_model_module_version": "1.5.0",
            "_model_name": "FloatProgressModel",
            "_view_count": null,
            "_view_module": "@jupyter-widgets/controls",
            "_view_module_version": "1.5.0",
            "_view_name": "ProgressView",
            "bar_style": "success",
            "description": "",
            "description_tooltip": null,
            "layout": "IPY_MODEL_66d61b00e06a4fdc978721837e2f8e28",
            "max": 1,
            "min": 0,
            "orientation": "horizontal",
            "style": "IPY_MODEL_a5f7984e3d3148acb516f2004e012e21",
            "value": 1
          }
        },
        "1e3a5f275b1b42e5bce283bfc9d21e81": {
          "model_module": "@jupyter-widgets/controls",
          "model_name": "HTMLModel",
          "model_module_version": "1.5.0",
          "state": {
            "_dom_classes": [],
            "_model_module": "@jupyter-widgets/controls",
            "_model_module_version": "1.5.0",
            "_model_name": "HTMLModel",
            "_view_count": null,
            "_view_module": "@jupyter-widgets/controls",
            "_view_module_version": "1.5.0",
            "_view_name": "HTMLView",
            "description": "",
            "description_tooltip": null,
            "layout": "IPY_MODEL_a15dfa2d40b4441abeaec702658ac990",
            "placeholder": "​",
            "style": "IPY_MODEL_073fe04c15c941ffab75730f39651287",
            "value": ""
          }
        },
        "3db267e43c8a4e3c832bb47ceb23853b": {
          "model_module": "@jupyter-widgets/base",
          "model_name": "LayoutModel",
          "model_module_version": "1.2.0",
          "state": {
            "_model_module": "@jupyter-widgets/base",
            "_model_module_version": "1.2.0",
            "_model_name": "LayoutModel",
            "_view_count": null,
            "_view_module": "@jupyter-widgets/base",
            "_view_module_version": "1.2.0",
            "_view_name": "LayoutView",
            "align_content": null,
            "align_items": null,
            "align_self": null,
            "border": null,
            "bottom": null,
            "display": null,
            "flex": null,
            "flex_flow": null,
            "grid_area": null,
            "grid_auto_columns": null,
            "grid_auto_flow": null,
            "grid_auto_rows": null,
            "grid_column": null,
            "grid_gap": null,
            "grid_row": null,
            "grid_template_areas": null,
            "grid_template_columns": null,
            "grid_template_rows": null,
            "height": null,
            "justify_content": null,
            "justify_items": null,
            "left": null,
            "margin": null,
            "max_height": null,
            "max_width": null,
            "min_height": null,
            "min_width": null,
            "object_fit": null,
            "object_position": null,
            "order": null,
            "overflow": null,
            "overflow_x": null,
            "overflow_y": null,
            "padding": null,
            "right": null,
            "top": null,
            "visibility": null,
            "width": null
          }
        },
        "ca42c57076af4dd18a5a957947c655e3": {
          "model_module": "@jupyter-widgets/base",
          "model_name": "LayoutModel",
          "model_module_version": "1.2.0",
          "state": {
            "_model_module": "@jupyter-widgets/base",
            "_model_module_version": "1.2.0",
            "_model_name": "LayoutModel",
            "_view_count": null,
            "_view_module": "@jupyter-widgets/base",
            "_view_module_version": "1.2.0",
            "_view_name": "LayoutView",
            "align_content": null,
            "align_items": null,
            "align_self": null,
            "border": null,
            "bottom": null,
            "display": null,
            "flex": null,
            "flex_flow": null,
            "grid_area": null,
            "grid_auto_columns": null,
            "grid_auto_flow": null,
            "grid_auto_rows": null,
            "grid_column": null,
            "grid_gap": null,
            "grid_row": null,
            "grid_template_areas": null,
            "grid_template_columns": null,
            "grid_template_rows": null,
            "height": null,
            "justify_content": null,
            "justify_items": null,
            "left": null,
            "margin": null,
            "max_height": null,
            "max_width": null,
            "min_height": null,
            "min_width": null,
            "object_fit": null,
            "object_position": null,
            "order": null,
            "overflow": null,
            "overflow_x": null,
            "overflow_y": null,
            "padding": null,
            "right": null,
            "top": null,
            "visibility": null,
            "width": null
          }
        },
        "b4f15dd9a71c417a9657e58de394253a": {
          "model_module": "@jupyter-widgets/controls",
          "model_name": "DescriptionStyleModel",
          "model_module_version": "1.5.0",
          "state": {
            "_model_module": "@jupyter-widgets/controls",
            "_model_module_version": "1.5.0",
            "_model_name": "DescriptionStyleModel",
            "_view_count": null,
            "_view_module": "@jupyter-widgets/base",
            "_view_module_version": "1.2.0",
            "_view_name": "StyleView",
            "description_width": ""
          }
        },
        "66d61b00e06a4fdc978721837e2f8e28": {
          "model_module": "@jupyter-widgets/base",
          "model_name": "LayoutModel",
          "model_module_version": "1.2.0",
          "state": {
            "_model_module": "@jupyter-widgets/base",
            "_model_module_version": "1.2.0",
            "_model_name": "LayoutModel",
            "_view_count": null,
            "_view_module": "@jupyter-widgets/base",
            "_view_module_version": "1.2.0",
            "_view_name": "LayoutView",
            "align_content": null,
            "align_items": null,
            "align_self": null,
            "border": null,
            "bottom": null,
            "display": null,
            "flex": null,
            "flex_flow": null,
            "grid_area": null,
            "grid_auto_columns": null,
            "grid_auto_flow": null,
            "grid_auto_rows": null,
            "grid_column": null,
            "grid_gap": null,
            "grid_row": null,
            "grid_template_areas": null,
            "grid_template_columns": null,
            "grid_template_rows": null,
            "height": null,
            "justify_content": null,
            "justify_items": null,
            "left": null,
            "margin": null,
            "max_height": null,
            "max_width": null,
            "min_height": null,
            "min_width": null,
            "object_fit": null,
            "object_position": null,
            "order": null,
            "overflow": null,
            "overflow_x": null,
            "overflow_y": null,
            "padding": null,
            "right": null,
            "top": null,
            "visibility": null,
            "width": null
          }
        },
        "a5f7984e3d3148acb516f2004e012e21": {
          "model_module": "@jupyter-widgets/controls",
          "model_name": "ProgressStyleModel",
          "model_module_version": "1.5.0",
          "state": {
            "_model_module": "@jupyter-widgets/controls",
            "_model_module_version": "1.5.0",
            "_model_name": "ProgressStyleModel",
            "_view_count": null,
            "_view_module": "@jupyter-widgets/base",
            "_view_module_version": "1.2.0",
            "_view_name": "StyleView",
            "bar_color": null,
            "description_width": ""
          }
        },
        "a15dfa2d40b4441abeaec702658ac990": {
          "model_module": "@jupyter-widgets/base",
          "model_name": "LayoutModel",
          "model_module_version": "1.2.0",
          "state": {
            "_model_module": "@jupyter-widgets/base",
            "_model_module_version": "1.2.0",
            "_model_name": "LayoutModel",
            "_view_count": null,
            "_view_module": "@jupyter-widgets/base",
            "_view_module_version": "1.2.0",
            "_view_name": "LayoutView",
            "align_content": null,
            "align_items": null,
            "align_self": null,
            "border": null,
            "bottom": null,
            "display": null,
            "flex": null,
            "flex_flow": null,
            "grid_area": null,
            "grid_auto_columns": null,
            "grid_auto_flow": null,
            "grid_auto_rows": null,
            "grid_column": null,
            "grid_gap": null,
            "grid_row": null,
            "grid_template_areas": null,
            "grid_template_columns": null,
            "grid_template_rows": null,
            "height": null,
            "justify_content": null,
            "justify_items": null,
            "left": null,
            "margin": null,
            "max_height": null,
            "max_width": null,
            "min_height": null,
            "min_width": null,
            "object_fit": null,
            "object_position": null,
            "order": null,
            "overflow": null,
            "overflow_x": null,
            "overflow_y": null,
            "padding": null,
            "right": null,
            "top": null,
            "visibility": null,
            "width": null
          }
        },
        "073fe04c15c941ffab75730f39651287": {
          "model_module": "@jupyter-widgets/controls",
          "model_name": "DescriptionStyleModel",
          "model_module_version": "1.5.0",
          "state": {
            "_model_module": "@jupyter-widgets/controls",
            "_model_module_version": "1.5.0",
            "_model_name": "DescriptionStyleModel",
            "_view_count": null,
            "_view_module": "@jupyter-widgets/base",
            "_view_module_version": "1.2.0",
            "_view_name": "StyleView",
            "description_width": ""
          }
        },
        "140f58464564449f8818e36c6337ade9": {
          "model_module": "@jupyter-widgets/controls",
          "model_name": "HBoxModel",
          "model_module_version": "1.5.0",
          "state": {
            "_dom_classes": [],
            "_model_module": "@jupyter-widgets/controls",
            "_model_module_version": "1.5.0",
            "_model_name": "HBoxModel",
            "_view_count": null,
            "_view_module": "@jupyter-widgets/controls",
            "_view_module_version": "1.5.0",
            "_view_name": "HBoxView",
            "box_style": "",
            "children": [
              "IPY_MODEL_f43c9d1f944944759c61cd05707abcef",
              "IPY_MODEL_8278a90e446e45aca722ef770e8914a3",
              "IPY_MODEL_ddf7145affa14f3a8861eeccdd42607f"
            ],
            "layout": "IPY_MODEL_3d4cc011bf694095bd398d07e5a6d0c0"
          }
        },
        "f43c9d1f944944759c61cd05707abcef": {
          "model_module": "@jupyter-widgets/controls",
          "model_name": "HTMLModel",
          "model_module_version": "1.5.0",
          "state": {
            "_dom_classes": [],
            "_model_module": "@jupyter-widgets/controls",
            "_model_module_version": "1.5.0",
            "_model_name": "HTMLModel",
            "_view_count": null,
            "_view_module": "@jupyter-widgets/controls",
            "_view_module_version": "1.5.0",
            "_view_name": "HTMLView",
            "description": "",
            "description_tooltip": null,
            "layout": "IPY_MODEL_3fd685e3c5b240e9a70d59f8cd74a9f7",
            "placeholder": "​",
            "style": "IPY_MODEL_70ddd1742059426d9ee973346a00f051",
            "value": "Downloading: 100%"
          }
        },
        "8278a90e446e45aca722ef770e8914a3": {
          "model_module": "@jupyter-widgets/controls",
          "model_name": "FloatProgressModel",
          "model_module_version": "1.5.0",
          "state": {
            "_dom_classes": [],
            "_model_module": "@jupyter-widgets/controls",
            "_model_module_version": "1.5.0",
            "_model_name": "FloatProgressModel",
            "_view_count": null,
            "_view_module": "@jupyter-widgets/controls",
            "_view_module_version": "1.5.0",
            "_view_name": "ProgressView",
            "bar_style": "success",
            "description": "",
            "description_tooltip": null,
            "layout": "IPY_MODEL_e276e151f7034215820ccd89d48e8291",
            "max": 45573,
            "min": 0,
            "orientation": "horizontal",
            "style": "IPY_MODEL_518eb1c6e7d34e7aa0a7cbebaa0e212b",
            "value": 45573
          }
        },
        "ddf7145affa14f3a8861eeccdd42607f": {
          "model_module": "@jupyter-widgets/controls",
          "model_name": "HTMLModel",
          "model_module_version": "1.5.0",
          "state": {
            "_dom_classes": [],
            "_model_module": "@jupyter-widgets/controls",
            "_model_module_version": "1.5.0",
            "_model_name": "HTMLModel",
            "_view_count": null,
            "_view_module": "@jupyter-widgets/controls",
            "_view_module_version": "1.5.0",
            "_view_name": "HTMLView",
            "description": "",
            "description_tooltip": null,
            "layout": "IPY_MODEL_5c1dae6d109745e7bf9bb2f947030efc",
            "placeholder": "​",
            "style": "IPY_MODEL_90dbcd00acae4f56989c1f81de877951",
            "value": ""
          }
        },
        "3d4cc011bf694095bd398d07e5a6d0c0": {
          "model_module": "@jupyter-widgets/base",
          "model_name": "LayoutModel",
          "model_module_version": "1.2.0",
          "state": {
            "_model_module": "@jupyter-widgets/base",
            "_model_module_version": "1.2.0",
            "_model_name": "LayoutModel",
            "_view_count": null,
            "_view_module": "@jupyter-widgets/base",
            "_view_module_version": "1.2.0",
            "_view_name": "LayoutView",
            "align_content": null,
            "align_items": null,
            "align_self": null,
            "border": null,
            "bottom": null,
            "display": null,
            "flex": null,
            "flex_flow": null,
            "grid_area": null,
            "grid_auto_columns": null,
            "grid_auto_flow": null,
            "grid_auto_rows": null,
            "grid_column": null,
            "grid_gap": null,
            "grid_row": null,
            "grid_template_areas": null,
            "grid_template_columns": null,
            "grid_template_rows": null,
            "height": null,
            "justify_content": null,
            "justify_items": null,
            "left": null,
            "margin": null,
            "max_height": null,
            "max_width": null,
            "min_height": null,
            "min_width": null,
            "object_fit": null,
            "object_position": null,
            "order": null,
            "overflow": null,
            "overflow_x": null,
            "overflow_y": null,
            "padding": null,
            "right": null,
            "top": null,
            "visibility": null,
            "width": null
          }
        },
        "3fd685e3c5b240e9a70d59f8cd74a9f7": {
          "model_module": "@jupyter-widgets/base",
          "model_name": "LayoutModel",
          "model_module_version": "1.2.0",
          "state": {
            "_model_module": "@jupyter-widgets/base",
            "_model_module_version": "1.2.0",
            "_model_name": "LayoutModel",
            "_view_count": null,
            "_view_module": "@jupyter-widgets/base",
            "_view_module_version": "1.2.0",
            "_view_name": "LayoutView",
            "align_content": null,
            "align_items": null,
            "align_self": null,
            "border": null,
            "bottom": null,
            "display": null,
            "flex": null,
            "flex_flow": null,
            "grid_area": null,
            "grid_auto_columns": null,
            "grid_auto_flow": null,
            "grid_auto_rows": null,
            "grid_column": null,
            "grid_gap": null,
            "grid_row": null,
            "grid_template_areas": null,
            "grid_template_columns": null,
            "grid_template_rows": null,
            "height": null,
            "justify_content": null,
            "justify_items": null,
            "left": null,
            "margin": null,
            "max_height": null,
            "max_width": null,
            "min_height": null,
            "min_width": null,
            "object_fit": null,
            "object_position": null,
            "order": null,
            "overflow": null,
            "overflow_x": null,
            "overflow_y": null,
            "padding": null,
            "right": null,
            "top": null,
            "visibility": null,
            "width": null
          }
        },
        "70ddd1742059426d9ee973346a00f051": {
          "model_module": "@jupyter-widgets/controls",
          "model_name": "DescriptionStyleModel",
          "model_module_version": "1.5.0",
          "state": {
            "_model_module": "@jupyter-widgets/controls",
            "_model_module_version": "1.5.0",
            "_model_name": "DescriptionStyleModel",
            "_view_count": null,
            "_view_module": "@jupyter-widgets/base",
            "_view_module_version": "1.2.0",
            "_view_name": "StyleView",
            "description_width": ""
          }
        },
        "e276e151f7034215820ccd89d48e8291": {
          "model_module": "@jupyter-widgets/base",
          "model_name": "LayoutModel",
          "model_module_version": "1.2.0",
          "state": {
            "_model_module": "@jupyter-widgets/base",
            "_model_module_version": "1.2.0",
            "_model_name": "LayoutModel",
            "_view_count": null,
            "_view_module": "@jupyter-widgets/base",
            "_view_module_version": "1.2.0",
            "_view_name": "LayoutView",
            "align_content": null,
            "align_items": null,
            "align_self": null,
            "border": null,
            "bottom": null,
            "display": null,
            "flex": null,
            "flex_flow": null,
            "grid_area": null,
            "grid_auto_columns": null,
            "grid_auto_flow": null,
            "grid_auto_rows": null,
            "grid_column": null,
            "grid_gap": null,
            "grid_row": null,
            "grid_template_areas": null,
            "grid_template_columns": null,
            "grid_template_rows": null,
            "height": null,
            "justify_content": null,
            "justify_items": null,
            "left": null,
            "margin": null,
            "max_height": null,
            "max_width": null,
            "min_height": null,
            "min_width": null,
            "object_fit": null,
            "object_position": null,
            "order": null,
            "overflow": null,
            "overflow_x": null,
            "overflow_y": null,
            "padding": null,
            "right": null,
            "top": null,
            "visibility": null,
            "width": null
          }
        },
        "518eb1c6e7d34e7aa0a7cbebaa0e212b": {
          "model_module": "@jupyter-widgets/controls",
          "model_name": "ProgressStyleModel",
          "model_module_version": "1.5.0",
          "state": {
            "_model_module": "@jupyter-widgets/controls",
            "_model_module_version": "1.5.0",
            "_model_name": "ProgressStyleModel",
            "_view_count": null,
            "_view_module": "@jupyter-widgets/base",
            "_view_module_version": "1.2.0",
            "_view_name": "StyleView",
            "bar_color": null,
            "description_width": ""
          }
        },
        "5c1dae6d109745e7bf9bb2f947030efc": {
          "model_module": "@jupyter-widgets/base",
          "model_name": "LayoutModel",
          "model_module_version": "1.2.0",
          "state": {
            "_model_module": "@jupyter-widgets/base",
            "_model_module_version": "1.2.0",
            "_model_name": "LayoutModel",
            "_view_count": null,
            "_view_module": "@jupyter-widgets/base",
            "_view_module_version": "1.2.0",
            "_view_name": "LayoutView",
            "align_content": null,
            "align_items": null,
            "align_self": null,
            "border": null,
            "bottom": null,
            "display": null,
            "flex": null,
            "flex_flow": null,
            "grid_area": null,
            "grid_auto_columns": null,
            "grid_auto_flow": null,
            "grid_auto_rows": null,
            "grid_column": null,
            "grid_gap": null,
            "grid_row": null,
            "grid_template_areas": null,
            "grid_template_columns": null,
            "grid_template_rows": null,
            "height": null,
            "justify_content": null,
            "justify_items": null,
            "left": null,
            "margin": null,
            "max_height": null,
            "max_width": null,
            "min_height": null,
            "min_width": null,
            "object_fit": null,
            "object_position": null,
            "order": null,
            "overflow": null,
            "overflow_x": null,
            "overflow_y": null,
            "padding": null,
            "right": null,
            "top": null,
            "visibility": null,
            "width": null
          }
        },
        "90dbcd00acae4f56989c1f81de877951": {
          "model_module": "@jupyter-widgets/controls",
          "model_name": "DescriptionStyleModel",
          "model_module_version": "1.5.0",
          "state": {
            "_model_module": "@jupyter-widgets/controls",
            "_model_module_version": "1.5.0",
            "_model_name": "DescriptionStyleModel",
            "_view_count": null,
            "_view_module": "@jupyter-widgets/base",
            "_view_module_version": "1.2.0",
            "_view_name": "StyleView",
            "description_width": ""
          }
        }
      }
    }
  },
  "cells": [
    {
      "cell_type": "markdown",
      "source": [
        "# BigQuery Studio Notebook Tutorial to Generate customer clusters followed by a Marketing Campaign\n",
        "\n",
        "## Overview:\n",
        "\n",
        "**BigQuery Studio** provides a single, unified interface for all data practitioners of various coding skills to simplify analytics workflows from data preparation to data exploration and visualization to machine learning (ML) model creation and use.\n",
        "\n",
        "Within the BigQuery Studio workspace, users find a SQL and a Colab notebook interface, an AI-powered collaborator for contextual chat and code assistance as well as source control to analytics assets including SQL scripts, Python scripts, notebooks and SQL pipelines\n",
        "\n",
        "**BigQuery DataFrames** provides a Pythonic DataFrame and ML API powered by the BigQuery engine. The operations happen in BigQuery at scale.\n",
        "\n",
        "*   [bigframes.pandas](https://cloud.google.com/python/docs/reference/bigframes/latest/bigframes.dataframe.DataFrame) provides a pandas-compatible API for analytics.\n",
        "*   [bigframes.ml](https://cloud.google.com/python/docs/reference/bigframes/latest/bigframes.ml.cluster) provides a scikit-learn-like API for ML.\n",
        "*   [bigframes.ml.llm](https://cloud.google.com/python/docs/reference/bigframes/latest/bigframes.ml.llm) provides LLM capabilities.\n",
        "\n",
        "BigQuery DataFrames is an open-source Python package. It is pre-installed on  BigQuery Studio Python notebooks.  Additionally, you can always run `pip install --upgrade bigframes` to install the latest version.\n",
        "\n",
        "\n",
        "\n",
        "## Objectives:\n",
        "\n",
        "This example illustrates the Data to AI journey from data exploration to constructing a k-means machine learning model with BigFrames. Subsequently, Generative AI is applied to leverage cluster information to activate marketing campaigns.\n",
        "\n",
        "In this lab activity, you will:\n",
        "\n",
        "* Generate features using BigQuerySQL\n",
        "* Perform basic data exploration\n",
        "* Implement a k-means clustering model with BigFrames\n",
        "* Produce cluster descriptive statistics\n",
        "* Utilize Generative AI to articulate ML model outputs in natural language for business users\n",
        "* (Bonus) Use Generative AI to craft engaging emails tailored to customer segments.\n",
        "\n",
        "\n",
        "\n",
        "\n",
        "###Helpful Links\n",
        "\n",
        "* [BigFrames API Reference](https://cloud.google.com/python/docs/reference/bigframes/latest)\n",
        "\n",
        "\n",
        "* [BigFrames GitHub page with sample notebooks](https://github.com/googleapis/python-bigquery-dataframes)\n",
        "\n",
        "* [Troubleshooting notebook runtimes](https://cloud.google.com/colab/docs/troubleshooting)\n"
      ],
      "metadata": {
        "id": "Sxq-V_jV4gEk"
      }
    },
    {
      "cell_type": "markdown",
      "source": [
        "## Getting Started : Setup Steps\n",
        "\n",
        "Importing basic libraries, including authenticating the user"
      ],
      "metadata": {
        "id": "mjedECz750Sl"
      }
    },
    {
      "cell_type": "markdown",
      "source": [
        "## Install Vertex AI SDK\n",
        "Restart the kernel after the initial install"
      ],
      "metadata": {
        "id": "Hlvvzvo9rxED"
      }
    },
    {
      "cell_type": "code",
      "source": [
        "!pip install google-cloud-aiplatform --upgrade --user"
      ],
      "metadata": {
        "id": "PfTEYGczLj2n",
        "colab": {
          "base_uri": "https://localhost:8080/"
        },
        "executionInfo": {
          "status": "ok",
          "timestamp": 1701795434785,
          "user_tz": 360,
          "elapsed": 16783,
          "user": {
            "displayName": "",
            "userId": ""
          }
        },
        "outputId": "b6246b1f-2058-4dc9-83a6-116795873fb2"
      },
      "execution_count": 1,
      "outputs": [
        {
          "output_type": "stream",
          "name": "stdout",
          "text": [
            "Requirement already satisfied: google-cloud-aiplatform in /usr/local/lib/python3.10/dist-packages (1.36.4)\n",
            "Requirement already satisfied: google-api-core[grpc]!=2.0.*,!=2.1.*,!=2.2.*,!=2.3.*,!=2.4.*,!=2.5.*,!=2.6.*,!=2.7.*,<3.0.0dev,>=1.32.0 in /usr/local/lib/python3.10/dist-packages (from google-cloud-aiplatform) (2.11.1)\n",
            "Requirement already satisfied: proto-plus<2.0.0dev,>=1.22.0 in /usr/local/lib/python3.10/dist-packages (from google-cloud-aiplatform) (1.22.3)\n",
            "Requirement already satisfied: protobuf!=3.20.0,!=3.20.1,!=4.21.0,!=4.21.1,!=4.21.2,!=4.21.3,!=4.21.4,!=4.21.5,<5.0.0dev,>=3.19.5 in /usr/local/lib/python3.10/dist-packages (from google-cloud-aiplatform) (3.20.3)\n",
            "Requirement already satisfied: packaging>=14.3 in /usr/local/lib/python3.10/dist-packages (from google-cloud-aiplatform) (23.2)\n",
            "Requirement already satisfied: google-cloud-storage<3.0.0dev,>=1.32.0 in /usr/local/lib/python3.10/dist-packages (from google-cloud-aiplatform) (2.8.0)\n",
            "Requirement already satisfied: google-cloud-bigquery<4.0.0dev,>=1.15.0 in /usr/local/lib/python3.10/dist-packages (from google-cloud-aiplatform) (3.12.0)\n",
            "Requirement already satisfied: google-cloud-resource-manager<3.0.0dev,>=1.3.3 in /usr/local/lib/python3.10/dist-packages (from google-cloud-aiplatform) (1.10.4)\n",
            "Requirement already satisfied: shapely<3.0.0dev in /usr/local/lib/python3.10/dist-packages (from google-cloud-aiplatform) (2.0.2)\n",
            "Requirement already satisfied: googleapis-common-protos<2.0.dev0,>=1.56.2 in /usr/local/lib/python3.10/dist-packages (from google-api-core[grpc]!=2.0.*,!=2.1.*,!=2.2.*,!=2.3.*,!=2.4.*,!=2.5.*,!=2.6.*,!=2.7.*,<3.0.0dev,>=1.32.0->google-cloud-aiplatform) (1.61.0)\n",
            "Requirement already satisfied: google-auth<3.0.dev0,>=2.14.1 in /usr/local/lib/python3.10/dist-packages (from google-api-core[grpc]!=2.0.*,!=2.1.*,!=2.2.*,!=2.3.*,!=2.4.*,!=2.5.*,!=2.6.*,!=2.7.*,<3.0.0dev,>=1.32.0->google-cloud-aiplatform) (2.17.3)\n",
            "Requirement already satisfied: requests<3.0.0.dev0,>=2.18.0 in /usr/local/lib/python3.10/dist-packages (from google-api-core[grpc]!=2.0.*,!=2.1.*,!=2.2.*,!=2.3.*,!=2.4.*,!=2.5.*,!=2.6.*,!=2.7.*,<3.0.0dev,>=1.32.0->google-cloud-aiplatform) (2.31.0)\n",
            "Requirement already satisfied: grpcio<2.0dev,>=1.33.2 in /usr/local/lib/python3.10/dist-packages (from google-api-core[grpc]!=2.0.*,!=2.1.*,!=2.2.*,!=2.3.*,!=2.4.*,!=2.5.*,!=2.6.*,!=2.7.*,<3.0.0dev,>=1.32.0->google-cloud-aiplatform) (1.51.3)\n",
            "Requirement already satisfied: grpcio-status<2.0.dev0,>=1.33.2 in /usr/local/lib/python3.10/dist-packages (from google-api-core[grpc]!=2.0.*,!=2.1.*,!=2.2.*,!=2.3.*,!=2.4.*,!=2.5.*,!=2.6.*,!=2.7.*,<3.0.0dev,>=1.32.0->google-cloud-aiplatform) (1.48.2)\n",
            "Requirement already satisfied: google-cloud-core<3.0.0dev,>=1.6.0 in /usr/local/lib/python3.10/dist-packages (from google-cloud-bigquery<4.0.0dev,>=1.15.0->google-cloud-aiplatform) (2.3.3)\n",
            "Requirement already satisfied: google-resumable-media<3.0dev,>=0.6.0 in /usr/local/lib/python3.10/dist-packages (from google-cloud-bigquery<4.0.0dev,>=1.15.0->google-cloud-aiplatform) (2.6.0)\n",
            "Requirement already satisfied: python-dateutil<3.0dev,>=2.7.2 in /usr/local/lib/python3.10/dist-packages (from google-cloud-bigquery<4.0.0dev,>=1.15.0->google-cloud-aiplatform) (2.8.2)\n",
            "Requirement already satisfied: grpc-google-iam-v1<1.0.0dev,>=0.12.4 in /usr/local/lib/python3.10/dist-packages (from google-cloud-resource-manager<3.0.0dev,>=1.3.3->google-cloud-aiplatform) (0.12.7)\n",
            "Requirement already satisfied: numpy>=1.14 in /usr/local/lib/python3.10/dist-packages (from shapely<3.0.0dev->google-cloud-aiplatform) (1.23.5)\n",
            "Requirement already satisfied: cachetools<6.0,>=2.0.0 in /usr/local/lib/python3.10/dist-packages (from google-auth<3.0.dev0,>=2.14.1->google-api-core[grpc]!=2.0.*,!=2.1.*,!=2.2.*,!=2.3.*,!=2.4.*,!=2.5.*,!=2.6.*,!=2.7.*,<3.0.0dev,>=1.32.0->google-cloud-aiplatform) (5.3.2)\n",
            "Requirement already satisfied: pyasn1-modules>=0.2.1 in /usr/local/lib/python3.10/dist-packages (from google-auth<3.0.dev0,>=2.14.1->google-api-core[grpc]!=2.0.*,!=2.1.*,!=2.2.*,!=2.3.*,!=2.4.*,!=2.5.*,!=2.6.*,!=2.7.*,<3.0.0dev,>=1.32.0->google-cloud-aiplatform) (0.3.0)\n",
            "Requirement already satisfied: six>=1.9.0 in /usr/local/lib/python3.10/dist-packages (from google-auth<3.0.dev0,>=2.14.1->google-api-core[grpc]!=2.0.*,!=2.1.*,!=2.2.*,!=2.3.*,!=2.4.*,!=2.5.*,!=2.6.*,!=2.7.*,<3.0.0dev,>=1.32.0->google-cloud-aiplatform) (1.16.0)\n",
            "Requirement already satisfied: rsa<5,>=3.1.4 in /usr/local/lib/python3.10/dist-packages (from google-auth<3.0.dev0,>=2.14.1->google-api-core[grpc]!=2.0.*,!=2.1.*,!=2.2.*,!=2.3.*,!=2.4.*,!=2.5.*,!=2.6.*,!=2.7.*,<3.0.0dev,>=1.32.0->google-cloud-aiplatform) (4.9)\n",
            "Requirement already satisfied: google-crc32c<2.0dev,>=1.0 in /usr/local/lib/python3.10/dist-packages (from google-resumable-media<3.0dev,>=0.6.0->google-cloud-bigquery<4.0.0dev,>=1.15.0->google-cloud-aiplatform) (1.5.0)\n",
            "Requirement already satisfied: charset-normalizer<4,>=2 in /usr/local/lib/python3.10/dist-packages (from requests<3.0.0.dev0,>=2.18.0->google-api-core[grpc]!=2.0.*,!=2.1.*,!=2.2.*,!=2.3.*,!=2.4.*,!=2.5.*,!=2.6.*,!=2.7.*,<3.0.0dev,>=1.32.0->google-cloud-aiplatform) (3.3.2)\n",
            "Requirement already satisfied: idna<4,>=2.5 in /usr/local/lib/python3.10/dist-packages (from requests<3.0.0.dev0,>=2.18.0->google-api-core[grpc]!=2.0.*,!=2.1.*,!=2.2.*,!=2.3.*,!=2.4.*,!=2.5.*,!=2.6.*,!=2.7.*,<3.0.0dev,>=1.32.0->google-cloud-aiplatform) (3.4)\n",
            "Requirement already satisfied: urllib3<3,>=1.21.1 in /usr/local/lib/python3.10/dist-packages (from requests<3.0.0.dev0,>=2.18.0->google-api-core[grpc]!=2.0.*,!=2.1.*,!=2.2.*,!=2.3.*,!=2.4.*,!=2.5.*,!=2.6.*,!=2.7.*,<3.0.0dev,>=1.32.0->google-cloud-aiplatform) (2.0.7)\n",
            "Requirement already satisfied: certifi>=2017.4.17 in /usr/local/lib/python3.10/dist-packages (from requests<3.0.0.dev0,>=2.18.0->google-api-core[grpc]!=2.0.*,!=2.1.*,!=2.2.*,!=2.3.*,!=2.4.*,!=2.5.*,!=2.6.*,!=2.7.*,<3.0.0dev,>=1.32.0->google-cloud-aiplatform) (2023.7.22)\n",
            "Requirement already satisfied: pyasn1<0.6.0,>=0.4.6 in /usr/local/lib/python3.10/dist-packages (from pyasn1-modules>=0.2.1->google-auth<3.0.dev0,>=2.14.1->google-api-core[grpc]!=2.0.*,!=2.1.*,!=2.2.*,!=2.3.*,!=2.4.*,!=2.5.*,!=2.6.*,!=2.7.*,<3.0.0dev,>=1.32.0->google-cloud-aiplatform) (0.5.0)\n"
          ]
        }
      ]
    },
    {
      "cell_type": "code",
      "source": [
        "from google.colab import auth\n",
        "from google.cloud import bigquery\n",
        "import pandas as pd\n",
        "from typing import Union\n",
        "import sys\n",
        "\n",
        "auth.authenticate_user()"
      ],
      "metadata": {
        "id": "TupKlnCGGt2O",
        "executionInfo": {
          "status": "ok",
          "timestamp": 1701795434786,
          "user_tz": 360,
          "elapsed": 9,
          "user": {
            "displayName": "",
            "userId": ""
          }
        }
      },
      "execution_count": 2,
      "outputs": []
    },
    {
      "cell_type": "markdown",
      "source": [
        "## Define notebook variables\n",
        "\n",
        "Please update varaibles like your GCP Project ID (`project_id`), dataset name (`dataset_name`), and location (`location`).\n",
        "\n",
        "The variables `table_name` and `model_name` are pre-populated, but you can update them if you wish.\n",
        "\n",
        "Ensure that the dataset exists in the same GCP Project as `project_id`."
      ],
      "metadata": {
        "id": "sHoUOuxf5GOR"
      }
    },
    {
      "cell_type": "code",
      "source": [
        "#@title Setup Project Variables { run: \"auto\", display-mode: \"form\" }\n",
        "project_id = \"\\u003C>\" #@param {type:\"string\"}\n",
        "dataset_name = \"theLook_retail\" #@param {type:\"string\"}\n",
        "table_name=\"customer_stats\" #@param {type:\"string\"}\n",
        "model_name = \"bqdf_customer_segment_cluster\" #@param {type:\"string\"}\n",
        "eval_name = model_name + \"_eval\"\n",
        "LOCATION = \"us-central1\"  # @param {type:\"string\"}\n",
        "client = bigquery.Client()"
      ],
      "metadata": {
        "id": "_3Rfhx874F2J",
        "executionInfo": {
          "status": "ok",
          "timestamp": 1701795434786,
          "user_tz": 360,
          "elapsed": 8,
          "user": {
            "displayName": "",
            "userId": ""
          }
        }
      },
      "execution_count": 3,
      "outputs": []
    },
    {
      "cell_type": "markdown",
      "source": [
        "\n",
        "\n",
        "---\n",
        "\n"
      ],
      "metadata": {
        "id": "P-eLlA_0dj8p"
      }
    },
    {
      "cell_type": "markdown",
      "source": [
        "## Basic Exploratory Data Analysis\n",
        "To kick things off, let's first inspect our data prior to constructing any models. Within this tutorial, we'll be working with the [theLook eCommerce public dataset](https://console.cloud.google.com/marketplace/product/bigquery-public-data/thelook-ecommerce).\n",
        "\n",
        "TheLook is an imaginary eCommerce apparel website. Within this dataset, you'll discover details about customers, products, orders, logistics, web events, and digital marketing campaigns. Our main emphasis is the `order_items` table, which contains transactional insights about customers. It's important to note that the contents of this dataset are artificially generated and are made available to professionals in the industry for the purposes of product exploration, testing, and assessment.\n",
        "\n",
        "There are a few ways we can query data and get it into a dataframe. Here are two approaches:"
      ],
      "metadata": {
        "id": "IOlN-lku6KPi"
      }
    },
    {
      "cell_type": "markdown",
      "source": [
        "#### Python\n",
        "\n",
        "Use the Python SDK to bring data into a dataframe."
      ],
      "metadata": {
        "id": "5Ss_JcgU6dxL"
      }
    },
    {
      "cell_type": "code",
      "source": [
        "query = \"\"\"\n",
        "SELECT\n",
        "  user_id,\n",
        "  order_id,\n",
        "  sale_price,\n",
        "  created_at as order_created_date\n",
        "FROM `bigquery-public-data.thelook_ecommerce.order_items`\n",
        "WHERE created_at BETWEEN '2022-01-01' AND '2023-01-01'\n",
        "\"\"\"\n",
        "df = client.query(query).to_dataframe()\n",
        "df.head()\n"
      ],
      "metadata": {
        "id": "V6-JiJZBGmO7",
        "colab": {
          "base_uri": "https://localhost:8080/",
          "height": 206
        },
        "executionInfo": {
          "status": "ok",
          "timestamp": 1701795438624,
          "user_tz": 360,
          "elapsed": 3846,
          "user": {
            "displayName": "",
            "userId": ""
          }
        },
        "outputId": "ad8b1c71-6488-485e-9849-0f79ded7ef44"
      },
      "execution_count": 4,
      "outputs": [
        {
          "output_type": "execute_result",
          "data": {
            "text/plain": [
              "   user_id  order_id  sale_price        order_created_date\n",
              "0    75851     95036         2.5 2022-05-05 08:34:54+00:00\n",
              "1    95144    119255         3.0 2022-05-22 03:05:22+00:00\n",
              "2    35368     44449         3.0 2022-08-01 10:36:07+00:00\n",
              "3    24102     30427         3.0 2022-10-17 01:18:45+00:00\n",
              "4    52492     65873         3.0 2022-06-07 11:23:33+00:00"
            ],
            "text/html": [
              "\n",
              "  <div id=\"df-3053388d-b9fd-4d7f-acf4-1863cd718bbe\" class=\"colab-df-container\">\n",
              "    <div>\n",
              "<style scoped>\n",
              "    .dataframe tbody tr th:only-of-type {\n",
              "        vertical-align: middle;\n",
              "    }\n",
              "\n",
              "    .dataframe tbody tr th {\n",
              "        vertical-align: top;\n",
              "    }\n",
              "\n",
              "    .dataframe thead th {\n",
              "        text-align: right;\n",
              "    }\n",
              "</style>\n",
              "<table border=\"1\" class=\"dataframe\">\n",
              "  <thead>\n",
              "    <tr style=\"text-align: right;\">\n",
              "      <th></th>\n",
              "      <th>user_id</th>\n",
              "      <th>order_id</th>\n",
              "      <th>sale_price</th>\n",
              "      <th>order_created_date</th>\n",
              "    </tr>\n",
              "  </thead>\n",
              "  <tbody>\n",
              "    <tr>\n",
              "      <th>0</th>\n",
              "      <td>75851</td>\n",
              "      <td>95036</td>\n",
              "      <td>2.5</td>\n",
              "      <td>2022-05-05 08:34:54+00:00</td>\n",
              "    </tr>\n",
              "    <tr>\n",
              "      <th>1</th>\n",
              "      <td>95144</td>\n",
              "      <td>119255</td>\n",
              "      <td>3.0</td>\n",
              "      <td>2022-05-22 03:05:22+00:00</td>\n",
              "    </tr>\n",
              "    <tr>\n",
              "      <th>2</th>\n",
              "      <td>35368</td>\n",
              "      <td>44449</td>\n",
              "      <td>3.0</td>\n",
              "      <td>2022-08-01 10:36:07+00:00</td>\n",
              "    </tr>\n",
              "    <tr>\n",
              "      <th>3</th>\n",
              "      <td>24102</td>\n",
              "      <td>30427</td>\n",
              "      <td>3.0</td>\n",
              "      <td>2022-10-17 01:18:45+00:00</td>\n",
              "    </tr>\n",
              "    <tr>\n",
              "      <th>4</th>\n",
              "      <td>52492</td>\n",
              "      <td>65873</td>\n",
              "      <td>3.0</td>\n",
              "      <td>2022-06-07 11:23:33+00:00</td>\n",
              "    </tr>\n",
              "  </tbody>\n",
              "</table>\n",
              "</div>\n",
              "    <div class=\"colab-df-buttons\">\n",
              "\n",
              "  <div class=\"colab-df-container\">\n",
              "    <button class=\"colab-df-convert\" onclick=\"convertToInteractive('df-3053388d-b9fd-4d7f-acf4-1863cd718bbe')\"\n",
              "            title=\"Convert this dataframe to an interactive table.\"\n",
              "            style=\"display:none;\">\n",
              "\n",
              "  <svg xmlns=\"http://www.w3.org/2000/svg\" height=\"24px\" viewBox=\"0 -960 960 960\">\n",
              "    <path d=\"M120-120v-720h720v720H120Zm60-500h600v-160H180v160Zm220 220h160v-160H400v160Zm0 220h160v-160H400v160ZM180-400h160v-160H180v160Zm440 0h160v-160H620v160ZM180-180h160v-160H180v160Zm440 0h160v-160H620v160Z\"/>\n",
              "  </svg>\n",
              "    </button>\n",
              "\n",
              "  <style>\n",
              "    .colab-df-container {\n",
              "      display:flex;\n",
              "      gap: 12px;\n",
              "    }\n",
              "\n",
              "    .colab-df-convert {\n",
              "      background-color: #E8F0FE;\n",
              "      border: none;\n",
              "      border-radius: 50%;\n",
              "      cursor: pointer;\n",
              "      display: none;\n",
              "      fill: #1967D2;\n",
              "      height: 32px;\n",
              "      padding: 0 0 0 0;\n",
              "      width: 32px;\n",
              "    }\n",
              "\n",
              "    .colab-df-convert:hover {\n",
              "      background-color: #E2EBFA;\n",
              "      box-shadow: 0px 1px 2px rgba(60, 64, 67, 0.3), 0px 1px 3px 1px rgba(60, 64, 67, 0.15);\n",
              "      fill: #174EA6;\n",
              "    }\n",
              "\n",
              "    .colab-df-buttons div {\n",
              "      margin-bottom: 4px;\n",
              "    }\n",
              "\n",
              "    [theme=dark] .colab-df-convert {\n",
              "      background-color: #3B4455;\n",
              "      fill: #D2E3FC;\n",
              "    }\n",
              "\n",
              "    [theme=dark] .colab-df-convert:hover {\n",
              "      background-color: #434B5C;\n",
              "      box-shadow: 0px 1px 3px 1px rgba(0, 0, 0, 0.15);\n",
              "      filter: drop-shadow(0px 1px 2px rgba(0, 0, 0, 0.3));\n",
              "      fill: #FFFFFF;\n",
              "    }\n",
              "  </style>\n",
              "\n",
              "    <script>\n",
              "      const buttonEl =\n",
              "        document.querySelector('#df-3053388d-b9fd-4d7f-acf4-1863cd718bbe button.colab-df-convert');\n",
              "      buttonEl.style.display =\n",
              "        google.colab.kernel.accessAllowed ? 'block' : 'none';\n",
              "\n",
              "      async function convertToInteractive(key) {\n",
              "        const element = document.querySelector('#df-3053388d-b9fd-4d7f-acf4-1863cd718bbe');\n",
              "        const dataTable =\n",
              "          await google.colab.kernel.invokeFunction('convertToInteractive',\n",
              "                                                    [key], {});\n",
              "        if (!dataTable) return;\n",
              "\n",
              "        const docLinkHtml = 'Like what you see? Visit the ' +\n",
              "          '<a target=\"_blank\" href=https://colab.research.google.com/notebooks/data_table.ipynb>data table notebook</a>'\n",
              "          + ' to learn more about interactive tables.';\n",
              "        element.innerHTML = '';\n",
              "        dataTable['output_type'] = 'display_data';\n",
              "        await google.colab.output.renderOutput(dataTable, element);\n",
              "        const docLink = document.createElement('div');\n",
              "        docLink.innerHTML = docLinkHtml;\n",
              "        element.appendChild(docLink);\n",
              "      }\n",
              "    </script>\n",
              "  </div>\n",
              "\n",
              "\n",
              "<div id=\"df-4488de84-bce1-48bb-ade0-79f4cf00e587\">\n",
              "  <button class=\"colab-df-quickchart\" onclick=\"quickchart('df-4488de84-bce1-48bb-ade0-79f4cf00e587')\"\n",
              "            title=\"Suggest charts\"\n",
              "            style=\"display:none;\">\n",
              "\n",
              "<svg xmlns=\"http://www.w3.org/2000/svg\" height=\"24px\"viewBox=\"0 0 24 24\"\n",
              "     width=\"24px\">\n",
              "    <g>\n",
              "        <path d=\"M19 3H5c-1.1 0-2 .9-2 2v14c0 1.1.9 2 2 2h14c1.1 0 2-.9 2-2V5c0-1.1-.9-2-2-2zM9 17H7v-7h2v7zm4 0h-2V7h2v10zm4 0h-2v-4h2v4z\"/>\n",
              "    </g>\n",
              "</svg>\n",
              "  </button>\n",
              "\n",
              "<style>\n",
              "  .colab-df-quickchart {\n",
              "      --bg-color: #E8F0FE;\n",
              "      --fill-color: #1967D2;\n",
              "      --hover-bg-color: #E2EBFA;\n",
              "      --hover-fill-color: #174EA6;\n",
              "      --disabled-fill-color: #AAA;\n",
              "      --disabled-bg-color: #DDD;\n",
              "  }\n",
              "\n",
              "  [theme=dark] .colab-df-quickchart {\n",
              "      --bg-color: #3B4455;\n",
              "      --fill-color: #D2E3FC;\n",
              "      --hover-bg-color: #434B5C;\n",
              "      --hover-fill-color: #FFFFFF;\n",
              "      --disabled-bg-color: #3B4455;\n",
              "      --disabled-fill-color: #666;\n",
              "  }\n",
              "\n",
              "  .colab-df-quickchart {\n",
              "    background-color: var(--bg-color);\n",
              "    border: none;\n",
              "    border-radius: 50%;\n",
              "    cursor: pointer;\n",
              "    display: none;\n",
              "    fill: var(--fill-color);\n",
              "    height: 32px;\n",
              "    padding: 0;\n",
              "    width: 32px;\n",
              "  }\n",
              "\n",
              "  .colab-df-quickchart:hover {\n",
              "    background-color: var(--hover-bg-color);\n",
              "    box-shadow: 0 1px 2px rgba(60, 64, 67, 0.3), 0 1px 3px 1px rgba(60, 64, 67, 0.15);\n",
              "    fill: var(--button-hover-fill-color);\n",
              "  }\n",
              "\n",
              "  .colab-df-quickchart-complete:disabled,\n",
              "  .colab-df-quickchart-complete:disabled:hover {\n",
              "    background-color: var(--disabled-bg-color);\n",
              "    fill: var(--disabled-fill-color);\n",
              "    box-shadow: none;\n",
              "  }\n",
              "\n",
              "  .colab-df-spinner {\n",
              "    border: 2px solid var(--fill-color);\n",
              "    border-color: transparent;\n",
              "    border-bottom-color: var(--fill-color);\n",
              "    animation:\n",
              "      spin 1s steps(1) infinite;\n",
              "  }\n",
              "\n",
              "  @keyframes spin {\n",
              "    0% {\n",
              "      border-color: transparent;\n",
              "      border-bottom-color: var(--fill-color);\n",
              "      border-left-color: var(--fill-color);\n",
              "    }\n",
              "    20% {\n",
              "      border-color: transparent;\n",
              "      border-left-color: var(--fill-color);\n",
              "      border-top-color: var(--fill-color);\n",
              "    }\n",
              "    30% {\n",
              "      border-color: transparent;\n",
              "      border-left-color: var(--fill-color);\n",
              "      border-top-color: var(--fill-color);\n",
              "      border-right-color: var(--fill-color);\n",
              "    }\n",
              "    40% {\n",
              "      border-color: transparent;\n",
              "      border-right-color: var(--fill-color);\n",
              "      border-top-color: var(--fill-color);\n",
              "    }\n",
              "    60% {\n",
              "      border-color: transparent;\n",
              "      border-right-color: var(--fill-color);\n",
              "    }\n",
              "    80% {\n",
              "      border-color: transparent;\n",
              "      border-right-color: var(--fill-color);\n",
              "      border-bottom-color: var(--fill-color);\n",
              "    }\n",
              "    90% {\n",
              "      border-color: transparent;\n",
              "      border-bottom-color: var(--fill-color);\n",
              "    }\n",
              "  }\n",
              "</style>\n",
              "\n",
              "  <script>\n",
              "    async function quickchart(key) {\n",
              "      const quickchartButtonEl =\n",
              "        document.querySelector('#' + key + ' button');\n",
              "      quickchartButtonEl.disabled = true;  // To prevent multiple clicks.\n",
              "      quickchartButtonEl.classList.add('colab-df-spinner');\n",
              "      try {\n",
              "        const charts = await google.colab.kernel.invokeFunction(\n",
              "            'suggestCharts', [key], {});\n",
              "      } catch (error) {\n",
              "        console.error('Error during call to suggestCharts:', error);\n",
              "      }\n",
              "      quickchartButtonEl.classList.remove('colab-df-spinner');\n",
              "      quickchartButtonEl.classList.add('colab-df-quickchart-complete');\n",
              "    }\n",
              "    (() => {\n",
              "      let quickchartButtonEl =\n",
              "        document.querySelector('#df-4488de84-bce1-48bb-ade0-79f4cf00e587 button');\n",
              "      quickchartButtonEl.style.display =\n",
              "        google.colab.kernel.accessAllowed ? 'block' : 'none';\n",
              "    })();\n",
              "  </script>\n",
              "</div>\n",
              "    </div>\n",
              "  </div>\n"
            ]
          },
          "metadata": {},
          "execution_count": 4
        }
      ]
    },
    {
      "cell_type": "markdown",
      "source": [
        "#### SQL\n",
        "We can use the %%bigquery magic operator to run SQL directly in this notebook. Results can be sent to dataframes too. In this case, we define `df_bq` as the dataframe name."
      ],
      "metadata": {
        "id": "MWEbf9Cb6gih"
      }
    },
    {
      "cell_type": "code",
      "source": [
        "%%bigquery df_bq\n",
        "\n",
        "SELECT\n",
        "  user_id,\n",
        "  order_id,\n",
        "  sale_price,\n",
        "  created_at as order_created_date\n",
        "FROM `bigquery-public-data.thelook_ecommerce.order_items`\n",
        "WHERE created_at BETWEEN '2022-01-01' AND '2023-01-01'"
      ],
      "metadata": {
        "id": "5MiwTAvMM43y",
        "colab": {
          "base_uri": "https://localhost:8080/",
          "height": 81,
          "referenced_widgets": [
            "14e9407ce39442dbbf92c52e2a3f1b06",
            "e4f0f677674d4bd08c4ccd267ed9b2f0",
            "4d1ecd0ccc6741f9bd4742a23f99d45f",
            "1e3a5f275b1b42e5bce283bfc9d21e81",
            "3db267e43c8a4e3c832bb47ceb23853b",
            "ca42c57076af4dd18a5a957947c655e3",
            "b4f15dd9a71c417a9657e58de394253a",
            "66d61b00e06a4fdc978721837e2f8e28",
            "a5f7984e3d3148acb516f2004e012e21",
            "a15dfa2d40b4441abeaec702658ac990",
            "073fe04c15c941ffab75730f39651287",
            "140f58464564449f8818e36c6337ade9",
            "f43c9d1f944944759c61cd05707abcef",
            "8278a90e446e45aca722ef770e8914a3",
            "ddf7145affa14f3a8861eeccdd42607f",
            "3d4cc011bf694095bd398d07e5a6d0c0",
            "3fd685e3c5b240e9a70d59f8cd74a9f7",
            "70ddd1742059426d9ee973346a00f051",
            "e276e151f7034215820ccd89d48e8291",
            "518eb1c6e7d34e7aa0a7cbebaa0e212b",
            "5c1dae6d109745e7bf9bb2f947030efc",
            "90dbcd00acae4f56989c1f81de877951"
          ]
        },
        "executionInfo": {
          "status": "ok",
          "timestamp": 1701795441628,
          "user_tz": 360,
          "elapsed": 3010,
          "user": {
            "displayName": "",
            "userId": ""
          }
        },
        "outputId": "3d5ee5df-364a-4ff5-8ffb-cc1472cccd49"
      },
      "execution_count": 5,
      "outputs": [
        {
          "output_type": "display_data",
          "data": {
            "text/plain": [
              "Query is running:   0%|          |"
            ],
            "application/vnd.jupyter.widget-view+json": {
              "version_major": 2,
              "version_minor": 0,
              "model_id": "14e9407ce39442dbbf92c52e2a3f1b06"
            }
          },
          "metadata": {}
        },
        {
          "output_type": "display_data",
          "data": {
            "text/plain": [
              "Downloading:   0%|          |"
            ],
            "application/vnd.jupyter.widget-view+json": {
              "version_major": 2,
              "version_minor": 0,
              "model_id": "140f58464564449f8818e36c6337ade9"
            }
          },
          "metadata": {}
        }
      ]
    },
    {
      "cell_type": "code",
      "source": [
        "df_bq.head()"
      ],
      "metadata": {
        "id": "Yf5PTAZz4eOI",
        "colab": {
          "base_uri": "https://localhost:8080/",
          "height": 206
        },
        "executionInfo": {
          "status": "ok",
          "timestamp": 1701795441628,
          "user_tz": 360,
          "elapsed": 6,
          "user": {
            "displayName": "",
            "userId": ""
          }
        },
        "outputId": "cb4ac7ce-a010-438d-dda2-fdef7accfa63"
      },
      "execution_count": 6,
      "outputs": [
        {
          "output_type": "execute_result",
          "data": {
            "text/plain": [
              "   user_id  order_id  sale_price        order_created_date\n",
              "0    75851     95036         2.5 2022-05-05 08:34:54+00:00\n",
              "1    95144    119255         3.0 2022-05-22 03:05:22+00:00\n",
              "2    35368     44449         3.0 2022-08-01 10:36:07+00:00\n",
              "3    24102     30427         3.0 2022-10-17 01:18:45+00:00\n",
              "4    52492     65873         3.0 2022-06-07 11:23:33+00:00"
            ],
            "text/html": [
              "\n",
              "  <div id=\"df-7b9838c2-1a9c-4b50-8946-ee6de0c724cf\" class=\"colab-df-container\">\n",
              "    <div>\n",
              "<style scoped>\n",
              "    .dataframe tbody tr th:only-of-type {\n",
              "        vertical-align: middle;\n",
              "    }\n",
              "\n",
              "    .dataframe tbody tr th {\n",
              "        vertical-align: top;\n",
              "    }\n",
              "\n",
              "    .dataframe thead th {\n",
              "        text-align: right;\n",
              "    }\n",
              "</style>\n",
              "<table border=\"1\" class=\"dataframe\">\n",
              "  <thead>\n",
              "    <tr style=\"text-align: right;\">\n",
              "      <th></th>\n",
              "      <th>user_id</th>\n",
              "      <th>order_id</th>\n",
              "      <th>sale_price</th>\n",
              "      <th>order_created_date</th>\n",
              "    </tr>\n",
              "  </thead>\n",
              "  <tbody>\n",
              "    <tr>\n",
              "      <th>0</th>\n",
              "      <td>75851</td>\n",
              "      <td>95036</td>\n",
              "      <td>2.5</td>\n",
              "      <td>2022-05-05 08:34:54+00:00</td>\n",
              "    </tr>\n",
              "    <tr>\n",
              "      <th>1</th>\n",
              "      <td>95144</td>\n",
              "      <td>119255</td>\n",
              "      <td>3.0</td>\n",
              "      <td>2022-05-22 03:05:22+00:00</td>\n",
              "    </tr>\n",
              "    <tr>\n",
              "      <th>2</th>\n",
              "      <td>35368</td>\n",
              "      <td>44449</td>\n",
              "      <td>3.0</td>\n",
              "      <td>2022-08-01 10:36:07+00:00</td>\n",
              "    </tr>\n",
              "    <tr>\n",
              "      <th>3</th>\n",
              "      <td>24102</td>\n",
              "      <td>30427</td>\n",
              "      <td>3.0</td>\n",
              "      <td>2022-10-17 01:18:45+00:00</td>\n",
              "    </tr>\n",
              "    <tr>\n",
              "      <th>4</th>\n",
              "      <td>52492</td>\n",
              "      <td>65873</td>\n",
              "      <td>3.0</td>\n",
              "      <td>2022-06-07 11:23:33+00:00</td>\n",
              "    </tr>\n",
              "  </tbody>\n",
              "</table>\n",
              "</div>\n",
              "    <div class=\"colab-df-buttons\">\n",
              "\n",
              "  <div class=\"colab-df-container\">\n",
              "    <button class=\"colab-df-convert\" onclick=\"convertToInteractive('df-7b9838c2-1a9c-4b50-8946-ee6de0c724cf')\"\n",
              "            title=\"Convert this dataframe to an interactive table.\"\n",
              "            style=\"display:none;\">\n",
              "\n",
              "  <svg xmlns=\"http://www.w3.org/2000/svg\" height=\"24px\" viewBox=\"0 -960 960 960\">\n",
              "    <path d=\"M120-120v-720h720v720H120Zm60-500h600v-160H180v160Zm220 220h160v-160H400v160Zm0 220h160v-160H400v160ZM180-400h160v-160H180v160Zm440 0h160v-160H620v160ZM180-180h160v-160H180v160Zm440 0h160v-160H620v160Z\"/>\n",
              "  </svg>\n",
              "    </button>\n",
              "\n",
              "  <style>\n",
              "    .colab-df-container {\n",
              "      display:flex;\n",
              "      gap: 12px;\n",
              "    }\n",
              "\n",
              "    .colab-df-convert {\n",
              "      background-color: #E8F0FE;\n",
              "      border: none;\n",
              "      border-radius: 50%;\n",
              "      cursor: pointer;\n",
              "      display: none;\n",
              "      fill: #1967D2;\n",
              "      height: 32px;\n",
              "      padding: 0 0 0 0;\n",
              "      width: 32px;\n",
              "    }\n",
              "\n",
              "    .colab-df-convert:hover {\n",
              "      background-color: #E2EBFA;\n",
              "      box-shadow: 0px 1px 2px rgba(60, 64, 67, 0.3), 0px 1px 3px 1px rgba(60, 64, 67, 0.15);\n",
              "      fill: #174EA6;\n",
              "    }\n",
              "\n",
              "    .colab-df-buttons div {\n",
              "      margin-bottom: 4px;\n",
              "    }\n",
              "\n",
              "    [theme=dark] .colab-df-convert {\n",
              "      background-color: #3B4455;\n",
              "      fill: #D2E3FC;\n",
              "    }\n",
              "\n",
              "    [theme=dark] .colab-df-convert:hover {\n",
              "      background-color: #434B5C;\n",
              "      box-shadow: 0px 1px 3px 1px rgba(0, 0, 0, 0.15);\n",
              "      filter: drop-shadow(0px 1px 2px rgba(0, 0, 0, 0.3));\n",
              "      fill: #FFFFFF;\n",
              "    }\n",
              "  </style>\n",
              "\n",
              "    <script>\n",
              "      const buttonEl =\n",
              "        document.querySelector('#df-7b9838c2-1a9c-4b50-8946-ee6de0c724cf button.colab-df-convert');\n",
              "      buttonEl.style.display =\n",
              "        google.colab.kernel.accessAllowed ? 'block' : 'none';\n",
              "\n",
              "      async function convertToInteractive(key) {\n",
              "        const element = document.querySelector('#df-7b9838c2-1a9c-4b50-8946-ee6de0c724cf');\n",
              "        const dataTable =\n",
              "          await google.colab.kernel.invokeFunction('convertToInteractive',\n",
              "                                                    [key], {});\n",
              "        if (!dataTable) return;\n",
              "\n",
              "        const docLinkHtml = 'Like what you see? Visit the ' +\n",
              "          '<a target=\"_blank\" href=https://colab.research.google.com/notebooks/data_table.ipynb>data table notebook</a>'\n",
              "          + ' to learn more about interactive tables.';\n",
              "        element.innerHTML = '';\n",
              "        dataTable['output_type'] = 'display_data';\n",
              "        await google.colab.output.renderOutput(dataTable, element);\n",
              "        const docLink = document.createElement('div');\n",
              "        docLink.innerHTML = docLinkHtml;\n",
              "        element.appendChild(docLink);\n",
              "      }\n",
              "    </script>\n",
              "  </div>\n",
              "\n",
              "\n",
              "<div id=\"df-251f8571-117e-404b-8ffd-8d5a5ab28826\">\n",
              "  <button class=\"colab-df-quickchart\" onclick=\"quickchart('df-251f8571-117e-404b-8ffd-8d5a5ab28826')\"\n",
              "            title=\"Suggest charts\"\n",
              "            style=\"display:none;\">\n",
              "\n",
              "<svg xmlns=\"http://www.w3.org/2000/svg\" height=\"24px\"viewBox=\"0 0 24 24\"\n",
              "     width=\"24px\">\n",
              "    <g>\n",
              "        <path d=\"M19 3H5c-1.1 0-2 .9-2 2v14c0 1.1.9 2 2 2h14c1.1 0 2-.9 2-2V5c0-1.1-.9-2-2-2zM9 17H7v-7h2v7zm4 0h-2V7h2v10zm4 0h-2v-4h2v4z\"/>\n",
              "    </g>\n",
              "</svg>\n",
              "  </button>\n",
              "\n",
              "<style>\n",
              "  .colab-df-quickchart {\n",
              "      --bg-color: #E8F0FE;\n",
              "      --fill-color: #1967D2;\n",
              "      --hover-bg-color: #E2EBFA;\n",
              "      --hover-fill-color: #174EA6;\n",
              "      --disabled-fill-color: #AAA;\n",
              "      --disabled-bg-color: #DDD;\n",
              "  }\n",
              "\n",
              "  [theme=dark] .colab-df-quickchart {\n",
              "      --bg-color: #3B4455;\n",
              "      --fill-color: #D2E3FC;\n",
              "      --hover-bg-color: #434B5C;\n",
              "      --hover-fill-color: #FFFFFF;\n",
              "      --disabled-bg-color: #3B4455;\n",
              "      --disabled-fill-color: #666;\n",
              "  }\n",
              "\n",
              "  .colab-df-quickchart {\n",
              "    background-color: var(--bg-color);\n",
              "    border: none;\n",
              "    border-radius: 50%;\n",
              "    cursor: pointer;\n",
              "    display: none;\n",
              "    fill: var(--fill-color);\n",
              "    height: 32px;\n",
              "    padding: 0;\n",
              "    width: 32px;\n",
              "  }\n",
              "\n",
              "  .colab-df-quickchart:hover {\n",
              "    background-color: var(--hover-bg-color);\n",
              "    box-shadow: 0 1px 2px rgba(60, 64, 67, 0.3), 0 1px 3px 1px rgba(60, 64, 67, 0.15);\n",
              "    fill: var(--button-hover-fill-color);\n",
              "  }\n",
              "\n",
              "  .colab-df-quickchart-complete:disabled,\n",
              "  .colab-df-quickchart-complete:disabled:hover {\n",
              "    background-color: var(--disabled-bg-color);\n",
              "    fill: var(--disabled-fill-color);\n",
              "    box-shadow: none;\n",
              "  }\n",
              "\n",
              "  .colab-df-spinner {\n",
              "    border: 2px solid var(--fill-color);\n",
              "    border-color: transparent;\n",
              "    border-bottom-color: var(--fill-color);\n",
              "    animation:\n",
              "      spin 1s steps(1) infinite;\n",
              "  }\n",
              "\n",
              "  @keyframes spin {\n",
              "    0% {\n",
              "      border-color: transparent;\n",
              "      border-bottom-color: var(--fill-color);\n",
              "      border-left-color: var(--fill-color);\n",
              "    }\n",
              "    20% {\n",
              "      border-color: transparent;\n",
              "      border-left-color: var(--fill-color);\n",
              "      border-top-color: var(--fill-color);\n",
              "    }\n",
              "    30% {\n",
              "      border-color: transparent;\n",
              "      border-left-color: var(--fill-color);\n",
              "      border-top-color: var(--fill-color);\n",
              "      border-right-color: var(--fill-color);\n",
              "    }\n",
              "    40% {\n",
              "      border-color: transparent;\n",
              "      border-right-color: var(--fill-color);\n",
              "      border-top-color: var(--fill-color);\n",
              "    }\n",
              "    60% {\n",
              "      border-color: transparent;\n",
              "      border-right-color: var(--fill-color);\n",
              "    }\n",
              "    80% {\n",
              "      border-color: transparent;\n",
              "      border-right-color: var(--fill-color);\n",
              "      border-bottom-color: var(--fill-color);\n",
              "    }\n",
              "    90% {\n",
              "      border-color: transparent;\n",
              "      border-bottom-color: var(--fill-color);\n",
              "    }\n",
              "  }\n",
              "</style>\n",
              "\n",
              "  <script>\n",
              "    async function quickchart(key) {\n",
              "      const quickchartButtonEl =\n",
              "        document.querySelector('#' + key + ' button');\n",
              "      quickchartButtonEl.disabled = true;  // To prevent multiple clicks.\n",
              "      quickchartButtonEl.classList.add('colab-df-spinner');\n",
              "      try {\n",
              "        const charts = await google.colab.kernel.invokeFunction(\n",
              "            'suggestCharts', [key], {});\n",
              "      } catch (error) {\n",
              "        console.error('Error during call to suggestCharts:', error);\n",
              "      }\n",
              "      quickchartButtonEl.classList.remove('colab-df-spinner');\n",
              "      quickchartButtonEl.classList.add('colab-df-quickchart-complete');\n",
              "    }\n",
              "    (() => {\n",
              "      let quickchartButtonEl =\n",
              "        document.querySelector('#df-251f8571-117e-404b-8ffd-8d5a5ab28826 button');\n",
              "      quickchartButtonEl.style.display =\n",
              "        google.colab.kernel.accessAllowed ? 'block' : 'none';\n",
              "    })();\n",
              "  </script>\n",
              "</div>\n",
              "    </div>\n",
              "  </div>\n"
            ]
          },
          "metadata": {},
          "execution_count": 6
        }
      ]
    },
    {
      "cell_type": "markdown",
      "source": [
        "## Create features for k-means model.\n",
        "\n",
        "The table includes recency, frequency, and monetary value metrics to provide a an understanding of customer behavior."
      ],
      "metadata": {
        "id": "8RDvQSsqrryy"
      }
    },
    {
      "cell_type": "code",
      "source": [
        "\n",
        "query= f\"\"\"\n",
        "CREATE OR REPLACE TABLE `{project_id}.{dataset_name}.{table_name}` AS\n",
        "SELECT\n",
        "  user_id,\n",
        "  --RECENCY\n",
        "  DATE_DIFF(CURRENT_DATE(), CAST(MAX(order_created_date) AS DATE), day) as days_since_last_order,\n",
        "  -- FREQUENCY\n",
        "  count(order_id) as count_orders,\n",
        "  -- MONETARY\n",
        "  AVG(sale_price) as average_spend,\n",
        "  FROM\n",
        "  (\n",
        "SELECT user_id,\n",
        "order_id,\n",
        "sale_price,\n",
        "created_at as order_created_date\n",
        "FROM\n",
        "  `bigquery-public-data.thelook_ecommerce.order_items`\n",
        "WHERE created_at BETWEEN '2022-01-01' AND '2023-01-01'\n",
        "  )\n",
        "GROUP BY\n",
        "user_id;\n",
        "\"\"\"\n",
        "\n",
        "client.query(query)"
      ],
      "metadata": {
        "id": "r4V5dGbcrnZg",
        "colab": {
          "base_uri": "https://localhost:8080/"
        },
        "executionInfo": {
          "status": "ok",
          "timestamp": 1701795442246,
          "user_tz": 360,
          "elapsed": 621,
          "user": {
            "displayName": "",
            "userId": ""
          }
        },
        "outputId": "e41596a3-98a0-416c-836e-04e5313de79f"
      },
      "execution_count": 7,
      "outputs": [
        {
          "output_type": "execute_result",
          "data": {
            "text/plain": [
              "QueryJob<project=analytics-ml-ai, location=US, id=8f9b2e7c-fa2f-444a-a3f5-b777da39bb2b>"
            ]
          },
          "metadata": {},
          "execution_count": 7
        }
      ]
    },
    {
      "cell_type": "markdown",
      "source": [
        "## Create a k-means model to cluster ecommerce data\n",
        "\n",
        "K-means is a widely used clustering algorithm that can dentify distinct groups or clusters within a dataset. With eCommerce data, k-means can segment customers, products, or transactions into meaningful groups for various analytical and business purposes.\n",
        "\n",
        "We will assess two approaches for constructing k-means models and customer clusters:\n",
        "\n",
        "\n",
        "*   one utilizing the innovative BigFrames,  pandas-like API on top of BigQuery\n",
        "*   the other employing BigQuery ML\n",
        "\n",
        "\n",
        "Cluster our data using ***BigFrames*** and ***BigQuery ML***!"
      ],
      "metadata": {
        "id": "WnXQQOAc4t22"
      }
    },
    {
      "cell_type": "markdown",
      "source": [
        "#### Use BigQuery Dataframes to import the data"
      ],
      "metadata": {
        "id": "jQKfCgZ9FZH5"
      }
    },
    {
      "cell_type": "code",
      "source": [
        "import bigframes.pandas as bpd\n",
        "from google.cloud import bigquery\n",
        "\n",
        "# Create a BigQuery Dataframe\n",
        "df_customer = bpd.read_gbq(f\"{project_id}.{dataset_name}.{table_name}\")"
      ],
      "metadata": {
        "id": "BlEn2XdE_Q40",
        "executionInfo": {
          "status": "ok",
          "timestamp": 1701795454759,
          "user_tz": 360,
          "elapsed": 12516,
          "user": {
            "displayName": "",
            "userId": ""
          }
        },
        "outputId": "bd29f473-6b92-4253-dd1e-1cef2a52964d",
        "colab": {
          "base_uri": "https://localhost:8080/",
          "height": 52
        }
      },
      "execution_count": 8,
      "outputs": [
        {
          "output_type": "display_data",
          "data": {
            "text/plain": [
              "<IPython.core.display.HTML object>"
            ],
            "text/html": [
              "Query job 8a5d3fed-6f7c-459a-935a-daa811e48173 is DONE. 0 Bytes processed. <a target=\"_blank\" href=\"https://console.cloud.google.com/bigquery?project=analytics-ml-ai&j=bq:US:8a5d3fed-6f7c-459a-935a-daa811e48173&page=queryresults\">Open Job</a>"
            ]
          },
          "metadata": {}
        },
        {
          "output_type": "display_data",
          "data": {
            "text/plain": [
              "<IPython.core.display.HTML object>"
            ],
            "text/html": [
              "Query job a165bac3-bcc4-49c5-8113-33560ce1200f is DONE. 844.4 kB processed. <a target=\"_blank\" href=\"https://console.cloud.google.com/bigquery?project=analytics-ml-ai&j=bq:US:a165bac3-bcc4-49c5-8113-33560ce1200f&page=queryresults\">Open Job</a>"
            ]
          },
          "metadata": {}
        }
      ]
    },
    {
      "cell_type": "markdown",
      "source": [
        "## Create K-Means Model with BigFrames"
      ],
      "metadata": {
        "id": "ttcjRO2l9I-I"
      }
    },
    {
      "cell_type": "code",
      "source": [
        "##############################\n",
        "# Generate K-Means Clusters\n",
        "##############################\n",
        "from bigframes.ml.cluster import KMeans\n",
        "from bigframes.ml.model_selection import train_test_split\n",
        "\n",
        "# Split test and training data\n",
        "df_customer = df_customer.dropna()\n",
        "train_X, test_X = train_test_split(df_customer, test_size = 0.2)\n",
        "train_X = train_X.drop(columns = [\"user_id\"])\n",
        "# Create a K-Means cluster model\n",
        "kmeans = KMeans(n_clusters = 5)\n",
        "kmeans.fit(train_X)\n",
        "# Save the model to BigQuery\n",
        "kmeans.to_gbq(f\"{project_id}.{dataset_name}.{model_name}\", True)"
      ],
      "metadata": {
        "id": "cWQ9botFf2Te",
        "colab": {
          "base_uri": "https://localhost:8080/",
          "height": 86
        },
        "executionInfo": {
          "status": "ok",
          "timestamp": 1701795509517,
          "user_tz": 360,
          "elapsed": 54761,
          "user": {
            "displayName": "",
            "userId": ""
          }
        },
        "outputId": "b758a6c7-72af-463f-b102-b87b6ba0d943"
      },
      "execution_count": 9,
      "outputs": [
        {
          "output_type": "display_data",
          "data": {
            "text/plain": [
              "<IPython.core.display.HTML object>"
            ],
            "text/html": [
              "Query job 91efe599-c3f5-4cfa-b23d-f57111d5187d is DONE. 844.4 kB processed. <a target=\"_blank\" href=\"https://console.cloud.google.com/bigquery?project=analytics-ml-ai&j=bq:US:91efe599-c3f5-4cfa-b23d-f57111d5187d&page=queryresults\">Open Job</a>"
            ]
          },
          "metadata": {}
        },
        {
          "output_type": "display_data",
          "data": {
            "text/plain": [
              "<IPython.core.display.HTML object>"
            ],
            "text/html": [
              "Query job da29fd94-d0e6-4d7a-9382-3009faaa555d is DONE. 0 Bytes processed. <a target=\"_blank\" href=\"https://console.cloud.google.com/bigquery?project=analytics-ml-ai&j=bq:US:da29fd94-d0e6-4d7a-9382-3009faaa555d&page=queryresults\">Open Job</a>"
            ]
          },
          "metadata": {}
        },
        {
          "output_type": "display_data",
          "data": {
            "text/plain": [
              "<IPython.core.display.HTML object>"
            ],
            "text/html": [
              "Copy job faf98c2d-1bdd-415f-a6a9-b565165596ef is DONE. <a target=\"_blank\" href=\"https://console.cloud.google.com/bigquery?project=analytics-ml-ai&j=bq:US:faf98c2d-1bdd-415f-a6a9-b565165596ef&page=queryresults\">Open Job</a>"
            ]
          },
          "metadata": {}
        },
        {
          "output_type": "execute_result",
          "data": {
            "text/plain": [
              "KMeans(n_clusters=5)"
            ]
          },
          "metadata": {},
          "execution_count": 9
        }
      ]
    },
    {
      "cell_type": "markdown",
      "source": [
        "## (OPTIONAL) Create K-Means Model with BigQuery ML\n",
        "\n",
        "**Note:** Uncomment the cells and verify the dataset and table name accuracy. Run the model using simple SQL!"
      ],
      "metadata": {
        "id": "JCUkd-ez9kHh"
      }
    },
    {
      "cell_type": "code",
      "source": [
        "# %%bigquery\n",
        "\n",
        "# CREATE OR REPLACE MODEL `<DATASET_NAME>.bqml_customer_segment_cluster`\n",
        "# OPTIONS (\n",
        "#   MODEL_TYPE = \"KMEANS\",\n",
        "#   NUM_CLUSTERS = 5,\n",
        "#   KMEANS_INIT_METHOD = \"KMEANS++\",\n",
        "#   STANDARDIZE_FEATURES = TRUE )\n",
        "# AS (\n",
        "# SELECT * EXCEPT (user_id)\n",
        "# FROM `<DATASET_NAME>.customer_stats`\n",
        "# );"
      ],
      "metadata": {
        "id": "KiB2gPEvFkkd",
        "executionInfo": {
          "status": "ok",
          "timestamp": 1701795509517,
          "user_tz": 360,
          "elapsed": 3,
          "user": {
            "displayName": "",
            "userId": ""
          }
        }
      },
      "execution_count": 10,
      "outputs": []
    },
    {
      "cell_type": "markdown",
      "source": [
        "## Visualize the clusters\n",
        "\n",
        "Next we'll visualize the k-means clusters on a scatterplot. We'll chart `days_since_last_order` by `average_spend` and color by segment/cluster_id generated from the model."
      ],
      "metadata": {
        "id": "81nwv2QE-mlh"
      }
    },
    {
      "cell_type": "code",
      "source": [
        "#########################\n",
        "#Plot K-Means clusters\n",
        "#########################\n",
        "import seaborn as sns\n",
        "import matplotlib.pyplot as plt\n",
        "import pandas as pd\n",
        "\n",
        "# Import K-Means predictions to dataframe\n",
        "segments_df = kmeans.predict(df_customer).join(df_customer)\n",
        "segments_df = segments_df.rename(columns={'CENTROID_ID': 'segment_id'})\n",
        "segments_pd = segments_df.sample(frac=0.2, random_state=1).to_pandas()\n",
        "\n",
        "# Generate scatterplot to display clusters\n",
        "g = sns.lmplot(x='days_since_last_order', y='average_spend', data=segments_pd, fit_reg=False, hue='segment_id', palette='Set2', height=7, aspect=2)\n",
        "g = (g.set_axis_labels('Days Since Last Order','Average Spend ($)', fontsize=15).set(xlim=(200,800),ylim=(0,400)))\n",
        "plt.title('Attribute Grouped by K-means Cluster', pad=20, fontsize=20)"
      ],
      "metadata": {
        "id": "8vC9nk6wgisU",
        "colab": {
          "base_uri": "https://localhost:8080/",
          "height": 813
        },
        "executionInfo": {
          "status": "ok",
          "timestamp": 1701795526554,
          "user_tz": 360,
          "elapsed": 17039,
          "user": {
            "displayName": "",
            "userId": ""
          }
        },
        "outputId": "b3816c1d-9d77-4c3e-c18d-ec12b080628a"
      },
      "execution_count": 11,
      "outputs": [
        {
          "output_type": "display_data",
          "data": {
            "text/plain": [
              "<IPython.core.display.HTML object>"
            ],
            "text/html": [
              "Query job 8ee6038a-d139-44a2-b25c-8b4b0566ea2b is DONE. 0 Bytes processed. <a target=\"_blank\" href=\"https://console.cloud.google.com/bigquery?project=analytics-ml-ai&j=bq:US:8ee6038a-d139-44a2-b25c-8b4b0566ea2b&page=queryresults\">Open Job</a>"
            ]
          },
          "metadata": {}
        },
        {
          "output_type": "display_data",
          "data": {
            "text/plain": [
              "<IPython.core.display.HTML object>"
            ],
            "text/html": [
              "Query job cfff10da-8470-4ac1-ac95-fe8f978a40a8 is DONE. 1.1 MB processed. <a target=\"_blank\" href=\"https://console.cloud.google.com/bigquery?project=analytics-ml-ai&j=bq:US:cfff10da-8470-4ac1-ac95-fe8f978a40a8&page=queryresults\">Open Job</a>"
            ]
          },
          "metadata": {}
        },
        {
          "output_type": "display_data",
          "data": {
            "text/plain": [
              "<IPython.core.display.HTML object>"
            ],
            "text/html": [
              "Query job 68f8d0e8-f68c-4afb-9724-36d66cf12680 is DONE. 211.1 kB processed. <a target=\"_blank\" href=\"https://console.cloud.google.com/bigquery?project=analytics-ml-ai&j=bq:US:68f8d0e8-f68c-4afb-9724-36d66cf12680&page=queryresults\">Open Job</a>"
            ]
          },
          "metadata": {}
        },
        {
          "output_type": "display_data",
          "data": {
            "text/plain": [
              "<IPython.core.display.HTML object>"
            ],
            "text/html": [
              "Query job 4bfaaca7-0205-448a-8432-151f108489d4 is DONE. 1.3 MB processed. <a target=\"_blank\" href=\"https://console.cloud.google.com/bigquery?project=analytics-ml-ai&j=bq:US:4bfaaca7-0205-448a-8432-151f108489d4&page=queryresults\">Open Job</a>"
            ]
          },
          "metadata": {}
        },
        {
          "output_type": "display_data",
          "data": {
            "text/plain": [
              "<IPython.core.display.HTML object>"
            ],
            "text/html": [
              "Query job d58cd189-7c38-4d8a-a9ec-ba4a41a7ab02 is DONE. 1.5 MB processed. <a target=\"_blank\" href=\"https://console.cloud.google.com/bigquery?project=analytics-ml-ai&j=bq:US:d58cd189-7c38-4d8a-a9ec-ba4a41a7ab02&page=queryresults\">Open Job</a>"
            ]
          },
          "metadata": {}
        },
        {
          "output_type": "execute_result",
          "data": {
            "text/plain": [
              "Text(0.5, 1.0, 'Attribute Grouped by K-means Cluster')"
            ]
          },
          "metadata": {},
          "execution_count": 11
        },
        {
          "output_type": "display_data",
          "data": {
            "text/plain": [
              "<Figure size 1491.61x700 with 1 Axes>"
            ],
            "image/png": "[encoded data removed]"
          },
          "metadata": {}
        }
      ]
    },
    {
      "cell_type": "markdown",
      "source": [
        "### Cluster Summary Statistics\n",
        "\n",
        "The visualization helped us see distinct clusters. Now let's generate some summary statistics around order recency, frequency, and spend by cluster."
      ],
      "metadata": {
        "id": "t1RNh1NqPpJ2"
      }
    },
    {
      "cell_type": "code",
      "source": [
        "query = \"\"\"\n",
        "SELECT\n",
        "  CONCAT('cluster ', CAST(centroid_id as STRING)) as centroid,\n",
        "  average_spend,\n",
        "  count_orders,\n",
        "  days_since_last_order\n",
        "FROM (\n",
        "  SELECT centroid_id, feature, ROUND(numerical_value, 2) as value\n",
        "  FROM ML.CENTROIDS(MODEL `{0}.{1}`)\n",
        ")\n",
        "PIVOT (\n",
        "  SUM(value)\n",
        "  FOR feature IN ('average_spend',  'count_orders', 'days_since_last_order')\n",
        ")\n",
        "ORDER BY centroid_id\n",
        "\"\"\".format(dataset_name, model_name)\n",
        "\n",
        "df_centroid = client.query(query).to_dataframe()\n",
        "df_centroid.head()"
      ],
      "metadata": {
        "id": "H2czyn5zPvhJ",
        "colab": {
          "base_uri": "https://localhost:8080/",
          "height": 206
        },
        "executionInfo": {
          "status": "ok",
          "timestamp": 1701795528285,
          "user_tz": 360,
          "elapsed": 1747,
          "user": {
            "displayName": "",
            "userId": ""
          }
        },
        "outputId": "99b1453f-5837-47af-9f68-83221f6797fe"
      },
      "execution_count": 12,
      "outputs": [
        {
          "output_type": "execute_result",
          "data": {
            "text/plain": [
              "    centroid  average_spend  count_orders  days_since_last_order\n",
              "0  cluster 1          58.07          3.95                 427.11\n",
              "1  cluster 2          46.96          1.00                 601.92\n",
              "2  cluster 3         234.61          1.27                 491.29\n",
              "3  cluster 4          54.43          2.42                 592.65\n",
              "4  cluster 5          47.78          1.30                 415.79"
            ],
            "text/html": [
              "\n",
              "  <div id=\"df-f02115ee-ff08-4b5c-912f-931c94fa72a4\" class=\"colab-df-container\">\n",
              "    <div>\n",
              "<style scoped>\n",
              "    .dataframe tbody tr th:only-of-type {\n",
              "        vertical-align: middle;\n",
              "    }\n",
              "\n",
              "    .dataframe tbody tr th {\n",
              "        vertical-align: top;\n",
              "    }\n",
              "\n",
              "    .dataframe thead th {\n",
              "        text-align: right;\n",
              "    }\n",
              "</style>\n",
              "<table border=\"1\" class=\"dataframe\">\n",
              "  <thead>\n",
              "    <tr style=\"text-align: right;\">\n",
              "      <th></th>\n",
              "      <th>centroid</th>\n",
              "      <th>average_spend</th>\n",
              "      <th>count_orders</th>\n",
              "      <th>days_since_last_order</th>\n",
              "    </tr>\n",
              "  </thead>\n",
              "  <tbody>\n",
              "    <tr>\n",
              "      <th>0</th>\n",
              "      <td>cluster 1</td>\n",
              "      <td>58.07</td>\n",
              "      <td>3.95</td>\n",
              "      <td>427.11</td>\n",
              "    </tr>\n",
              "    <tr>\n",
              "      <th>1</th>\n",
              "      <td>cluster 2</td>\n",
              "      <td>46.96</td>\n",
              "      <td>1.00</td>\n",
              "      <td>601.92</td>\n",
              "    </tr>\n",
              "    <tr>\n",
              "      <th>2</th>\n",
              "      <td>cluster 3</td>\n",
              "      <td>234.61</td>\n",
              "      <td>1.27</td>\n",
              "      <td>491.29</td>\n",
              "    </tr>\n",
              "    <tr>\n",
              "      <th>3</th>\n",
              "      <td>cluster 4</td>\n",
              "      <td>54.43</td>\n",
              "      <td>2.42</td>\n",
              "      <td>592.65</td>\n",
              "    </tr>\n",
              "    <tr>\n",
              "      <th>4</th>\n",
              "      <td>cluster 5</td>\n",
              "      <td>47.78</td>\n",
              "      <td>1.30</td>\n",
              "      <td>415.79</td>\n",
              "    </tr>\n",
              "  </tbody>\n",
              "</table>\n",
              "</div>\n",
              "    <div class=\"colab-df-buttons\">\n",
              "\n",
              "  <div class=\"colab-df-container\">\n",
              "    <button class=\"colab-df-convert\" onclick=\"convertToInteractive('df-f02115ee-ff08-4b5c-912f-931c94fa72a4')\"\n",
              "            title=\"Convert this dataframe to an interactive table.\"\n",
              "            style=\"display:none;\">\n",
              "\n",
              "  <svg xmlns=\"http://www.w3.org/2000/svg\" height=\"24px\" viewBox=\"0 -960 960 960\">\n",
              "    <path d=\"M120-120v-720h720v720H120Zm60-500h600v-160H180v160Zm220 220h160v-160H400v160Zm0 220h160v-160H400v160ZM180-400h160v-160H180v160Zm440 0h160v-160H620v160ZM180-180h160v-160H180v160Zm440 0h160v-160H620v160Z\"/>\n",
              "  </svg>\n",
              "    </button>\n",
              "\n",
              "  <style>\n",
              "    .colab-df-container {\n",
              "      display:flex;\n",
              "      gap: 12px;\n",
              "    }\n",
              "\n",
              "    .colab-df-convert {\n",
              "      background-color: #E8F0FE;\n",
              "      border: none;\n",
              "      border-radius: 50%;\n",
              "      cursor: pointer;\n",
              "      display: none;\n",
              "      fill: #1967D2;\n",
              "      height: 32px;\n",
              "      padding: 0 0 0 0;\n",
              "      width: 32px;\n",
              "    }\n",
              "\n",
              "    .colab-df-convert:hover {\n",
              "      background-color: #E2EBFA;\n",
              "      box-shadow: 0px 1px 2px rgba(60, 64, 67, 0.3), 0px 1px 3px 1px rgba(60, 64, 67, 0.15);\n",
              "      fill: #174EA6;\n",
              "    }\n",
              "\n",
              "    .colab-df-buttons div {\n",
              "      margin-bottom: 4px;\n",
              "    }\n",
              "\n",
              "    [theme=dark] .colab-df-convert {\n",
              "      background-color: #3B4455;\n",
              "      fill: #D2E3FC;\n",
              "    }\n",
              "\n",
              "    [theme=dark] .colab-df-convert:hover {\n",
              "      background-color: #434B5C;\n",
              "      box-shadow: 0px 1px 3px 1px rgba(0, 0, 0, 0.15);\n",
              "      filter: drop-shadow(0px 1px 2px rgba(0, 0, 0, 0.3));\n",
              "      fill: #FFFFFF;\n",
              "    }\n",
              "  </style>\n",
              "\n",
              "    <script>\n",
              "      const buttonEl =\n",
              "        document.querySelector('#df-f02115ee-ff08-4b5c-912f-931c94fa72a4 button.colab-df-convert');\n",
              "      buttonEl.style.display =\n",
              "        google.colab.kernel.accessAllowed ? 'block' : 'none';\n",
              "\n",
              "      async function convertToInteractive(key) {\n",
              "        const element = document.querySelector('#df-f02115ee-ff08-4b5c-912f-931c94fa72a4');\n",
              "        const dataTable =\n",
              "          await google.colab.kernel.invokeFunction('convertToInteractive',\n",
              "                                                    [key], {});\n",
              "        if (!dataTable) return;\n",
              "\n",
              "        const docLinkHtml = 'Like what you see? Visit the ' +\n",
              "          '<a target=\"_blank\" href=https://colab.research.google.com/notebooks/data_table.ipynb>data table notebook</a>'\n",
              "          + ' to learn more about interactive tables.';\n",
              "        element.innerHTML = '';\n",
              "        dataTable['output_type'] = 'display_data';\n",
              "        await google.colab.output.renderOutput(dataTable, element);\n",
              "        const docLink = document.createElement('div');\n",
              "        docLink.innerHTML = docLinkHtml;\n",
              "        element.appendChild(docLink);\n",
              "      }\n",
              "    </script>\n",
              "  </div>\n",
              "\n",
              "\n",
              "<div id=\"df-e68d1d39-da00-4420-b5d2-bd4d65692205\">\n",
              "  <button class=\"colab-df-quickchart\" onclick=\"quickchart('df-e68d1d39-da00-4420-b5d2-bd4d65692205')\"\n",
              "            title=\"Suggest charts\"\n",
              "            style=\"display:none;\">\n",
              "\n",
              "<svg xmlns=\"http://www.w3.org/2000/svg\" height=\"24px\"viewBox=\"0 0 24 24\"\n",
              "     width=\"24px\">\n",
              "    <g>\n",
              "        <path d=\"M19 3H5c-1.1 0-2 .9-2 2v14c0 1.1.9 2 2 2h14c1.1 0 2-.9 2-2V5c0-1.1-.9-2-2-2zM9 17H7v-7h2v7zm4 0h-2V7h2v10zm4 0h-2v-4h2v4z\"/>\n",
              "    </g>\n",
              "</svg>\n",
              "  </button>\n",
              "\n",
              "<style>\n",
              "  .colab-df-quickchart {\n",
              "      --bg-color: #E8F0FE;\n",
              "      --fill-color: #1967D2;\n",
              "      --hover-bg-color: #E2EBFA;\n",
              "      --hover-fill-color: #174EA6;\n",
              "      --disabled-fill-color: #AAA;\n",
              "      --disabled-bg-color: #DDD;\n",
              "  }\n",
              "\n",
              "  [theme=dark] .colab-df-quickchart {\n",
              "      --bg-color: #3B4455;\n",
              "      --fill-color: #D2E3FC;\n",
              "      --hover-bg-color: #434B5C;\n",
              "      --hover-fill-color: #FFFFFF;\n",
              "      --disabled-bg-color: #3B4455;\n",
              "      --disabled-fill-color: #666;\n",
              "  }\n",
              "\n",
              "  .colab-df-quickchart {\n",
              "    background-color: var(--bg-color);\n",
              "    border: none;\n",
              "    border-radius: 50%;\n",
              "    cursor: pointer;\n",
              "    display: none;\n",
              "    fill: var(--fill-color);\n",
              "    height: 32px;\n",
              "    padding: 0;\n",
              "    width: 32px;\n",
              "  }\n",
              "\n",
              "  .colab-df-quickchart:hover {\n",
              "    background-color: var(--hover-bg-color);\n",
              "    box-shadow: 0 1px 2px rgba(60, 64, 67, 0.3), 0 1px 3px 1px rgba(60, 64, 67, 0.15);\n",
              "    fill: var(--button-hover-fill-color);\n",
              "  }\n",
              "\n",
              "  .colab-df-quickchart-complete:disabled,\n",
              "  .colab-df-quickchart-complete:disabled:hover {\n",
              "    background-color: var(--disabled-bg-color);\n",
              "    fill: var(--disabled-fill-color);\n",
              "    box-shadow: none;\n",
              "  }\n",
              "\n",
              "  .colab-df-spinner {\n",
              "    border: 2px solid var(--fill-color);\n",
              "    border-color: transparent;\n",
              "    border-bottom-color: var(--fill-color);\n",
              "    animation:\n",
              "      spin 1s steps(1) infinite;\n",
              "  }\n",
              "\n",
              "  @keyframes spin {\n",
              "    0% {\n",
              "      border-color: transparent;\n",
              "      border-bottom-color: var(--fill-color);\n",
              "      border-left-color: var(--fill-color);\n",
              "    }\n",
              "    20% {\n",
              "      border-color: transparent;\n",
              "      border-left-color: var(--fill-color);\n",
              "      border-top-color: var(--fill-color);\n",
              "    }\n",
              "    30% {\n",
              "      border-color: transparent;\n",
              "      border-left-color: var(--fill-color);\n",
              "      border-top-color: var(--fill-color);\n",
              "      border-right-color: var(--fill-color);\n",
              "    }\n",
              "    40% {\n",
              "      border-color: transparent;\n",
              "      border-right-color: var(--fill-color);\n",
              "      border-top-color: var(--fill-color);\n",
              "    }\n",
              "    60% {\n",
              "      border-color: transparent;\n",
              "      border-right-color: var(--fill-color);\n",
              "    }\n",
              "    80% {\n",
              "      border-color: transparent;\n",
              "      border-right-color: var(--fill-color);\n",
              "      border-bottom-color: var(--fill-color);\n",
              "    }\n",
              "    90% {\n",
              "      border-color: transparent;\n",
              "      border-bottom-color: var(--fill-color);\n",
              "    }\n",
              "  }\n",
              "</style>\n",
              "\n",
              "  <script>\n",
              "    async function quickchart(key) {\n",
              "      const quickchartButtonEl =\n",
              "        document.querySelector('#' + key + ' button');\n",
              "      quickchartButtonEl.disabled = true;  // To prevent multiple clicks.\n",
              "      quickchartButtonEl.classList.add('colab-df-spinner');\n",
              "      try {\n",
              "        const charts = await google.colab.kernel.invokeFunction(\n",
              "            'suggestCharts', [key], {});\n",
              "      } catch (error) {\n",
              "        console.error('Error during call to suggestCharts:', error);\n",
              "      }\n",
              "      quickchartButtonEl.classList.remove('colab-df-spinner');\n",
              "      quickchartButtonEl.classList.add('colab-df-quickchart-complete');\n",
              "    }\n",
              "    (() => {\n",
              "      let quickchartButtonEl =\n",
              "        document.querySelector('#df-e68d1d39-da00-4420-b5d2-bd4d65692205 button');\n",
              "      quickchartButtonEl.style.display =\n",
              "        google.colab.kernel.accessAllowed ? 'block' : 'none';\n",
              "    })();\n",
              "  </script>\n",
              "</div>\n",
              "    </div>\n",
              "  </div>\n"
            ]
          },
          "metadata": {},
          "execution_count": 12
        }
      ]
    },
    {
      "cell_type": "markdown",
      "source": [
        "Whew! That's a lot of metrics and cluster info. How about we explain this to our colleagues using the magic of LLMs.\n",
        "\n",
        "Let's begin by creating a string with the summary statistics from the last cell."
      ],
      "metadata": {
        "id": "Xhha_o_qPwJY"
      }
    },
    {
      "cell_type": "code",
      "source": [
        "df = client.query(query).to_dataframe()\n",
        "df.to_string(header=False, index=False)\n",
        "\n",
        "cluster_info = []\n",
        "for i, row in df.iterrows():\n",
        "  cluster_info.append(\"{0}, average spend ${2}, count of orders per person {1}, days since last order {3}\"\n",
        "    .format(row[\"centroid\"], row[\"count_orders\"], row[\"average_spend\"], row[\"days_since_last_order\"]) )\n",
        "\n",
        "print(str.join(\"\\n\", cluster_info))"
      ],
      "metadata": {
        "id": "AWzyZUFdRQll",
        "colab": {
          "base_uri": "https://localhost:8080/"
        },
        "executionInfo": {
          "status": "ok",
          "timestamp": 1701795529650,
          "user_tz": 360,
          "elapsed": 1367,
          "user": {
            "displayName": "",
            "userId": ""
          }
        },
        "outputId": "45fc89a9-bb9c-4e76-b1a4-8141664aebc6"
      },
      "execution_count": 13,
      "outputs": [
        {
          "output_type": "stream",
          "name": "stdout",
          "text": [
            "cluster 1, average spend $58.07, count of orders per person 3.95, days since last order 427.11\n",
            "cluster 2, average spend $46.96, count of orders per person 1.0, days since last order 601.92\n",
            "cluster 3, average spend $234.61, count of orders per person 1.27, days since last order 491.29\n",
            "cluster 4, average spend $54.43, count of orders per person 2.42, days since last order 592.65\n",
            "cluster 5, average spend $47.78, count of orders per person 1.3, days since last order 415.79\n"
          ]
        }
      ]
    },
    {
      "cell_type": "markdown",
      "source": [
        "# Generative AI : Explain with Vertex AI PaLM API\n",
        "\n",
        "Install the Python library to access Vertex AI Large Language Models."
      ],
      "metadata": {
        "id": "7Na0_rVVLhOk"
      }
    },
    {
      "cell_type": "code",
      "source": [
        "from google.cloud import aiplatform\n",
        "from vertexai.language_models._language_models import TextGenerationModel, ChatModel\n",
        "\n",
        "aiplatform.init(project=project_id, location=LOCATION)"
      ],
      "metadata": {
        "id": "4swYEG_iMmNU",
        "executionInfo": {
          "status": "ok",
          "timestamp": 1701795575727,
          "user_tz": 360,
          "elapsed": 46078,
          "user": {
            "displayName": "",
            "userId": ""
          }
        }
      },
      "execution_count": 14,
      "outputs": []
    },
    {
      "cell_type": "markdown",
      "source": [
        "For each cluster, ask the LLM to act as a brand strategist and generate the following:\n",
        "* Title\n",
        "* Persona\n",
        "* Next Marketing Step"
      ],
      "metadata": {
        "id": "tdoRB7RjLso6"
      }
    },
    {
      "cell_type": "code",
      "source": [
        "model = TextGenerationModel.from_pretrained(\"text-bison@001\")\n",
        "\n",
        "clusters = str.join(\"\\n\", cluster_info)\n",
        "\n",
        "prompt = f\"\"\"\n",
        "You're a creative brand strategist, given the following clusters, come up with \\\n",
        "creative brand persona, a catchy title, and next marketing action, \\\n",
        "explained step by step.\n",
        "\n",
        "Clusters:\n",
        "{clusters}\n",
        "\n",
        "For each Cluster:\n",
        "* Title:\n",
        "* Persona:\n",
        "* Next Marketing Step:\n",
        "\"\"\"\n",
        "\n",
        "print(model.predict(\n",
        "    prompt,\n",
        "    max_output_tokens=1024,\n",
        "    temperature=0.55,\n",
        "    top_p=0.8,\n",
        "    top_k=40,\n",
        "))"
      ],
      "metadata": {
        "id": "MYwQNH0ELu9y",
        "colab": {
          "base_uri": "https://localhost:8080/"
        },
        "executionInfo": {
          "status": "ok",
          "timestamp": 1701795579163,
          "user_tz": 360,
          "elapsed": 3440,
          "user": {
            "displayName": "",
            "userId": ""
          }
        },
        "outputId": "ed47fe22-2c2d-46d6-f50a-ec3107e1ad76"
      },
      "execution_count": 15,
      "outputs": [
        {
          "output_type": "stream",
          "name": "stdout",
          "text": [
            "MultiCandidateTextGenerationResponse(text=\"**Cluster 1**\\n\\n* Title: The Loyal Customers\\n* Persona: These are your most valuable customers. They spend a lot of money on your products and services, and they come back time and time again.\\n* Next Marketing Step: Keep up the good work! Make sure you're always providing them with the best possible products and services, and keep them engaged with your brand through email marketing, social media, and other channels.\\n\\n**Cluster 2**\\n\\n* Title: The Occasional Buyers\\n* Persona: These are customers who don't buy from you very often, but when they do, they spend a decent amount of money.\\n* Next Marketing Step: Try to get these customers to buy from you more often. You can do this by sending them targeted email marketing campaigns, offering them special discounts, or running loyalty programs.\\n\\n**Cluster 3**\\n\\n* Title: The Big Spenders\\n* Persona: These are customers who spend a lot of money on your products and services, but they don't buy very often.\\n* Next Marketing Step: Try to get these customers to buy from you more often. You can do this by offering them special discounts, running loyalty programs, or providing them with a more personalized shopping experience.\\n\\n**Cluster 4**\\n\\n* Title: The Frequent Buyers\\n* Persona: These are customers who buy from you regularly, but they don't spend a lot of money each time.\\n* Next Marketing Step: Try to get these customers to spend more money each time they buy. You can do this by offering them special discounts, upselling them on more expensive products, or cross-selling them related products.\\n\\n**Cluster 5**\\n\\n* Title: The New Customers\\n* Persona: These are customers who have recently started buying from you.\\n* Next Marketing Step: Keep these customers engaged with your brand. You can do this by sending them welcome emails, offering them special discounts, or running loyalty programs.\", _prediction_response=Prediction(predictions=[{'content': \"**Cluster 1**\\n\\n* Title: The Loyal Customers\\n* Persona: These are your most valuable customers. They spend a lot of money on your products and services, and they come back time and time again.\\n* Next Marketing Step: Keep up the good work! Make sure you're always providing them with the best possible products and services, and keep them engaged with your brand through email marketing, social media, and other channels.\\n\\n**Cluster 2**\\n\\n* Title: The Occasional Buyers\\n* Persona: These are customers who don't buy from you very often, but when they do, they spend a decent amount of money.\\n* Next Marketing Step: Try to get these customers to buy from you more often. You can do this by sending them targeted email marketing campaigns, offering them special discounts, or running loyalty programs.\\n\\n**Cluster 3**\\n\\n* Title: The Big Spenders\\n* Persona: These are customers who spend a lot of money on your products and services, but they don't buy very often.\\n* Next Marketing Step: Try to get these customers to buy from you more often. You can do this by offering them special discounts, running loyalty programs, or providing them with a more personalized shopping experience.\\n\\n**Cluster 4**\\n\\n* Title: The Frequent Buyers\\n* Persona: These are customers who buy from you regularly, but they don't spend a lot of money each time.\\n* Next Marketing Step: Try to get these customers to spend more money each time they buy. You can do this by offering them special discounts, upselling them on more expensive products, or cross-selling them related products.\\n\\n**Cluster 5**\\n\\n* Title: The New Customers\\n* Persona: These are customers who have recently started buying from you.\\n* Next Marketing Step: Keep these customers engaged with your brand. You can do this by sending them welcome emails, offering them special discounts, or running loyalty programs.\", 'citationMetadata': {'citations': []}, 'safetyAttributes': {'scores': [0.2, 0.6, 0.2, 0.2, 0.2, 0.3, 0.2, 0.1], 'blocked': False, 'safetyRatings': [{'probabilityScore': 0.0, 'severityScore': 0.1, 'severity': 'NEGLIGIBLE', 'category': 'Dangerous Content'}, {'severityScore': 0.1, 'severity': 'NEGLIGIBLE', 'probabilityScore': 0.2, 'category': 'Harassment'}, {'severity': 'NEGLIGIBLE', 'category': 'Hate Speech', 'severityScore': 0.1, 'probabilityScore': 0.2}, {'severity': 'NEGLIGIBLE', 'severityScore': 0.1, 'category': 'Sexually Explicit', 'probabilityScore': 0.2}], 'categories': ['Derogatory', 'Finance', 'Health', 'Insult', 'Profanity', 'Religion & Belief', 'Sexual', 'Toxic']}}], deployed_model_id='', model_version_id='', model_resource_name='', explanations=None), is_blocked=False, errors=(), safety_attributes={'Derogatory': 0.2, 'Finance': 0.6, 'Health': 0.2, 'Insult': 0.2, 'Profanity': 0.2, 'Religion & Belief': 0.3, 'Sexual': 0.2, 'Toxic': 0.1}, grounding_metadata=GroundingMetadata(citations=[], search_queries=[]), candidates=[**Cluster 1**\n",
            "\n",
            "* Title: The Loyal Customers\n",
            "* Persona: These are your most valuable customers. They spend a lot of money on your products and services, and they come back time and time again.\n",
            "* Next Marketing Step: Keep up the good work! Make sure you're always providing them with the best possible products and services, and keep them engaged with your brand through email marketing, social media, and other channels.\n",
            "\n",
            "**Cluster 2**\n",
            "\n",
            "* Title: The Occasional Buyers\n",
            "* Persona: These are customers who don't buy from you very often, but when they do, they spend a decent amount of money.\n",
            "* Next Marketing Step: Try to get these customers to buy from you more often. You can do this by sending them targeted email marketing campaigns, offering them special discounts, or running loyalty programs.\n",
            "\n",
            "**Cluster 3**\n",
            "\n",
            "* Title: The Big Spenders\n",
            "* Persona: These are customers who spend a lot of money on your products and services, but they don't buy very often.\n",
            "* Next Marketing Step: Try to get these customers to buy from you more often. You can do this by offering them special discounts, running loyalty programs, or providing them with a more personalized shopping experience.\n",
            "\n",
            "**Cluster 4**\n",
            "\n",
            "* Title: The Frequent Buyers\n",
            "* Persona: These are customers who buy from you regularly, but they don't spend a lot of money each time.\n",
            "* Next Marketing Step: Try to get these customers to spend more money each time they buy. You can do this by offering them special discounts, upselling them on more expensive products, or cross-selling them related products.\n",
            "\n",
            "**Cluster 5**\n",
            "\n",
            "* Title: The New Customers\n",
            "* Persona: These are customers who have recently started buying from you.\n",
            "* Next Marketing Step: Keep these customers engaged with your brand. You can do this by sending them welcome emails, offering them special discounts, or running loyalty programs.])\n"
          ]
        }
      ]
    },
    {
      "cell_type": "markdown",
      "source": [
        "**Voila! We've now used k-Means clustering to create groups of spenders and explain their profiles.**"
      ],
      "metadata": {
        "id": "jqC5uUguaunY"
      }
    },
    {
      "cell_type": "markdown",
      "source": [
        "\n",
        "\n",
        "---\n",
        "\n"
      ],
      "metadata": {
        "id": "oFVRAN2wckHC"
      }
    },
    {
      "cell_type": "markdown",
      "source": [
        "### BONUS #1: LLM Prompt Engineering\n",
        "\n",
        "Sometimes, though, you want a little bit extra.\n",
        "\n",
        "Think about using Generative AI to also generate personalized marketing emails using witty e-mail headline for marketing campaign targeted to their clusters of customers\n",
        "\n",
        "Reference: [Prompt Generation with Generative AI](https://cloud.google.com/blog/transform/prompt-debunking-five-generative-ai-misconceptions)."
      ],
      "metadata": {
        "id": "5HEVHGmmRyGW"
      }
    },
    {
      "cell_type": "code",
      "source": [
        "model = TextGenerationModel.from_pretrained(\"text-bison@001\")\n",
        "\n",
        "cluster_info = str.join('\\n', cluster_info)\n",
        "\n",
        "prompt = f\"\"\"\n",
        "Pretend you're a creative strategist, analyse the following clusters and come up with \\\n",
        "creative brand persona for each that includes the detail of which Taylor Swift song is \\\n",
        "likely to be their favorite, a summary of how this relates to their purchasing behavior, \\\n",
        "and a witty e-mail headline for marketing campaign targeted to their group using \\\n",
        "their predicted favorite song title.\n",
        "\n",
        "Clusters:\n",
        "{cluster_info}\n",
        "\n",
        "\n",
        "For each Cluster:\n",
        "* Cluster:\n",
        "* Interests:\n",
        "* Favorite Taylor Swift Song:\n",
        "* Witty email headline:\n",
        "* Email body:\n",
        "\n",
        "\"\"\"\n",
        "\n",
        "print(model.predict(\n",
        "    prompt,\n",
        "    max_output_tokens=1024,\n",
        "    temperature=0.45,\n",
        "    top_p=0.8, top_k=40,\n",
        "))"
      ],
      "metadata": {
        "id": "3HgwtN1tR3xQ",
        "colab": {
          "base_uri": "https://localhost:8080/"
        },
        "executionInfo": {
          "status": "ok",
          "timestamp": 1701795584947,
          "user_tz": 360,
          "elapsed": 5785,
          "user": {
            "displayName": "",
            "userId": ""
          }
        },
        "outputId": "4fe8623a-2d6a-408a-95b3-b19f8acaa0d6"
      },
      "execution_count": 16,
      "outputs": [
        {
          "output_type": "stream",
          "name": "stdout",
          "text": [
            "MultiCandidateTextGenerationResponse(text='**Cluster 1**\\n\\n* Interests: Fashion, music, travel\\n* Favorite Taylor Swift Song: \"Blank Space\"\\n* Witty email headline: \"You\\'re the only one who can tame this blank space.\"\\n* Email body:\\n\\nWe know you\\'re a fan of Taylor Swift, and we think you\\'d love our new collection of clothes inspired by her music. From the flirty dresses in \"Blank Space\" to the edgy leather jackets in \"Bad Blood,\" we have something for everyone. Shop now and get 20% off your first order!\\n\\n**Cluster 2**\\n\\n* Interests: Books, movies, art\\n* Favorite Taylor Swift Song: \"All Too Well\"\\n* Witty email headline: \"We\\'re all about that long, slow burn.\"\\n* Email body:\\n\\nWe know you\\'re a fan of Taylor Swift\\'s more introspective songs, and we think you\\'ll love our new collection of books, movies, and art inspired by her music. From the classic novel \"The Great Gatsby\" to the iconic film \"The Notebook,\" we have something for everyone who loves a good love story. Shop now and get 20% off your first order!\\n\\n**Cluster 3**\\n\\n* Interests: Luxury fashion, beauty, travel\\n* Favorite Taylor Swift Song: \"Shake It Off\"\\n* Witty email headline: \"We\\'re here to shake things up.\"\\n* Email body:\\n\\nWe know you\\'re a fan of Taylor Swift\\'s high-energy songs, and we think you\\'ll love our new collection of luxury fashion, beauty, and travel products. From the latest designer handbags to the most exclusive beauty treatments, we have everything you need to look and feel your best. Shop now and get 20% off your first order!\\n\\n**Cluster 4**\\n\\n* Interests: Music, sports, gaming\\n* Favorite Taylor Swift Song: \"Bad Blood\"\\n* Witty email headline: \"We\\'re not friends, we\\'re enemies.\"\\n* Email body:\\n\\nWe know you\\'re a fan of Taylor Swift\\'s more aggressive songs, and we think you\\'ll love our new collection of music, sports, and gaming products. From the latest albums to the hottest new games, we have everything you need to get your adrenaline pumping. Shop now and get 20% off your first order!\\n\\n**Cluster 5**\\n\\n* Interests: Food, family, friends\\n* Favorite Taylor Swift Song: \"Love Story\"\\n* Witty email headline: \"We\\'re all about the love.\"\\n* Email body:\\n\\nWe know you\\'re a fan of Taylor Swift\\'s more romantic songs, and we think you\\'ll love our new collection of food, family, and friends products. From the latest cookbooks to the most adorable baby clothes, we have everything you need to celebrate the love in your life. Shop now and get 20% off your first order!', _prediction_response=Prediction(predictions=[{'citationMetadata': {'citations': []}, 'content': '**Cluster 1**\\n\\n* Interests: Fashion, music, travel\\n* Favorite Taylor Swift Song: \"Blank Space\"\\n* Witty email headline: \"You\\'re the only one who can tame this blank space.\"\\n* Email body:\\n\\nWe know you\\'re a fan of Taylor Swift, and we think you\\'d love our new collection of clothes inspired by her music. From the flirty dresses in \"Blank Space\" to the edgy leather jackets in \"Bad Blood,\" we have something for everyone. Shop now and get 20% off your first order!\\n\\n**Cluster 2**\\n\\n* Interests: Books, movies, art\\n* Favorite Taylor Swift Song: \"All Too Well\"\\n* Witty email headline: \"We\\'re all about that long, slow burn.\"\\n* Email body:\\n\\nWe know you\\'re a fan of Taylor Swift\\'s more introspective songs, and we think you\\'ll love our new collection of books, movies, and art inspired by her music. From the classic novel \"The Great Gatsby\" to the iconic film \"The Notebook,\" we have something for everyone who loves a good love story. Shop now and get 20% off your first order!\\n\\n**Cluster 3**\\n\\n* Interests: Luxury fashion, beauty, travel\\n* Favorite Taylor Swift Song: \"Shake It Off\"\\n* Witty email headline: \"We\\'re here to shake things up.\"\\n* Email body:\\n\\nWe know you\\'re a fan of Taylor Swift\\'s high-energy songs, and we think you\\'ll love our new collection of luxury fashion, beauty, and travel products. From the latest designer handbags to the most exclusive beauty treatments, we have everything you need to look and feel your best. Shop now and get 20% off your first order!\\n\\n**Cluster 4**\\n\\n* Interests: Music, sports, gaming\\n* Favorite Taylor Swift Song: \"Bad Blood\"\\n* Witty email headline: \"We\\'re not friends, we\\'re enemies.\"\\n* Email body:\\n\\nWe know you\\'re a fan of Taylor Swift\\'s more aggressive songs, and we think you\\'ll love our new collection of music, sports, and gaming products. From the latest albums to the hottest new games, we have everything you need to get your adrenaline pumping. Shop now and get 20% off your first order!\\n\\n**Cluster 5**\\n\\n* Interests: Food, family, friends\\n* Favorite Taylor Swift Song: \"Love Story\"\\n* Witty email headline: \"We\\'re all about the love.\"\\n* Email body:\\n\\nWe know you\\'re a fan of Taylor Swift\\'s more romantic songs, and we think you\\'ll love our new collection of food, family, and friends products. From the latest cookbooks to the most adorable baby clothes, we have everything you need to celebrate the love in your life. Shop now and get 20% off your first order!', 'safetyAttributes': {'categories': ['Derogatory', 'Health', 'Insult', 'Profanity', 'Sexual', 'Toxic'], 'blocked': False, 'scores': [0.1, 0.1, 0.1, 0.1, 0.7, 0.1], 'safetyRatings': [{'severityScore': 0.1, 'probabilityScore': 0.1, 'severity': 'NEGLIGIBLE', 'category': 'Dangerous Content'}, {'severity': 'NEGLIGIBLE', 'category': 'Harassment', 'severityScore': 0.1, 'probabilityScore': 0.1}, {'severityScore': 0.1, 'category': 'Hate Speech', 'severity': 'NEGLIGIBLE', 'probabilityScore': 0.1}, {'probabilityScore': 0.7, 'severityScore': 0.3, 'severity': 'LOW', 'category': 'Sexually Explicit'}]}}], deployed_model_id='', model_version_id='', model_resource_name='', explanations=None), is_blocked=False, errors=(), safety_attributes={'Derogatory': 0.1, 'Health': 0.1, 'Insult': 0.1, 'Profanity': 0.1, 'Sexual': 0.7, 'Toxic': 0.1}, grounding_metadata=GroundingMetadata(citations=[], search_queries=[]), candidates=[**Cluster 1**\n",
            "\n",
            "* Interests: Fashion, music, travel\n",
            "* Favorite Taylor Swift Song: \"Blank Space\"\n",
            "* Witty email headline: \"You're the only one who can tame this blank space.\"\n",
            "* Email body:\n",
            "\n",
            "We know you're a fan of Taylor Swift, and we think you'd love our new collection of clothes inspired by her music. From the flirty dresses in \"Blank Space\" to the edgy leather jackets in \"Bad Blood,\" we have something for everyone. Shop now and get 20% off your first order!\n",
            "\n",
            "**Cluster 2**\n",
            "\n",
            "* Interests: Books, movies, art\n",
            "* Favorite Taylor Swift Song: \"All Too Well\"\n",
            "* Witty email headline: \"We're all about that long, slow burn.\"\n",
            "* Email body:\n",
            "\n",
            "We know you're a fan of Taylor Swift's more introspective songs, and we think you'll love our new collection of books, movies, and art inspired by her music. From the classic novel \"The Great Gatsby\" to the iconic film \"The Notebook,\" we have something for everyone who loves a good love story. Shop now and get 20% off your first order!\n",
            "\n",
            "**Cluster 3**\n",
            "\n",
            "* Interests: Luxury fashion, beauty, travel\n",
            "* Favorite Taylor Swift Song: \"Shake It Off\"\n",
            "* Witty email headline: \"We're here to shake things up.\"\n",
            "* Email body:\n",
            "\n",
            "We know you're a fan of Taylor Swift's high-energy songs, and we think you'll love our new collection of luxury fashion, beauty, and travel products. From the latest designer handbags to the most exclusive beauty treatments, we have everything you need to look and feel your best. Shop now and get 20% off your first order!\n",
            "\n",
            "**Cluster 4**\n",
            "\n",
            "* Interests: Music, sports, gaming\n",
            "* Favorite Taylor Swift Song: \"Bad Blood\"\n",
            "* Witty email headline: \"We're not friends, we're enemies.\"\n",
            "* Email body:\n",
            "\n",
            "We know you're a fan of Taylor Swift's more aggressive songs, and we think you'll love our new collection of music, sports, and gaming products. From the latest albums to the hottest new games, we have everything you need to get your adrenaline pumping. Shop now and get 20% off your first order!\n",
            "\n",
            "**Cluster 5**\n",
            "\n",
            "* Interests: Food, family, friends\n",
            "* Favorite Taylor Swift Song: \"Love Story\"\n",
            "* Witty email headline: \"We're all about the love.\"\n",
            "* Email body:\n",
            "\n",
            "We know you're a fan of Taylor Swift's more romantic songs, and we think you'll love our new collection of food, family, and friends products. From the latest cookbooks to the most adorable baby clothes, we have everything you need to celebrate the love in your life. Shop now and get 20% off your first order!])\n"
          ]
        }
      ]
    },
    {
      "cell_type": "markdown",
      "source": [
        "#### BONUS #2: Generate Python in your Notebook\n",
        "\n",
        "If you have Duet AI enabled on your project, you can begin to generate Python directly within your Notebook:\n",
        "* Open a new Code cell\n",
        "* Click \"Generate with AI\"\n",
        "* Paste one of the prompts below and hit Enter\n",
        "* Generate Python code should appear in the cell\n"
      ],
      "metadata": {
        "id": "LT8lVXaCGDtK"
      }
    },
    {
      "cell_type": "code",
      "source": [
        "# prompt: 10 random numbers using numpy\n"
      ],
      "metadata": {
        "id": "zLFewJ8iGbLz",
        "executionInfo": {
          "status": "ok",
          "timestamp": 1701795584947,
          "user_tz": 360,
          "elapsed": 22,
          "user": {
            "displayName": "",
            "userId": ""
          }
        }
      },
      "execution_count": 17,
      "outputs": []
    },
    {
      "cell_type": "code",
      "source": [
        "# prompt: generate a bigframes dataframe from the table bigquery-public-data.thelook_ecommerce.order_items"
      ],
      "metadata": {
        "id": "ysTumh3TkcYU",
        "executionInfo": {
          "status": "ok",
          "timestamp": 1701795584947,
          "user_tz": 360,
          "elapsed": 21,
          "user": {
            "displayName": "",
            "userId": ""
          }
        }
      },
      "execution_count": 18,
      "outputs": []
    },
    {
      "cell_type": "code",
      "source": [
        "# prompt: write some sql that queries the table bigquery-public-data.thelook_ecommerce.order_items.  Don't use python. Use %%bigquery."
      ],
      "metadata": {
        "id": "b3J4r9FXmPfs",
        "executionInfo": {
          "status": "ok",
          "timestamp": 1701795584948,
          "user_tz": 360,
          "elapsed": 21,
          "user": {
            "displayName": "",
            "userId": ""
          }
        }
      },
      "execution_count": 19,
      "outputs": []
    }
  ]
}